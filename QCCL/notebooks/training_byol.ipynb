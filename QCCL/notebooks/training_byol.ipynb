{
 "cells": [
  {
   "cell_type": "markdown",
   "metadata": {},
   "source": [
    "### Set hyperparameters and load data"
   ]
  },
  {
   "cell_type": "code",
   "execution_count": 1,
   "metadata": {},
   "outputs": [],
   "source": [
    "import os\n",
    "import sys\n",
    "\n",
    "sys.path.append(os.path.abspath(os.path.join('..', '..')))"
   ]
  },
  {
   "cell_type": "code",
   "execution_count": 2,
   "metadata": {},
   "outputs": [],
   "source": [
    "#from utils.train import train\n",
    "import random\n",
    "\n",
    "import numpy as np\n",
    "import torch\n"
   ]
  },
  {
   "cell_type": "code",
   "execution_count": 3,
   "metadata": {},
   "outputs": [],
   "source": [
    "def set_seed(seed):\n",
    "    random.seed(seed)\n",
    "    np.random.seed(seed)\n",
    "    torch.manual_seed(seed)\n",
    "    torch.cuda.manual_seed(seed)\n",
    "    torch.cuda.manual_seed_all(seed) "
   ]
  },
  {
   "cell_type": "code",
   "execution_count": 4,
   "metadata": {},
   "outputs": [],
   "source": [
    "set_seed(42)\n",
    "use_pre_paired = True\n",
    "learning_rate = 1e-5\n",
    "epochs = 1000\n",
    "device = 'cuda' if torch.cuda.is_available() else 'cpu'\n",
    "embedding_size = 16\n",
    "pooling = 'global_avg'\n",
    "patience = 50\n",
    "alpha = 1.0\n",
    "target_decay = 0.996"
   ]
  },
  {
   "cell_type": "code",
   "execution_count": 5,
   "metadata": {},
   "outputs": [
    {
     "name": "stdout",
     "output_type": "stream",
     "text": [
      "\tCollected 1 sample from null_ops.\n",
      "\tCollected 4 samples from commutations.\n",
      "\tCollected 7 samples from equivalences.\n",
      "\tCollected 7 samples from combined.\n",
      "Loaded 19 samples and 19 quantum circuits from subset.\n"
     ]
    }
   ],
   "source": [
    "# load data \n",
    "from QCCL.Data import load_graphs\n",
    "\n",
    "basic_data, _ = load_graphs()"
   ]
  },
  {
   "cell_type": "markdown",
   "metadata": {},
   "source": [
    "### Train-Validation-Test Split"
   ]
  },
  {
   "cell_type": "code",
   "execution_count": 6,
   "metadata": {},
   "outputs": [],
   "source": [
    "# from sklearn.model_selection import train_test_split\n",
    "# test_mask = torch.zeros(len(basic_data), dtype=torch.bool)\n",
    "# test_mask[12:14] = True\n",
    "# val_mask = torch.zeros(len(basic_data), dtype=torch.bool)\n",
    "# val_mask[14:17] = True\n",
    "\n",
    "# train_data = [basic_data[i] for i in range(len(basic_data)) if not test_mask[i] and not val_mask[i]]\n",
    "# val_data = [basic_data[i] for i in range(len(basic_data)) if val_mask[i]]\n",
    "# test_data = [basic_data[i] for i in range(len(basic_data)) if test_mask[i]]\n",
    "\n",
    "# # train_data, val_data = train_test_split(train_data, train_size=0.8, shuffle=True)\n",
    "# print('Data split:')\n",
    "# print('train:', len(train_data), '(', round((len(train_data) / len(basic_data)) * 100, 1), '%)')\n",
    "# print('val:', len(val_data), '(', round((len(val_data) / len(basic_data)) * 100, 1), '%)')\n",
    "# print('test:', len(test_data), '(', round((len(test_data) / len(basic_data)) * 100, 1), '%)')\n",
    "\n",
    "# train_dataset = GraphDataset(train_data, pre_paired=use_pre_paired)\n",
    "# val_dataset = GraphDataset(val_data, pre_paired=use_pre_paired)\n",
    "# test_dataset = GraphDataset(test_data, pre_paired=use_pre_paired)"
   ]
  },
  {
   "cell_type": "code",
   "execution_count": 7,
   "metadata": {},
   "outputs": [
    {
     "name": "stdout",
     "output_type": "stream",
     "text": [
      "\n",
      "Starting dataset split...\n",
      "Total dataset size: 19\n",
      "Composite transformations size: 7\n",
      "Splitting into 14 training, 5 validation, and 0 test circuits...\n",
      "Data split completed:\n",
      "Training set: 14 samples, (73.68%)\n",
      "Validation set: 5 samples, (26.32%)\n",
      "Test set: 0 samples, (0.00%)\n"
     ]
    }
   ],
   "source": [
    "from QCCL.Data import split_dataset\n",
    "\n",
    "train_dataset, val_dataset, test_dataset = split_dataset(basic_data, 0.7, 0.3, use_pre_paired=use_pre_paired)"
   ]
  },
  {
   "cell_type": "code",
   "execution_count": 8,
   "metadata": {},
   "outputs": [
    {
     "name": "stdout",
     "output_type": "stream",
     "text": [
      "Batch size: 14\n"
     ]
    }
   ],
   "source": [
    "batch_size = len(train_dataset)\n",
    "print('Batch size:', batch_size)"
   ]
  },
  {
   "cell_type": "code",
   "execution_count": 9,
   "metadata": {},
   "outputs": [
    {
     "name": "stdout",
     "output_type": "stream",
     "text": [
      "Number of features in the dataset: 6\n"
     ]
    }
   ],
   "source": [
    "n_features = train_dataset[0][0].x.shape[1] if use_pre_paired else train_dataset[0].x.shape[1]\n",
    "print(f'Number of features in the dataset: {n_features}')"
   ]
  },
  {
   "cell_type": "code",
   "execution_count": 10,
   "metadata": {},
   "outputs": [
    {
     "name": "stderr",
     "output_type": "stream",
     "text": [
      "c:\\Users\\melan\\AppData\\Local\\Programs\\Python\\Python312\\Lib\\site-packages\\tqdm\\auto.py:21: TqdmWarning: IProgress not found. Please update jupyter and ipywidgets. See https://ipywidgets.readthedocs.io/en/stable/user_install.html\n",
      "  from .autonotebook import tqdm as notebook_tqdm\n"
     ]
    },
    {
     "name": "stdout",
     "output_type": "stream",
     "text": [
      "\n",
      "Building model with 5 GCNConv layers and projection size 4...\n",
      "BYOL model built successfully.\n"
     ]
    }
   ],
   "source": [
    "from QCCL.Models import build_model\n",
    "\n",
    "model = build_model(n_features, embedding_size, 'byol', num_layers=5, proj_output_size=4, device=device, hidden_size=64)"
   ]
  },
  {
   "cell_type": "code",
   "execution_count": 11,
   "metadata": {},
   "outputs": [],
   "source": [
    "# from torch.optim import Adam\n",
    "\n",
    "# optimizer = Adam(model.online_model.parameters(), lr=learning_rate)\n",
    "# history = model.train(train_dataset, val_dataset, optimizer=optimizer, epochs=epochs, batch_size=batch_size, patience=patience, verbose=False)"
   ]
  },
  {
   "cell_type": "code",
   "execution_count": 12,
   "metadata": {},
   "outputs": [
    {
     "name": "stdout",
     "output_type": "stream",
     "text": [
      "EMA Loss:  False\n"
     ]
    },
    {
     "name": "stderr",
     "output_type": "stream",
     "text": [
      "Training: 100%|██████████| 1000/1000 [01:30<00:00, 11.07epoch/s, loss=0.0037, val_loss=0.0105]\n"
     ]
    }
   ],
   "source": [
    "from QCCL.utils import train_byol\n",
    "\n",
    "history = train_byol(model, train_dataset, val_dataset, \n",
    "                     tau=target_decay,\n",
    "                     epochs=epochs, \n",
    "                     batch_size=batch_size, \n",
    "                     lr=learning_rate, \n",
    "                     patience=patience, \n",
    "                     ema_alpha=alpha, \n",
    "                     verbose=False, \n",
    "                     device=device, \n",
    "                     compute_grads=True)"
   ]
  },
  {
   "cell_type": "code",
   "execution_count": 13,
   "metadata": {},
   "outputs": [],
   "source": [
    "# from QCCL.utils import train_byol\n",
    "\n",
    "# history = train_byol(model, train_dataset, val_dataset, epochs, batch_size, learning_rate, temperature, device, patience= patience, verbose=False)"
   ]
  },
  {
   "cell_type": "code",
   "execution_count": 14,
   "metadata": {},
   "outputs": [
    {
     "data": {
      "text/plain": [
       "<function matplotlib.pyplot.show(close=None, block=None)>"
      ]
     },
     "execution_count": 14,
     "metadata": {},
     "output_type": "execute_result"
    },
    {
     "data": {
      "image/png": "[encoded data removed]",
      "text/plain": [
       "<Figure size 640x480 with 1 Axes>"
      ]
     },
     "metadata": {},
     "output_type": "display_data"
    }
   ],
   "source": [
    "import matplotlib.pyplot as plt\n",
    "\n",
    "plt.plot(history['train_loss'], label='train loss')\n",
    "plt.plot(history['val_loss'], label='val loss')\n",
    "# show epoch with best validation loss\n",
    "# best_epoch = len(history['val_loss']) - patience\n",
    "# plt.axvline(best_epoch, color='black', linestyle='--', label='best epoch')\n",
    "\n",
    "plt.xlabel('Epoch')\n",
    "plt.ylabel('Loss')\n",
    "plt.legend()\n",
    "plt.show"
   ]
  },
  {
   "cell_type": "code",
   "execution_count": 15,
   "metadata": {},
   "outputs": [
    {
     "data": {
      "text/plain": [
       "0.14858859777450562"
      ]
     },
     "execution_count": 15,
     "metadata": {},
     "output_type": "execute_result"
    }
   ],
   "source": [
    "history['train_loss'][0]"
   ]
  },
  {
   "cell_type": "code",
   "execution_count": 16,
   "metadata": {},
   "outputs": [
    {
     "data": {
      "text/plain": [
       "86.30637919399064"
      ]
     },
     "execution_count": 16,
     "metadata": {},
     "output_type": "execute_result"
    }
   ],
   "source": [
    "history['avg_grad_norm_l1_per_param'][0]"
   ]
  },
  {
   "cell_type": "code",
   "execution_count": 17,
   "metadata": {},
   "outputs": [
    {
     "data": {
      "image/png": "[encoded data removed]",
      "text/plain": [
       "<Figure size 640x480 with 1 Axes>"
      ]
     },
     "metadata": {},
     "output_type": "display_data"
    }
   ],
   "source": [
    "# plot gradients\n",
    "plt.plot(history['grad_norm_l2'], label='l2')\n",
    "plt.plot(history['avg_grad_norm_l1_per_param'], label='l1')\n",
    "plt.xlabel('Epoch')\n",
    "plt.ylabel('Gradient norm')\n",
    "plt.legend()\n",
    "plt.show()"
   ]
  },
  {
   "cell_type": "markdown",
   "metadata": {},
   "source": [
    "### Notice that the training is much smoother wrt SimCLR"
   ]
  },
  {
   "cell_type": "code",
   "execution_count": 18,
   "metadata": {},
   "outputs": [],
   "source": [
    "from QCCL.Data import from_nx_to_geometric\n",
    "\n",
    "idx1, idx2 = np.random.choice(len(train_dataset), 2, replace=False)\n",
    "\n",
    "pos1 = from_nx_to_geometric(train_dataset.graphs[idx1][0])\n",
    "pos2 = from_nx_to_geometric(train_dataset.graphs[idx1][1])\n",
    "\n",
    "neg1 = from_nx_to_geometric(train_dataset.graphs[idx2][0])\n",
    "neg2 = from_nx_to_geometric(train_dataset.graphs[idx2][1])"
   ]
  },
  {
   "cell_type": "code",
   "execution_count": 19,
   "metadata": {},
   "outputs": [],
   "source": [
    "# print embeddings\n",
    "gnn = model.get_gnn()\n",
    "\n",
    "# pos1, pos2 = val_dataset[0]\n",
    "# neg1, neg2 = val_dataset[1]\n",
    "\n",
    "# Extract embeddings\n",
    "emb1 = gnn(pos1)\n",
    "emb2 = gnn(pos2)\n",
    "\n",
    "neg_emb1 = gnn(neg1)\n",
    "neg_emb2 = gnn(neg2)"
   ]
  },
  {
   "cell_type": "code",
   "execution_count": 20,
   "metadata": {},
   "outputs": [
    {
     "name": "stdout",
     "output_type": "stream",
     "text": [
      "Positive pair:\n",
      "Embedding 1: tensor([[0.0000, 0.0000, 0.0470, 0.0406, 0.0000, 0.0540, 0.0056, 0.0115, 0.0223,\n",
      "         0.0000, 0.0180, 0.0044, 0.0141, 0.0000, 0.0267, 0.0000]],\n",
      "       grad_fn=<MeanBackward1>)\n",
      "Embedding 2: tensor([[0.0000, 0.0000, 0.0405, 0.0235, 0.0000, 0.0513, 0.0038, 0.0133, 0.0329,\n",
      "         0.0000, 0.0233, 0.0007, 0.0277, 0.0051, 0.0332, 0.0000]],\n",
      "       grad_fn=<MeanBackward1>)\n",
      "Negative pair:\n",
      "Embedding 1: tensor([[0.0000, 0.0000, 0.0228, 0.0006, 0.0001, 0.0250, 0.0000, 0.0128, 0.0381,\n",
      "         0.0009, 0.0145, 0.0194, 0.0422, 0.0113, 0.0230, 0.0008]],\n",
      "       grad_fn=<MeanBackward1>)\n",
      "Embedding 2: tensor([[0.0000, 0.0000, 0.0170, 0.0000, 0.0012, 0.0184, 0.0000, 0.0145, 0.0327,\n",
      "         0.0015, 0.0105, 0.0247, 0.0407, 0.0086, 0.0164, 0.0009]],\n",
      "       grad_fn=<MeanBackward1>)\n"
     ]
    }
   ],
   "source": [
    "print('Positive pair:')\n",
    "print('Embedding 1:', emb1)\n",
    "print('Embedding 2:', emb2)\n",
    "\n",
    "print('Negative pair:')\n",
    "print('Embedding 1:', neg_emb1)\n",
    "print('Embedding 2:', neg_emb2)"
   ]
  },
  {
   "cell_type": "code",
   "execution_count": 21,
   "metadata": {},
   "outputs": [
    {
     "name": "stdout",
     "output_type": "stream",
     "text": [
      "Cosine similarity between positive pair: tensor([0.9561], grad_fn=<SumBackward1>)\n",
      "Cosine similarity between negative pair: tensor([0.9860], grad_fn=<SumBackward1>)\n",
      "Cosine similarity between positive and negative pair: tensor([0.7047], grad_fn=<SumBackward1>)\n",
      "Cosine similarity between positive and negative pair: tensor([0.7756], grad_fn=<SumBackward1>)\n"
     ]
    }
   ],
   "source": [
    "# check collapse by checking the distance between the embeddings\n",
    "from torch.nn.functional import cosine_similarity\n",
    "\n",
    "print('Cosine similarity between positive pair:', cosine_similarity(emb1, emb2))\n",
    "print('Cosine similarity between negative pair:', cosine_similarity(neg_emb1, neg_emb2))\n",
    "\n",
    "# check if the embeddings are different\n",
    "print('Cosine similarity between positive and negative pair:', cosine_similarity(emb1, neg_emb1))\n",
    "\n",
    "# check if the embeddings are different\n",
    "print('Cosine similarity between positive and negative pair:', cosine_similarity(emb2, neg_emb2))"
   ]
  },
  {
   "cell_type": "code",
   "execution_count": 22,
   "metadata": {},
   "outputs": [
    {
     "name": "stdout",
     "output_type": "stream",
     "text": [
      "Output online: tensor([[-0.0557, -0.1065, -0.0225, -0.0566]], grad_fn=<AddmmBackward0>)\n",
      "Output target: tensor([[-0.0619, -0.0588, -0.0091, -0.0755]])\n"
     ]
    }
   ],
   "source": [
    "online_model = model.online_model\n",
    "target_model = model.target_model\n",
    "\n",
    "output_online = online_model(pos1)\n",
    "output_target = target_model(pos2)\n",
    "\n",
    "print('Output online:', output_online)\n",
    "print('Output target:', output_target)"
   ]
  },
  {
   "cell_type": "code",
   "execution_count": 23,
   "metadata": {},
   "outputs": [
    {
     "name": "stdout",
     "output_type": "stream",
     "text": [
      "Loss for positive pair: tensor(0.0007, grad_fn=<MseLossBackward0>)\n"
     ]
    }
   ],
   "source": [
    "# compute loss for positive pair\n",
    "from torch.nn import MSELoss\n",
    "loss = MSELoss()\n",
    "loss_pos = loss(output_online, output_target)\n",
    "print('Loss for positive pair:', loss_pos)"
   ]
  }
 ],
 "metadata": {
  "kernelspec": {
   "display_name": "Python 3",
   "language": "python",
   "name": "python3"
  },
  "language_info": {
   "codemirror_mode": {
    "name": "ipython",
    "version": 3
   },
   "file_extension": ".py",
   "mimetype": "text/x-python",
   "name": "python",
   "nbconvert_exporter": "python",
   "pygments_lexer": "ipython3",
   "version": "3.12.5"
  }
 },
 "nbformat": 4,
 "nbformat_minor": 2
}
