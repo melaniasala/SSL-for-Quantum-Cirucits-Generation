{
 "cells": [
  {
   "cell_type": "code",
   "execution_count": 14,
   "metadata": {},
   "outputs": [],
   "source": [
    "import sys, os\n",
    "sys.path.append(os.path.abspath('..'))"
   ]
  },
  {
   "cell_type": "code",
   "execution_count": 15,
   "metadata": {},
   "outputs": [],
   "source": [
    "import torch\n",
    "from Data import GraphDataset\n",
    "from Models import GCNFeatureExtractor, CLWrapper\n",
    "from utils.train import train"
   ]
  },
  {
   "cell_type": "code",
   "execution_count": 16,
   "metadata": {},
   "outputs": [],
   "source": [
    "use_pre_paired = True\n",
    "batch_size = 3\n",
    "lr = 0.01\n",
    "epochs = 100\n",
    "device = 'cuda' if torch.cuda.is_available() else 'cpu'\n",
    "embedding_size = 10\n",
    "pooling = 'global_avg'"
   ]
  },
  {
   "cell_type": "code",
   "execution_count": 17,
   "metadata": {},
   "outputs": [
    {
     "name": "stdout",
     "output_type": "stream",
     "text": [
      "\tCollected 1 sample from null_ops.\n",
      "\tCollected 4 samples from commutations.\n",
      "\tCollected 7 samples from equivalences.\n",
      "\tCollected 7 samples from combined.\n",
      "Loaded 19 samples and 19 quantum circuits from subset.\n"
     ]
    }
   ],
   "source": [
    "# load data \n",
    "from Data import load_graphs\n",
    "\n",
    "basic_data, _ = load_graphs()"
   ]
  },
  {
   "cell_type": "code",
   "execution_count": 18,
   "metadata": {},
   "outputs": [],
   "source": [
    "# import pickle\n",
    "\n",
    "# def load_graphs(data_dir='../Data/raw/', file_name='handcrafted_dataset.pkl', subset=None):\n",
    "#     file_path = os.path.join(data_dir, file_name)\n",
    "#     graphs, qcs = [], []\n",
    "    \n",
    "#     with open(file_path, 'rb') as f:\n",
    "#         dataset = pickle.load(f)\n",
    "\n",
    "#     if file_name == 'handcrafted_dataset.pkl':\n",
    "#         if subset is not None:\n",
    "#             dataset = dataset[subset]\n",
    "#             print(f\"Loaded {len(dataset)} elements from subset {subset}:\")\n",
    "#         # collect all graphs in dataset, which are stored in a nested dictionary\n",
    "#         dataset = collect_from_dict(dataset) \n",
    "\n",
    "#     # extract graphs and qcs separately, if needed\n",
    "#     for sample in dataset:\n",
    "#         if isinstance(sample, tuple): # if a tuple (qc, graph)\n",
    "#             g, qc = sample\n",
    "#             graphs.append(g)\n",
    "#             qcs.append(qc)\n",
    "#         elif all(isinstance(graph, tuple) for graph in sample):# if a list of tuples (qc, graph) \n",
    "#             g, qc = zip(*sample)\n",
    "#             qcs.append(list(qc))\n",
    "#             graphs.append(list(g))\n",
    "\n",
    "#     print(f\"Loaded {len(graphs)} samples and {len(qcs)} quantum circuits from subset.\")\n",
    "    \n",
    "#     return graphs, qcs\n",
    "\n",
    "# def collect_from_dict(dictionary):\n",
    "#     graphs = []\n",
    "#     for k, v in dictionary.items():\n",
    "#         if isinstance(v, dict):\n",
    "#             graphs.extend(collect_from_dict(v))\n",
    "#         elif isinstance(v, list):\n",
    "#             if all(isinstance(item, list) for item in v):  # if list of lists\n",
    "#                 graphs.extend(v)\n",
    "#                 print(f\"\\tCollected {len(v)} items from {k}.\")\n",
    "#             elif all(isinstance(item, tuple) for item in v):  # if list of tuples\n",
    "#                 graphs.append(v)\n",
    "#                 print(f\"\\tCollected 1 sample from {k}.\")\n",
    "                \n",
    "#     return graphs"
   ]
  },
  {
   "cell_type": "markdown",
   "metadata": {},
   "source": [
    "## Basic transforms training"
   ]
  },
  {
   "cell_type": "code",
   "execution_count": 19,
   "metadata": {},
   "outputs": [],
   "source": [
    "dataset = GraphDataset(basic_data[:-1], pre_paired=use_pre_paired)"
   ]
  },
  {
   "cell_type": "code",
   "execution_count": 20,
   "metadata": {},
   "outputs": [
    {
     "name": "stdout",
     "output_type": "stream",
     "text": [
      "18\n"
     ]
    }
   ],
   "source": [
    "graphs = basic_data[0]\n",
    "print(len(graphs))"
   ]
  },
  {
   "cell_type": "code",
   "execution_count": 21,
   "metadata": {},
   "outputs": [],
   "source": [
    "import numpy as np\n",
    "import networkx as nx\n",
    "def get_attr_matrix(graph):\n",
    "    nodes_list = list(graph.nodes)\n",
    "    nodes_view = graph.nodes(data=True)\n",
    "    return np.array([nodes_view[node]['feature_vector'] for node in nodes_list])"
   ]
  },
  {
   "cell_type": "code",
   "execution_count": 22,
   "metadata": {},
   "outputs": [
    {
     "name": "stdout",
     "output_type": "stream",
     "text": [
      "NODE FEATURES:\n",
      "[[0 1 0 0 0 0]\n",
      " [1 0 0 0 1 0]\n",
      " [1 0 0 0 0 1]]\n",
      "[[0 1 0 0 0 0]\n",
      " [1 0 0 0 1 0]\n",
      " [1 0 0 0 0 1]\n",
      " [0 1 0 0 0 0]\n",
      " [0 1 0 0 0 0]]\n",
      "---\n",
      "tensor([[0., 1., 0., 0., 0., 0.],\n",
      "        [1., 0., 0., 0., 1., 0.],\n",
      "        [1., 0., 0., 0., 0., 1.],\n",
      "        [0., 1., 0., 0., 0., 0.],\n",
      "        [0., 1., 0., 0., 0., 0.]])\n",
      "tensor([[0., 1., 0., 0., 0., 0.],\n",
      "        [1., 0., 0., 0., 1., 0.],\n",
      "        [1., 0., 0., 0., 0., 1.]])\n",
      "ADJACENCY:\n",
      "[[0 1 0]\n",
      " [0 0 1]\n",
      " [0 1 0]]\n",
      "[[0 1 0 0 0]\n",
      " [0 0 1 1 0]\n",
      " [0 1 0 0 0]\n",
      " [0 0 0 0 1]\n",
      " [0 0 0 0 0]]\n",
      "---\n",
      "tensor([[0, 1, 1, 2, 3],\n",
      "        [1, 2, 3, 1, 4]])\n",
      "tensor([[0, 1, 2],\n",
      "        [1, 2, 1]])\n"
     ]
    }
   ],
   "source": [
    "# Check if graphs in the dataset are correctly converted to PyTorch Geometric Data objects\n",
    "graphs = [basic_data[0][0:2]]\n",
    "dataset_1 = GraphDataset(graphs, pre_paired=use_pre_paired)\n",
    "\n",
    "data_1, data_2 = dataset_1[0]\n",
    "\n",
    "print(\"NODE FEATURES:\")\n",
    "\n",
    "print(get_attr_matrix(graphs[0][0]))\n",
    "print(get_attr_matrix(graphs[0][1]))\n",
    "\n",
    "print(\"---\")\n",
    "\n",
    "print(data_1.x)\n",
    "print(data_2.x)\n",
    "\n",
    "print(\"ADJACENCY:\")\n",
    "\n",
    "print(nx.adjacency_matrix(graphs[0][0]).todense())\n",
    "print(nx.adjacency_matrix(graphs[0][1]).todense())\n",
    "\n",
    "print(\"---\")\n",
    "\n",
    "print(data_1.edge_index)\n",
    "print(data_2.edge_index)"
   ]
  },
  {
   "cell_type": "code",
   "execution_count": 23,
   "metadata": {},
   "outputs": [
    {
     "data": {
      "text/plain": [
       "<Data.Dataset.GraphDataset at 0x1caffae2750>"
      ]
     },
     "execution_count": 23,
     "metadata": {},
     "output_type": "execute_result"
    }
   ],
   "source": [
    "dataset_1"
   ]
  },
  {
   "cell_type": "code",
   "execution_count": 24,
   "metadata": {},
   "outputs": [],
   "source": [
    "# create a fully connected nn stacking fully connected layers and ReLU activations\n",
    "out_dim_gnn = 64\n",
    "\n",
    "fc_model = torch.nn.Sequential(\n",
    "    torch.nn.Linear(out_dim_gnn, 256),\n",
    "    torch.nn.Sigmoid(),\n",
    "    torch.nn.Linear(256, 128),\n",
    "    torch.nn.Sigmoid(),\n",
    "    torch.nn.Linear(128, embedding_size)\n",
    ")\n",
    "\n"
   ]
  },
  {
   "cell_type": "code",
   "execution_count": 25,
   "metadata": {},
   "outputs": [
    {
     "name": "stdout",
     "output_type": "stream",
     "text": [
      "Number of features in the dataset: 6\n"
     ]
    }
   ],
   "source": [
    "n_features = dataset[0][0].x.shape[1] if use_pre_paired else dataset[0].x.shape[1]\n",
    "print(f'Number of features in the dataset: {n_features}')\n",
    "\n",
    "gnn = GCNFeatureExtractor(in_channels=n_features, out_channels=embedding_size, pooling_strategy=pooling)\n",
    "proj = fc_model\n",
    "\n",
    "# No projection head\n",
    "model = CLWrapper(gnn).to(device)"
   ]
  },
  {
   "cell_type": "code",
   "execution_count": 26,
   "metadata": {},
   "outputs": [
    {
     "name": "stderr",
     "output_type": "stream",
     "text": [
      "Epoch 1/100: 100%|██████████| 6/6 [00:00<00:00, 25.36batch/s, Loss=1.57]\n"
     ]
    },
    {
     "name": "stdout",
     "output_type": "stream",
     "text": [
      "Epoch 1/100 completed. Avg Loss: 1.5750\n"
     ]
    },
    {
     "name": "stderr",
     "output_type": "stream",
     "text": [
      "Epoch 2/100: 100%|██████████| 6/6 [00:00<00:00, 47.53batch/s, Loss=1.57]\n"
     ]
    },
    {
     "name": "stdout",
     "output_type": "stream",
     "text": [
      "Epoch 2/100 completed. Avg Loss: 1.5664\n"
     ]
    },
    {
     "name": "stderr",
     "output_type": "stream",
     "text": [
      "Epoch 3/100: 100%|██████████| 6/6 [00:00<00:00, 55.84batch/s, Loss=1.48]\n"
     ]
    },
    {
     "name": "stdout",
     "output_type": "stream",
     "text": [
      "Epoch 3/100 completed. Avg Loss: 1.4847\n"
     ]
    },
    {
     "name": "stderr",
     "output_type": "stream",
     "text": [
      "Epoch 4/100: 100%|██████████| 6/6 [00:00<00:00, 57.05batch/s, Loss=1.47]\n"
     ]
    },
    {
     "name": "stdout",
     "output_type": "stream",
     "text": [
      "Epoch 4/100 completed. Avg Loss: 1.4702\n"
     ]
    },
    {
     "name": "stderr",
     "output_type": "stream",
     "text": [
      "Epoch 5/100: 100%|██████████| 6/6 [00:00<00:00, 58.54batch/s, Loss=1.52]\n"
     ]
    },
    {
     "name": "stdout",
     "output_type": "stream",
     "text": [
      "Epoch 5/100 completed. Avg Loss: 1.5165\n"
     ]
    },
    {
     "name": "stderr",
     "output_type": "stream",
     "text": [
      "Epoch 6/100: 100%|██████████| 6/6 [00:00<00:00, 49.56batch/s, Loss=1.41]\n"
     ]
    },
    {
     "name": "stdout",
     "output_type": "stream",
     "text": [
      "Epoch 6/100 completed. Avg Loss: 1.4068\n"
     ]
    },
    {
     "name": "stderr",
     "output_type": "stream",
     "text": [
      "Epoch 7/100: 100%|██████████| 6/6 [00:00<00:00, 44.91batch/s, Loss=1.51]\n"
     ]
    },
    {
     "name": "stdout",
     "output_type": "stream",
     "text": [
      "Epoch 7/100 completed. Avg Loss: 1.5085\n"
     ]
    },
    {
     "name": "stderr",
     "output_type": "stream",
     "text": [
      "Epoch 8/100: 100%|██████████| 6/6 [00:00<00:00, 46.60batch/s, Loss=1.49]\n"
     ]
    },
    {
     "name": "stdout",
     "output_type": "stream",
     "text": [
      "Epoch 8/100 completed. Avg Loss: 1.4855\n"
     ]
    },
    {
     "name": "stderr",
     "output_type": "stream",
     "text": [
      "Epoch 9/100: 100%|██████████| 6/6 [00:00<00:00, 46.76batch/s, Loss=1.41]\n"
     ]
    },
    {
     "name": "stdout",
     "output_type": "stream",
     "text": [
      "Epoch 9/100 completed. Avg Loss: 1.4090\n"
     ]
    },
    {
     "name": "stderr",
     "output_type": "stream",
     "text": [
      "Epoch 10/100: 100%|██████████| 6/6 [00:00<00:00, 44.06batch/s, Loss=1.29]\n"
     ]
    },
    {
     "name": "stdout",
     "output_type": "stream",
     "text": [
      "Epoch 10/100 completed. Avg Loss: 1.2851\n"
     ]
    },
    {
     "name": "stderr",
     "output_type": "stream",
     "text": [
      "Epoch 11/100: 100%|██████████| 6/6 [00:00<00:00, 43.07batch/s, Loss=1.38]\n"
     ]
    },
    {
     "name": "stdout",
     "output_type": "stream",
     "text": [
      "Epoch 11/100 completed. Avg Loss: 1.3815\n"
     ]
    },
    {
     "name": "stderr",
     "output_type": "stream",
     "text": [
      "Epoch 12/100: 100%|██████████| 6/6 [00:00<00:00, 39.21batch/s, Loss=1.5]  \n"
     ]
    },
    {
     "name": "stdout",
     "output_type": "stream",
     "text": [
      "Epoch 12/100 completed. Avg Loss: 1.4952\n"
     ]
    },
    {
     "name": "stderr",
     "output_type": "stream",
     "text": [
      "Epoch 13/100: 100%|██████████| 6/6 [00:00<00:00, 49.32batch/s, Loss=1.45]\n"
     ]
    },
    {
     "name": "stdout",
     "output_type": "stream",
     "text": [
      "Epoch 13/100 completed. Avg Loss: 1.4477\n"
     ]
    },
    {
     "name": "stderr",
     "output_type": "stream",
     "text": [
      "Epoch 14/100: 100%|██████████| 6/6 [00:00<00:00, 46.13batch/s, Loss=1.33]\n"
     ]
    },
    {
     "name": "stdout",
     "output_type": "stream",
     "text": [
      "Epoch 14/100 completed. Avg Loss: 1.3330\n"
     ]
    },
    {
     "name": "stderr",
     "output_type": "stream",
     "text": [
      "Epoch 15/100: 100%|██████████| 6/6 [00:00<00:00, 47.80batch/s, Loss=1.36]\n"
     ]
    },
    {
     "name": "stdout",
     "output_type": "stream",
     "text": [
      "Epoch 15/100 completed. Avg Loss: 1.3607\n"
     ]
    },
    {
     "name": "stderr",
     "output_type": "stream",
     "text": [
      "Epoch 16/100: 100%|██████████| 6/6 [00:00<00:00, 49.67batch/s, Loss=1.06]\n"
     ]
    },
    {
     "name": "stdout",
     "output_type": "stream",
     "text": [
      "Epoch 16/100 completed. Avg Loss: 1.0648\n"
     ]
    },
    {
     "name": "stderr",
     "output_type": "stream",
     "text": [
      "Epoch 17/100: 100%|██████████| 6/6 [00:00<00:00, 29.03batch/s, Loss=1.56]\n"
     ]
    },
    {
     "name": "stdout",
     "output_type": "stream",
     "text": [
      "Epoch 17/100 completed. Avg Loss: 1.5629\n"
     ]
    },
    {
     "name": "stderr",
     "output_type": "stream",
     "text": [
      "Epoch 18/100: 100%|██████████| 6/6 [00:00<00:00, 49.59batch/s, Loss=1.45]\n"
     ]
    },
    {
     "name": "stdout",
     "output_type": "stream",
     "text": [
      "Epoch 18/100 completed. Avg Loss: 1.4495\n"
     ]
    },
    {
     "name": "stderr",
     "output_type": "stream",
     "text": [
      "Epoch 19/100: 100%|██████████| 6/6 [00:00<00:00, 45.74batch/s, Loss=1.21]\n"
     ]
    },
    {
     "name": "stdout",
     "output_type": "stream",
     "text": [
      "Epoch 19/100 completed. Avg Loss: 1.2142\n"
     ]
    },
    {
     "name": "stderr",
     "output_type": "stream",
     "text": [
      "Epoch 20/100: 100%|██████████| 6/6 [00:00<00:00, 46.29batch/s, Loss=1.14]\n"
     ]
    },
    {
     "name": "stdout",
     "output_type": "stream",
     "text": [
      "Epoch 20/100 completed. Avg Loss: 1.1397\n"
     ]
    },
    {
     "name": "stderr",
     "output_type": "stream",
     "text": [
      "Epoch 21/100: 100%|██████████| 6/6 [00:00<00:00, 41.82batch/s, Loss=1.22]\n"
     ]
    },
    {
     "name": "stdout",
     "output_type": "stream",
     "text": [
      "Epoch 21/100 completed. Avg Loss: 1.2217\n"
     ]
    },
    {
     "name": "stderr",
     "output_type": "stream",
     "text": [
      "Epoch 22/100: 100%|██████████| 6/6 [00:00<00:00, 38.13batch/s, Loss=1.34]\n"
     ]
    },
    {
     "name": "stdout",
     "output_type": "stream",
     "text": [
      "Epoch 22/100 completed. Avg Loss: 1.3423\n"
     ]
    },
    {
     "name": "stderr",
     "output_type": "stream",
     "text": [
      "Epoch 23/100: 100%|██████████| 6/6 [00:00<00:00, 46.12batch/s, Loss=1.32]\n"
     ]
    },
    {
     "name": "stdout",
     "output_type": "stream",
     "text": [
      "Epoch 23/100 completed. Avg Loss: 1.3191\n"
     ]
    },
    {
     "name": "stderr",
     "output_type": "stream",
     "text": [
      "Epoch 24/100: 100%|██████████| 6/6 [00:00<00:00, 44.40batch/s, Loss=1.32]\n"
     ]
    },
    {
     "name": "stdout",
     "output_type": "stream",
     "text": [
      "Epoch 24/100 completed. Avg Loss: 1.3248\n"
     ]
    },
    {
     "name": "stderr",
     "output_type": "stream",
     "text": [
      "Epoch 25/100: 100%|██████████| 6/6 [00:00<00:00, 31.40batch/s, Loss=1.24]\n"
     ]
    },
    {
     "name": "stdout",
     "output_type": "stream",
     "text": [
      "Epoch 25/100 completed. Avg Loss: 1.2361\n"
     ]
    },
    {
     "name": "stderr",
     "output_type": "stream",
     "text": [
      "Epoch 26/100: 100%|██████████| 6/6 [00:00<00:00, 39.64batch/s, Loss=1.2] \n"
     ]
    },
    {
     "name": "stdout",
     "output_type": "stream",
     "text": [
      "Epoch 26/100 completed. Avg Loss: 1.2047\n"
     ]
    },
    {
     "name": "stderr",
     "output_type": "stream",
     "text": [
      "Epoch 27/100: 100%|██████████| 6/6 [00:00<00:00, 38.10batch/s, Loss=1.32] \n"
     ]
    },
    {
     "name": "stdout",
     "output_type": "stream",
     "text": [
      "Epoch 27/100 completed. Avg Loss: 1.3185\n"
     ]
    },
    {
     "name": "stderr",
     "output_type": "stream",
     "text": [
      "Epoch 28/100: 100%|██████████| 6/6 [00:00<00:00, 48.33batch/s, Loss=1.21]\n"
     ]
    },
    {
     "name": "stdout",
     "output_type": "stream",
     "text": [
      "Epoch 28/100 completed. Avg Loss: 1.2146\n"
     ]
    },
    {
     "name": "stderr",
     "output_type": "stream",
     "text": [
      "Epoch 29/100: 100%|██████████| 6/6 [00:00<00:00, 50.78batch/s, Loss=1.29]\n"
     ]
    },
    {
     "name": "stdout",
     "output_type": "stream",
     "text": [
      "Epoch 29/100 completed. Avg Loss: 1.2950\n"
     ]
    },
    {
     "name": "stderr",
     "output_type": "stream",
     "text": [
      "Epoch 30/100: 100%|██████████| 6/6 [00:00<00:00, 48.81batch/s, Loss=1.2] \n"
     ]
    },
    {
     "name": "stdout",
     "output_type": "stream",
     "text": [
      "Epoch 30/100 completed. Avg Loss: 1.1979\n"
     ]
    },
    {
     "name": "stderr",
     "output_type": "stream",
     "text": [
      "Epoch 31/100: 100%|██████████| 6/6 [00:00<00:00, 43.27batch/s, Loss=1.29]\n"
     ]
    },
    {
     "name": "stdout",
     "output_type": "stream",
     "text": [
      "Epoch 31/100 completed. Avg Loss: 1.2911\n"
     ]
    },
    {
     "name": "stderr",
     "output_type": "stream",
     "text": [
      "Epoch 32/100: 100%|██████████| 6/6 [00:00<00:00, 43.36batch/s, Loss=1.31]\n"
     ]
    },
    {
     "name": "stdout",
     "output_type": "stream",
     "text": [
      "Epoch 32/100 completed. Avg Loss: 1.3066\n"
     ]
    },
    {
     "name": "stderr",
     "output_type": "stream",
     "text": [
      "Epoch 33/100: 100%|██████████| 6/6 [00:00<00:00, 44.78batch/s, Loss=1.28]\n"
     ]
    },
    {
     "name": "stdout",
     "output_type": "stream",
     "text": [
      "Epoch 33/100 completed. Avg Loss: 1.2772\n"
     ]
    },
    {
     "name": "stderr",
     "output_type": "stream",
     "text": [
      "Epoch 34/100: 100%|██████████| 6/6 [00:00<00:00, 47.33batch/s, Loss=1.12]\n"
     ]
    },
    {
     "name": "stdout",
     "output_type": "stream",
     "text": [
      "Epoch 34/100 completed. Avg Loss: 1.1178\n"
     ]
    },
    {
     "name": "stderr",
     "output_type": "stream",
     "text": [
      "Epoch 35/100: 100%|██████████| 6/6 [00:00<00:00, 43.63batch/s, Loss=1.32]\n"
     ]
    },
    {
     "name": "stdout",
     "output_type": "stream",
     "text": [
      "Epoch 35/100 completed. Avg Loss: 1.3166\n"
     ]
    },
    {
     "name": "stderr",
     "output_type": "stream",
     "text": [
      "Epoch 36/100: 100%|██████████| 6/6 [00:00<00:00, 40.36batch/s, Loss=1.4] \n"
     ]
    },
    {
     "name": "stdout",
     "output_type": "stream",
     "text": [
      "Epoch 36/100 completed. Avg Loss: 1.3983\n"
     ]
    },
    {
     "name": "stderr",
     "output_type": "stream",
     "text": [
      "Epoch 37/100: 100%|██████████| 6/6 [00:00<00:00, 38.18batch/s, Loss=1.35]\n"
     ]
    },
    {
     "name": "stdout",
     "output_type": "stream",
     "text": [
      "Epoch 37/100 completed. Avg Loss: 1.3497\n"
     ]
    },
    {
     "name": "stderr",
     "output_type": "stream",
     "text": [
      "Epoch 38/100: 100%|██████████| 6/6 [00:00<00:00, 39.08batch/s, Loss=1.16]\n"
     ]
    },
    {
     "name": "stdout",
     "output_type": "stream",
     "text": [
      "Epoch 38/100 completed. Avg Loss: 1.1622\n"
     ]
    },
    {
     "name": "stderr",
     "output_type": "stream",
     "text": [
      "Epoch 39/100: 100%|██████████| 6/6 [00:00<00:00, 39.35batch/s, Loss=1.4] \n"
     ]
    },
    {
     "name": "stdout",
     "output_type": "stream",
     "text": [
      "Epoch 39/100 completed. Avg Loss: 1.3968\n"
     ]
    },
    {
     "name": "stderr",
     "output_type": "stream",
     "text": [
      "Epoch 40/100: 100%|██████████| 6/6 [00:00<00:00, 45.91batch/s, Loss=1.28]\n"
     ]
    },
    {
     "name": "stdout",
     "output_type": "stream",
     "text": [
      "Epoch 40/100 completed. Avg Loss: 1.2753\n"
     ]
    },
    {
     "name": "stderr",
     "output_type": "stream",
     "text": [
      "Epoch 41/100: 100%|██████████| 6/6 [00:00<00:00, 49.36batch/s, Loss=1.22]\n"
     ]
    },
    {
     "name": "stdout",
     "output_type": "stream",
     "text": [
      "Epoch 41/100 completed. Avg Loss: 1.2229\n"
     ]
    },
    {
     "name": "stderr",
     "output_type": "stream",
     "text": [
      "Epoch 42/100: 100%|██████████| 6/6 [00:00<00:00, 46.32batch/s, Loss=1.38]\n"
     ]
    },
    {
     "name": "stdout",
     "output_type": "stream",
     "text": [
      "Epoch 42/100 completed. Avg Loss: 1.3847\n"
     ]
    },
    {
     "name": "stderr",
     "output_type": "stream",
     "text": [
      "Epoch 43/100: 100%|██████████| 6/6 [00:00<00:00, 44.09batch/s, Loss=1.45]\n"
     ]
    },
    {
     "name": "stdout",
     "output_type": "stream",
     "text": [
      "Epoch 43/100 completed. Avg Loss: 1.4500\n"
     ]
    },
    {
     "name": "stderr",
     "output_type": "stream",
     "text": [
      "Epoch 44/100: 100%|██████████| 6/6 [00:00<00:00, 45.87batch/s, Loss=1.24]\n"
     ]
    },
    {
     "name": "stdout",
     "output_type": "stream",
     "text": [
      "Epoch 44/100 completed. Avg Loss: 1.2403\n"
     ]
    },
    {
     "name": "stderr",
     "output_type": "stream",
     "text": [
      "Epoch 45/100: 100%|██████████| 6/6 [00:00<00:00, 49.22batch/s, Loss=1.23]\n"
     ]
    },
    {
     "name": "stdout",
     "output_type": "stream",
     "text": [
      "Epoch 45/100 completed. Avg Loss: 1.2291\n"
     ]
    },
    {
     "name": "stderr",
     "output_type": "stream",
     "text": [
      "Epoch 46/100: 100%|██████████| 6/6 [00:00<00:00, 34.16batch/s, Loss=1.13]\n"
     ]
    },
    {
     "name": "stdout",
     "output_type": "stream",
     "text": [
      "Epoch 46/100 completed. Avg Loss: 1.1343\n"
     ]
    },
    {
     "name": "stderr",
     "output_type": "stream",
     "text": [
      "Epoch 47/100: 100%|██████████| 6/6 [00:00<00:00, 48.61batch/s, Loss=1.33]\n"
     ]
    },
    {
     "name": "stdout",
     "output_type": "stream",
     "text": [
      "Epoch 47/100 completed. Avg Loss: 1.3265\n"
     ]
    },
    {
     "name": "stderr",
     "output_type": "stream",
     "text": [
      "Epoch 48/100: 100%|██████████| 6/6 [00:00<00:00, 49.10batch/s, Loss=1.3] \n"
     ]
    },
    {
     "name": "stdout",
     "output_type": "stream",
     "text": [
      "Epoch 48/100 completed. Avg Loss: 1.2972\n"
     ]
    },
    {
     "name": "stderr",
     "output_type": "stream",
     "text": [
      "Epoch 49/100: 100%|██████████| 6/6 [00:00<00:00, 50.33batch/s, Loss=1.2] \n"
     ]
    },
    {
     "name": "stdout",
     "output_type": "stream",
     "text": [
      "Epoch 49/100 completed. Avg Loss: 1.1981\n"
     ]
    },
    {
     "name": "stderr",
     "output_type": "stream",
     "text": [
      "Epoch 50/100: 100%|██████████| 6/6 [00:00<00:00, 50.87batch/s, Loss=1.22]\n"
     ]
    },
    {
     "name": "stdout",
     "output_type": "stream",
     "text": [
      "Epoch 50/100 completed. Avg Loss: 1.2217\n"
     ]
    },
    {
     "name": "stderr",
     "output_type": "stream",
     "text": [
      "Epoch 51/100: 100%|██████████| 6/6 [00:00<00:00, 47.42batch/s, Loss=1.37]\n"
     ]
    },
    {
     "name": "stdout",
     "output_type": "stream",
     "text": [
      "Epoch 51/100 completed. Avg Loss: 1.3703\n"
     ]
    },
    {
     "name": "stderr",
     "output_type": "stream",
     "text": [
      "Epoch 52/100: 100%|██████████| 6/6 [00:00<00:00, 45.73batch/s, Loss=1.31]\n"
     ]
    },
    {
     "name": "stdout",
     "output_type": "stream",
     "text": [
      "Epoch 52/100 completed. Avg Loss: 1.3075\n"
     ]
    },
    {
     "name": "stderr",
     "output_type": "stream",
     "text": [
      "Epoch 53/100: 100%|██████████| 6/6 [00:00<00:00, 48.05batch/s, Loss=1.44]\n"
     ]
    },
    {
     "name": "stdout",
     "output_type": "stream",
     "text": [
      "Epoch 53/100 completed. Avg Loss: 1.4369\n"
     ]
    },
    {
     "name": "stderr",
     "output_type": "stream",
     "text": [
      "Epoch 54/100: 100%|██████████| 6/6 [00:00<00:00, 47.85batch/s, Loss=1.28]\n"
     ]
    },
    {
     "name": "stdout",
     "output_type": "stream",
     "text": [
      "Epoch 54/100 completed. Avg Loss: 1.2849\n"
     ]
    },
    {
     "name": "stderr",
     "output_type": "stream",
     "text": [
      "Epoch 55/100: 100%|██████████| 6/6 [00:00<00:00, 42.97batch/s, Loss=1.47]\n"
     ]
    },
    {
     "name": "stdout",
     "output_type": "stream",
     "text": [
      "Epoch 55/100 completed. Avg Loss: 1.4666\n"
     ]
    },
    {
     "name": "stderr",
     "output_type": "stream",
     "text": [
      "Epoch 56/100: 100%|██████████| 6/6 [00:00<00:00, 43.27batch/s, Loss=1.4] \n"
     ]
    },
    {
     "name": "stdout",
     "output_type": "stream",
     "text": [
      "Epoch 56/100 completed. Avg Loss: 1.3979\n"
     ]
    },
    {
     "name": "stderr",
     "output_type": "stream",
     "text": [
      "Epoch 57/100: 100%|██████████| 6/6 [00:00<00:00, 48.46batch/s, Loss=1.23]\n"
     ]
    },
    {
     "name": "stdout",
     "output_type": "stream",
     "text": [
      "Epoch 57/100 completed. Avg Loss: 1.2347\n"
     ]
    },
    {
     "name": "stderr",
     "output_type": "stream",
     "text": [
      "Epoch 58/100: 100%|██████████| 6/6 [00:00<00:00, 45.68batch/s, Loss=1.36]\n"
     ]
    },
    {
     "name": "stdout",
     "output_type": "stream",
     "text": [
      "Epoch 58/100 completed. Avg Loss: 1.3648\n"
     ]
    },
    {
     "name": "stderr",
     "output_type": "stream",
     "text": [
      "Epoch 59/100: 100%|██████████| 6/6 [00:00<00:00, 42.06batch/s, Loss=1.24]\n"
     ]
    },
    {
     "name": "stdout",
     "output_type": "stream",
     "text": [
      "Epoch 59/100 completed. Avg Loss: 1.2447\n"
     ]
    },
    {
     "name": "stderr",
     "output_type": "stream",
     "text": [
      "Epoch 60/100: 100%|██████████| 6/6 [00:00<00:00, 36.89batch/s, Loss=1.14]\n"
     ]
    },
    {
     "name": "stdout",
     "output_type": "stream",
     "text": [
      "Epoch 60/100 completed. Avg Loss: 1.1362\n"
     ]
    },
    {
     "name": "stderr",
     "output_type": "stream",
     "text": [
      "Epoch 61/100: 100%|██████████| 6/6 [00:00<00:00, 35.67batch/s, Loss=1.25] \n"
     ]
    },
    {
     "name": "stdout",
     "output_type": "stream",
     "text": [
      "Epoch 61/100 completed. Avg Loss: 1.2472\n"
     ]
    },
    {
     "name": "stderr",
     "output_type": "stream",
     "text": [
      "Epoch 62/100: 100%|██████████| 6/6 [00:00<00:00, 39.31batch/s, Loss=1.14] \n"
     ]
    },
    {
     "name": "stdout",
     "output_type": "stream",
     "text": [
      "Epoch 62/100 completed. Avg Loss: 1.1444\n"
     ]
    },
    {
     "name": "stderr",
     "output_type": "stream",
     "text": [
      "Epoch 63/100: 100%|██████████| 6/6 [00:00<00:00, 43.58batch/s, Loss=1.34]\n"
     ]
    },
    {
     "name": "stdout",
     "output_type": "stream",
     "text": [
      "Epoch 63/100 completed. Avg Loss: 1.3362\n"
     ]
    },
    {
     "name": "stderr",
     "output_type": "stream",
     "text": [
      "Epoch 64/100: 100%|██████████| 6/6 [00:00<00:00, 49.24batch/s, Loss=1.22]\n"
     ]
    },
    {
     "name": "stdout",
     "output_type": "stream",
     "text": [
      "Epoch 64/100 completed. Avg Loss: 1.2226\n"
     ]
    },
    {
     "name": "stderr",
     "output_type": "stream",
     "text": [
      "Epoch 65/100: 100%|██████████| 6/6 [00:00<00:00, 46.80batch/s, Loss=1.4] \n"
     ]
    },
    {
     "name": "stdout",
     "output_type": "stream",
     "text": [
      "Epoch 65/100 completed. Avg Loss: 1.4030\n"
     ]
    },
    {
     "name": "stderr",
     "output_type": "stream",
     "text": [
      "Epoch 66/100: 100%|██████████| 6/6 [00:00<00:00, 45.47batch/s, Loss=1.4] \n"
     ]
    },
    {
     "name": "stdout",
     "output_type": "stream",
     "text": [
      "Epoch 66/100 completed. Avg Loss: 1.4038\n"
     ]
    },
    {
     "name": "stderr",
     "output_type": "stream",
     "text": [
      "Epoch 67/100: 100%|██████████| 6/6 [00:00<00:00, 46.04batch/s, Loss=1.33]\n"
     ]
    },
    {
     "name": "stdout",
     "output_type": "stream",
     "text": [
      "Epoch 67/100 completed. Avg Loss: 1.3295\n"
     ]
    },
    {
     "name": "stderr",
     "output_type": "stream",
     "text": [
      "Epoch 68/100: 100%|██████████| 6/6 [00:00<00:00, 44.52batch/s, Loss=1.21]\n"
     ]
    },
    {
     "name": "stdout",
     "output_type": "stream",
     "text": [
      "Epoch 68/100 completed. Avg Loss: 1.2065\n"
     ]
    },
    {
     "name": "stderr",
     "output_type": "stream",
     "text": [
      "Epoch 69/100: 100%|██████████| 6/6 [00:00<00:00, 43.66batch/s, Loss=1.17] \n"
     ]
    },
    {
     "name": "stdout",
     "output_type": "stream",
     "text": [
      "Epoch 69/100 completed. Avg Loss: 1.1658\n"
     ]
    },
    {
     "name": "stderr",
     "output_type": "stream",
     "text": [
      "Epoch 70/100: 100%|██████████| 6/6 [00:00<00:00, 46.89batch/s, Loss=1.22]\n"
     ]
    },
    {
     "name": "stdout",
     "output_type": "stream",
     "text": [
      "Epoch 70/100 completed. Avg Loss: 1.2238\n"
     ]
    },
    {
     "name": "stderr",
     "output_type": "stream",
     "text": [
      "Epoch 71/100: 100%|██████████| 6/6 [00:00<00:00, 22.69batch/s, Loss=1.09]\n"
     ]
    },
    {
     "name": "stdout",
     "output_type": "stream",
     "text": [
      "Epoch 71/100 completed. Avg Loss: 1.0924\n"
     ]
    },
    {
     "name": "stderr",
     "output_type": "stream",
     "text": [
      "Epoch 72/100: 100%|██████████| 6/6 [00:00<00:00, 39.07batch/s, Loss=1.48]\n"
     ]
    },
    {
     "name": "stdout",
     "output_type": "stream",
     "text": [
      "Epoch 72/100 completed. Avg Loss: 1.4827\n"
     ]
    },
    {
     "name": "stderr",
     "output_type": "stream",
     "text": [
      "Epoch 73/100: 100%|██████████| 6/6 [00:00<00:00, 34.84batch/s, Loss=1.3] \n"
     ]
    },
    {
     "name": "stdout",
     "output_type": "stream",
     "text": [
      "Epoch 73/100 completed. Avg Loss: 1.2970\n"
     ]
    },
    {
     "name": "stderr",
     "output_type": "stream",
     "text": [
      "Epoch 74/100: 100%|██████████| 6/6 [00:00<00:00, 38.62batch/s, Loss=1.31]\n"
     ]
    },
    {
     "name": "stdout",
     "output_type": "stream",
     "text": [
      "Epoch 74/100 completed. Avg Loss: 1.3118\n"
     ]
    },
    {
     "name": "stderr",
     "output_type": "stream",
     "text": [
      "Epoch 75/100: 100%|██████████| 6/6 [00:00<00:00, 37.71batch/s, Loss=1.4] \n"
     ]
    },
    {
     "name": "stdout",
     "output_type": "stream",
     "text": [
      "Epoch 75/100 completed. Avg Loss: 1.4030\n"
     ]
    },
    {
     "name": "stderr",
     "output_type": "stream",
     "text": [
      "Epoch 76/100: 100%|██████████| 6/6 [00:00<00:00, 40.26batch/s, Loss=1.19]\n"
     ]
    },
    {
     "name": "stdout",
     "output_type": "stream",
     "text": [
      "Epoch 76/100 completed. Avg Loss: 1.1943\n"
     ]
    },
    {
     "name": "stderr",
     "output_type": "stream",
     "text": [
      "Epoch 77/100: 100%|██████████| 6/6 [00:00<00:00, 34.88batch/s, Loss=1.23] \n"
     ]
    },
    {
     "name": "stdout",
     "output_type": "stream",
     "text": [
      "Epoch 77/100 completed. Avg Loss: 1.2283\n"
     ]
    },
    {
     "name": "stderr",
     "output_type": "stream",
     "text": [
      "Epoch 78/100: 100%|██████████| 6/6 [00:00<00:00, 38.96batch/s, Loss=1.15] \n"
     ]
    },
    {
     "name": "stdout",
     "output_type": "stream",
     "text": [
      "Epoch 78/100 completed. Avg Loss: 1.1512\n"
     ]
    },
    {
     "name": "stderr",
     "output_type": "stream",
     "text": [
      "Epoch 79/100: 100%|██████████| 6/6 [00:00<00:00, 35.45batch/s, Loss=1.49]\n"
     ]
    },
    {
     "name": "stdout",
     "output_type": "stream",
     "text": [
      "Epoch 79/100 completed. Avg Loss: 1.4913\n"
     ]
    },
    {
     "name": "stderr",
     "output_type": "stream",
     "text": [
      "Epoch 80/100: 100%|██████████| 6/6 [00:00<00:00, 29.88batch/s, Loss=1.3] \n"
     ]
    },
    {
     "name": "stdout",
     "output_type": "stream",
     "text": [
      "Epoch 80/100 completed. Avg Loss: 1.3034\n"
     ]
    },
    {
     "name": "stderr",
     "output_type": "stream",
     "text": [
      "Epoch 81/100: 100%|██████████| 6/6 [00:00<00:00, 37.34batch/s, Loss=1.27]\n"
     ]
    },
    {
     "name": "stdout",
     "output_type": "stream",
     "text": [
      "Epoch 81/100 completed. Avg Loss: 1.2731\n"
     ]
    },
    {
     "name": "stderr",
     "output_type": "stream",
     "text": [
      "Epoch 82/100: 100%|██████████| 6/6 [00:00<00:00, 33.56batch/s, Loss=1.44]\n"
     ]
    },
    {
     "name": "stdout",
     "output_type": "stream",
     "text": [
      "Epoch 82/100 completed. Avg Loss: 1.4364\n"
     ]
    },
    {
     "name": "stderr",
     "output_type": "stream",
     "text": [
      "Epoch 83/100: 100%|██████████| 6/6 [00:00<00:00, 35.42batch/s, Loss=1.47]\n"
     ]
    },
    {
     "name": "stdout",
     "output_type": "stream",
     "text": [
      "Epoch 83/100 completed. Avg Loss: 1.4672\n"
     ]
    },
    {
     "name": "stderr",
     "output_type": "stream",
     "text": [
      "Epoch 84/100: 100%|██████████| 6/6 [00:00<00:00, 38.23batch/s, Loss=1.21]\n"
     ]
    },
    {
     "name": "stdout",
     "output_type": "stream",
     "text": [
      "Epoch 84/100 completed. Avg Loss: 1.2109\n"
     ]
    },
    {
     "name": "stderr",
     "output_type": "stream",
     "text": [
      "Epoch 85/100: 100%|██████████| 6/6 [00:00<00:00, 31.28batch/s, Loss=1.16]\n"
     ]
    },
    {
     "name": "stdout",
     "output_type": "stream",
     "text": [
      "Epoch 85/100 completed. Avg Loss: 1.1634\n"
     ]
    },
    {
     "name": "stderr",
     "output_type": "stream",
     "text": [
      "Epoch 86/100: 100%|██████████| 6/6 [00:00<00:00, 37.30batch/s, Loss=1.24]\n"
     ]
    },
    {
     "name": "stdout",
     "output_type": "stream",
     "text": [
      "Epoch 86/100 completed. Avg Loss: 1.2423\n"
     ]
    },
    {
     "name": "stderr",
     "output_type": "stream",
     "text": [
      "Epoch 87/100: 100%|██████████| 6/6 [00:00<00:00, 36.30batch/s, Loss=1.31]\n"
     ]
    },
    {
     "name": "stdout",
     "output_type": "stream",
     "text": [
      "Epoch 87/100 completed. Avg Loss: 1.3059\n"
     ]
    },
    {
     "name": "stderr",
     "output_type": "stream",
     "text": [
      "Epoch 88/100: 100%|██████████| 6/6 [00:00<00:00, 36.30batch/s, Loss=1.33]\n"
     ]
    },
    {
     "name": "stdout",
     "output_type": "stream",
     "text": [
      "Epoch 88/100 completed. Avg Loss: 1.3323\n"
     ]
    },
    {
     "name": "stderr",
     "output_type": "stream",
     "text": [
      "Epoch 89/100: 100%|██████████| 6/6 [00:00<00:00, 30.70batch/s, Loss=1.18]\n"
     ]
    },
    {
     "name": "stdout",
     "output_type": "stream",
     "text": [
      "Epoch 89/100 completed. Avg Loss: 1.1804\n"
     ]
    },
    {
     "name": "stderr",
     "output_type": "stream",
     "text": [
      "Epoch 90/100: 100%|██████████| 6/6 [00:00<00:00, 32.44batch/s, Loss=1.32]\n"
     ]
    },
    {
     "name": "stdout",
     "output_type": "stream",
     "text": [
      "Epoch 90/100 completed. Avg Loss: 1.3197\n"
     ]
    },
    {
     "name": "stderr",
     "output_type": "stream",
     "text": [
      "Epoch 91/100: 100%|██████████| 6/6 [00:00<00:00, 17.77batch/s, Loss=1.32]\n"
     ]
    },
    {
     "name": "stdout",
     "output_type": "stream",
     "text": [
      "Epoch 91/100 completed. Avg Loss: 1.3220\n"
     ]
    },
    {
     "name": "stderr",
     "output_type": "stream",
     "text": [
      "Epoch 92/100: 100%|██████████| 6/6 [00:00<00:00, 30.29batch/s, Loss=1.4] \n"
     ]
    },
    {
     "name": "stdout",
     "output_type": "stream",
     "text": [
      "Epoch 92/100 completed. Avg Loss: 1.3952\n"
     ]
    },
    {
     "name": "stderr",
     "output_type": "stream",
     "text": [
      "Epoch 93/100: 100%|██████████| 6/6 [00:00<00:00, 36.07batch/s, Loss=1.35]\n"
     ]
    },
    {
     "name": "stdout",
     "output_type": "stream",
     "text": [
      "Epoch 93/100 completed. Avg Loss: 1.3548\n"
     ]
    },
    {
     "name": "stderr",
     "output_type": "stream",
     "text": [
      "Epoch 94/100: 100%|██████████| 6/6 [00:00<00:00, 43.51batch/s, Loss=1.32]\n"
     ]
    },
    {
     "name": "stdout",
     "output_type": "stream",
     "text": [
      "Epoch 94/100 completed. Avg Loss: 1.3235\n"
     ]
    },
    {
     "name": "stderr",
     "output_type": "stream",
     "text": [
      "Epoch 95/100: 100%|██████████| 6/6 [00:00<00:00, 43.56batch/s, Loss=1.29]\n"
     ]
    },
    {
     "name": "stdout",
     "output_type": "stream",
     "text": [
      "Epoch 95/100 completed. Avg Loss: 1.2908\n"
     ]
    },
    {
     "name": "stderr",
     "output_type": "stream",
     "text": [
      "Epoch 96/100: 100%|██████████| 6/6 [00:00<00:00, 41.15batch/s, Loss=1.31]\n"
     ]
    },
    {
     "name": "stdout",
     "output_type": "stream",
     "text": [
      "Epoch 96/100 completed. Avg Loss: 1.3050\n"
     ]
    },
    {
     "name": "stderr",
     "output_type": "stream",
     "text": [
      "Epoch 97/100: 100%|██████████| 6/6 [00:00<00:00, 41.49batch/s, Loss=1.26]\n"
     ]
    },
    {
     "name": "stdout",
     "output_type": "stream",
     "text": [
      "Epoch 97/100 completed. Avg Loss: 1.2637\n"
     ]
    },
    {
     "name": "stderr",
     "output_type": "stream",
     "text": [
      "Epoch 98/100: 100%|██████████| 6/6 [00:00<00:00, 39.01batch/s, Loss=1.17] \n"
     ]
    },
    {
     "name": "stdout",
     "output_type": "stream",
     "text": [
      "Epoch 98/100 completed. Avg Loss: 1.1730\n"
     ]
    },
    {
     "name": "stderr",
     "output_type": "stream",
     "text": [
      "Epoch 99/100: 100%|██████████| 6/6 [00:00<00:00, 36.30batch/s, Loss=1.27]\n"
     ]
    },
    {
     "name": "stdout",
     "output_type": "stream",
     "text": [
      "Epoch 99/100 completed. Avg Loss: 1.2695\n"
     ]
    },
    {
     "name": "stderr",
     "output_type": "stream",
     "text": [
      "Epoch 100/100:   0%|          | 0/6 [00:00<?, ?batch/s]"
     ]
    },
    {
     "name": "stdout",
     "output_type": "stream",
     "text": [
      "Input representations:\n",
      " "
     ]
    },
    {
     "name": "stderr",
     "output_type": "stream",
     "text": [
      "Epoch 100/100:  67%|██████▋   | 4/6 [00:00<00:00, 34.39batch/s, Loss=1.18]"
     ]
    },
    {
     "name": "stdout",
     "output_type": "stream",
     "text": [
      "tensor([[ 1.0973e-01, -4.2434e-01,  3.2765e-01, -1.4701e-01, -3.7467e-01,\n",
      "         -1.5895e-01,  3.2865e-01,  2.8424e-01,  2.6551e-01,  5.0397e-01],\n",
      "        [ 6.1507e-01,  1.4024e-01, -3.0142e-01,  4.4778e-01, -3.5685e-01,\n",
      "          2.4893e-01,  1.1806e-01, -1.7668e-01, -2.7579e-01, -1.1973e-02],\n",
      "        [ 5.1013e-01,  1.9867e-01, -3.5249e-01,  4.4016e-01, -2.5609e-01,\n",
      "          2.6141e-01,  4.6874e-02, -2.4684e-01, -3.9730e-01, -1.6560e-01],\n",
      "        [ 2.3907e-01,  1.1930e-01, -4.9789e-01,  5.8901e-02, -1.6954e-01,\n",
      "          3.0985e-01, -2.0877e-02, -4.4812e-03, -5.8746e-01, -4.5491e-01],\n",
      "        [ 6.0522e-02, -1.8120e-01,  4.4700e-01,  1.2699e-01, -5.2287e-04,\n",
      "         -3.2098e-01,  2.4908e-01, -1.9266e-02,  4.6238e-01,  6.0690e-01],\n",
      "        [ 1.1142e-01,  1.9487e-01, -4.7025e-01,  1.9519e-01, -1.9101e-02,\n",
      "          2.4697e-01, -1.3743e-01, -1.5969e-01, -5.7597e-01, -5.0289e-01]],\n",
      "       grad_fn=<CatBackward0>)\n",
      "Positive pairs scores:\n",
      " tensor([[-0.5753],\n",
      "        [-0.2477],\n",
      "        [ 0.7618],\n",
      "        [-0.5753],\n",
      "        [-0.2477],\n",
      "        [ 0.7618]], grad_fn=<ViewBackward0>)\n",
      "Negative pairs scores:\n",
      " tensor([[-0.1532, -0.3978,  0.7676, -0.7823],\n",
      "        [-0.1532,  0.9621,  0.6436,  0.5702],\n",
      "        [-0.3978,  0.9621,  0.7804, -0.4583],\n",
      "        [ 0.6436,  0.7804, -0.8744,  0.9460],\n",
      "        [ 0.7676, -0.4583, -0.8744, -0.8959],\n",
      "        [-0.7823,  0.5702,  0.9460, -0.8959]], grad_fn=<ViewBackward0>)\n",
      "Input representations:\n",
      " tensor([[-0.4539, -0.2979,  0.0035, -0.6082, -0.1327, -0.0852, -0.1742,  0.4737,\n",
      "          0.2252, -0.0707],\n",
      "        [-0.3495, -0.2988,  0.3547, -0.3491,  0.0240, -0.2841,  0.0397,  0.2612,\n",
      "          0.5059,  0.3659],\n",
      "        [ 0.5109,  0.1957, -0.3287,  0.4236, -0.2584,  0.2718,  0.0508, -0.2573,\n",
      "         -0.4161, -0.1748],\n",
      "        [-0.4452, -0.3201,  0.2013, -0.5631, -0.0941, -0.1575, -0.0952,  0.4259,\n",
      "          0.3323,  0.0846],\n",
      "        [-0.0031, -0.3018,  0.3933, -0.0473, -0.2326, -0.3251,  0.1905,  0.1234,\n",
      "          0.4488,  0.5825],\n",
      "        [ 0.3289,  0.2181, -0.4127,  0.2802, -0.0958,  0.3007, -0.0162, -0.2275,\n",
      "         -0.5506, -0.3751]], grad_fn=<CatBackward0>)\n",
      "Positive pairs scores:\n",
      " tensor([[0.9537],\n",
      "        [0.8140],\n",
      "        [0.9239],\n",
      "        [0.9537],\n",
      "        [0.8140],\n",
      "        [0.9239]], grad_fn=<ViewBackward0>)\n",
      "Negative pairs scores:\n",
      " tensor([[ 0.6871, -0.7499,  0.2652, -0.6014],\n",
      "        [ 0.6871, -0.9246,  0.8683, -0.9879],\n",
      "        [-0.7499, -0.9246, -0.8808, -0.5488],\n",
      "        [ 0.8683, -0.8808,  0.5097, -0.8055],\n",
      "        [ 0.2652, -0.5488,  0.5097, -0.8146],\n",
      "        [-0.6014, -0.9879, -0.8055, -0.8146]], grad_fn=<ViewBackward0>)\n",
      "Input representations:\n",
      " tensor([[ 0.5548,  0.1738, -0.2837,  0.4333, -0.2810,  0.2914,  0.0961, -0.2602,\n",
      "         -0.3750, -0.1111],\n",
      "        [ 0.3869,  0.2111, -0.3080,  0.4459, -0.0081,  0.1625,  0.0961, -0.3338,\n",
      "         -0.5562, -0.2358],\n",
      "        [-0.4603, -0.3117,  0.1396, -0.6009, -0.0659, -0.1152, -0.1052,  0.4392,\n",
      "          0.2973,  0.0217],\n",
      "        [ 0.1936,  0.2161, -0.4596,  0.2042, -0.0094,  0.2736, -0.0792, -0.1770,\n",
      "         -0.5750, -0.4688],\n",
      "        [ 0.3314,  0.2336, -0.3148,  0.3980,  0.0412,  0.1944,  0.0551, -0.3538,\n",
      "         -0.5691, -0.2942],\n",
      "        [-0.1039, -0.4333,  0.0741, -0.4173, -0.5857,  0.0449,  0.0716,  0.4993,\n",
      "          0.1093,  0.1018]], grad_fn=<CatBackward0>)\n",
      "Positive pairs scores:\n",
      " tensor([[0.7523],\n",
      "        [0.9925],\n",
      "        [0.7239],\n",
      "        [0.7523],\n",
      "        [0.9925],\n",
      "        [0.7239]], grad_fn=<ViewBackward0>)\n",
      "Negative pairs scores:\n",
      " tensor([[ 0.9124, -0.8628,  0.8747, -0.3325],\n",
      "        [ 0.9124, -0.9002,  0.8795, -0.5731],\n",
      "        [-0.8628, -0.9002, -0.6247, -0.8703],\n",
      "        [ 0.8795, -0.6247,  0.9168, -0.4199],\n",
      "        [ 0.8747, -0.8703,  0.9168, -0.6053],\n",
      "        [-0.3325, -0.5731, -0.4199, -0.6053]], grad_fn=<ViewBackward0>)\n",
      "Input representations:\n",
      " tensor([[-0.3893, -0.1135, -0.3189, -0.5040, -0.0720,  0.1050, -0.2767,  0.3296,\n",
      "         -0.2255, -0.4771],\n",
      "        [-0.5526, -0.2653,  0.0173, -0.6446,  0.0785, -0.1194, -0.1657,  0.3516,\n",
      "          0.1070, -0.1594],\n",
      "        [ 0.4805,  0.2225, -0.3516,  0.4363, -0.1150,  0.1987,  0.0940, -0.2724,\n",
      "         -0.4836, -0.1899],\n",
      "        [-0.3060, -0.0403, -0.3987, -0.4458, -0.0340,  0.1548, -0.2629,  0.2693,\n",
      "         -0.3117, -0.5322],\n",
      "        [-0.5572, -0.2398, -0.0621, -0.6204,  0.1027, -0.1207, -0.1963,  0.3622,\n",
      "          0.0777, -0.2060],\n",
      "        [ 0.2204,  0.2135, -0.3719,  0.4604,  0.1453,  0.1197,  0.0182, -0.3820,\n",
      "         -0.5364, -0.2936]], grad_fn=<CatBackward0>)\n",
      "Positive pairs scores:\n",
      " tensor([[0.9799],\n",
      "        [0.9939],\n",
      "        [0.9130],\n",
      "        [0.9799],\n",
      "        [0.9939],\n",
      "        [0.9130]], grad_fn=<ViewBackward0>)\n",
      "Negative pairs scores:\n",
      " tensor([[ 0.7602, -0.2071,  0.8110, -0.0913],\n",
      "        [ 0.7602, -0.7774,  0.6289, -0.6324],\n",
      "        [-0.2071, -0.7774, -0.0219, -0.7213],\n",
      "        [ 0.6289, -0.0219,  0.6939,  0.0963],\n",
      "        [ 0.8110, -0.7213,  0.6939, -0.5592],\n",
      "        [-0.0913, -0.6324,  0.0963, -0.5592]], grad_fn=<ViewBackward0>)\n",
      "Input representations:\n",
      " tensor([[ 0.5494,  0.1910, -0.2540,  0.4716, -0.2879,  0.2549,  0.0593, -0.2720,\n",
      "         -0.3671, -0.1206],\n",
      "        [-0.3382, -0.2788,  0.3837, -0.3237,  0.0407, -0.3045,  0.0316,  0.2271,\n",
      "          0.5157,  0.3781],\n",
      "        [-0.4452, -0.2953,  0.3082, -0.4688,  0.0433, -0.2235, -0.0335,  0.3048,\n",
      "          0.4486,  0.2294],\n",
      "        [ 0.5469,  0.1760, -0.3030,  0.4832, -0.3067,  0.2520,  0.0656, -0.2401,\n",
      "         -0.3392, -0.1000],\n",
      "        [-0.4404, -0.2963,  0.2675, -0.5172, -0.0109, -0.2129, -0.0712,  0.3628,\n",
      "          0.4107,  0.1682],\n",
      "        [ 0.0564, -0.1680,  0.4605,  0.1319,  0.0223, -0.3168,  0.2471, -0.0328,\n",
      "          0.4641,  0.6006]], grad_fn=<CatBackward0>)\n",
      "Positive pairs scores:\n",
      " tensor([[0.9973],\n",
      "        [0.9216],\n",
      "        [0.5042],\n",
      "        [0.9973],\n",
      "        [0.9216],\n",
      "        [0.5042]], grad_fn=<ViewBackward0>)\n",
      "Negative pairs scores:\n",
      " tensor([[-0.8734, -0.9472, -0.9356, -0.3623],\n",
      "        [-0.8734,  0.9590, -0.8612,  0.7260],\n",
      "        [-0.9472,  0.9590, -0.9356,  0.9915],\n",
      "        [-0.8612, -0.9356, -0.9223, -0.3547],\n",
      "        [-0.9356,  0.9915, -0.9223,  0.4093],\n",
      "        [-0.3623,  0.7260, -0.3547,  0.4093]], grad_fn=<ViewBackward0>)\n",
      "Input representations:\n",
      " tensor([[-4.2776e-01, -2.8930e-01,  3.0497e-01, -4.5185e-01,  4.3381e-02,\n",
      "         -2.3757e-01, -3.7972e-02,  3.0904e-01,  4.6984e-01,  2.4523e-01],\n",
      "        [-4.1866e-01, -2.6111e-01,  3.3557e-01, -4.1576e-01,  9.8989e-02,\n",
      "         -2.6425e-01, -2.4143e-02,  2.5540e-01,  4.9433e-01,  2.8509e-01],\n",
      "        [-4.3747e-01, -2.6546e-01,  1.6366e-01, -5.7858e-01,  3.5572e-03,\n",
      "         -1.7648e-01, -1.1739e-01,  4.1804e-01,  3.8069e-01,  1.0950e-01],\n",
      "        [-2.2911e-01, -2.6795e-01,  4.4712e-01, -1.9371e-01,  1.5230e-02,\n",
      "         -3.3254e-01,  1.0965e-01,  1.4486e-01,  5.1034e-01,  4.8374e-01],\n",
      "        [ 3.5336e-02, -2.5488e-01,  4.7388e-01, -2.1254e-05, -1.2055e-01,\n",
      "         -3.0442e-01,  2.3811e-01,  1.1643e-01,  4.4989e-01,  5.7391e-01],\n",
      "        [ 9.3347e-02,  2.0263e-01, -4.8322e-01,  1.6551e-01,  2.2050e-03,\n",
      "          2.4387e-01, -1.4555e-01, -1.3494e-01, -5.6956e-01, -5.1581e-01]],\n",
      "       grad_fn=<CatBackward0>)\n",
      "Positive pairs scores:\n",
      " tensor([[ 0.8781],\n",
      "        [ 0.6893],\n",
      "        [-0.6251],\n",
      "        [ 0.8781],\n",
      "        [ 0.6893],\n",
      "        [-0.6251]], grad_fn=<ViewBackward0>)\n",
      "Negative pairs scores:\n",
      " tensor([[ 0.9939,  0.9567,  0.6493, -0.8088],\n",
      "        [ 0.9939,  0.9239,  0.9104, -0.8467],\n",
      "        [ 0.9567,  0.9239,  0.7103,  0.4379],\n",
      "        [ 0.9104,  0.7103,  0.9217, -0.9806],\n",
      "        [ 0.6493,  0.4379,  0.9217, -0.9545],\n",
      "        [-0.8088, -0.8467, -0.9806, -0.9545]], grad_fn=<ViewBackward0>)\n"
     ]
    },
    {
     "name": "stderr",
     "output_type": "stream",
     "text": [
      "Epoch 100/100: 100%|██████████| 6/6 [00:00<00:00, 28.82batch/s, Loss=1.27]"
     ]
    },
    {
     "name": "stdout",
     "output_type": "stream",
     "text": [
      "Epoch 100/100 completed. Avg Loss: 1.2717\n"
     ]
    },
    {
     "name": "stderr",
     "output_type": "stream",
     "text": [
      "\n"
     ]
    }
   ],
   "source": [
    "train(model, dataset, epochs, batch_size, tau= 1.0, device=device)"
   ]
  }
 ],
 "metadata": {
  "kernelspec": {
   "display_name": "qiskit-env",
   "language": "python",
   "name": "python3"
  },
  "language_info": {
   "codemirror_mode": {
    "name": "ipython",
    "version": 3
   },
   "file_extension": ".py",
   "mimetype": "text/x-python",
   "name": "python",
   "nbconvert_exporter": "python",
   "pygments_lexer": "ipython3",
   "version": "3.12.5"
  }
 },
 "nbformat": 4,
 "nbformat_minor": 2
}
