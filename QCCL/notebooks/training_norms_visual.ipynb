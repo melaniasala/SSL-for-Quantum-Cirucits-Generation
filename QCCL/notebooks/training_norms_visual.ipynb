{
 "cells": [
  {
   "cell_type": "code",
   "execution_count": 1,
   "metadata": {},
   "outputs": [],
   "source": [
    "import sys, os\n",
    "sys.path.append(os.path.abspath('..'))"
   ]
  },
  {
   "cell_type": "code",
   "execution_count": 2,
   "metadata": {},
   "outputs": [],
   "source": [
    "import torch\n",
    "from Data import GraphDataset\n",
    "from Models import GCNFeatureExtractor\n",
    "from utils.train import train"
   ]
  },
  {
   "cell_type": "code",
   "execution_count": 3,
   "metadata": {},
   "outputs": [],
   "source": [
    "use_pre_paired = True\n",
    "learning_rate = 1e-4\n",
    "epochs = 2500\n",
    "device = 'cuda' if torch.cuda.is_available() else 'cpu'\n",
    "embedding_size = 100\n",
    "pooling = 'global_avg'\n",
    "temperature = 0.5\n",
    "patience = 1000\n",
    "alpha = 0.01"
   ]
  },
  {
   "cell_type": "code",
   "execution_count": 4,
   "metadata": {},
   "outputs": [
    {
     "name": "stdout",
     "output_type": "stream",
     "text": [
      "\tCollected 1 sample from null_ops.\n",
      "\tCollected 4 samples from commutations.\n",
      "\tCollected 7 samples from equivalences.\n",
      "\tCollected 7 samples from combined.\n",
      "Loaded 19 samples and 19 quantum circuits from subset.\n"
     ]
    }
   ],
   "source": [
    "# load data \n",
    "from Data import load_graphs\n",
    "\n",
    "basic_data, _ = load_graphs()"
   ]
  },
  {
   "cell_type": "markdown",
   "metadata": {},
   "source": [
    "## Basic transforms training"
   ]
  },
  {
   "cell_type": "code",
   "execution_count": 5,
   "metadata": {},
   "outputs": [
    {
     "name": "stdout",
     "output_type": "stream",
     "text": [
      "Data split:\n",
      "train: 14 ( 73.7 %)\n",
      "val: 3 ( 15.8 %)\n",
      "test: 2 ( 10.5 %)\n"
     ]
    }
   ],
   "source": [
    "from sklearn.model_selection import train_test_split\n",
    "test_mask = torch.zeros(len(basic_data), dtype=torch.bool)\n",
    "test_mask[12:14] = True\n",
    "val_mask = torch.zeros(len(basic_data), dtype=torch.bool)\n",
    "val_mask[14:17] = True\n",
    "\n",
    "train_data = [basic_data[i] for i in range(len(basic_data)) if not test_mask[i] and not val_mask[i]]\n",
    "val_data = [basic_data[i] for i in range(len(basic_data)) if val_mask[i]]\n",
    "test_data = [basic_data[i] for i in range(len(basic_data)) if test_mask[i]]\n",
    "\n",
    "# train_data, val_data = train_test_split(train_data, train_size=0.8, shuffle=True)\n",
    "print('Data split:')\n",
    "print('train:', len(train_data), '(', round((len(train_data) / len(basic_data)) * 100, 1), '%)')\n",
    "print('val:', len(val_data), '(', round((len(val_data) / len(basic_data)) * 100, 1), '%)')\n",
    "print('test:', len(test_data), '(', round((len(test_data) / len(basic_data)) * 100, 1), '%)')\n",
    "\n",
    "train_dataset = GraphDataset(train_data, pre_paired=use_pre_paired)\n",
    "val_dataset = GraphDataset(val_data, pre_paired=use_pre_paired)\n",
    "test_dataset = GraphDataset(test_data, pre_paired=use_pre_paired)"
   ]
  },
  {
   "cell_type": "code",
   "execution_count": 6,
   "metadata": {},
   "outputs": [
    {
     "name": "stdout",
     "output_type": "stream",
     "text": [
      "Batch size: 14\n"
     ]
    }
   ],
   "source": [
    "batch_size = len(train_dataset)\n",
    "print('Batch size:', batch_size)"
   ]
  },
  {
   "cell_type": "code",
   "execution_count": 7,
   "metadata": {},
   "outputs": [
    {
     "name": "stdout",
     "output_type": "stream",
     "text": [
      "18\n"
     ]
    }
   ],
   "source": [
    "graphs = basic_data[0]\n",
    "print(len(graphs))"
   ]
  },
  {
   "cell_type": "code",
   "execution_count": 8,
   "metadata": {},
   "outputs": [],
   "source": [
    "import numpy as np\n",
    "import networkx as nx\n",
    "def get_attr_matrix(graph):\n",
    "    nodes_list = list(graph.nodes)\n",
    "    nodes_view = graph.nodes(data=True)\n",
    "    return np.array([nodes_view[node]['feature_vector'] for node in nodes_list])"
   ]
  },
  {
   "cell_type": "code",
   "execution_count": 9,
   "metadata": {},
   "outputs": [],
   "source": [
    "# # Check if graphs in the dataset are correctly converted to PyTorch Geometric Data objects\n",
    "# graphs = [basic_data[0][0:2]]\n",
    "# dataset_1 = GraphDataset(graphs, pre_paired=use_pre_paired)\n",
    "\n",
    "# data_1, data_2 = dataset_1[0]\n",
    "\n",
    "# print(\"NODE FEATURES:\")\n",
    "\n",
    "# print(get_attr_matrix(graphs[0][0]))\n",
    "# print(get_attr_matrix(graphs[0][1]))\n",
    "\n",
    "# print(\"---\")\n",
    "\n",
    "# print(data_1.x)\n",
    "# print(data_2.x)\n",
    "\n",
    "# print(\"ADJACENCY:\")\n",
    "\n",
    "# print(nx.adjacency_matrix(graphs[0][0]).todense())\n",
    "# print(nx.adjacency_matrix(graphs[0][1]).todense())\n",
    "\n",
    "# print(\"---\")\n",
    "\n",
    "# print(data_1.edge_index)\n",
    "# print(data_2.edge_index)"
   ]
  },
  {
   "cell_type": "code",
   "execution_count": 10,
   "metadata": {},
   "outputs": [],
   "source": [
    "# create a fully connected nn stacking fully connected layers and ReLU activations\n",
    "out_dim_gnn = embedding_size\n",
    "proj_out_dim = 64\n",
    "\n",
    "fc_model = torch.nn.Sequential(\n",
    "    torch.nn.Linear(out_dim_gnn, 128),\n",
    "    torch.nn.ReLU(),\n",
    "    torch.nn.Linear(128, proj_out_dim),\n",
    ")\n",
    "\n"
   ]
  },
  {
   "cell_type": "code",
   "execution_count": 11,
   "metadata": {},
   "outputs": [
    {
     "name": "stdout",
     "output_type": "stream",
     "text": [
      "Number of features in the dataset: 6\n"
     ]
    }
   ],
   "source": [
    "n_features = train_dataset[0][0].x.shape[1] if use_pre_paired else train_dataset[0].x.shape[1]\n",
    "print(f'Number of features in the dataset: {n_features}')\n",
    "\n",
    "gnn = GCNFeatureExtractor(in_channels=n_features, out_channels=out_dim_gnn, pooling_strategy=pooling)\n",
    "proj = fc_model\n",
    "\n",
    "# No projection head\n",
    "from Models import CLWrapper\n",
    "model = CLWrapper(gnn).to(device)"
   ]
  },
  {
   "cell_type": "code",
   "execution_count": 12,
   "metadata": {},
   "outputs": [
    {
     "name": "stdout",
     "output_type": "stream",
     "text": [
      "Temperature: 0.1\n"
     ]
    },
    {
     "name": "stderr",
     "output_type": "stream",
     "text": [
      "Training: 100%|██████████| 2500/2500 [02:24<00:00, 17.34epoch/s, loss=0.0158, val_loss=0.1662, ema_val_loss=0.4762]\n"
     ]
    },
    {
     "name": "stdout",
     "output_type": "stream",
     "text": [
      "Restoring model to the state with the best validation loss: 0.0005\n",
      "Temperature: 0.5\n"
     ]
    },
    {
     "name": "stderr",
     "output_type": "stream",
     "text": [
      "Training: 100%|██████████| 2500/2500 [02:32<00:00, 16.44epoch/s, loss=1.4537, val_loss=1.1443, ema_val_loss=0.9316]"
     ]
    },
    {
     "name": "stdout",
     "output_type": "stream",
     "text": [
      "Restoring model to the state with the best validation loss: 0.3939\n"
     ]
    },
    {
     "name": "stderr",
     "output_type": "stream",
     "text": [
      "\n"
     ]
    }
   ],
   "source": [
    "taus = [0.1, 0.5]\n",
    "history = {}\n",
    "for temperature in taus:\n",
    "    print(f'Temperature: {temperature}')\n",
    "\n",
    "    history[f'{temperature}'] = train(model, train_dataset, val_dataset,\n",
    "                    epochs=epochs, \n",
    "                    batch_size=batch_size, \n",
    "                    lr=learning_rate,\n",
    "                    tau= temperature, \n",
    "                    device=device, \n",
    "                    ema_alpha= alpha,\n",
    "                    #patience= patience,\n",
    "                    verbose= False)\n",
    "\n",
    "\n",
    "# check ema by setting alpha to 0 (should be constant)"
   ]
  },
  {
   "cell_type": "code",
   "execution_count": 14,
   "metadata": {},
   "outputs": [
    {
     "data": {
      "image/png": "[encoded data removed]",
      "text/plain": [
       "<Figure size 640x480 with 1 Axes>"
      ]
     },
     "metadata": {},
     "output_type": "display_data"
    }
   ],
   "source": [
    "# plot avg_grad_norm_l1_per_param for each tau\n",
    "import matplotlib.pyplot as plt\n",
    "\n",
    "for tau in taus:\n",
    "    plt.plot(history[f'{tau}']['avg_grad_norm_l1_per_param'], label=f'{tau}')\n",
    "plt.legend()\n",
    "plt.show()\n"
   ]
  },
  {
   "cell_type": "code",
   "execution_count": 13,
   "metadata": {},
   "outputs": [
    {
     "ename": "KeyError",
     "evalue": "'train_loss'",
     "output_type": "error",
     "traceback": [
      "\u001b[1;31m---------------------------------------------------------------------------\u001b[0m",
      "\u001b[1;31mKeyError\u001b[0m                                  Traceback (most recent call last)",
      "Cell \u001b[1;32mIn[13], line 4\u001b[0m\n\u001b[0;32m      1\u001b[0m \u001b[38;5;66;03m# plot loss trend during training\u001b[39;00m\n\u001b[0;32m      2\u001b[0m \u001b[38;5;28;01mimport\u001b[39;00m \u001b[38;5;21;01mmatplotlib\u001b[39;00m\u001b[38;5;21;01m.\u001b[39;00m\u001b[38;5;21;01mpyplot\u001b[39;00m \u001b[38;5;28;01mas\u001b[39;00m \u001b[38;5;21;01mplt\u001b[39;00m\n\u001b[1;32m----> 4\u001b[0m plt\u001b[38;5;241m.\u001b[39mplot(\u001b[43mhistory\u001b[49m\u001b[43m[\u001b[49m\u001b[38;5;124;43m'\u001b[39;49m\u001b[38;5;124;43mtrain_loss\u001b[39;49m\u001b[38;5;124;43m'\u001b[39;49m\u001b[43m]\u001b[49m, label\u001b[38;5;241m=\u001b[39m\u001b[38;5;124m'\u001b[39m\u001b[38;5;124mtrain loss\u001b[39m\u001b[38;5;124m'\u001b[39m)\n\u001b[0;32m      5\u001b[0m plt\u001b[38;5;241m.\u001b[39mplot(history[\u001b[38;5;124m'\u001b[39m\u001b[38;5;124mema_val_loss\u001b[39m\u001b[38;5;124m'\u001b[39m], label\u001b[38;5;241m=\u001b[39m\u001b[38;5;124m'\u001b[39m\u001b[38;5;124mval loss (EMA)\u001b[39m\u001b[38;5;124m'\u001b[39m)\n\u001b[0;32m      6\u001b[0m plt\u001b[38;5;241m.\u001b[39mlegend()\n",
      "\u001b[1;31mKeyError\u001b[0m: 'train_loss'"
     ]
    }
   ],
   "source": [
    "# plot loss trend during training\n",
    "import matplotlib.pyplot as plt\n",
    "\n",
    "plt.plot(history['train_loss'], label='train loss')\n",
    "plt.plot(history['ema_val_loss'], label='val loss (EMA)')\n",
    "plt.legend()\n",
    "plt.show"
   ]
  },
  {
   "cell_type": "code",
   "execution_count": null,
   "metadata": {},
   "outputs": [
    {
     "data": {
      "image/png": "[encoded data removed]",
      "text/plain": [
       "<Figure size 640x480 with 1 Axes>"
      ]
     },
     "metadata": {},
     "output_type": "display_data"
    }
   ],
   "source": [
    "#plt.plot(history['grad_norm_l2'], label='L2 norm')\n",
    "plt.plot(history['avg_grad_norm_l1_per_param'], label='L1 norm (avg per param)')\n",
    "plt.xlabel('Epochs')\n",
    "plt.ylabel('Gradient norm')\n",
    "plt.title('Gradient norms trend - training')\n",
    "plt.legend()\n",
    "plt.show()"
   ]
  },
  {
   "cell_type": "code",
   "execution_count": null,
   "metadata": {},
   "outputs": [
    {
     "name": "stdout",
     "output_type": "stream",
     "text": [
      "Number of model parameters: 765484\n"
     ]
    }
   ],
   "source": [
    "num_model_params = sum(p.numel() for p in model.parameters())\n",
    "print(f'Number of model parameters: {num_model_params}')"
   ]
  },
  {
   "cell_type": "code",
   "execution_count": 29,
   "metadata": {},
   "outputs": [],
   "source": [
    "# Now visualize what the model has learned\n",
    "# Extract GNN\n",
    "gnn_no_proj = model.gnn\n",
    "\n",
    "pos1, pos2 = val_dataset[0]\n",
    "neg1, neg2 = val_dataset[1]\n",
    "\n",
    "# Extract embeddings\n",
    "emb1 = gnn_no_proj(pos1)\n",
    "emb2 = gnn_no_proj(pos2)\n",
    "\n",
    "neg_emb1 = gnn_no_proj(neg1)\n",
    "neg_emb2 = gnn_no_proj(neg2)"
   ]
  },
  {
   "cell_type": "code",
   "execution_count": 30,
   "metadata": {},
   "outputs": [
    {
     "data": {
      "text/plain": [
       "tensor([[-0.0144, -0.1033, -0.1307,  0.0957,  0.2346,  0.5731,  0.1315, -0.1649,\n",
       "          0.0181, -0.1892, -0.2553,  0.1624, -0.0338,  0.4488,  0.6130, -0.2377,\n",
       "         -0.2766,  0.1307, -0.0433, -0.4036, -0.0398, -0.5096,  0.1726,  0.0204,\n",
       "          0.0073, -0.1552,  0.2498, -0.1442,  0.0534,  0.0440, -0.1411,  0.1077,\n",
       "         -0.3970, -0.1730, -0.0458, -0.1200, -0.0638,  0.5729,  0.2028,  0.1262,\n",
       "          0.1927,  0.3075,  0.1030, -0.0485, -0.3171,  0.1712,  0.1280,  0.3039,\n",
       "          0.1885,  0.1261,  0.0441,  0.2973, -0.1478, -0.1907, -0.2047,  0.0112,\n",
       "         -0.5800, -0.2618,  0.0163, -0.4805,  0.1231,  0.1948, -0.1715, -0.1531,\n",
       "         -0.1693,  0.1932, -0.2066,  0.4017, -0.3312, -0.0563, -0.1501,  0.4534,\n",
       "         -0.1215, -0.3028,  0.6773, -0.1342, -0.0558, -0.1746,  0.2423, -0.3177,\n",
       "          0.0142,  0.2975, -0.1622, -0.1314, -0.2973,  0.1590, -0.2860, -0.0479,\n",
       "          0.1332, -0.0782, -0.3130,  0.1321,  0.4053,  0.0716,  0.3384, -0.1539,\n",
       "         -0.0111,  0.0869,  0.3921,  0.0410]], grad_fn=<MeanBackward1>)"
      ]
     },
     "execution_count": 30,
     "metadata": {},
     "output_type": "execute_result"
    }
   ],
   "source": [
    "emb1"
   ]
  },
  {
   "cell_type": "code",
   "execution_count": 31,
   "metadata": {},
   "outputs": [
    {
     "data": {
      "text/plain": [
       "tensor([[ 0.0073, -0.1483,  0.0315,  0.0716,  0.1303,  0.3906,  0.0413, -0.2890,\n",
       "         -0.1109, -0.0576, -0.2151,  0.1673, -0.0330,  0.4281,  0.6056, -0.2996,\n",
       "         -0.1847,  0.1095, -0.0864, -0.2839, -0.0788, -0.5295,  0.2025,  0.2298,\n",
       "         -0.1462, -0.0149,  0.0949, -0.1338,  0.0826,  0.1908, -0.1611,  0.1871,\n",
       "         -0.3123, -0.1364,  0.0491, -0.2813, -0.0319,  0.4866,  0.2179,  0.1117,\n",
       "          0.1551,  0.2313,  0.0922,  0.0862, -0.1284,  0.1221,  0.0174,  0.1284,\n",
       "          0.2971,  0.2334,  0.1361,  0.1824, -0.1316, -0.1337, -0.1167,  0.0986,\n",
       "         -0.4315, -0.4369,  0.1842, -0.5683,  0.1374,  0.2255, -0.1820, -0.2442,\n",
       "         -0.1204,  0.1235, -0.1584,  0.3071, -0.3700, -0.0161, -0.1244,  0.5247,\n",
       "         -0.0709, -0.2524,  0.7808, -0.1324, -0.1015, -0.1668,  0.2426, -0.3246,\n",
       "          0.0598,  0.1258, -0.2229, -0.1296, -0.2700,  0.0894, -0.1021, -0.0527,\n",
       "          0.1314, -0.2188, -0.2632,  0.2505,  0.4086,  0.0970,  0.2725,  0.1022,\n",
       "         -0.0177, -0.1321,  0.3062,  0.0008]], grad_fn=<MeanBackward1>)"
      ]
     },
     "execution_count": 31,
     "metadata": {},
     "output_type": "execute_result"
    }
   ],
   "source": [
    "emb2"
   ]
  },
  {
   "cell_type": "code",
   "execution_count": 32,
   "metadata": {},
   "outputs": [
    {
     "data": {
      "text/plain": [
       "tensor([[ 0.0474, -0.0106,  0.0747,  0.0620,  0.3013,  0.0626, -0.3947,  0.0949,\n",
       "         -0.0193,  0.2486,  0.1641,  0.1948, -0.2795,  0.2878,  0.0419, -0.3464,\n",
       "          0.0072,  0.4600, -0.2345,  0.0814, -0.3194, -0.4088,  0.2318,  0.5878,\n",
       "          0.0985,  0.2406, -0.2752,  0.0881, -0.0531,  0.3782,  0.2313,  0.1346,\n",
       "         -0.3759, -0.2753,  0.1542, -0.1474, -0.2346,  0.5814,  0.2200,  0.3829,\n",
       "         -0.1059, -0.0437,  0.1237,  0.3595,  0.3977,  0.7002, -0.0814, -0.0070,\n",
       "          0.5655,  0.9140,  0.0057,  0.0755,  0.3470, -0.1020, -0.2087, -0.2036,\n",
       "         -0.3397, -0.3850, -0.1565, -0.8062, -0.1045,  0.0457, -0.3856, -0.1176,\n",
       "         -0.0134,  0.1353,  0.1192, -0.1419, -0.3257,  0.2462, -0.2113,  0.5073,\n",
       "         -0.1157,  0.3354,  0.4821, -0.2580, -0.0120,  0.3232,  0.6442,  0.2864,\n",
       "         -0.0224,  0.4213,  0.2579, -0.2831,  0.6465,  0.5845, -0.2427, -0.2141,\n",
       "          0.0452, -0.2021, -0.5833, -0.0559,  0.0616,  0.2399, -0.2514, -0.0712,\n",
       "         -0.1850, -0.0230, -0.0752,  0.0931]], grad_fn=<MeanBackward1>)"
      ]
     },
     "execution_count": 32,
     "metadata": {},
     "output_type": "execute_result"
    }
   ],
   "source": [
    "neg_emb1"
   ]
  },
  {
   "cell_type": "code",
   "execution_count": 33,
   "metadata": {},
   "outputs": [
    {
     "name": "stdout",
     "output_type": "stream",
     "text": [
      "Distance (L2 norm) among positive pair 1: 0.9540355801582336\n",
      "Distance (L2 norm) among positive pair 2: 0.8587173819541931\n",
      "Distance (L2 norm) among negative pair 1: 3.157410144805908\n",
      "Distance (L2 norm) among negative pair 2: 2.341019630432129\n"
     ]
    }
   ],
   "source": [
    "from utils.losses import NTXentLoss\n",
    "\n",
    "print(f\"Distance (L2 norm) among positive pair 1: {torch.norm(emb1 - emb2, dim=1).item()}\")\n",
    "print(f\"Distance (L2 norm) among positive pair 2: {torch.norm(neg_emb1 - neg_emb2, dim=1).item()}\")\n",
    "\n",
    "print(f\"Distance (L2 norm) among negative pair 1: {torch.norm(emb1 - neg_emb1, dim=1).item()}\")\n",
    "print(f\"Distance (L2 norm) among negative pair 2: {torch.norm(emb2 - neg_emb2, dim=1).item()}\")"
   ]
  },
  {
   "cell_type": "code",
   "execution_count": 34,
   "metadata": {},
   "outputs": [
    {
     "name": "stdout",
     "output_type": "stream",
     "text": [
      "Cosine similarity among positive pair 1: 0.9243980646133423\n",
      "Cosine similarity among positive pair 2: 0.9734023809432983\n",
      "Cosine similarity among negative pair 1: 0.37126606702804565\n",
      "Cosine similarity among negative pair 2: 0.5417730808258057\n"
     ]
    }
   ],
   "source": [
    "# Now compute similarity between embeddings\n",
    "from torch.nn.functional import cosine_similarity\n",
    "\n",
    "print(f\"Cosine similarity among positive pair 1: {cosine_similarity(emb1, emb2).item()}\")\n",
    "print(f\"Cosine similarity among positive pair 2: {cosine_similarity(neg_emb1, neg_emb2).item()}\")\n",
    "print(f\"Cosine similarity among negative pair 1: {cosine_similarity(emb1, neg_emb1).item()}\")\n",
    "print(f\"Cosine similarity among negative pair 2: {cosine_similarity(emb2, neg_emb2).item()}\")"
   ]
  },
  {
   "cell_type": "code",
   "execution_count": 35,
   "metadata": {},
   "outputs": [
    {
     "name": "stdout",
     "output_type": "stream",
     "text": [
      "Loss: 0.5730701088905334\n",
      "Positive scores: tensor([[0.9244],\n",
      "        [0.9734],\n",
      "        [0.9244],\n",
      "        [0.9734]], grad_fn=<ViewBackward0>)\n",
      "Negative scores: tensor([[0.3713, 0.5073],\n",
      "        [0.3713, 0.4616],\n",
      "        [0.4616, 0.5418],\n",
      "        [0.5073, 0.5418]], grad_fn=<ViewBackward0>)\n"
     ]
    }
   ],
   "source": [
    "# Show scores from NTXentLoss\n",
    "ntxent = NTXentLoss(temperature)\n",
    "\n",
    "z1 = torch.cat([emb1, neg_emb1], dim=0)\n",
    "z2 = torch.cat([emb2, neg_emb2], dim=0)\n",
    "\n",
    "loss, pos_score, neg_score = ntxent(z1, z2)\n",
    "\n",
    "print(f\"Loss: {loss.item()}\")\n",
    "print(f\"Positive scores: {pos_score}\")\n",
    "print(f\"Negative scores: {neg_score}\")"
   ]
  },
  {
   "cell_type": "markdown",
   "metadata": {},
   "source": [
    "### Now use a projector and do the same"
   ]
  },
  {
   "cell_type": "code",
   "execution_count": 36,
   "metadata": {},
   "outputs": [],
   "source": [
    "gnn = GCNFeatureExtractor(in_channels=n_features, out_channels=out_dim_gnn, pooling_strategy=pooling)\n",
    "model = CLWrapper(gnn, proj).to(device)"
   ]
  },
  {
   "cell_type": "code",
   "execution_count": 37,
   "metadata": {},
   "outputs": [
    {
     "name": "stderr",
     "output_type": "stream",
     "text": [
      "Training:   3%|▎         | 72/2500 [00:04<02:22, 17.10epoch/s, loss=2.4132, val_loss=1.5742, ema_val_loss=1.5220]\n"
     ]
    },
    {
     "ename": "KeyboardInterrupt",
     "evalue": "",
     "output_type": "error",
     "traceback": [
      "\u001b[1;31m---------------------------------------------------------------------------\u001b[0m",
      "\u001b[1;31mKeyboardInterrupt\u001b[0m                         Traceback (most recent call last)",
      "Cell \u001b[1;32mIn[37], line 1\u001b[0m\n\u001b[1;32m----> 1\u001b[0m history \u001b[38;5;241m=\u001b[39m \u001b[43mtrain\u001b[49m\u001b[43m(\u001b[49m\u001b[43mmodel\u001b[49m\u001b[43m,\u001b[49m\u001b[43m \u001b[49m\u001b[43mtrain_dataset\u001b[49m\u001b[43m,\u001b[49m\u001b[43m \u001b[49m\u001b[43mval_dataset\u001b[49m\u001b[43m,\u001b[49m\n\u001b[0;32m      2\u001b[0m \u001b[43m                \u001b[49m\u001b[43mepochs\u001b[49m\u001b[38;5;241;43m=\u001b[39;49m\u001b[43mepochs\u001b[49m\u001b[43m,\u001b[49m\u001b[43m \u001b[49m\n\u001b[0;32m      3\u001b[0m \u001b[43m                \u001b[49m\u001b[43mbatch_size\u001b[49m\u001b[38;5;241;43m=\u001b[39;49m\u001b[43mbatch_size\u001b[49m\u001b[43m,\u001b[49m\u001b[43m \u001b[49m\n\u001b[0;32m      4\u001b[0m \u001b[43m                \u001b[49m\u001b[43mlr\u001b[49m\u001b[38;5;241;43m=\u001b[39;49m\u001b[43mlearning_rate\u001b[49m\u001b[43m,\u001b[49m\n\u001b[0;32m      5\u001b[0m \u001b[43m                \u001b[49m\u001b[43mtau\u001b[49m\u001b[38;5;241;43m=\u001b[39;49m\u001b[43m \u001b[49m\u001b[43mtemperature\u001b[49m\u001b[43m,\u001b[49m\u001b[43m \u001b[49m\n\u001b[0;32m      6\u001b[0m \u001b[43m                \u001b[49m\u001b[43mdevice\u001b[49m\u001b[38;5;241;43m=\u001b[39;49m\u001b[43mdevice\u001b[49m\u001b[43m,\u001b[49m\n\u001b[0;32m      7\u001b[0m \u001b[43m                \u001b[49m\u001b[43mema_alpha\u001b[49m\u001b[38;5;241;43m=\u001b[39;49m\u001b[43m \u001b[49m\u001b[43malpha\u001b[49m\u001b[43m,\u001b[49m\n\u001b[0;32m      8\u001b[0m \u001b[43m                \u001b[49m\u001b[43mpatience\u001b[49m\u001b[38;5;241;43m=\u001b[39;49m\u001b[43mpatience\u001b[49m\u001b[43m,\u001b[49m\u001b[43m \u001b[49m\n\u001b[0;32m      9\u001b[0m \u001b[43m                \u001b[49m\u001b[43mverbose\u001b[49m\u001b[38;5;241;43m=\u001b[39;49m\u001b[38;5;28;43;01mFalse\u001b[39;49;00m\u001b[43m)\u001b[49m\n",
      "File \u001b[1;32mc:\\Users\\melan\\shared-folder\\Thesis\\SSL-for-Quantum-Cirucits-Generation\\QCCL\\utils\\train.py:138\u001b[0m, in \u001b[0;36mtrain\u001b[1;34m(model, train_dataset, val_dataset, epochs, batch_size, lr, tau, device, verbose, ema_alpha, patience)\u001b[0m\n\u001b[0;32m    136\u001b[0m \u001b[38;5;28;01mwith\u001b[39;00m tqdm(total\u001b[38;5;241m=\u001b[39mepochs, desc\u001b[38;5;241m=\u001b[39m\u001b[38;5;124m\"\u001b[39m\u001b[38;5;124mTraining\u001b[39m\u001b[38;5;124m\"\u001b[39m, unit\u001b[38;5;241m=\u001b[39m\u001b[38;5;124m'\u001b[39m\u001b[38;5;124mepoch\u001b[39m\u001b[38;5;124m'\u001b[39m, disable\u001b[38;5;241m=\u001b[39mverbose) \u001b[38;5;28;01mas\u001b[39;00m pbar:\n\u001b[0;32m    137\u001b[0m     \u001b[38;5;28;01mfor\u001b[39;00m epoch \u001b[38;5;129;01min\u001b[39;00m \u001b[38;5;28mrange\u001b[39m(epochs):\n\u001b[1;32m--> 138\u001b[0m         total_train_loss \u001b[38;5;241m=\u001b[39m \u001b[43mtrain_step\u001b[49m\u001b[43m(\u001b[49m\u001b[43m)\u001b[49m\n\u001b[0;32m    139\u001b[0m         pbar\u001b[38;5;241m.\u001b[39mupdate(\u001b[38;5;241m1\u001b[39m)\n\u001b[0;32m    140\u001b[0m         pbar\u001b[38;5;241m.\u001b[39mset_postfix({\u001b[38;5;124m'\u001b[39m\u001b[38;5;124mloss\u001b[39m\u001b[38;5;124m'\u001b[39m: \u001b[38;5;124mf\u001b[39m\u001b[38;5;124m\"\u001b[39m\u001b[38;5;132;01m{\u001b[39;00mtotal_train_loss\u001b[38;5;132;01m:\u001b[39;00m\u001b[38;5;124m.4f\u001b[39m\u001b[38;5;132;01m}\u001b[39;00m\u001b[38;5;124m\"\u001b[39m})\n",
      "File \u001b[1;32mc:\\Users\\melan\\shared-folder\\Thesis\\SSL-for-Quantum-Cirucits-Generation\\QCCL\\utils\\train.py:62\u001b[0m, in \u001b[0;36mtrain.<locals>.train_step\u001b[1;34m()\u001b[0m\n\u001b[0;32m     58\u001b[0m graph1, graph2 \u001b[38;5;241m=\u001b[39m graph1\u001b[38;5;241m.\u001b[39mto(device), graph2\u001b[38;5;241m.\u001b[39mto(device)\n\u001b[0;32m     60\u001b[0m optimizer\u001b[38;5;241m.\u001b[39mzero_grad()\n\u001b[1;32m---> 62\u001b[0m z1 \u001b[38;5;241m=\u001b[39m \u001b[43mmodel\u001b[49m\u001b[43m(\u001b[49m\u001b[43mgraph1\u001b[49m\u001b[43m)\u001b[49m\n\u001b[0;32m     63\u001b[0m z2 \u001b[38;5;241m=\u001b[39m model(graph2)\n\u001b[0;32m     65\u001b[0m \u001b[38;5;66;03m# compute loss\u001b[39;00m\n",
      "File \u001b[1;32mc:\\Users\\melan\\AppData\\Local\\Programs\\Python\\Python312\\Lib\\site-packages\\torch\\nn\\modules\\module.py:1511\u001b[0m, in \u001b[0;36mModule._wrapped_call_impl\u001b[1;34m(self, *args, **kwargs)\u001b[0m\n\u001b[0;32m   1509\u001b[0m     \u001b[38;5;28;01mreturn\u001b[39;00m \u001b[38;5;28mself\u001b[39m\u001b[38;5;241m.\u001b[39m_compiled_call_impl(\u001b[38;5;241m*\u001b[39margs, \u001b[38;5;241m*\u001b[39m\u001b[38;5;241m*\u001b[39mkwargs)  \u001b[38;5;66;03m# type: ignore[misc]\u001b[39;00m\n\u001b[0;32m   1510\u001b[0m \u001b[38;5;28;01melse\u001b[39;00m:\n\u001b[1;32m-> 1511\u001b[0m     \u001b[38;5;28;01mreturn\u001b[39;00m \u001b[38;5;28;43mself\u001b[39;49m\u001b[38;5;241;43m.\u001b[39;49m\u001b[43m_call_impl\u001b[49m\u001b[43m(\u001b[49m\u001b[38;5;241;43m*\u001b[39;49m\u001b[43margs\u001b[49m\u001b[43m,\u001b[49m\u001b[43m \u001b[49m\u001b[38;5;241;43m*\u001b[39;49m\u001b[38;5;241;43m*\u001b[39;49m\u001b[43mkwargs\u001b[49m\u001b[43m)\u001b[49m\n",
      "File \u001b[1;32mc:\\Users\\melan\\AppData\\Local\\Programs\\Python\\Python312\\Lib\\site-packages\\torch\\nn\\modules\\module.py:1520\u001b[0m, in \u001b[0;36mModule._call_impl\u001b[1;34m(self, *args, **kwargs)\u001b[0m\n\u001b[0;32m   1515\u001b[0m \u001b[38;5;66;03m# If we don't have any hooks, we want to skip the rest of the logic in\u001b[39;00m\n\u001b[0;32m   1516\u001b[0m \u001b[38;5;66;03m# this function, and just call forward.\u001b[39;00m\n\u001b[0;32m   1517\u001b[0m \u001b[38;5;28;01mif\u001b[39;00m \u001b[38;5;129;01mnot\u001b[39;00m (\u001b[38;5;28mself\u001b[39m\u001b[38;5;241m.\u001b[39m_backward_hooks \u001b[38;5;129;01mor\u001b[39;00m \u001b[38;5;28mself\u001b[39m\u001b[38;5;241m.\u001b[39m_backward_pre_hooks \u001b[38;5;129;01mor\u001b[39;00m \u001b[38;5;28mself\u001b[39m\u001b[38;5;241m.\u001b[39m_forward_hooks \u001b[38;5;129;01mor\u001b[39;00m \u001b[38;5;28mself\u001b[39m\u001b[38;5;241m.\u001b[39m_forward_pre_hooks\n\u001b[0;32m   1518\u001b[0m         \u001b[38;5;129;01mor\u001b[39;00m _global_backward_pre_hooks \u001b[38;5;129;01mor\u001b[39;00m _global_backward_hooks\n\u001b[0;32m   1519\u001b[0m         \u001b[38;5;129;01mor\u001b[39;00m _global_forward_hooks \u001b[38;5;129;01mor\u001b[39;00m _global_forward_pre_hooks):\n\u001b[1;32m-> 1520\u001b[0m     \u001b[38;5;28;01mreturn\u001b[39;00m \u001b[43mforward_call\u001b[49m\u001b[43m(\u001b[49m\u001b[38;5;241;43m*\u001b[39;49m\u001b[43margs\u001b[49m\u001b[43m,\u001b[49m\u001b[43m \u001b[49m\u001b[38;5;241;43m*\u001b[39;49m\u001b[38;5;241;43m*\u001b[39;49m\u001b[43mkwargs\u001b[49m\u001b[43m)\u001b[49m\n\u001b[0;32m   1522\u001b[0m \u001b[38;5;28;01mtry\u001b[39;00m:\n\u001b[0;32m   1523\u001b[0m     result \u001b[38;5;241m=\u001b[39m \u001b[38;5;28;01mNone\u001b[39;00m\n",
      "File \u001b[1;32mc:\\Users\\melan\\shared-folder\\Thesis\\SSL-for-Quantum-Cirucits-Generation\\QCCL\\Models\\GNNFeatureExtractor.py:23\u001b[0m, in \u001b[0;36mCLWrapper.forward\u001b[1;34m(self, inputs)\u001b[0m\n\u001b[0;32m     22\u001b[0m \u001b[38;5;28;01mdef\u001b[39;00m \u001b[38;5;21mforward\u001b[39m(\u001b[38;5;28mself\u001b[39m, inputs):\n\u001b[1;32m---> 23\u001b[0m     gnn_output \u001b[38;5;241m=\u001b[39m \u001b[38;5;28;43mself\u001b[39;49m\u001b[38;5;241;43m.\u001b[39;49m\u001b[43mgnn\u001b[49m\u001b[43m(\u001b[49m\u001b[43minputs\u001b[49m\u001b[43m)\u001b[49m\n\u001b[0;32m     24\u001b[0m     \u001b[38;5;28;01mif\u001b[39;00m \u001b[38;5;28mself\u001b[39m\u001b[38;5;241m.\u001b[39mprojection_head \u001b[38;5;129;01mis\u001b[39;00m \u001b[38;5;129;01mnot\u001b[39;00m \u001b[38;5;28;01mNone\u001b[39;00m:\n\u001b[0;32m     25\u001b[0m         \u001b[38;5;28;01mreturn\u001b[39;00m \u001b[38;5;28mself\u001b[39m\u001b[38;5;241m.\u001b[39mprojection_head(gnn_output)\n",
      "File \u001b[1;32mc:\\Users\\melan\\AppData\\Local\\Programs\\Python\\Python312\\Lib\\site-packages\\torch\\nn\\modules\\module.py:1511\u001b[0m, in \u001b[0;36mModule._wrapped_call_impl\u001b[1;34m(self, *args, **kwargs)\u001b[0m\n\u001b[0;32m   1509\u001b[0m     \u001b[38;5;28;01mreturn\u001b[39;00m \u001b[38;5;28mself\u001b[39m\u001b[38;5;241m.\u001b[39m_compiled_call_impl(\u001b[38;5;241m*\u001b[39margs, \u001b[38;5;241m*\u001b[39m\u001b[38;5;241m*\u001b[39mkwargs)  \u001b[38;5;66;03m# type: ignore[misc]\u001b[39;00m\n\u001b[0;32m   1510\u001b[0m \u001b[38;5;28;01melse\u001b[39;00m:\n\u001b[1;32m-> 1511\u001b[0m     \u001b[38;5;28;01mreturn\u001b[39;00m \u001b[38;5;28;43mself\u001b[39;49m\u001b[38;5;241;43m.\u001b[39;49m\u001b[43m_call_impl\u001b[49m\u001b[43m(\u001b[49m\u001b[38;5;241;43m*\u001b[39;49m\u001b[43margs\u001b[49m\u001b[43m,\u001b[49m\u001b[43m \u001b[49m\u001b[38;5;241;43m*\u001b[39;49m\u001b[38;5;241;43m*\u001b[39;49m\u001b[43mkwargs\u001b[49m\u001b[43m)\u001b[49m\n",
      "File \u001b[1;32mc:\\Users\\melan\\AppData\\Local\\Programs\\Python\\Python312\\Lib\\site-packages\\torch\\nn\\modules\\module.py:1520\u001b[0m, in \u001b[0;36mModule._call_impl\u001b[1;34m(self, *args, **kwargs)\u001b[0m\n\u001b[0;32m   1515\u001b[0m \u001b[38;5;66;03m# If we don't have any hooks, we want to skip the rest of the logic in\u001b[39;00m\n\u001b[0;32m   1516\u001b[0m \u001b[38;5;66;03m# this function, and just call forward.\u001b[39;00m\n\u001b[0;32m   1517\u001b[0m \u001b[38;5;28;01mif\u001b[39;00m \u001b[38;5;129;01mnot\u001b[39;00m (\u001b[38;5;28mself\u001b[39m\u001b[38;5;241m.\u001b[39m_backward_hooks \u001b[38;5;129;01mor\u001b[39;00m \u001b[38;5;28mself\u001b[39m\u001b[38;5;241m.\u001b[39m_backward_pre_hooks \u001b[38;5;129;01mor\u001b[39;00m \u001b[38;5;28mself\u001b[39m\u001b[38;5;241m.\u001b[39m_forward_hooks \u001b[38;5;129;01mor\u001b[39;00m \u001b[38;5;28mself\u001b[39m\u001b[38;5;241m.\u001b[39m_forward_pre_hooks\n\u001b[0;32m   1518\u001b[0m         \u001b[38;5;129;01mor\u001b[39;00m _global_backward_pre_hooks \u001b[38;5;129;01mor\u001b[39;00m _global_backward_hooks\n\u001b[0;32m   1519\u001b[0m         \u001b[38;5;129;01mor\u001b[39;00m _global_forward_hooks \u001b[38;5;129;01mor\u001b[39;00m _global_forward_pre_hooks):\n\u001b[1;32m-> 1520\u001b[0m     \u001b[38;5;28;01mreturn\u001b[39;00m \u001b[43mforward_call\u001b[49m\u001b[43m(\u001b[49m\u001b[38;5;241;43m*\u001b[39;49m\u001b[43margs\u001b[49m\u001b[43m,\u001b[49m\u001b[43m \u001b[49m\u001b[38;5;241;43m*\u001b[39;49m\u001b[38;5;241;43m*\u001b[39;49m\u001b[43mkwargs\u001b[49m\u001b[43m)\u001b[49m\n\u001b[0;32m   1522\u001b[0m \u001b[38;5;28;01mtry\u001b[39;00m:\n\u001b[0;32m   1523\u001b[0m     result \u001b[38;5;241m=\u001b[39m \u001b[38;5;28;01mNone\u001b[39;00m\n",
      "File \u001b[1;32mc:\\Users\\melan\\shared-folder\\Thesis\\SSL-for-Quantum-Cirucits-Generation\\QCCL\\Models\\GNNFeatureExtractor.py:63\u001b[0m, in \u001b[0;36mGCNFeatureExtractor.forward\u001b[1;34m(self, sample)\u001b[0m\n\u001b[0;32m     61\u001b[0m x \u001b[38;5;241m=\u001b[39m \u001b[38;5;28mself\u001b[39m\u001b[38;5;241m.\u001b[39mconv1(x, edge_index)\n\u001b[0;32m     62\u001b[0m x \u001b[38;5;241m=\u001b[39m torch\u001b[38;5;241m.\u001b[39mrelu(x)\n\u001b[1;32m---> 63\u001b[0m x \u001b[38;5;241m=\u001b[39m \u001b[38;5;28;43mself\u001b[39;49m\u001b[38;5;241;43m.\u001b[39;49m\u001b[43mconv2\u001b[49m\u001b[43m(\u001b[49m\u001b[43mx\u001b[49m\u001b[43m,\u001b[49m\u001b[43m \u001b[49m\u001b[43medge_index\u001b[49m\u001b[43m)\u001b[49m\n\u001b[0;32m     64\u001b[0m x \u001b[38;5;241m=\u001b[39m torch\u001b[38;5;241m.\u001b[39mrelu(x)\n\u001b[0;32m     65\u001b[0m x \u001b[38;5;241m=\u001b[39m \u001b[38;5;28mself\u001b[39m\u001b[38;5;241m.\u001b[39mconv3(x, edge_index)\n",
      "File \u001b[1;32mc:\\Users\\melan\\AppData\\Local\\Programs\\Python\\Python312\\Lib\\site-packages\\torch\\nn\\modules\\module.py:1511\u001b[0m, in \u001b[0;36mModule._wrapped_call_impl\u001b[1;34m(self, *args, **kwargs)\u001b[0m\n\u001b[0;32m   1509\u001b[0m     \u001b[38;5;28;01mreturn\u001b[39;00m \u001b[38;5;28mself\u001b[39m\u001b[38;5;241m.\u001b[39m_compiled_call_impl(\u001b[38;5;241m*\u001b[39margs, \u001b[38;5;241m*\u001b[39m\u001b[38;5;241m*\u001b[39mkwargs)  \u001b[38;5;66;03m# type: ignore[misc]\u001b[39;00m\n\u001b[0;32m   1510\u001b[0m \u001b[38;5;28;01melse\u001b[39;00m:\n\u001b[1;32m-> 1511\u001b[0m     \u001b[38;5;28;01mreturn\u001b[39;00m \u001b[38;5;28;43mself\u001b[39;49m\u001b[38;5;241;43m.\u001b[39;49m\u001b[43m_call_impl\u001b[49m\u001b[43m(\u001b[49m\u001b[38;5;241;43m*\u001b[39;49m\u001b[43margs\u001b[49m\u001b[43m,\u001b[49m\u001b[43m \u001b[49m\u001b[38;5;241;43m*\u001b[39;49m\u001b[38;5;241;43m*\u001b[39;49m\u001b[43mkwargs\u001b[49m\u001b[43m)\u001b[49m\n",
      "File \u001b[1;32mc:\\Users\\melan\\AppData\\Local\\Programs\\Python\\Python312\\Lib\\site-packages\\torch\\nn\\modules\\module.py:1520\u001b[0m, in \u001b[0;36mModule._call_impl\u001b[1;34m(self, *args, **kwargs)\u001b[0m\n\u001b[0;32m   1515\u001b[0m \u001b[38;5;66;03m# If we don't have any hooks, we want to skip the rest of the logic in\u001b[39;00m\n\u001b[0;32m   1516\u001b[0m \u001b[38;5;66;03m# this function, and just call forward.\u001b[39;00m\n\u001b[0;32m   1517\u001b[0m \u001b[38;5;28;01mif\u001b[39;00m \u001b[38;5;129;01mnot\u001b[39;00m (\u001b[38;5;28mself\u001b[39m\u001b[38;5;241m.\u001b[39m_backward_hooks \u001b[38;5;129;01mor\u001b[39;00m \u001b[38;5;28mself\u001b[39m\u001b[38;5;241m.\u001b[39m_backward_pre_hooks \u001b[38;5;129;01mor\u001b[39;00m \u001b[38;5;28mself\u001b[39m\u001b[38;5;241m.\u001b[39m_forward_hooks \u001b[38;5;129;01mor\u001b[39;00m \u001b[38;5;28mself\u001b[39m\u001b[38;5;241m.\u001b[39m_forward_pre_hooks\n\u001b[0;32m   1518\u001b[0m         \u001b[38;5;129;01mor\u001b[39;00m _global_backward_pre_hooks \u001b[38;5;129;01mor\u001b[39;00m _global_backward_hooks\n\u001b[0;32m   1519\u001b[0m         \u001b[38;5;129;01mor\u001b[39;00m _global_forward_hooks \u001b[38;5;129;01mor\u001b[39;00m _global_forward_pre_hooks):\n\u001b[1;32m-> 1520\u001b[0m     \u001b[38;5;28;01mreturn\u001b[39;00m \u001b[43mforward_call\u001b[49m\u001b[43m(\u001b[49m\u001b[38;5;241;43m*\u001b[39;49m\u001b[43margs\u001b[49m\u001b[43m,\u001b[49m\u001b[43m \u001b[49m\u001b[38;5;241;43m*\u001b[39;49m\u001b[38;5;241;43m*\u001b[39;49m\u001b[43mkwargs\u001b[49m\u001b[43m)\u001b[49m\n\u001b[0;32m   1522\u001b[0m \u001b[38;5;28;01mtry\u001b[39;00m:\n\u001b[0;32m   1523\u001b[0m     result \u001b[38;5;241m=\u001b[39m \u001b[38;5;28;01mNone\u001b[39;00m\n",
      "File \u001b[1;32mc:\\Users\\melan\\AppData\\Local\\Programs\\Python\\Python312\\Lib\\site-packages\\torch_geometric\\nn\\conv\\gcn_conv.py:260\u001b[0m, in \u001b[0;36mGCNConv.forward\u001b[1;34m(self, x, edge_index, edge_weight)\u001b[0m\n\u001b[0;32m    257\u001b[0m         \u001b[38;5;28;01melse\u001b[39;00m:\n\u001b[0;32m    258\u001b[0m             edge_index \u001b[38;5;241m=\u001b[39m cache\n\u001b[1;32m--> 260\u001b[0m x \u001b[38;5;241m=\u001b[39m \u001b[38;5;28;43mself\u001b[39;49m\u001b[38;5;241;43m.\u001b[39;49m\u001b[43mlin\u001b[49m\u001b[43m(\u001b[49m\u001b[43mx\u001b[49m\u001b[43m)\u001b[49m\n\u001b[0;32m    262\u001b[0m \u001b[38;5;66;03m# propagate_type: (x: Tensor, edge_weight: OptTensor)\u001b[39;00m\n\u001b[0;32m    263\u001b[0m out \u001b[38;5;241m=\u001b[39m \u001b[38;5;28mself\u001b[39m\u001b[38;5;241m.\u001b[39mpropagate(edge_index, x\u001b[38;5;241m=\u001b[39mx, edge_weight\u001b[38;5;241m=\u001b[39medge_weight)\n",
      "File \u001b[1;32mc:\\Users\\melan\\AppData\\Local\\Programs\\Python\\Python312\\Lib\\site-packages\\torch\\nn\\modules\\module.py:1511\u001b[0m, in \u001b[0;36mModule._wrapped_call_impl\u001b[1;34m(self, *args, **kwargs)\u001b[0m\n\u001b[0;32m   1509\u001b[0m     \u001b[38;5;28;01mreturn\u001b[39;00m \u001b[38;5;28mself\u001b[39m\u001b[38;5;241m.\u001b[39m_compiled_call_impl(\u001b[38;5;241m*\u001b[39margs, \u001b[38;5;241m*\u001b[39m\u001b[38;5;241m*\u001b[39mkwargs)  \u001b[38;5;66;03m# type: ignore[misc]\u001b[39;00m\n\u001b[0;32m   1510\u001b[0m \u001b[38;5;28;01melse\u001b[39;00m:\n\u001b[1;32m-> 1511\u001b[0m     \u001b[38;5;28;01mreturn\u001b[39;00m \u001b[38;5;28;43mself\u001b[39;49m\u001b[38;5;241;43m.\u001b[39;49m\u001b[43m_call_impl\u001b[49m\u001b[43m(\u001b[49m\u001b[38;5;241;43m*\u001b[39;49m\u001b[43margs\u001b[49m\u001b[43m,\u001b[49m\u001b[43m \u001b[49m\u001b[38;5;241;43m*\u001b[39;49m\u001b[38;5;241;43m*\u001b[39;49m\u001b[43mkwargs\u001b[49m\u001b[43m)\u001b[49m\n",
      "File \u001b[1;32mc:\\Users\\melan\\AppData\\Local\\Programs\\Python\\Python312\\Lib\\site-packages\\torch\\nn\\modules\\module.py:1520\u001b[0m, in \u001b[0;36mModule._call_impl\u001b[1;34m(self, *args, **kwargs)\u001b[0m\n\u001b[0;32m   1515\u001b[0m \u001b[38;5;66;03m# If we don't have any hooks, we want to skip the rest of the logic in\u001b[39;00m\n\u001b[0;32m   1516\u001b[0m \u001b[38;5;66;03m# this function, and just call forward.\u001b[39;00m\n\u001b[0;32m   1517\u001b[0m \u001b[38;5;28;01mif\u001b[39;00m \u001b[38;5;129;01mnot\u001b[39;00m (\u001b[38;5;28mself\u001b[39m\u001b[38;5;241m.\u001b[39m_backward_hooks \u001b[38;5;129;01mor\u001b[39;00m \u001b[38;5;28mself\u001b[39m\u001b[38;5;241m.\u001b[39m_backward_pre_hooks \u001b[38;5;129;01mor\u001b[39;00m \u001b[38;5;28mself\u001b[39m\u001b[38;5;241m.\u001b[39m_forward_hooks \u001b[38;5;129;01mor\u001b[39;00m \u001b[38;5;28mself\u001b[39m\u001b[38;5;241m.\u001b[39m_forward_pre_hooks\n\u001b[0;32m   1518\u001b[0m         \u001b[38;5;129;01mor\u001b[39;00m _global_backward_pre_hooks \u001b[38;5;129;01mor\u001b[39;00m _global_backward_hooks\n\u001b[0;32m   1519\u001b[0m         \u001b[38;5;129;01mor\u001b[39;00m _global_forward_hooks \u001b[38;5;129;01mor\u001b[39;00m _global_forward_pre_hooks):\n\u001b[1;32m-> 1520\u001b[0m     \u001b[38;5;28;01mreturn\u001b[39;00m \u001b[43mforward_call\u001b[49m\u001b[43m(\u001b[49m\u001b[38;5;241;43m*\u001b[39;49m\u001b[43margs\u001b[49m\u001b[43m,\u001b[49m\u001b[43m \u001b[49m\u001b[38;5;241;43m*\u001b[39;49m\u001b[38;5;241;43m*\u001b[39;49m\u001b[43mkwargs\u001b[49m\u001b[43m)\u001b[49m\n\u001b[0;32m   1522\u001b[0m \u001b[38;5;28;01mtry\u001b[39;00m:\n\u001b[0;32m   1523\u001b[0m     result \u001b[38;5;241m=\u001b[39m \u001b[38;5;28;01mNone\u001b[39;00m\n",
      "File \u001b[1;32mc:\\Users\\melan\\AppData\\Local\\Programs\\Python\\Python312\\Lib\\site-packages\\torch_geometric\\nn\\dense\\linear.py:147\u001b[0m, in \u001b[0;36mLinear.forward\u001b[1;34m(self, x)\u001b[0m\n\u001b[0;32m    141\u001b[0m \u001b[38;5;28;01mdef\u001b[39;00m \u001b[38;5;21mforward\u001b[39m(\u001b[38;5;28mself\u001b[39m, x: Tensor) \u001b[38;5;241m-\u001b[39m\u001b[38;5;241m>\u001b[39m Tensor:\n\u001b[0;32m    142\u001b[0m \u001b[38;5;250m    \u001b[39m\u001b[38;5;124mr\u001b[39m\u001b[38;5;124;03m\"\"\"Forward pass.\u001b[39;00m\n\u001b[0;32m    143\u001b[0m \n\u001b[0;32m    144\u001b[0m \u001b[38;5;124;03m    Args:\u001b[39;00m\n\u001b[0;32m    145\u001b[0m \u001b[38;5;124;03m        x (torch.Tensor): The input features.\u001b[39;00m\n\u001b[0;32m    146\u001b[0m \u001b[38;5;124;03m    \"\"\"\u001b[39;00m\n\u001b[1;32m--> 147\u001b[0m     \u001b[38;5;28;01mreturn\u001b[39;00m \u001b[43mF\u001b[49m\u001b[38;5;241;43m.\u001b[39;49m\u001b[43mlinear\u001b[49m\u001b[43m(\u001b[49m\u001b[43mx\u001b[49m\u001b[43m,\u001b[49m\u001b[43m \u001b[49m\u001b[38;5;28;43mself\u001b[39;49m\u001b[38;5;241;43m.\u001b[39;49m\u001b[43mweight\u001b[49m\u001b[43m,\u001b[49m\u001b[43m \u001b[49m\u001b[38;5;28;43mself\u001b[39;49m\u001b[38;5;241;43m.\u001b[39;49m\u001b[43mbias\u001b[49m\u001b[43m)\u001b[49m\n",
      "\u001b[1;31mKeyboardInterrupt\u001b[0m: "
     ]
    }
   ],
   "source": [
    "history = train(model, train_dataset, val_dataset,\n",
    "                epochs=epochs, \n",
    "                batch_size=batch_size, \n",
    "                lr=learning_rate,\n",
    "                tau= temperature, \n",
    "                device=device,\n",
    "                ema_alpha= alpha,\n",
    "                patience=patience, \n",
    "                verbose=False)"
   ]
  },
  {
   "cell_type": "code",
   "execution_count": null,
   "metadata": {},
   "outputs": [
    {
     "data": {
      "text/plain": [
       "<function matplotlib.pyplot.show(close=None, block=None)>"
      ]
     },
     "execution_count": 24,
     "metadata": {},
     "output_type": "execute_result"
    },
    {
     "data": {
      "image/png": "[encoded data removed]",
      "text/plain": [
       "<Figure size 640x480 with 1 Axes>"
      ]
     },
     "metadata": {},
     "output_type": "display_data"
    }
   ],
   "source": [
    "plt.plot(history['train_loss'], label='train loss')\n",
    "plt.plot(history['ema_val_loss'], label='val loss (EMA)')\n",
    "plt.legend()\n",
    "plt.show"
   ]
  },
  {
   "cell_type": "code",
   "execution_count": null,
   "metadata": {},
   "outputs": [
    {
     "ename": "KeyError",
     "evalue": "'grad_norm_l1'",
     "output_type": "error",
     "traceback": [
      "\u001b[1;31m---------------------------------------------------------------------------\u001b[0m",
      "\u001b[1;31mKeyError\u001b[0m                                  Traceback (most recent call last)",
      "Cell \u001b[1;32mIn[25], line 2\u001b[0m\n\u001b[0;32m      1\u001b[0m plt\u001b[38;5;241m.\u001b[39mplot(history[\u001b[38;5;124m'\u001b[39m\u001b[38;5;124mgrad_norm_l2\u001b[39m\u001b[38;5;124m'\u001b[39m], label\u001b[38;5;241m=\u001b[39m\u001b[38;5;124m'\u001b[39m\u001b[38;5;124mL2 norm\u001b[39m\u001b[38;5;124m'\u001b[39m)\n\u001b[1;32m----> 2\u001b[0m plt\u001b[38;5;241m.\u001b[39mplot(\u001b[43mhistory\u001b[49m\u001b[43m[\u001b[49m\u001b[38;5;124;43m'\u001b[39;49m\u001b[38;5;124;43mgrad_norm_l1\u001b[39;49m\u001b[38;5;124;43m'\u001b[39;49m\u001b[43m]\u001b[49m, label\u001b[38;5;241m=\u001b[39m\u001b[38;5;124m'\u001b[39m\u001b[38;5;124mL1 norm\u001b[39m\u001b[38;5;124m'\u001b[39m)\n\u001b[0;32m      3\u001b[0m plt\u001b[38;5;241m.\u001b[39mxlabel(\u001b[38;5;124m'\u001b[39m\u001b[38;5;124mEpochs\u001b[39m\u001b[38;5;124m'\u001b[39m)\n\u001b[0;32m      4\u001b[0m plt\u001b[38;5;241m.\u001b[39mylabel(\u001b[38;5;124m'\u001b[39m\u001b[38;5;124mGradient norm\u001b[39m\u001b[38;5;124m'\u001b[39m)\n",
      "\u001b[1;31mKeyError\u001b[0m: 'grad_norm_l1'"
     ]
    },
    {
     "data": {
      "image/png": "[encoded data removed]",
      "text/plain": [
       "<Figure size 640x480 with 1 Axes>"
      ]
     },
     "metadata": {},
     "output_type": "display_data"
    }
   ],
   "source": [
    "plt.plot(history['grad_norm_l2'], label='L2 norm')\n",
    "plt.plot(history['grad_norm_l1'], label='L1 norm')\n",
    "plt.xlabel('Epochs')\n",
    "plt.ylabel('Gradient norm')\n",
    "plt.title('Gradient norms trend - training')\n",
    "plt.legend()\n",
    "plt.show()"
   ]
  },
  {
   "cell_type": "code",
   "execution_count": null,
   "metadata": {},
   "outputs": [],
   "source": [
    "gnn_proj = model.gnn\n",
    "\n",
    "# Extract embeddings\n",
    "emb1 = gnn_proj(pos1)\n",
    "emb2 = gnn_proj(pos2)\n",
    "\n",
    "neg_emb1 = gnn_proj(neg1)\n",
    "neg_emb2 = gnn_proj(neg2)"
   ]
  },
  {
   "cell_type": "code",
   "execution_count": null,
   "metadata": {},
   "outputs": [
    {
     "name": "stdout",
     "output_type": "stream",
     "text": [
      "Distance (L2 norm) among positive pair 1: 0.059543438255786896\n",
      "Distance (L2 norm) among positive pair 2: 1.3234156370162964\n",
      "Distance (L2 norm) among negative pair 1: 1.5284698009490967\n",
      "Distance (L2 norm) among negative pair 2: 1.2002485990524292\n"
     ]
    }
   ],
   "source": [
    "print(f\"Distance (L2 norm) among positive pair 1: {torch.norm(emb1 - emb2, dim=1).item()}\")\n",
    "print(f\"Distance (L2 norm) among positive pair 2: {torch.norm(neg_emb1 - neg_emb2, dim=1).item()}\")\n",
    "\n",
    "print(f\"Distance (L2 norm) among negative pair 1: {torch.norm(emb1 - neg_emb1, dim=1).item()}\")\n",
    "print(f\"Distance (L2 norm) among negative pair 2: {torch.norm(emb2 - neg_emb2, dim=1).item()}\")"
   ]
  },
  {
   "cell_type": "code",
   "execution_count": null,
   "metadata": {},
   "outputs": [
    {
     "name": "stdout",
     "output_type": "stream",
     "text": [
      "Cosine similarity among positive pair 1: 0.9996548891067505\n",
      "Cosine similarity among positive pair 2: 0.7840444445610046\n",
      "Cosine similarity among negative pair 1: 0.7222697734832764\n",
      "Cosine similarity among negative pair 2: 0.8466265797615051\n"
     ]
    }
   ],
   "source": [
    "print(f\"Cosine similarity among positive pair 1: {cosine_similarity(emb1, emb2).item()}\")\n",
    "print(f\"Cosine similarity among positive pair 2: {cosine_similarity(neg_emb1, neg_emb2).item()}\")\n",
    "print(f\"Cosine similarity among negative pair 1: {cosine_similarity(emb1, neg_emb1).item()}\")\n",
    "print(f\"Cosine similarity among negative pair 2: {cosine_similarity(emb2, neg_emb2).item()}\")"
   ]
  },
  {
   "cell_type": "code",
   "execution_count": null,
   "metadata": {},
   "outputs": [
    {
     "name": "stdout",
     "output_type": "stream",
     "text": [
      "Loss: 0.9672967791557312\n",
      "Positive scores: tensor([[0.9997],\n",
      "        [0.7840],\n",
      "        [0.9997],\n",
      "        [0.7840]], grad_fn=<ViewBackward0>)\n",
      "Negative scores: tensor([[0.7223, 0.8442],\n",
      "        [0.7223, 0.7185],\n",
      "        [0.7185, 0.8466],\n",
      "        [0.8442, 0.8466]], grad_fn=<ViewBackward0>)\n"
     ]
    }
   ],
   "source": [
    "z1 = torch.cat([emb1, neg_emb1], dim=0)\n",
    "z2 = torch.cat([emb2, neg_emb2], dim=0)\n",
    "\n",
    "loss, pos_score, neg_score = ntxent(z1, z2)\n",
    "\n",
    "print(f\"Loss: {loss.item()}\")\n",
    "print(f\"Positive scores: {pos_score}\")\n",
    "print(f\"Negative scores: {neg_score}\")"
   ]
  },
  {
   "cell_type": "markdown",
   "metadata": {},
   "source": [
    "### Evaluate with Linear Evaluation"
   ]
  },
  {
   "cell_type": "code",
   "execution_count": null,
   "metadata": {},
   "outputs": [],
   "source": [
    "# Get two classes from dataset\n",
    "class_1 = test_data[0]\n",
    "class_2 = test_data[1]"
   ]
  },
  {
   "cell_type": "code",
   "execution_count": null,
   "metadata": {},
   "outputs": [
    {
     "data": {
      "text/plain": [
       "[<networkx.classes.digraph.DiGraph at 0x25abb17dcd0>,\n",
       " <networkx.classes.digraph.DiGraph at 0x25abb17e510>,\n",
       " <networkx.classes.digraph.DiGraph at 0x25abb17ed50>,\n",
       " <networkx.classes.digraph.DiGraph at 0x25abb17f590>,\n",
       " <networkx.classes.digraph.DiGraph at 0x25abb17fdd0>]"
      ]
     },
     "execution_count": 73,
     "metadata": {},
     "output_type": "execute_result"
    }
   ],
   "source": [
    "class_1"
   ]
  },
  {
   "cell_type": "code",
   "execution_count": null,
   "metadata": {},
   "outputs": [
    {
     "name": "stdout",
     "output_type": "stream",
     "text": [
      "10\n",
      "torch.Size([10])\n",
      "torch.Size([8, 100])\n",
      "torch.Size([2, 100])\n"
     ]
    }
   ],
   "source": [
    "from Data.Dataset import from_nx_to_geometric\n",
    "# create labels vector\n",
    "labels = torch.cat([torch.zeros(len(class_1)), torch.ones(len(class_2))]).long()\n",
    "\n",
    "# create samples\n",
    "data = [from_nx_to_geometric(g) for g in class_1 + class_2]\n",
    "print(len(data))\n",
    "\n",
    "# Split data into training and test set \n",
    "from sklearn.model_selection import train_test_split\n",
    "\n",
    "X_train, X_test, y_train, y_test = train_test_split(data, labels, test_size=0.2, stratify=labels)\n",
    "\n",
    "# WITHOUT PROJECTION HEAD\n",
    "X_train_no_proj = torch.cat([gnn_no_proj(d) for d in X_train])\n",
    "X_test_no_proj = torch.cat([gnn_no_proj(d) for d in X_test])\n",
    "\n",
    "# WITH PROJECTION HEAD\n",
    "X_train_proj = torch.cat([gnn_proj(d) for d in X_train])\n",
    "X_test_proj = torch.cat([gnn_proj(d) for d in X_test])\n",
    "\n",
    "print(labels.shape)\n",
    "print(X_train_proj.shape)\n",
    "print(X_test_proj.shape)"
   ]
  },
  {
   "cell_type": "code",
   "execution_count": null,
   "metadata": {},
   "outputs": [
    {
     "name": "stdout",
     "output_type": "stream",
     "text": [
      "tensor([[-4.9290e-02,  1.8114e-01,  2.6437e-01, -2.8551e-01, -5.3872e-01,\n",
      "         -1.8553e-01, -8.8329e-02,  3.0592e-01,  2.1779e-01, -8.7415e-02,\n",
      "         -2.0628e-01, -1.7847e-01, -1.8736e-01,  1.6675e-01,  9.2961e-02,\n",
      "          4.5887e-02,  2.2364e-01, -4.1318e-02,  6.2891e-02,  1.3601e-02,\n",
      "          6.5886e-02, -1.2585e-01, -2.1204e-01, -2.3266e-01,  1.5630e-02,\n",
      "          2.4162e-01,  3.4347e-01, -1.9509e-01, -1.5745e-01, -4.7096e-02,\n",
      "         -1.0396e-01, -1.4884e-01,  9.5537e-02, -2.3883e-01,  5.5823e-02,\n",
      "         -1.8169e-02, -1.5314e-01,  2.7499e-02, -3.3993e-01,  3.4435e-02,\n",
      "          1.8204e-01, -3.8829e-02, -2.0052e-01, -4.2855e-01, -2.2046e-01,\n",
      "          2.4584e-02,  2.6287e-01,  7.1292e-02,  2.0389e-01,  1.2025e-01,\n",
      "          1.9891e-01, -1.8034e-01, -1.1822e-01, -4.5643e-02, -4.1504e-01,\n",
      "         -1.9968e-01,  1.0956e-01,  1.6837e-01, -3.6596e-02, -2.1216e-01,\n",
      "          1.2813e-01,  7.8248e-02, -9.8902e-02,  7.4412e-02,  1.9522e-02,\n",
      "          3.9831e-01,  1.3775e-01, -1.7615e-01, -1.0015e-01, -6.4285e-02,\n",
      "          8.1471e-02,  5.7750e-02,  4.3770e-03,  1.3152e-01, -1.2607e-01,\n",
      "         -9.4795e-02,  3.5050e-02, -8.4192e-02,  1.8289e-01,  6.2522e-02,\n",
      "          8.4085e-02, -2.9039e-01,  1.8883e-01,  1.9062e-01, -2.4512e-01,\n",
      "         -2.2581e-01,  4.8809e-01,  7.2578e-02, -1.1978e-01,  2.2965e-01,\n",
      "          6.3857e-02,  6.3116e-02,  3.7869e-01,  1.2023e-01,  4.8139e-02,\n",
      "         -9.9493e-02,  2.0375e-01, -3.6754e-03,  5.6363e-02, -2.1893e-01],\n",
      "        [-1.5668e-02,  2.3294e-01, -1.6408e-02, -4.6007e-01, -3.3654e-01,\n",
      "         -2.4695e-01, -9.6645e-02,  3.5533e-01,  2.5892e-01, -1.4416e-01,\n",
      "         -1.0449e-01, -8.6825e-02, -5.3774e-01, -2.0128e-01, -8.6430e-02,\n",
      "          2.2447e-01,  3.8347e-01, -8.5347e-02,  3.6312e-02,  1.7742e-01,\n",
      "         -2.5967e-01, -2.5036e-01, -3.2306e-01, -1.6688e-01, -2.1287e-02,\n",
      "          3.2573e-01,  3.4115e-01, -3.9559e-01, -2.6293e-01,  1.3429e-01,\n",
      "          1.5450e-01, -1.8378e-01, -2.4118e-01, -2.8836e-01,  1.1619e-01,\n",
      "         -1.8950e-01,  7.4302e-02,  2.4421e-01, -7.9216e-02, -1.5841e-01,\n",
      "          1.1129e-01, -5.4769e-03,  2.0981e-02, -3.0712e-01, -4.0571e-02,\n",
      "          3.6461e-02,  2.7243e-01, -2.0150e-02,  2.3583e-01,  8.1715e-03,\n",
      "          3.5275e-01, -1.8047e-01, -1.4409e-01,  1.2528e-01, -2.7457e-01,\n",
      "         -8.9323e-02,  3.7107e-01,  2.7162e-01, -6.8245e-02,  5.6009e-03,\n",
      "         -8.0531e-02,  6.4257e-02, -2.6021e-01, -1.2322e-02,  1.9108e-01,\n",
      "          2.9555e-01,  8.6626e-03, -1.9875e-01, -1.3612e-01, -1.6718e-01,\n",
      "          7.4178e-02,  1.0791e-01,  1.1552e-01,  1.3322e-01, -3.4745e-02,\n",
      "         -1.3280e-01,  2.9673e-02, -1.7800e-01,  2.8480e-01, -1.2094e-01,\n",
      "          1.1563e-01, -3.9587e-01,  7.8786e-02,  1.8416e-01, -1.4736e-01,\n",
      "          3.1186e-02,  3.8031e-01,  2.8289e-01, -2.4647e-01,  1.4720e-01,\n",
      "          3.4882e-02, -8.2711e-02,  2.8097e-01,  2.0031e-01,  2.9084e-02,\n",
      "          2.1913e-01,  9.0882e-02,  1.8611e-01,  8.8182e-02, -7.7956e-02],\n",
      "        [-5.3213e-02,  2.0705e-01,  1.6393e-01, -3.1480e-01, -4.2985e-01,\n",
      "         -1.8165e-01, -1.0497e-01,  3.2760e-01,  2.5048e-01, -1.0597e-01,\n",
      "         -2.1757e-01, -1.2926e-01, -3.1641e-01, -5.8422e-02,  1.0747e-02,\n",
      "          1.9448e-01,  3.4129e-01, -8.9489e-02,  3.9543e-02,  7.1425e-02,\n",
      "         -1.1033e-01, -1.4212e-01, -2.2280e-01, -1.8422e-01, -8.6785e-03,\n",
      "          2.9625e-01,  3.2891e-01, -2.6899e-01, -1.9833e-01, -9.0835e-03,\n",
      "         -1.9306e-02, -1.3219e-01, -1.0039e-01, -2.8412e-01,  6.2941e-02,\n",
      "         -9.7072e-02, -5.0207e-02,  1.1017e-01, -2.1339e-01, -3.9734e-02,\n",
      "          1.2725e-01, -1.9973e-02, -9.5583e-02, -3.1941e-01, -1.4809e-01,\n",
      "          3.8899e-02,  2.4608e-01,  1.5454e-02,  1.7899e-01,  5.5815e-02,\n",
      "          3.0151e-01, -1.6783e-01, -1.0911e-01,  1.6119e-02, -3.5803e-01,\n",
      "         -1.3656e-01,  2.3811e-01,  1.6723e-01,  6.5233e-03, -4.4216e-02,\n",
      "          5.8787e-02,  5.3116e-02, -1.8975e-01, -2.7921e-02,  6.8469e-02,\n",
      "          3.6462e-01,  8.6252e-02, -1.6780e-01, -7.6441e-02, -1.0490e-01,\n",
      "          9.6860e-02,  7.9897e-02,  1.2066e-01,  1.7645e-01, -1.3355e-02,\n",
      "         -1.5146e-01, -8.2290e-03, -7.5420e-02,  2.2019e-01, -3.6718e-02,\n",
      "          9.8768e-02, -2.9239e-01,  1.2527e-01,  1.9908e-01, -2.2354e-01,\n",
      "         -1.2956e-01,  4.0697e-01,  2.1845e-01, -1.8444e-01,  1.7405e-01,\n",
      "          3.5089e-02,  2.8639e-02,  3.7231e-01,  1.5452e-01,  8.2081e-03,\n",
      "          8.2188e-02,  1.5226e-01,  1.1336e-01,  8.5673e-02, -1.5145e-01],\n",
      "        [ 4.5674e-02,  8.1390e-02,  9.1207e-03, -1.3055e-01, -1.6423e-01,\n",
      "         -1.7507e-01, -1.1952e-02,  1.0101e-01,  2.4383e-01, -1.3704e-01,\n",
      "         -7.6526e-02, -1.9726e-01, -1.4429e-01,  4.2104e-02,  2.4599e-01,\n",
      "         -9.2692e-02,  1.8123e-01,  6.2087e-03, -4.7948e-02,  1.4454e-01,\n",
      "          5.4258e-02, -2.0406e-01, -1.6391e-01, -5.6055e-02,  1.3201e-01,\n",
      "          9.9119e-02,  5.9887e-03, -1.3691e-01, -3.2200e-01, -2.5397e-02,\n",
      "         -1.6592e-01, -1.9254e-01,  5.8846e-02, -2.1969e-01, -9.1725e-02,\n",
      "         -8.4739e-02, -1.3361e-01,  1.1924e-02,  6.3388e-03,  1.3161e-02,\n",
      "          1.8937e-01, -1.3855e-01, -2.4206e-01, -1.1933e-01, -1.8042e-01,\n",
      "          7.7850e-02,  1.1645e-01, -4.0495e-02,  3.3909e-02,  4.3645e-02,\n",
      "          8.0411e-02,  7.1841e-03,  4.7671e-02,  1.0435e-01, -2.7131e-01,\n",
      "         -2.4100e-01,  2.1127e-01,  5.0792e-02, -1.3222e-01, -1.1154e-01,\n",
      "         -8.1380e-02, -2.0484e-02, -1.5313e-02, -4.3230e-02,  4.7877e-02,\n",
      "          1.1318e-01, -5.4497e-02, -1.3521e-01,  2.9031e-02, -7.0174e-02,\n",
      "         -1.2927e-01,  1.1662e-01,  1.1377e-01,  1.1666e-01,  1.3365e-02,\n",
      "          1.6985e-02, -2.6341e-02,  1.7970e-01,  9.0376e-02, -9.1309e-02,\n",
      "          1.7612e-01, -3.5566e-01,  7.5725e-02,  1.9569e-01, -9.3185e-02,\n",
      "         -1.5776e-01,  3.0230e-01,  2.4205e-02,  5.7833e-02,  1.8471e-02,\n",
      "          5.1790e-02, -2.5447e-01,  1.5322e-01,  1.1379e-04, -4.8066e-03,\n",
      "         -5.4002e-02, -1.6181e-02, -2.9623e-02,  6.3635e-02, -2.5777e-02],\n",
      "        [ 7.3594e-02,  2.7805e-02,  6.5913e-02, -8.2547e-02, -2.6956e-01,\n",
      "         -1.6261e-01,  4.5821e-03,  1.0914e-01,  2.1808e-01, -9.9315e-02,\n",
      "         -9.9846e-02, -2.4938e-01, -6.3444e-02,  2.2211e-01,  3.5714e-01,\n",
      "         -1.8416e-01,  1.2216e-01,  3.6078e-02, -2.7620e-02,  1.3153e-01,\n",
      "          1.6673e-01, -2.1530e-01, -1.9678e-01, -1.0178e-01,  1.3826e-01,\n",
      "          9.6881e-02,  1.9224e-02, -1.0917e-01, -2.8600e-01, -2.6561e-02,\n",
      "         -2.3563e-01, -2.1798e-01,  1.8795e-01, -2.4129e-01, -1.4070e-01,\n",
      "         -2.5267e-02, -2.3971e-01, -5.1170e-02, -6.2779e-02,  7.8687e-02,\n",
      "          2.1462e-01, -1.1377e-01, -3.1888e-01, -1.9062e-01, -2.2785e-01,\n",
      "          1.0171e-01,  1.7168e-01, -9.8578e-04,  2.8805e-02,  9.4998e-02,\n",
      "         -1.0251e-02, -3.5310e-02,  3.0944e-02,  8.2661e-02, -3.7021e-01,\n",
      "         -3.2977e-01,  1.5577e-01,  5.9427e-02, -1.7825e-01, -2.2980e-01,\n",
      "         -1.0076e-02, -2.1321e-02,  2.0017e-02,  1.3802e-02, -7.5872e-04,\n",
      "          1.4561e-01, -5.5037e-02, -1.7136e-01,  2.6608e-02, -5.0526e-02,\n",
      "         -1.5480e-01,  1.0456e-01,  5.7283e-02,  1.1062e-01, -5.4349e-02,\n",
      "          2.2479e-02, -1.4261e-03,  2.0217e-01,  9.6934e-02, -1.3732e-02,\n",
      "          1.9583e-01, -3.4387e-01,  1.0959e-01,  2.2804e-01, -1.4255e-01,\n",
      "         -2.6284e-01,  3.9085e-01, -5.5794e-02,  1.1473e-01,  9.7004e-02,\n",
      "          4.1739e-02, -2.4207e-01,  2.2236e-01, -3.4487e-02,  4.7317e-02,\n",
      "         -1.9787e-01,  3.0670e-02, -1.0848e-01,  8.8606e-02, -7.4875e-02],\n",
      "        [-5.0687e-02,  2.5508e-01, -4.9185e-02, -4.6890e-01, -2.9573e-01,\n",
      "         -2.6122e-01, -9.2288e-02,  3.5301e-01,  2.9804e-01, -1.8574e-01,\n",
      "         -1.0591e-01, -6.8506e-02, -5.8435e-01, -3.0586e-01, -9.4820e-02,\n",
      "          2.9740e-01,  4.4650e-01, -9.0613e-02,  2.3533e-02,  1.8187e-01,\n",
      "         -3.0971e-01, -2.4302e-01, -2.9022e-01, -1.3810e-01,  1.7066e-03,\n",
      "          3.3255e-01,  3.2225e-01, -4.2401e-01, -3.0947e-01,  9.6582e-02,\n",
      "          1.5436e-01, -1.7656e-01, -3.1416e-01, -2.8999e-01,  1.0852e-01,\n",
      "         -2.6098e-01,  1.1065e-01,  2.4631e-01, -1.2456e-02, -2.1027e-01,\n",
      "          1.0076e-01, -1.6135e-02,  5.2307e-02, -2.3898e-01, -3.4530e-02,\n",
      "          3.2020e-02,  2.1134e-01, -5.1081e-02,  2.0516e-01, -1.7349e-02,\n",
      "          3.9001e-01, -1.4786e-01, -1.1902e-01,  1.4365e-01, -2.1783e-01,\n",
      "         -6.0974e-02,  4.0443e-01,  2.4966e-01, -4.7229e-02,  7.8853e-02,\n",
      "         -1.3166e-01,  6.8260e-02, -2.8539e-01, -7.6721e-02,  2.1943e-01,\n",
      "          2.8099e-01, -3.8664e-03, -2.0704e-01, -1.0450e-01, -1.8938e-01,\n",
      "          7.6990e-02,  1.2347e-01,  1.9946e-01,  1.5153e-01,  1.9919e-02,\n",
      "         -1.4056e-01,  4.7467e-03, -1.2915e-01,  2.9077e-01, -1.8031e-01,\n",
      "          1.2899e-01, -4.0880e-01,  4.5810e-02,  2.0120e-01, -1.3118e-01,\n",
      "          5.9792e-02,  3.2015e-01,  3.1619e-01, -2.8259e-01,  1.0283e-01,\n",
      "          4.1778e-02, -1.2806e-01,  2.3533e-01,  2.1263e-01, -7.0214e-03,\n",
      "          2.9065e-01,  4.7959e-02,  2.2402e-01,  8.9980e-02, -6.0217e-02],\n",
      "        [-5.2730e-02,  1.9618e-01,  2.7122e-01, -3.0772e-01, -5.5147e-01,\n",
      "         -1.8715e-01, -9.1168e-02,  3.2272e-01,  2.2431e-01, -9.3436e-02,\n",
      "         -2.1091e-01, -1.7639e-01, -2.0501e-01,  1.5675e-01,  7.5577e-02,\n",
      "          5.7325e-02,  2.3332e-01, -4.2796e-02,  6.5631e-02,  1.8508e-02,\n",
      "          5.0862e-02, -1.3726e-01, -2.1858e-01, -2.4124e-01,  1.5099e-02,\n",
      "          2.5208e-01,  3.5831e-01, -2.1225e-01, -1.6045e-01, -4.1502e-02,\n",
      "         -8.4614e-02, -1.4711e-01,  7.9936e-02, -2.4226e-01,  7.5504e-02,\n",
      "         -2.2748e-02, -1.4024e-01,  4.0252e-02, -3.4782e-01,  2.7648e-02,\n",
      "          1.8232e-01, -4.1316e-02, -1.9453e-01, -4.3915e-01, -2.2193e-01,\n",
      "          2.1951e-02,  2.6703e-01,  7.8884e-02,  2.2080e-01,  1.1388e-01,\n",
      "          2.2053e-01, -1.9135e-01, -1.2467e-01, -4.4538e-02, -4.1790e-01,\n",
      "         -1.9554e-01,  1.1525e-01,  1.8165e-01, -3.2495e-02, -2.0167e-01,\n",
      "          1.1766e-01,  8.8185e-02, -1.1168e-01,  7.1033e-02,  2.5414e-02,\n",
      "          4.0929e-01,  1.4001e-01, -1.8569e-01, -1.1141e-01, -6.4310e-02,\n",
      "          8.8560e-02,  6.2294e-02,  1.0213e-03,  1.3449e-01, -1.3171e-01,\n",
      "         -9.9259e-02,  3.6927e-02, -1.0222e-01,  1.9495e-01,  5.0016e-02,\n",
      "          8.0798e-02, -3.0117e-01,  1.9381e-01,  1.8990e-01, -2.4682e-01,\n",
      "         -2.1974e-01,  4.9961e-01,  8.2243e-02, -1.3539e-01,  2.3344e-01,\n",
      "          6.5140e-02,  6.7668e-02,  3.8303e-01,  1.2904e-01,  4.6727e-02,\n",
      "         -8.4063e-02,  2.0604e-01,  2.3734e-03,  6.3517e-02, -2.2580e-01],\n",
      "        [ 5.7780e-02,  1.0946e-01,  6.9981e-03, -2.4311e-01, -2.5637e-01,\n",
      "         -1.8441e-01, -5.1856e-02,  1.9807e-01,  2.2008e-01, -1.0171e-01,\n",
      "         -9.6749e-02, -1.8046e-01, -2.7345e-01,  4.6945e-04,  1.3414e-01,\n",
      "         -1.0455e-02,  2.3845e-01, -2.7195e-02, -1.7154e-02,  1.7793e-01,\n",
      "         -4.0853e-02, -2.3922e-01, -2.6755e-01, -1.1301e-01,  6.0031e-02,\n",
      "          1.9499e-01,  1.5216e-01, -2.3323e-01, -2.6876e-01,  8.6567e-02,\n",
      "         -4.3523e-02, -2.0268e-01, -2.8684e-02, -2.6960e-01, -2.3985e-02,\n",
      "         -8.5101e-02, -8.4568e-02,  1.1648e-01, -5.0777e-02, -2.4444e-02,\n",
      "          1.5867e-01, -6.0962e-02, -1.6375e-01, -2.2499e-01, -1.2463e-01,\n",
      "          8.1210e-02,  2.4004e-01, -1.0807e-02,  1.2814e-01,  3.4950e-02,\n",
      "          1.6018e-01, -9.2996e-02, -4.8067e-02,  1.1017e-01, -3.2552e-01,\n",
      "         -2.0612e-01,  2.8455e-01,  1.6000e-01, -1.2626e-01, -9.7546e-02,\n",
      "         -4.4008e-02, -2.1812e-03, -1.1246e-01,  7.8211e-03,  8.8386e-02,\n",
      "          1.8587e-01, -4.1250e-02, -1.4848e-01, -5.1708e-02, -1.0926e-01,\n",
      "         -4.9235e-02,  1.1427e-01,  7.3939e-02,  1.1838e-01, -2.3377e-02,\n",
      "         -4.5633e-02,  1.0397e-02,  2.0922e-02,  1.7842e-01, -7.0196e-02,\n",
      "          1.6465e-01, -3.7031e-01,  8.1573e-02,  1.9226e-01, -1.3137e-01,\n",
      "         -1.0566e-01,  3.7371e-01,  1.2475e-01, -2.2093e-02,  1.1425e-01,\n",
      "          1.7278e-02, -1.6037e-01,  2.5942e-01,  6.4529e-02,  3.9216e-02,\n",
      "          1.9703e-02,  5.5744e-02,  3.1003e-02,  9.3860e-02, -4.6223e-02]],\n",
      "       grad_fn=<CatBackward0>)\n",
      "tensor([[ 2.4961e-03,  9.5556e-04, -1.5416e-04, -1.7076e-03,  7.3979e-04,\n",
      "          1.6283e-04, -2.5904e-03, -1.7858e-03, -2.0740e-03,  7.9172e-04,\n",
      "          4.6968e-03,  2.6183e-03,  2.0292e-03, -2.9643e-04,  5.6392e-04,\n",
      "         -3.8897e-03,  2.4461e-03, -2.7088e-03,  1.5950e-03,  7.7411e-04,\n",
      "         -1.8264e-03,  1.5306e-03,  5.0537e-03, -3.2075e-04, -1.0370e-03,\n",
      "          5.1728e-04, -3.5182e-03,  1.8661e-03, -1.1096e-03,  2.9365e-03,\n",
      "         -1.8807e-03,  1.6293e-03, -2.7370e-04,  2.7927e-04,  1.7037e-03,\n",
      "          1.0334e-03,  4.9794e-03,  1.5759e-03, -1.9993e-03,  4.7177e-03,\n",
      "         -3.9193e-03,  3.2825e-04, -1.0379e-03,  2.4456e-04,  9.8941e-05,\n",
      "          1.4295e-03, -1.7067e-03,  2.1656e-03,  2.2257e-03,  1.9407e-03,\n",
      "         -4.2882e-06,  3.1760e-03,  2.8454e-03,  5.4447e-03, -3.6828e-03,\n",
      "         -3.2352e-03, -1.7820e-03,  1.6250e-03,  1.0432e-03,  3.6780e-03,\n",
      "         -5.5075e-05,  3.6820e-03, -2.1384e-03,  3.2939e-04, -3.8544e-04,\n",
      "         -4.6806e-03, -1.4090e-03,  7.7189e-04, -9.5890e-04,  3.5667e-03,\n",
      "          5.1581e-05, -2.4109e-03, -1.2861e-03, -2.3216e-03, -9.8248e-04,\n",
      "         -4.6961e-03, -8.5944e-04,  1.8577e-03, -4.1650e-03,  2.0585e-03,\n",
      "         -4.5443e-03,  9.7552e-04,  1.8619e-03, -2.7452e-03,  4.9147e-03,\n",
      "         -1.6968e-03,  2.9133e-03,  8.1880e-05,  1.1743e-03,  2.5377e-03,\n",
      "         -7.7494e-04, -2.8046e-03,  1.2462e-03, -2.7760e-03, -7.3062e-04,\n",
      "         -1.1374e-03, -1.2863e-03,  2.0351e-03, -1.1842e-03,  2.4074e-03],\n",
      "        [ 3.9550e-04,  1.2337e-03, -3.5405e-03,  1.5916e-03,  1.0131e-03,\n",
      "          1.1776e-03, -3.2693e-03, -4.9312e-03, -2.0504e-03,  1.0956e-03,\n",
      "          1.3903e-03,  2.4382e-04,  8.2509e-04,  4.1391e-03, -3.9146e-03,\n",
      "          5.7940e-04,  2.4099e-03, -3.6099e-03, -7.1018e-04,  7.4317e-04,\n",
      "          1.0094e-03,  5.0965e-03,  3.6321e-03, -6.5491e-04, -8.6801e-04,\n",
      "         -6.6533e-04, -3.0279e-03,  3.8932e-03, -8.9078e-04,  6.5476e-04,\n",
      "         -3.4434e-03,  4.3047e-03, -1.4717e-03, -2.7632e-03,  7.7260e-04,\n",
      "          7.1091e-04,  5.0457e-03,  4.0299e-03, -1.7767e-03, -2.7011e-04,\n",
      "         -3.7365e-03, -8.1280e-04, -2.2803e-03,  1.0854e-03, -2.3416e-03,\n",
      "          1.4458e-03, -1.4260e-03,  4.9741e-04,  2.1638e-03,  1.8236e-03,\n",
      "          1.8792e-03,  4.8049e-03,  3.7886e-03,  3.2547e-03, -4.0654e-03,\n",
      "         -3.4558e-04,  8.4698e-04,  2.1203e-04,  1.6771e-03,  3.0511e-03,\n",
      "         -1.3008e-03,  2.3316e-03, -1.2329e-03,  6.7000e-04, -2.8240e-03,\n",
      "         -4.6380e-03, -3.7337e-03,  9.0677e-04, -2.4666e-03,  1.8716e-03,\n",
      "         -7.2383e-04, -4.3078e-03, -2.6191e-03,  6.9477e-04,  3.1821e-03,\n",
      "         -4.1077e-04, -2.2418e-03,  3.4771e-03, -1.8720e-03, -1.8458e-03,\n",
      "         -3.1434e-03,  2.9139e-03, -8.5609e-04, -1.5135e-03,  6.2395e-03,\n",
      "          1.9523e-03,  3.9119e-03,  3.2556e-04,  1.3641e-03,  3.7420e-03,\n",
      "          1.4256e-03, -2.7101e-03,  5.4701e-04, -3.0232e-04, -2.1375e-03,\n",
      "         -1.5584e-03,  1.0909e-03,  1.7825e-03, -3.5345e-03,  1.8780e-03],\n",
      "        [ 8.7850e-03, -5.0553e-03, -9.1250e-04, -2.0771e-03,  2.9949e-03,\n",
      "          1.9135e-03, -8.3122e-03, -4.1106e-03, -2.2388e-03,  8.6186e-03,\n",
      "         -2.0553e-03, -7.5033e-04,  1.7892e-03, -8.1160e-03,  2.2385e-03,\n",
      "         -1.2850e-03, -8.4715e-04, -6.5825e-04, -2.3654e-03,  7.0189e-03,\n",
      "         -1.0394e-02,  4.1584e-03,  1.1089e-03, -8.4595e-03,  1.6399e-04,\n",
      "          2.1022e-03, -6.8139e-03,  7.3805e-03,  1.9924e-03,  5.4471e-03,\n",
      "         -2.9748e-03,  2.4086e-03, -4.0244e-03, -1.6751e-03,  2.5271e-03,\n",
      "          7.4222e-03,  8.1830e-03,  4.8292e-03, -1.1024e-02, -1.3499e-03,\n",
      "         -5.6247e-03,  3.3732e-03, -1.5800e-03,  5.4625e-03,  2.0688e-03,\n",
      "          6.7145e-03, -3.5911e-03, -2.4049e-03,  1.2166e-03,  1.7447e-03,\n",
      "         -8.2591e-03,  3.0158e-03, -1.9730e-03, -3.4541e-04, -4.2275e-03,\n",
      "         -6.1409e-04, -2.7706e-03, -1.1500e-03, -7.6406e-04,  4.1353e-03,\n",
      "          4.2381e-03,  1.7295e-03, -5.6524e-03,  4.7396e-03, -1.2417e-03,\n",
      "         -4.4608e-03,  2.0517e-03, -9.2775e-03,  2.7541e-04,  5.9483e-03,\n",
      "          8.2493e-03, -7.0353e-03, -6.4052e-03, -1.8557e-03, -4.8126e-03,\n",
      "         -1.2477e-03,  2.8847e-03, -5.8184e-03, -7.7297e-03, -5.3059e-03,\n",
      "         -6.7209e-04,  2.6434e-03,  8.7196e-04,  5.4573e-05,  2.2907e-03,\n",
      "         -2.4535e-03, -1.0978e-03,  3.0725e-03,  6.7370e-03,  1.3709e-03,\n",
      "         -1.5538e-03, -1.7632e-03, -2.5763e-04, -5.9873e-03, -7.8243e-03,\n",
      "         -4.5597e-03, -3.7712e-03,  2.9941e-03, -8.5042e-03,  6.1406e-03],\n",
      "        [ 8.5375e-04,  1.0572e-03, -2.4158e-03, -3.7562e-05,  3.8457e-03,\n",
      "          2.6544e-03, -3.4922e-03, -7.1842e-03, -4.6589e-03,  1.9590e-03,\n",
      "          5.1350e-04,  9.2846e-04,  4.2292e-04,  2.9016e-03, -4.0224e-03,\n",
      "          1.8991e-03,  5.4345e-03, -3.6676e-03,  5.9528e-04,  2.6837e-03,\n",
      "         -1.7921e-03,  8.4490e-03,  3.1732e-03, -4.2967e-03, -1.6733e-03,\n",
      "          2.3250e-03, -4.5872e-03,  2.6818e-03, -2.1522e-04,  5.7285e-04,\n",
      "         -7.6061e-03,  7.4345e-03, -6.0155e-03, -1.0283e-03,  9.1152e-04,\n",
      "          3.5384e-03,  7.5977e-03,  4.8542e-03, -6.0508e-03,  5.5297e-04,\n",
      "         -7.5467e-03,  1.1420e-04, -4.3289e-03,  2.6980e-03, -1.9110e-03,\n",
      "          5.2773e-03,  1.4940e-03, -2.3458e-04,  5.1817e-03, -1.4965e-03,\n",
      "         -3.1970e-03,  5.3802e-03,  4.2018e-03,  3.7742e-03, -5.2204e-03,\n",
      "          6.3885e-04,  2.1877e-03,  3.2421e-04,  4.2007e-03,  3.5748e-03,\n",
      "         -1.2471e-03,  3.0749e-03, -2.0863e-03,  1.3153e-03, -4.5998e-03,\n",
      "         -8.0584e-03, -7.7144e-03, -2.9693e-03, -2.5197e-03,  1.3541e-03,\n",
      "         -1.1987e-04, -4.8441e-03, -2.7036e-03,  2.5217e-04,  1.8028e-03,\n",
      "         -1.7906e-03, -4.8808e-03,  3.3856e-03, -1.4238e-03, -3.2050e-03,\n",
      "         -2.6229e-03,  7.0047e-03, -2.0184e-03,  4.6398e-04,  8.1536e-03,\n",
      "          2.0098e-03,  3.8917e-04,  8.9255e-04,  1.5979e-03,  5.3824e-03,\n",
      "         -2.1416e-04, -4.3276e-03, -1.1064e-03, -1.9391e-03, -4.9842e-03,\n",
      "         -3.9688e-03, -3.7001e-04,  2.1613e-03, -6.1052e-03,  4.2677e-03],\n",
      "        [ 1.5866e-03, -2.2893e-03,  5.9399e-04,  1.8641e-03,  1.3512e-03,\n",
      "         -3.0758e-04, -1.1402e-03, -3.0462e-04, -3.5525e-03,  1.1780e-03,\n",
      "         -1.9610e-03,  3.7974e-03, -2.9014e-03,  1.5406e-04, -1.5143e-03,\n",
      "         -1.3342e-03,  1.9883e-03, -1.6537e-03, -1.1716e-03,  4.7759e-04,\n",
      "          5.4482e-04,  1.1592e-03, -6.6335e-04, -2.8142e-04,  1.4789e-03,\n",
      "          1.5457e-03, -2.0996e-03, -1.8324e-03, -1.0959e-03,  2.0201e-03,\n",
      "         -2.3503e-03,  1.2858e-03, -2.5256e-03,  6.9594e-04, -3.8075e-03,\n",
      "          2.6278e-03,  2.7095e-03,  2.5397e-03, -1.6598e-03,  2.0621e-03,\n",
      "         -2.1607e-03,  5.9031e-04, -3.7538e-04,  3.0929e-03,  6.7558e-04,\n",
      "          2.8075e-04, -1.7896e-03,  3.2220e-04, -1.2562e-03,  7.4987e-04,\n",
      "         -2.0081e-03, -5.4829e-04,  1.5272e-03,  2.1989e-03, -2.0534e-03,\n",
      "          1.2515e-03, -1.9868e-03,  3.9115e-04, -1.1594e-03,  8.9361e-04,\n",
      "          9.7510e-04, -8.5440e-04,  5.6961e-04,  1.2117e-03, -2.5718e-03,\n",
      "          3.8735e-04,  8.2321e-04, -3.7425e-05, -3.5999e-03,  4.2671e-04,\n",
      "          2.1319e-03,  5.7606e-04, -1.8798e-03,  1.3414e-03,  1.0814e-05,\n",
      "          1.5574e-03, -2.1826e-03, -4.3391e-04,  7.4311e-04, -1.7117e-03,\n",
      "         -1.8194e-03,  1.6852e-03, -3.3661e-03, -1.6443e-03,  3.8730e-03,\n",
      "         -1.0521e-03,  4.2132e-03,  1.5978e-03,  1.7037e-03,  2.3114e-03,\n",
      "         -6.5597e-04,  2.8293e-04, -1.8570e-04, -8.5082e-04, -2.4820e-04,\n",
      "         -9.9805e-04, -1.2354e-03, -7.5251e-04,  1.0988e-03,  1.8242e-03],\n",
      "        [ 8.9550e-04, -3.6088e-04,  2.3906e-04, -3.4182e-05, -1.5486e-05,\n",
      "         -2.5646e-03,  3.6042e-04, -2.1608e-03, -5.9474e-03,  1.7938e-03,\n",
      "         -7.1585e-04, -4.0906e-04, -1.9785e-03,  3.0477e-03,  1.6377e-03,\n",
      "          5.1885e-04,  3.3318e-03, -1.4260e-03, -3.2352e-03,  1.9362e-03,\n",
      "          1.9161e-03,  5.7818e-03, -7.8783e-04, -2.9067e-03,  1.7304e-03,\n",
      "         -3.9806e-04, -2.9732e-04,  2.2002e-03, -1.9231e-03, -2.0208e-04,\n",
      "         -1.2081e-03,  3.3004e-03, -5.3878e-03, -1.6436e-03,  2.4638e-04,\n",
      "          1.9485e-03,  7.3448e-04,  3.2610e-03, -2.1794e-03,  1.4956e-03,\n",
      "         -3.0089e-03, -7.3863e-04, -4.2214e-04,  1.6669e-03, -4.1734e-03,\n",
      "          3.3496e-03,  3.8643e-03, -1.4343e-03,  2.7258e-03,  1.5905e-03,\n",
      "         -2.3661e-03, -9.3994e-04,  3.8966e-03,  4.3221e-04, -1.4454e-04,\n",
      "          1.8426e-04,  5.8578e-03, -2.1009e-03,  1.1992e-03,  3.6256e-03,\n",
      "          5.5805e-04,  4.5081e-04,  1.4979e-04,  5.1340e-04, -4.6347e-03,\n",
      "         -2.9975e-03, -4.4719e-03, -4.8810e-03, -4.3243e-03, -3.2676e-03,\n",
      "          1.8463e-03, -9.3865e-04, -1.5238e-03,  3.2786e-03,  7.5613e-05,\n",
      "          2.5024e-03, -3.1771e-03,  2.3674e-03, -1.4444e-03, -2.9343e-03,\n",
      "         -9.7376e-04,  4.9640e-03, -2.3582e-03,  5.5494e-03,  6.9052e-03,\n",
      "          7.6717e-04, -9.2961e-04,  1.8294e-03,  4.3610e-04,  1.4498e-03,\n",
      "         -2.8209e-03, -4.7447e-03, -2.2069e-03, -2.4088e-04, -3.8743e-03,\n",
      "         -2.7074e-03, -4.7577e-04, -3.8545e-04, -4.0048e-03,  2.0371e-03],\n",
      "        [ 2.5613e-03,  3.8747e-03, -2.0493e-03, -3.4043e-03,  1.5362e-03,\n",
      "          1.9041e-03, -2.8437e-03, -5.4809e-03, -8.9104e-04,  2.3037e-03,\n",
      "          6.5649e-03,  1.8780e-04,  1.9506e-03,  2.1692e-03, -4.0707e-04,\n",
      "         -2.4072e-03,  2.1526e-03, -4.7579e-03,  3.3093e-03,  9.2156e-04,\n",
      "         -3.4751e-03,  3.2857e-03,  7.8163e-03, -2.5053e-03, -3.1983e-03,\n",
      "         -1.4506e-03, -4.6398e-03,  4.5589e-03,  1.4304e-03,  2.3577e-03,\n",
      "         -1.1226e-03,  4.2890e-03, -9.0467e-04, -2.9117e-04,  4.0993e-03,\n",
      "          6.5199e-04,  6.9244e-03,  2.4187e-03, -3.1224e-03,  5.0471e-03,\n",
      "         -4.5933e-03, -1.3112e-04, -4.7144e-03,  8.4170e-04, -1.9871e-03,\n",
      "          2.8975e-03, -6.2661e-04,  2.2995e-03,  3.7673e-03,  2.1441e-03,\n",
      "          4.9095e-04,  6.1471e-03,  4.1321e-03,  7.4845e-03, -4.9531e-03,\n",
      "         -4.2134e-03,  6.9982e-04,  1.5589e-03,  4.1092e-03,  5.2700e-03,\n",
      "         -1.1998e-03,  6.9793e-03, -2.5510e-03,  1.7208e-03, -8.5909e-04,\n",
      "         -8.5744e-03, -4.7722e-03,  4.2516e-04,  2.9547e-04,  3.2284e-03,\n",
      "          6.6737e-04, -4.7013e-03, -1.5948e-03, -1.9846e-03,  3.1389e-04,\n",
      "         -4.8112e-03, -6.5804e-04,  4.0738e-03, -6.6460e-03,  2.1222e-03,\n",
      "         -5.6787e-03,  1.3880e-03,  3.8018e-03, -2.1500e-03,  6.8940e-03,\n",
      "          1.4290e-03,  1.3676e-03,  1.3632e-03,  2.3279e-03,  3.2970e-03,\n",
      "          5.3039e-04, -4.9274e-03,  8.6582e-04, -2.9894e-03, -2.0334e-03,\n",
      "         -2.0519e-03, -4.2679e-04,  2.9108e-03, -4.6981e-03,  2.7206e-03],\n",
      "        [ 4.5082e-03, -4.5446e-03,  7.5505e-04,  1.0218e-03,  2.0764e-03,\n",
      "         -1.1006e-04, -4.8134e-03,  2.1541e-03, -2.9936e-03,  3.0557e-03,\n",
      "         -2.9746e-03,  1.5894e-03, -1.6258e-03, -4.5804e-03,  2.7819e-04,\n",
      "         -6.3471e-03, -2.5547e-04,  1.1340e-03, -2.6490e-03,  1.0504e-03,\n",
      "         -2.7482e-03,  1.3746e-03,  9.1785e-04, -1.5568e-03,  2.6528e-04,\n",
      "          1.0434e-03, -3.9611e-03,  1.3900e-03, -1.2044e-03,  2.4683e-03,\n",
      "         -7.7064e-04, -1.1032e-03, -4.2180e-04,  8.9571e-04, -2.4522e-03,\n",
      "          2.6731e-03,  2.8669e-03,  2.3746e-03, -5.9092e-03, -1.3360e-03,\n",
      "         -2.2528e-03,  2.0635e-03,  1.8573e-03,  3.8453e-03,  2.7393e-03,\n",
      "         -1.4114e-03, -5.8037e-03,  6.8309e-04, -1.8337e-03,  2.6280e-03,\n",
      "         -3.5556e-03,  1.1029e-03, -1.8535e-03,  1.1053e-03, -4.4360e-03,\n",
      "          2.8181e-04, -6.0153e-03, -1.4690e-04, -4.0252e-03,  1.8348e-03,\n",
      "          2.6855e-03,  6.9992e-04, -2.6338e-03,  3.0902e-03,  2.1549e-03,\n",
      "          1.3506e-05,  6.5070e-03, -2.5086e-03,  9.2820e-04,  7.5363e-03,\n",
      "          3.6009e-03, -1.2283e-03, -5.7028e-03, -2.1157e-03, -3.4229e-03,\n",
      "          7.8296e-04,  6.8393e-04, -6.7031e-03, -3.9929e-03, -2.8304e-03,\n",
      "         -3.0536e-03, -6.8154e-04, -5.0916e-04, -3.9721e-03,  1.3390e-03,\n",
      "         -3.1729e-03,  4.0092e-03,  2.3486e-03,  1.7195e-03,  4.0918e-04,\n",
      "         -1.3736e-03,  2.4528e-03,  4.3654e-04, -4.9858e-03, -1.9875e-03,\n",
      "         -1.0016e-03, -2.9049e-04,  2.5174e-03, -4.2490e-04,  1.0763e-03]],\n",
      "       grad_fn=<CatBackward0>)\n"
     ]
    }
   ],
   "source": [
    "print(X_train_proj)\n",
    "print(X_train_no_proj)"
   ]
  },
  {
   "cell_type": "code",
   "execution_count": null,
   "metadata": {},
   "outputs": [
    {
     "name": "stdout",
     "output_type": "stream",
     "text": [
      "--- WITHOUT PROJECTION HEAD ---\n",
      "Probability of each class:\n",
      " [[0.5000644  0.4999356 ]\n",
      " [0.49984796 0.50015204]]\n",
      "Accuracy of the classifier: 1.0\n",
      "--- WITH PROJECTION HEAD ---\n",
      "Probability of each class:\n",
      " [[0.67228496 0.32771504]\n",
      " [0.2661469  0.7338531 ]]\n",
      "Accuracy of the classifier: 1.0\n"
     ]
    }
   ],
   "source": [
    "# Train a classifier on top of the embeddings (logistic regression)\n",
    "from sklearn.linear_model import LogisticRegression\n",
    "from sklearn.metrics import accuracy_score\n",
    "\n",
    "# WITHOUT PROJECTION HEAD\n",
    "print(\"--- WITHOUT PROJECTION HEAD ---\")\n",
    "classifier_no_proj = LogisticRegression().fit(X_train_no_proj.detach().numpy(), y_train)\n",
    "y_pred = classifier_no_proj.predict(X_test_no_proj.detach().numpy())\n",
    "\n",
    "# show probability of each class\n",
    "y_pred_probs = classifier_no_proj.predict_proba(X_test_no_proj.detach().numpy())\n",
    "print(f\"Probability of each class:\\n {y_pred_probs}\")\n",
    "\n",
    "print(f\"Accuracy of the classifier: {accuracy_score(y_test, y_pred)}\")\n",
    "\n",
    "\n",
    "# WITH PROJECTION HEAD\n",
    "print(\"--- WITH PROJECTION HEAD ---\")\n",
    "classifier_proj = LogisticRegression().fit(X_train_proj.detach().numpy(), y_train)\n",
    "y_pred = classifier_proj.predict(X_test_proj.detach().numpy())\n",
    "\n",
    "y_pred_probs = classifier_proj.predict_proba(X_test_proj.detach().numpy()) \n",
    "print(f\"Probability of each class:\\n {y_pred_probs}\")\n",
    "\n",
    "print(f\"Accuracy of the classifier: {accuracy_score(y_test, y_pred)}\")"
   ]
  },
  {
   "cell_type": "markdown",
   "metadata": {},
   "source": [
    "## Training analysis"
   ]
  },
  {
   "cell_type": "code",
   "execution_count": null,
   "metadata": {},
   "outputs": [],
   "source": [
    "learning_rates = [0.001, 0.01, 0.1]\n",
    "batch_sizes = [5, 9, 17]\n",
    "temperatures = [0.1, 0.5, 1.0, 1.5]\n",
    "use_projectors = [True, False]\n",
    "epochs = 1500\n",
    "device = torch.device(\"cuda\" if torch.cuda.is_available() else \"cpu\")\n",
    "\n",
    "results = []"
   ]
  },
  {
   "cell_type": "code",
   "execution_count": null,
   "metadata": {},
   "outputs": [],
   "source": [
    "def init_model(use_proj):\n",
    "    gnn = GCNFeatureExtractor(in_channels=n_features, out_channels=out_dim_gnn, pooling_strategy=pooling)\n",
    "    proj = torch.nn.Sequential(\n",
    "        torch.nn.Linear(out_dim_gnn, 128),\n",
    "        torch.nn.ReLU(),\n",
    "        torch.nn.Linear(128, proj_out_dim),\n",
    "    )\n",
    "\n",
    "    if use_proj:\n",
    "        model = CLWrapper(gnn, proj).to(device)\n",
    "    else:\n",
    "        model = CLWrapper(gnn).to(device)\n",
    "    return model"
   ]
  },
  {
   "cell_type": "code",
   "execution_count": null,
   "metadata": {},
   "outputs": [],
   "source": [
    "# import itertools\n",
    "\n",
    "# for lr, batch_size, tau, use_projector in itertools.product(learning_rates, batch_sizes, temperatures, use_projectors):\n",
    "#     model_version = \"with_projector\" if use_projector else \"without_projector\"\n",
    "#     print(f'Training {model_version} with lr={lr}, batch_size={batch_size}, tau={tau}')\n",
    "#     model = init_model(use_projector)\n",
    "#     history = train(model, train_dataset, test_dataset, epochs, batch_size, lr, tau, device, verbose=False)\n",
    "#     results.append({\n",
    "#         'model_version': model_version,\n",
    "#         'learning_rate': lr,\n",
    "#         'batch_size': batch_size,\n",
    "#         'tau': tau,\n",
    "#         'history': history\n",
    "#     })\n"
   ]
  },
  {
   "cell_type": "code",
   "execution_count": null,
   "metadata": {},
   "outputs": [],
   "source": []
  }
 ],
 "metadata": {
  "kernelspec": {
   "display_name": "qiskit-env",
   "language": "python",
   "name": "python3"
  },
  "language_info": {
   "codemirror_mode": {
    "name": "ipython",
    "version": 3
   },
   "file_extension": ".py",
   "mimetype": "text/x-python",
   "name": "python",
   "nbconvert_exporter": "python",
   "pygments_lexer": "ipython3",
   "version": "3.12.5"
  }
 },
 "nbformat": 4,
 "nbformat_minor": 2
}
