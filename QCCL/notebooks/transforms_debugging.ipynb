{
 "cells": [
  {
   "cell_type": "code",
   "execution_count": 1,
   "metadata": {},
   "outputs": [],
   "source": [
    "import os\n",
    "import sys\n",
    "\n",
    "sys.path.append(os.path.abspath(os.path.join('..', '..')))"
   ]
  },
  {
   "cell_type": "code",
   "execution_count": null,
   "metadata": {},
   "outputs": [
    {
     "name": "stdout",
     "output_type": "stream",
     "text": [
      " Volume in drive C is Acer\n",
      " Volume Serial Number is 70D2-9BA1\n",
      "\n",
      " Directory of c:\\Users\\melan\\shared-folder\\Thesis\\SSL-for-Quantum-Cirucits-Generation\\QCCL\\notebooks\n",
      "\n",
      "20/10/2024  14:17    <DIR>          .\n",
      "28/09/2024  22:20    <DIR>          ..\n",
      "24/09/2024  20:19         5,736,098 best_model.pth\n",
      "24/09/2024  20:18               787 hyperparam_tuning_results_with_configs.yaml\n",
      "11/10/2024  11:46           132,935 training.ipynb\n",
      "24/09/2024  20:19            24,818 training_best_history.png\n",
      "24/09/2024  19:59           204,856 training_byol big embedding.ipynb\n",
      "14/10/2024  13:11           247,018 training_byol.ipynb\n",
      "19/09/2024  17:50           248,587 training_norms_visual.ipynb\n",
      "01/10/2024  08:38           441,652 training-visual.ipynb\n",
      "23/10/2024  19:24           153,810 transforms_debugging.ipynb\n",
      "               9 File(s)      7,190,561 bytes\n",
      "               2 Dir(s)  85,391,765,504 bytes free\n"
     ]
    }
   ],
   "source": [
    "%ls"
   ]
  },
  {
   "cell_type": "code",
   "execution_count": 3,
   "metadata": {},
   "outputs": [
    {
     "name": "stderr",
     "output_type": "stream",
     "text": [
      "\n",
      "A module that was compiled using NumPy 1.x cannot be run in\n",
      "NumPy 2.1.2 as it may crash. To support both 1.x and 2.x\n",
      "versions of NumPy, modules must be compiled with NumPy 2.0.\n",
      "Some module may need to rebuild instead e.g. with 'pybind11>=2.12'.\n",
      "\n",
      "If you are a user of the module, the easiest solution will be to\n",
      "downgrade to 'numpy<2' or try to upgrade the affected module.\n",
      "We expect that some modules will need time to support NumPy 2.\n",
      "\n",
      "Traceback (most recent call last):  File \"<frozen runpy>\", line 198, in _run_module_as_main\n",
      "  File \"<frozen runpy>\", line 88, in _run_code\n",
      "  File \"c:\\Users\\melan\\AppData\\Local\\Programs\\Python\\Python312\\Lib\\site-packages\\ipykernel_launcher.py\", line 18, in <module>\n",
      "    app.launch_new_instance()\n",
      "  File \"c:\\Users\\melan\\AppData\\Local\\Programs\\Python\\Python312\\Lib\\site-packages\\traitlets\\config\\application.py\", line 1075, in launch_instance\n",
      "    app.start()\n",
      "  File \"c:\\Users\\melan\\AppData\\Local\\Programs\\Python\\Python312\\Lib\\site-packages\\ipykernel\\kernelapp.py\", line 739, in start\n",
      "    self.io_loop.start()\n",
      "  File \"c:\\Users\\melan\\AppData\\Local\\Programs\\Python\\Python312\\Lib\\site-packages\\tornado\\platform\\asyncio.py\", line 205, in start\n",
      "    self.asyncio_loop.run_forever()\n",
      "  File \"c:\\Users\\melan\\AppData\\Local\\Programs\\Python\\Python312\\Lib\\asyncio\\base_events.py\", line 641, in run_forever\n",
      "    self._run_once()\n",
      "  File \"c:\\Users\\melan\\AppData\\Local\\Programs\\Python\\Python312\\Lib\\asyncio\\base_events.py\", line 1986, in _run_once\n",
      "    handle._run()\n",
      "  File \"c:\\Users\\melan\\AppData\\Local\\Programs\\Python\\Python312\\Lib\\asyncio\\events.py\", line 88, in _run\n",
      "    self._context.run(self._callback, *self._args)\n",
      "  File \"c:\\Users\\melan\\AppData\\Local\\Programs\\Python\\Python312\\Lib\\site-packages\\ipykernel\\kernelbase.py\", line 545, in dispatch_queue\n",
      "    await self.process_one()\n",
      "  File \"c:\\Users\\melan\\AppData\\Local\\Programs\\Python\\Python312\\Lib\\site-packages\\ipykernel\\kernelbase.py\", line 534, in process_one\n",
      "    await dispatch(*args)\n",
      "  File \"c:\\Users\\melan\\AppData\\Local\\Programs\\Python\\Python312\\Lib\\site-packages\\ipykernel\\kernelbase.py\", line 437, in dispatch_shell\n",
      "    await result\n",
      "  File \"c:\\Users\\melan\\AppData\\Local\\Programs\\Python\\Python312\\Lib\\site-packages\\ipykernel\\ipkernel.py\", line 362, in execute_request\n",
      "    await super().execute_request(stream, ident, parent)\n",
      "  File \"c:\\Users\\melan\\AppData\\Local\\Programs\\Python\\Python312\\Lib\\site-packages\\ipykernel\\kernelbase.py\", line 778, in execute_request\n",
      "    reply_content = await reply_content\n",
      "  File \"c:\\Users\\melan\\AppData\\Local\\Programs\\Python\\Python312\\Lib\\site-packages\\ipykernel\\ipkernel.py\", line 449, in do_execute\n",
      "    res = shell.run_cell(\n",
      "  File \"c:\\Users\\melan\\AppData\\Local\\Programs\\Python\\Python312\\Lib\\site-packages\\ipykernel\\zmqshell.py\", line 549, in run_cell\n",
      "    return super().run_cell(*args, **kwargs)\n",
      "  File \"c:\\Users\\melan\\AppData\\Local\\Programs\\Python\\Python312\\Lib\\site-packages\\IPython\\core\\interactiveshell.py\", line 3075, in run_cell\n",
      "    result = self._run_cell(\n",
      "  File \"c:\\Users\\melan\\AppData\\Local\\Programs\\Python\\Python312\\Lib\\site-packages\\IPython\\core\\interactiveshell.py\", line 3130, in _run_cell\n",
      "    result = runner(coro)\n",
      "  File \"c:\\Users\\melan\\AppData\\Local\\Programs\\Python\\Python312\\Lib\\site-packages\\IPython\\core\\async_helpers.py\", line 128, in _pseudo_sync_runner\n",
      "    coro.send(None)\n",
      "  File \"c:\\Users\\melan\\AppData\\Local\\Programs\\Python\\Python312\\Lib\\site-packages\\IPython\\core\\interactiveshell.py\", line 3334, in run_cell_async\n",
      "    has_raised = await self.run_ast_nodes(code_ast.body, cell_name,\n",
      "  File \"c:\\Users\\melan\\AppData\\Local\\Programs\\Python\\Python312\\Lib\\site-packages\\IPython\\core\\interactiveshell.py\", line 3517, in run_ast_nodes\n",
      "    if await self.run_code(code, result, async_=asy):\n",
      "  File \"c:\\Users\\melan\\AppData\\Local\\Programs\\Python\\Python312\\Lib\\site-packages\\IPython\\core\\interactiveshell.py\", line 3577, in run_code\n",
      "    exec(code_obj, self.user_global_ns, self.user_ns)\n",
      "  File \"C:\\Users\\melan\\AppData\\Local\\Temp\\ipykernel_36008\\616785901.py\", line 2, in <module>\n",
      "    from Data.QuantumCircuitGraph import QuantumCircuitGraph\n",
      "  File \"c:\\Users\\melan\\shared-folder\\Thesis\\SSL-for-Quantum-Cirucits-Generation\\Data\\QuantumCircuitGraph.py\", line 2, in <module>\n",
      "    import torch\n",
      "  File \"c:\\Users\\melan\\AppData\\Local\\Programs\\Python\\Python312\\Lib\\site-packages\\torch\\__init__.py\", line 1471, in <module>\n",
      "    from .functional import *  # noqa: F403\n",
      "  File \"c:\\Users\\melan\\AppData\\Local\\Programs\\Python\\Python312\\Lib\\site-packages\\torch\\functional.py\", line 9, in <module>\n",
      "    import torch.nn.functional as F\n",
      "  File \"c:\\Users\\melan\\AppData\\Local\\Programs\\Python\\Python312\\Lib\\site-packages\\torch\\nn\\__init__.py\", line 1, in <module>\n",
      "    from .modules import *  # noqa: F403\n",
      "  File \"c:\\Users\\melan\\AppData\\Local\\Programs\\Python\\Python312\\Lib\\site-packages\\torch\\nn\\modules\\__init__.py\", line 35, in <module>\n",
      "    from .transformer import TransformerEncoder, TransformerDecoder, \\\n",
      "  File \"c:\\Users\\melan\\AppData\\Local\\Programs\\Python\\Python312\\Lib\\site-packages\\torch\\nn\\modules\\transformer.py\", line 20, in <module>\n",
      "    device: torch.device = torch.device(torch._C._get_default_device()),  # torch.device('cpu'),\n",
      "c:\\Users\\melan\\AppData\\Local\\Programs\\Python\\Python312\\Lib\\site-packages\\torch\\nn\\modules\\transformer.py:20: UserWarning: Failed to initialize NumPy: _ARRAY_API not found (Triggered internally at ..\\torch\\csrc\\utils\\tensor_numpy.cpp:84.)\n",
      "  device: torch.device = torch.device(torch._C._get_default_device()),  # torch.device('cpu'),\n"
     ]
    }
   ],
   "source": [
    "from qiskit import QuantumCircuit\n",
    "from Data.QuantumCircuitGraph import QuantumCircuitGraph"
   ]
  },
  {
   "cell_type": "code",
   "execution_count": 4,
   "metadata": {},
   "outputs": [
    {
     "name": "stdout",
     "output_type": "stream",
     "text": [
      "Modified GATE_TYPE_MAP: {'cx': 0, 'h': 1, 'x': 2, 'z': 3, 't': 4, 'id': 5}\n",
      "Modified include_params: False\n",
      "Modified include_identity_gates: False\n",
      "Modified differentiate_cx: True\n"
     ]
    }
   ],
   "source": [
    "# Settings\n",
    "\n",
    "GATE_TYPE_MAP = {\n",
    "    'cx': 0, \n",
    "    'h': 1, \n",
    "    'x': 2,\n",
    "    'z': 3,\n",
    "    't': 4\n",
    "    # Add here all possible gate types\n",
    "} # map gate type to index in one-hot encoding\n",
    "# add id always in last position\n",
    "GATE_TYPE_MAP['id'] = len(GATE_TYPE_MAP)\n",
    "\n",
    "\n",
    "QuantumCircuitGraph.set_gate_type_map(GATE_TYPE_MAP)\n",
    "QuantumCircuitGraph.set_include_params(False)\n",
    "QuantumCircuitGraph.set_include_identity_gates(False)\n",
    "QuantumCircuitGraph.set_differentiate_cx(True)\n",
    "QuantumCircuitGraph.set_node_order(None)\n",
    "\n",
    "\n",
    "print(\"Modified GATE_TYPE_MAP:\", QuantumCircuitGraph.GATE_TYPE_MAP)\n",
    "print(\"Modified include_params:\", QuantumCircuitGraph.include_params)\n",
    "print(\"Modified include_identity_gates:\", QuantumCircuitGraph.include_identity_gates)\n",
    "print(\"Modified differentiate_cx:\", QuantumCircuitGraph.differentiate_cx)"
   ]
  },
  {
   "cell_type": "markdown",
   "metadata": {},
   "source": [
    "### Test AddIdentityGatesTransformation"
   ]
  },
  {
   "cell_type": "code",
   "execution_count": 5,
   "metadata": {},
   "outputs": [
    {
     "data": {
      "image/png": "[encoded data removed]",
      "text/plain": [
       "<Figure size 287.496x284.278 with 1 Axes>"
      ]
     },
     "execution_count": 5,
     "metadata": {},
     "output_type": "execute_result"
    }
   ],
   "source": [
    "# Create a simple quantum circuit\n",
    "num_qubits = 3\n",
    "qc = QuantumCircuit(num_qubits)\n",
    "qc.h(0)\n",
    "qc.cx(0, 1)\n",
    "qc.x(2)\n",
    "\n",
    "# Visualize the initial quantum circuit\n",
    "qc.draw('mpl')"
   ]
  },
  {
   "cell_type": "code",
   "execution_count": 6,
   "metadata": {},
   "outputs": [],
   "source": [
    "# Convert to graph representation\n",
    "qcg = QuantumCircuitGraph(qc)"
   ]
  },
  {
   "cell_type": "code",
   "execution_count": 7,
   "metadata": {},
   "outputs": [],
   "source": [
    "from QCCL.transformations import AddIdentityGatesTransformation\n",
    "\n",
    "# Create an instance of the SwapControlTargetTransformation class and apply it\n",
    "transformation = AddIdentityGatesTransformation(qcg)\n",
    "\n",
    "# Apply the transformation\n",
    "transformed_qcg = transformation.apply()  # Applying the transformation\n",
    "transformed_circuit = transformed_qcg.quantum_circuit  # Extract the transformed circuit"
   ]
  },
  {
   "cell_type": "code",
   "execution_count": 8,
   "metadata": {},
   "outputs": [
    {
     "name": "stdout",
     "output_type": "stream",
     "text": [
      "\n",
      "Transformed Circuit:\n"
     ]
    },
    {
     "data": {
      "image/png": "[encoded data removed]",
      "text/plain": [
       "<Figure size 454.719x284.278 with 1 Axes>"
      ]
     },
     "execution_count": 8,
     "metadata": {},
     "output_type": "execute_result"
    }
   ],
   "source": [
    "# Display the transformed circuit\n",
    "print(\"\\nTransformed Circuit:\")\n",
    "transformed_circuit.draw(output='mpl')"
   ]
  },
  {
   "cell_type": "markdown",
   "metadata": {},
   "source": [
    "### Test RemoveIdentityGatesTransformation"
   ]
  },
  {
   "cell_type": "code",
   "execution_count": 9,
   "metadata": {},
   "outputs": [
    {
     "name": "stdout",
     "output_type": "stream",
     "text": [
      "Matching subgraphs: [{'h_0_2': 'h_0_0', 'h_0_3': 'h_0_1'}]\n",
      "Matching key: None\n",
      "Matching subgraph selected: {'h_0_2': 'h_0_0', 'h_0_3': 'h_0_1'}\n",
      "Current operations: [(Instruction(name='h', num_qubits=1, num_clbits=0, params=[]), (Qubit(QuantumRegister(3, 'q'), 0),), ()), (Instruction(name='cx', num_qubits=2, num_clbits=0, params=[]), (Qubit(QuantumRegister(3, 'q'), 0), Qubit(QuantumRegister(3, 'q'), 1)), ()), (Instruction(name='h', num_qubits=1, num_clbits=0, params=[]), (Qubit(QuantumRegister(3, 'q'), 0),), ()), (Instruction(name='h', num_qubits=1, num_clbits=0, params=[]), (Qubit(QuantumRegister(3, 'q'), 0),), ()), (Instruction(name='x', num_qubits=1, num_clbits=0, params=[]), (Qubit(QuantumRegister(3, 'q'), 2),), ())]\n",
      "Graph nodes: ['h_0_0', 'cx_0_control_1', 'cx_1_target_1', 'h_0_2', 'h_0_3', 'x_2_4']\n",
      "Graph to circuit mapping: {'h_0_0': 0, 'cx_0_control_1': 1, 'cx_1_target_1': 1, 'h_0_2': 2, 'h_0_3': 3, 'x_2_4': 4}\n",
      "Matching indices: [2, 3]\n",
      "Transformed operations: [(Instruction(name='h', num_qubits=1, num_clbits=0, params=[]), (Qubit(QuantumRegister(3, 'q'), 0),), ()), (Instruction(name='cx', num_qubits=2, num_clbits=0, params=[]), (Qubit(QuantumRegister(3, 'q'), 0), Qubit(QuantumRegister(3, 'q'), 1)), ()), (Instruction(name='x', num_qubits=1, num_clbits=0, params=[]), (Qubit(QuantumRegister(3, 'q'), 2),), ())]\n"
     ]
    }
   ],
   "source": [
    "from QCCL.transformations import RemoveIdentityGatesTransformation\n",
    "\n",
    "# Create an instance of the SwapControlTargetTransformation class and apply it\n",
    "reverse_transformation = RemoveIdentityGatesTransformation(transformed_qcg)\n",
    "\n",
    "# Apply the transformation\n",
    "transformed_qcg = reverse_transformation.apply()  # Applying the transformation\n",
    "transformed_circuit = transformed_qcg.quantum_circuit  # Extract the transformed circuit"
   ]
  },
  {
   "cell_type": "code",
   "execution_count": 10,
   "metadata": {},
   "outputs": [
    {
     "name": "stdout",
     "output_type": "stream",
     "text": [
      "\n",
      "Transformed Circuit:\n"
     ]
    },
    {
     "data": {
      "image/png": "[encoded data removed]",
      "text/plain": [
       "<Figure size 287.496x284.278 with 1 Axes>"
      ]
     },
     "execution_count": 10,
     "metadata": {},
     "output_type": "execute_result"
    }
   ],
   "source": [
    "# Display the transformed circuit\n",
    "print(\"\\nTransformed Circuit:\")\n",
    "transformed_circuit.draw(output='mpl')"
   ]
  },
  {
   "cell_type": "markdown",
   "metadata": {},
   "source": [
    "### Test SwapControlTargetTransformation\n"
   ]
  },
  {
   "cell_type": "markdown",
   "metadata": {},
   "source": [
    "1st PATTERN: CNOT -> CNOT -> H, H, CNOT, H, H"
   ]
  },
  {
   "cell_type": "code",
   "execution_count": 11,
   "metadata": {},
   "outputs": [
    {
     "name": "stdout",
     "output_type": "stream",
     "text": [
      "Original Circuit:\n"
     ]
    },
    {
     "data": {
      "image/png": "[encoded data removed]",
      "text/plain": [
       "<Figure size 203.683x200.667 with 1 Axes>"
      ]
     },
     "execution_count": 11,
     "metadata": {},
     "output_type": "execute_result"
    }
   ],
   "source": [
    "qc = QuantumCircuit(2)\n",
    "qc.cx(0, 1)  # Add CNOT gate\n",
    "\n",
    "# Display the original circuit\n",
    "print(\"Original Circuit:\")\n",
    "qc.draw(output='mpl')"
   ]
  },
  {
   "cell_type": "code",
   "execution_count": 12,
   "metadata": {},
   "outputs": [],
   "source": [
    "# Convert to graph representation\n",
    "qcg = QuantumCircuitGraph(qc)"
   ]
  },
  {
   "cell_type": "code",
   "execution_count": 13,
   "metadata": {},
   "outputs": [
    {
     "name": "stdout",
     "output_type": "stream",
     "text": [
      "Pattern subgraph: [('cx', <networkx.classes.digraph.DiGraph object at 0x0000019FFF4CA8D0>), ('h-h-cx-h-h', <networkx.classes.digraph.DiGraph object at 0x0000019FFF4CA2D0>), ('h-h-cx', <networkx.classes.digraph.DiGraph object at 0x0000019FFF4CBC50>), ('cx-h-h', <networkx.classes.digraph.DiGraph object at 0x0000019FFF4CBBC0>), ('h-cx-h', <networkx.classes.digraph.DiGraph object at 0x0000019FFF4CB140>)]\n",
      "Matching subgraphs: [{'cx_0_control_0': 'cx_0_control_0', 'cx_1_target_0': 'cx_1_target_0'}]\n",
      "Matching key: cx\n",
      "Matching subgraph selected: {'cx_0_control_0': 'cx_0_control_0', 'cx_1_target_0': 'cx_1_target_0'}\n",
      "Graph nodes: ['cx_0_control_0', 'cx_1_target_0']\n",
      "Transformed operations: [(Instruction(name='h', num_qubits=1, num_clbits=0, params=[]), [Qubit(QuantumRegister(2, 'q'), 1)], []), (Instruction(name='h', num_qubits=1, num_clbits=0, params=[]), [Qubit(QuantumRegister(2, 'q'), 0)], []), (Instruction(name='cx', num_qubits=2, num_clbits=0, params=[]), [Qubit(QuantumRegister(2, 'q'), 1), Qubit(QuantumRegister(2, 'q'), 0)], []), (Instruction(name='h', num_qubits=1, num_clbits=0, params=[]), [Qubit(QuantumRegister(2, 'q'), 1)], []), (Instruction(name='h', num_qubits=1, num_clbits=0, params=[]), [Qubit(QuantumRegister(2, 'q'), 0)], [])]\n"
     ]
    }
   ],
   "source": [
    "from QCCL.transformations import SwapControlTargetTransformation\n",
    "\n",
    "# Create an instance of the SwapControlTargetTransformation class and apply it\n",
    "transformation = SwapControlTargetTransformation(qcg)\n",
    "\n",
    "# Apply the transformation\n",
    "\n",
    "transformed_qcg = transformation.apply()  # Applying the transformation\n",
    "transformed_circuit = transformed_qcg.quantum_circuit  # Extract the transformed circuit\n"
   ]
  },
  {
   "cell_type": "code",
   "execution_count": 14,
   "metadata": {},
   "outputs": [
    {
     "name": "stdout",
     "output_type": "stream",
     "text": [
      "\n",
      "Transformed Circuit:\n"
     ]
    },
    {
     "data": {
      "image/png": "[encoded data removed]",
      "text/plain": [
       "<Figure size 370.906x200.667 with 1 Axes>"
      ]
     },
     "execution_count": 14,
     "metadata": {},
     "output_type": "execute_result"
    }
   ],
   "source": [
    "\n",
    "# Display the transformed circuit\n",
    "print(\"\\nTransformed Circuit:\")\n",
    "transformed_circuit.draw(output='mpl')"
   ]
  },
  {
   "cell_type": "markdown",
   "metadata": {},
   "source": [
    "2nd PATTERN: CNOT, H, H -> H, H, CNOT"
   ]
  },
  {
   "cell_type": "code",
   "execution_count": 15,
   "metadata": {},
   "outputs": [
    {
     "name": "stdout",
     "output_type": "stream",
     "text": [
      "Original Circuit:\n"
     ]
    },
    {
     "data": {
      "image/png": "[encoded data removed]",
      "text/plain": [
       "<Figure size 287.294x200.667 with 1 Axes>"
      ]
     },
     "execution_count": 15,
     "metadata": {},
     "output_type": "execute_result"
    }
   ],
   "source": [
    "qc = QuantumCircuit(2)\n",
    "qc.cx(0, 1)  # Add CNOT gate\n",
    "qc.h(0)\n",
    "qc.h(1)\n",
    "\n",
    "# Display the original circuit\n",
    "print(\"Original Circuit:\")\n",
    "qc.draw(output='mpl')"
   ]
  },
  {
   "cell_type": "code",
   "execution_count": 16,
   "metadata": {},
   "outputs": [],
   "source": [
    "# Convert to graph representation\n",
    "qcg = QuantumCircuitGraph(qc)"
   ]
  },
  {
   "cell_type": "code",
   "execution_count": 17,
   "metadata": {},
   "outputs": [
    {
     "name": "stdout",
     "output_type": "stream",
     "text": [
      "Pattern subgraph: [('cx', <networkx.classes.digraph.DiGraph object at 0x0000019FFF50EC00>), ('h-h-cx-h-h', <networkx.classes.digraph.DiGraph object at 0x0000019FEAE452E0>), ('h-h-cx', <networkx.classes.digraph.DiGraph object at 0x0000019FFF50E870>), ('cx-h-h', <networkx.classes.digraph.DiGraph object at 0x0000019FFF4C8470>), ('h-cx-h', <networkx.classes.digraph.DiGraph object at 0x0000019FFF3F6C30>)]\n",
      "Matching subgraphs: [{'cx_0_control_0': 'cx_0_control_0', 'cx_1_target_0': 'cx_1_target_0'}]\n",
      "Matching key: cx\n",
      "Matching subgraph selected: {'cx_0_control_0': 'cx_0_control_0', 'cx_1_target_0': 'cx_1_target_0'}\n",
      "Graph nodes: ['cx_0_control_0', 'cx_1_target_0', 'h_0_1', 'h_1_2']\n",
      "Transformed operations: [(Instruction(name='h', num_qubits=1, num_clbits=0, params=[]), [Qubit(QuantumRegister(2, 'q'), 1)], []), (Instruction(name='h', num_qubits=1, num_clbits=0, params=[]), [Qubit(QuantumRegister(2, 'q'), 0)], []), (Instruction(name='cx', num_qubits=2, num_clbits=0, params=[]), [Qubit(QuantumRegister(2, 'q'), 1), Qubit(QuantumRegister(2, 'q'), 0)], []), (Instruction(name='h', num_qubits=1, num_clbits=0, params=[]), [Qubit(QuantumRegister(2, 'q'), 1)], []), (Instruction(name='h', num_qubits=1, num_clbits=0, params=[]), [Qubit(QuantumRegister(2, 'q'), 0)], []), (Instruction(name='h', num_qubits=1, num_clbits=0, params=[]), (Qubit(QuantumRegister(2, 'q'), 0),), ()), (Instruction(name='h', num_qubits=1, num_clbits=0, params=[]), (Qubit(QuantumRegister(2, 'q'), 1),), ())]\n"
     ]
    }
   ],
   "source": [
    "from QCCL.transformations import SwapControlTargetTransformation\n",
    "\n",
    "# Create an instance of the SwapControlTargetTransformation class and apply it\n",
    "transformation = SwapControlTargetTransformation(qcg)\n",
    "\n",
    "# Apply the transformation\n",
    "\n",
    "transformed_qcg = transformation.apply()  # Applying the transformation\n",
    "transformed_circuit = transformed_qcg.quantum_circuit  # Extract the transformed circuit"
   ]
  },
  {
   "cell_type": "code",
   "execution_count": 18,
   "metadata": {},
   "outputs": [
    {
     "name": "stdout",
     "output_type": "stream",
     "text": [
      "\n",
      "Transformed Circuit:\n"
     ]
    },
    {
     "data": {
      "image/png": "[encoded data removed]",
      "text/plain": [
       "<Figure size 454.517x200.667 with 1 Axes>"
      ]
     },
     "execution_count": 18,
     "metadata": {},
     "output_type": "execute_result"
    }
   ],
   "source": [
    "# Display the transformed circuit\n",
    "print(\"\\nTransformed Circuit:\")\n",
    "transformed_circuit.draw(output='mpl')"
   ]
  },
  {
   "cell_type": "markdown",
   "metadata": {},
   "source": [
    "2nd PATTERN: H, CNOT, H -> H, CNOT, H"
   ]
  },
  {
   "cell_type": "code",
   "execution_count": 19,
   "metadata": {},
   "outputs": [
    {
     "name": "stdout",
     "output_type": "stream",
     "text": [
      "Original Circuit:\n"
     ]
    },
    {
     "data": {
      "image/png": "[encoded data removed]",
      "text/plain": [
       "<Figure size 370.906x200.667 with 1 Axes>"
      ]
     },
     "execution_count": 19,
     "metadata": {},
     "output_type": "execute_result"
    }
   ],
   "source": [
    "qc = QuantumCircuit(2)\n",
    "qc.h(0)\n",
    "qc.cx(0, 1)  # Add CNOT gate\n",
    "qc.h(0)\n",
    "\n",
    "# Display the original circuit\n",
    "print(\"Original Circuit:\")\n",
    "qc.draw(output='mpl')"
   ]
  },
  {
   "cell_type": "code",
   "execution_count": 20,
   "metadata": {},
   "outputs": [
    {
     "name": "stdout",
     "output_type": "stream",
     "text": [
      "Pattern subgraph: [('cx', <networkx.classes.digraph.DiGraph object at 0x0000019FFF605400>), ('h-h-cx-h-h', <networkx.classes.digraph.DiGraph object at 0x0000019FE90EEC90>), ('h-h-cx', <networkx.classes.digraph.DiGraph object at 0x0000019FFF5C5B50>), ('cx-h-h', <networkx.classes.digraph.DiGraph object at 0x0000019FFF6B6B70>), ('h-cx-h', <networkx.classes.digraph.DiGraph object at 0x0000019FFF635F40>)]\n",
      "Matching subgraphs: [{'cx_0_control_1': 'cx_0_control_0', 'cx_1_target_1': 'cx_1_target_0'}]\n",
      "Matching key: cx\n",
      "Matching subgraph selected: {'cx_0_control_1': 'cx_0_control_0', 'cx_1_target_1': 'cx_1_target_0'}\n",
      "Graph nodes: ['h_0_0', 'cx_0_control_1', 'cx_1_target_1', 'h_0_2']\n",
      "Transformed operations: [(Instruction(name='h', num_qubits=1, num_clbits=0, params=[]), (Qubit(QuantumRegister(2, 'q'), 0),), ()), (Instruction(name='h', num_qubits=1, num_clbits=0, params=[]), [Qubit(QuantumRegister(2, 'q'), 1)], []), (Instruction(name='h', num_qubits=1, num_clbits=0, params=[]), [Qubit(QuantumRegister(2, 'q'), 0)], []), (Instruction(name='cx', num_qubits=2, num_clbits=0, params=[]), [Qubit(QuantumRegister(2, 'q'), 1), Qubit(QuantumRegister(2, 'q'), 0)], []), (Instruction(name='h', num_qubits=1, num_clbits=0, params=[]), [Qubit(QuantumRegister(2, 'q'), 1)], []), (Instruction(name='h', num_qubits=1, num_clbits=0, params=[]), [Qubit(QuantumRegister(2, 'q'), 0)], []), (Instruction(name='h', num_qubits=1, num_clbits=0, params=[]), (Qubit(QuantumRegister(2, 'q'), 0),), ())]\n",
      "\n",
      "Transformed Circuit:\n"
     ]
    },
    {
     "data": {
      "image/png": "[encoded data removed]",
      "text/plain": [
       "<Figure size 538.128x200.667 with 1 Axes>"
      ]
     },
     "execution_count": 20,
     "metadata": {},
     "output_type": "execute_result"
    }
   ],
   "source": [
    "# Convert to graph representation\n",
    "qcg = QuantumCircuitGraph(qc)\n",
    "\n",
    "# Create an instance of the SwapControlTargetTransformation class and apply it\n",
    "transformation = SwapControlTargetTransformation(qcg)\n",
    "\n",
    "# Apply the transformation\n",
    "transformed_qcg = transformation.apply()  # Applying the transformation\n",
    "transformed_circuit = transformed_qcg.quantum_circuit  # Extract the transformed circuit\n",
    "\n",
    "# Display the transformed circuit\n",
    "print(\"\\nTransformed Circuit:\")\n",
    "transformed_circuit.draw(output='mpl')"
   ]
  },
  {
   "cell_type": "markdown",
   "metadata": {},
   "source": [
    "### Test CNOTDecompositionTransformation"
   ]
  },
  {
   "cell_type": "markdown",
   "metadata": {},
   "source": [
    "1st PATTERN: CNOT -> CNOT, CNOT, CNOT, CNOT"
   ]
  },
  {
   "cell_type": "code",
   "execution_count": 21,
   "metadata": {},
   "outputs": [
    {
     "name": "stdout",
     "output_type": "stream",
     "text": [
      "Original Circuit:\n"
     ]
    },
    {
     "data": {
      "image/png": "[encoded data removed]",
      "text/plain": [
       "<Figure size 203.885x367.889 with 1 Axes>"
      ]
     },
     "execution_count": 21,
     "metadata": {},
     "output_type": "execute_result"
    }
   ],
   "source": [
    "qc = QuantumCircuit(4)\n",
    "qc.cx(0, 1)  # Add CNOT gate\n",
    "\n",
    "# Display the original circuit\n",
    "print(\"Original Circuit:\")\n",
    "qc.draw(output='mpl')"
   ]
  },
  {
   "cell_type": "code",
   "execution_count": 22,
   "metadata": {},
   "outputs": [
    {
     "name": "stdout",
     "output_type": "stream",
     "text": [
      "Matching subgraphs: [{'cx_0_control_0': 'cx_0_control_0', 'cx_1_target_0': 'cx_1_target_0'}]\n",
      "Matching key: cx\n",
      "Matching subgraph selected: {'cx_0_control_0': 'cx_0_control_0', 'cx_1_target_0': 'cx_1_target_0'}\n",
      "Graph nodes: ['cx_0_control_0', 'cx_1_target_0']\n",
      "Transformed operations: [(Instruction(name='cx', num_qubits=2, num_clbits=0, params=[]), [Qubit(QuantumRegister(4, 'q'), 0), Qubit(QuantumRegister(4, 'q'), 3)], []), (Instruction(name='cx', num_qubits=2, num_clbits=0, params=[]), [Qubit(QuantumRegister(4, 'q'), 3), Qubit(QuantumRegister(4, 'q'), 1)], []), (Instruction(name='cx', num_qubits=2, num_clbits=0, params=[]), [Qubit(QuantumRegister(4, 'q'), 0), Qubit(QuantumRegister(4, 'q'), 3)], []), (Instruction(name='cx', num_qubits=2, num_clbits=0, params=[]), [Qubit(QuantumRegister(4, 'q'), 3), Qubit(QuantumRegister(4, 'q'), 1)], [])]\n",
      "\n",
      "Transformed Circuit:\n"
     ]
    },
    {
     "data": {
      "image/png": "[encoded data removed]",
      "text/plain": [
       "<Figure size 454.719x367.889 with 1 Axes>"
      ]
     },
     "execution_count": 22,
     "metadata": {},
     "output_type": "execute_result"
    }
   ],
   "source": [
    "from QCCL.transformations import CNOTDecompositionTransformation\n",
    "\n",
    "# Convert to graph representation\n",
    "qcg = QuantumCircuitGraph(qc)\n",
    "\n",
    "# Create an instance of the SwapControlTargetTransformation class and apply it\n",
    "transformation = CNOTDecompositionTransformation(qcg)\n",
    "\n",
    "# Apply the transformation\n",
    "transformed_qcg = transformation.apply()  # Applying the transformation\n",
    "transformed_circuit = transformed_qcg.quantum_circuit  # Extract the transformed circuit\n",
    "\n",
    "# Display the transformed circuit\n",
    "print(\"\\nTransformed Circuit:\")\n",
    "transformed_circuit.draw(output='mpl')"
   ]
  },
  {
   "cell_type": "markdown",
   "metadata": {},
   "source": [
    "2st PATTERN: CNOT, CNOT, CNOT, CNOT -> CNOT or 4 CNOTs"
   ]
  },
  {
   "cell_type": "code",
   "execution_count": 23,
   "metadata": {},
   "outputs": [
    {
     "name": "stdout",
     "output_type": "stream",
     "text": [
      "Original Circuit:\n"
     ]
    },
    {
     "data": {
      "image/png": "[encoded data removed]",
      "text/plain": [
       "<Figure size 454.719x284.278 with 1 Axes>"
      ]
     },
     "execution_count": 23,
     "metadata": {},
     "output_type": "execute_result"
    }
   ],
   "source": [
    "qc = QuantumCircuit(3)\n",
    " \n",
    "qc.h(0)\n",
    "qc.cx(1, 2)  \n",
    "qc.cx(0, 1)  \n",
    "qc.cx(1, 2)\n",
    "qc.cx(0, 1) \n",
    "qc.t(2)\n",
    "\n",
    "# Display the original circuit\n",
    "print(\"Original Circuit:\")\n",
    "qc.draw(output='mpl')"
   ]
  },
  {
   "cell_type": "code",
   "execution_count": 24,
   "metadata": {},
   "outputs": [
    {
     "name": "stdout",
     "output_type": "stream",
     "text": [
      "Matching subgraphs: [{'cx_1_control_1': 'cx_1_control_0', 'cx_2_target_1': 'cx_2_target_0', 'cx_1_target_2': 'cx_1_target_1', 'cx_0_control_2': 'cx_0_control_1', 'cx_1_control_3': 'cx_1_control_2', 'cx_2_target_3': 'cx_2_target_2', 'cx_0_control_4': 'cx_0_control_3', 'cx_1_target_4': 'cx_1_target_3'}]\n",
      "Matching key: c-t-c-t\n",
      "Matching subgraph selected: {'cx_1_control_1': 'cx_1_control_0', 'cx_2_target_1': 'cx_2_target_0', 'cx_1_target_2': 'cx_1_target_1', 'cx_0_control_2': 'cx_0_control_1', 'cx_1_control_3': 'cx_1_control_2', 'cx_2_target_3': 'cx_2_target_2', 'cx_0_control_4': 'cx_0_control_3', 'cx_1_target_4': 'cx_1_target_3'}\n",
      "Graph nodes: ['h_0_0', 'cx_1_control_1', 'cx_2_target_1', 'cx_0_control_2', 'cx_1_target_2', 'cx_1_control_3', 'cx_2_target_3', 'cx_0_control_4', 'cx_1_target_4', 't_2_5']\n",
      "Transformed operations: [(Instruction(name='h', num_qubits=1, num_clbits=0, params=[]), (Qubit(QuantumRegister(3, 'q'), 0),), ()), (Instruction(name='cx', num_qubits=2, num_clbits=0, params=[]), [Qubit(QuantumRegister(3, 'q'), 0), Qubit(QuantumRegister(3, 'q'), 2)], []), (Instruction(name='t', num_qubits=1, num_clbits=0, params=[]), (Qubit(QuantumRegister(3, 'q'), 2),), ())]\n",
      "\n",
      "Transformed Circuit:\n"
     ]
    },
    {
     "data": {
      "image/png": "[encoded data removed]",
      "text/plain": [
       "<Figure size 371.107x284.278 with 1 Axes>"
      ]
     },
     "execution_count": 24,
     "metadata": {},
     "output_type": "execute_result"
    }
   ],
   "source": [
    "# Convert to graph representation\n",
    "qcg = QuantumCircuitGraph(qc)\n",
    "\n",
    "# Create an instance of the SwapControlTargetTransformation class and apply it\n",
    "transformation = CNOTDecompositionTransformation(qcg)\n",
    "\n",
    "# Apply the transformation\n",
    "transformed_qcg = transformation.apply()  # Applying the transformation\n",
    "transformed_circuit = transformed_qcg.quantum_circuit  # Extract the transformed circuit\n",
    "\n",
    "# Display the transformed circuit\n",
    "print(\"\\nTransformed Circuit:\")\n",
    "transformed_circuit.draw(output='mpl')"
   ]
  },
  {
   "cell_type": "markdown",
   "metadata": {},
   "source": [
    "### Test ChangeOfBasisTransformation"
   ]
  },
  {
   "cell_type": "code",
   "execution_count": 25,
   "metadata": {},
   "outputs": [],
   "source": [
    "from qiskit.circuit.library import HGate, ZGate, XGate, TGate\n",
    "import random\n",
    "from QCCL.transformations import ChangeOfBasisTransformation"
   ]
  },
  {
   "cell_type": "markdown",
   "metadata": {},
   "source": [
    "1st PATTERN: single H, Z, or X"
   ]
  },
  {
   "cell_type": "code",
   "execution_count": 26,
   "metadata": {},
   "outputs": [
    {
     "data": {
      "image/png": "[encoded data removed]",
      "text/plain": [
       "<Figure size 203.885x284.278 with 1 Axes>"
      ]
     },
     "execution_count": 26,
     "metadata": {},
     "output_type": "execute_result"
    }
   ],
   "source": [
    "# Circuit with HZH pattern\n",
    "qc = QuantumCircuit(3)\n",
    "qc.z(0)\n",
    "qc.h(1)\n",
    "qc.x(2)\n",
    "\n",
    "qc.draw('mpl')"
   ]
  },
  {
   "cell_type": "code",
   "execution_count": 38,
   "metadata": {},
   "outputs": [
    {
     "name": "stdout",
     "output_type": "stream",
     "text": [
      "Matching subgraphs: [{'h_1_1': 'h_0_0'}]\n",
      "Matching key: h\n",
      "Matching subgraph selected: {'h_1_1': 'h_0_0'}\n",
      "Replacement: [(Instruction(name='z', num_qubits=1, num_clbits=0, params=[]), [Qubit(QuantumRegister(3, 'q'), 1)], []), (Instruction(name='h', num_qubits=1, num_clbits=0, params=[]), [Qubit(QuantumRegister(3, 'q'), 1)], []), (Instruction(name='x', num_qubits=1, num_clbits=0, params=[]), [Qubit(QuantumRegister(3, 'q'), 1)], [])]\n",
      "Graph nodes: ['z_0_0', 'h_1_1', 'x_2_2']\n",
      "Matching indices: [1]\n",
      "Number of matching indices: 1\n",
      "Transformed operations: [(Instruction(name='z', num_qubits=1, num_clbits=0, params=[]), (Qubit(QuantumRegister(3, 'q'), 0),), ()), (Instruction(name='z', num_qubits=1, num_clbits=0, params=[]), [Qubit(QuantumRegister(3, 'q'), 1)], []), (Instruction(name='h', num_qubits=1, num_clbits=0, params=[]), [Qubit(QuantumRegister(3, 'q'), 1)], []), (Instruction(name='x', num_qubits=1, num_clbits=0, params=[]), [Qubit(QuantumRegister(3, 'q'), 1)], []), (Instruction(name='x', num_qubits=1, num_clbits=0, params=[]), (Qubit(QuantumRegister(3, 'q'), 2),), ())]\n",
      "\n",
      "Transformed Circuit:\n"
     ]
    },
    {
     "data": {
      "image/png": "[encoded data removed]",
      "text/plain": [
       "<Figure size 371.107x284.278 with 1 Axes>"
      ]
     },
     "execution_count": 38,
     "metadata": {},
     "output_type": "execute_result"
    }
   ],
   "source": [
    "# Convert to graph representation\n",
    "qcg = QuantumCircuitGraph(qc)\n",
    "\n",
    "# Create an instance of the SwapControlTargetTransformation class and apply it\n",
    "transformation = ChangeOfBasisTransformation(qcg)\n",
    "\n",
    "# Apply the transformation\n",
    "transformed_qcg = transformation.apply()  # Applying the transformation\n",
    "transformed_circuit = transformed_qcg.quantum_circuit  # Extract the transformed circuit\n",
    "\n",
    "# Display the transformed circuit\n",
    "print(\"\\nTransformed Circuit:\")\n",
    "transformed_circuit.draw(output='mpl')"
   ]
  },
  {
   "cell_type": "markdown",
   "metadata": {},
   "source": [
    "2nd PATTERN: HZ, ZH, HX, XH"
   ]
  },
  {
   "cell_type": "code",
   "execution_count": 39,
   "metadata": {},
   "outputs": [
    {
     "name": "stdout",
     "output_type": "stream",
     "text": [
      "Original Circuit:\n"
     ]
    },
    {
     "data": {
      "image/png": "[encoded data removed]",
      "text/plain": [
       "<Figure size 287.496x367.889 with 1 Axes>"
      ]
     },
     "execution_count": 39,
     "metadata": {},
     "output_type": "execute_result"
    }
   ],
   "source": [
    "qc = QuantumCircuit(4)\n",
    "qc.h(0)\n",
    "qc.z(0)\n",
    "qc.h(1)\n",
    "qc.x(1)\n",
    "qc.z(2)\n",
    "qc.h(2)\n",
    "qc.x(3)\n",
    "qc.h(3)\n",
    "\n",
    "# Display the original circuit\n",
    "print(\"Original Circuit:\")\n",
    "qc.draw(output='mpl')"
   ]
  },
  {
   "cell_type": "code",
   "execution_count": 53,
   "metadata": {},
   "outputs": [
    {
     "name": "stdout",
     "output_type": "stream",
     "text": [
      "Matching subgraphs: [{'x_3_6': 'x_0_0', 'h_3_7': 'h_0_1'}]\n",
      "Matching key: xh\n",
      "Matching subgraph selected: {'x_3_6': 'x_0_0', 'h_3_7': 'h_0_1'}\n",
      "Replacement: [(Instruction(name='h', num_qubits=1, num_clbits=0, params=[]), [Qubit(QuantumRegister(4, 'q'), 3)], []), (Instruction(name='z', num_qubits=1, num_clbits=0, params=[]), [Qubit(QuantumRegister(4, 'q'), 3)], [])]\n",
      "Graph nodes: ['h_0_0', 'z_0_1', 'h_1_2', 'x_1_3', 'z_2_4', 'h_2_5', 'x_3_6', 'h_3_7']\n",
      "Matching indices: [6, 7]\n",
      "Number of matching indices: 2\n",
      "Transformed operations: [(Instruction(name='h', num_qubits=1, num_clbits=0, params=[]), (Qubit(QuantumRegister(4, 'q'), 0),), ()), (Instruction(name='z', num_qubits=1, num_clbits=0, params=[]), (Qubit(QuantumRegister(4, 'q'), 0),), ()), (Instruction(name='h', num_qubits=1, num_clbits=0, params=[]), (Qubit(QuantumRegister(4, 'q'), 1),), ()), (Instruction(name='x', num_qubits=1, num_clbits=0, params=[]), (Qubit(QuantumRegister(4, 'q'), 1),), ()), (Instruction(name='z', num_qubits=1, num_clbits=0, params=[]), (Qubit(QuantumRegister(4, 'q'), 2),), ()), (Instruction(name='h', num_qubits=1, num_clbits=0, params=[]), (Qubit(QuantumRegister(4, 'q'), 2),), ()), (Instruction(name='h', num_qubits=1, num_clbits=0, params=[]), [Qubit(QuantumRegister(4, 'q'), 3)], []), (Instruction(name='z', num_qubits=1, num_clbits=0, params=[]), [Qubit(QuantumRegister(4, 'q'), 3)], [])]\n",
      "\n",
      "Transformed Circuit:\n"
     ]
    },
    {
     "data": {
      "image/png": "[encoded data removed]",
      "text/plain": [
       "<Figure size 287.496x367.889 with 1 Axes>"
      ]
     },
     "execution_count": 53,
     "metadata": {},
     "output_type": "execute_result"
    }
   ],
   "source": [
    "# Convert to graph representation\n",
    "qcg = QuantumCircuitGraph(qc)\n",
    "\n",
    "# Create an instance of the SwapControlTargetTransformation class and apply it\n",
    "transformation = ChangeOfBasisTransformation(qcg)\n",
    "\n",
    "# Apply the transformation\n",
    "transformed_qcg = transformation.apply()  # Applying the transformation\n",
    "transformed_circuit = transformed_qcg.quantum_circuit  # Extract the transformed circuit\n",
    "\n",
    "# Display the transformed circuit\n",
    "print(\"\\nTransformed Circuit:\")\n",
    "transformed_circuit.draw(output='mpl')"
   ]
  },
  {
   "cell_type": "markdown",
   "metadata": {},
   "source": [
    "3rd PATTERN: HXH, HZH, ..."
   ]
  },
  {
   "cell_type": "code",
   "execution_count": 74,
   "metadata": {},
   "outputs": [
    {
     "name": "stdout",
     "output_type": "stream",
     "text": [
      "Original Circuit:\n"
     ]
    },
    {
     "data": {
      "image/png": "[encoded data removed]",
      "text/plain": [
       "<Figure size 371.107x284.278 with 1 Axes>"
      ]
     },
     "execution_count": 74,
     "metadata": {},
     "output_type": "execute_result"
    }
   ],
   "source": [
    "qc = QuantumCircuit(3)\n",
    "qc.h(0)\n",
    "qc.z(0)\n",
    "qc.h(0)\n",
    "qc.h(1)\n",
    "qc.t(2)\n",
    "qc.x(1)\n",
    "qc.h(1)\n",
    "\n",
    "# Display the original circuit\n",
    "print(\"Original Circuit:\")\n",
    "qc.draw(output='mpl')"
   ]
  },
  {
   "cell_type": "code",
   "execution_count": 83,
   "metadata": {},
   "outputs": [
    {
     "name": "stdout",
     "output_type": "stream",
     "text": [
      "Matching subgraphs: [{'h_0_0': 'h_0_0', 'z_0_1': 'z_0_1', 'h_0_2': 'h_0_2'}]\n",
      "Matching key: hzh\n",
      "Matching subgraph selected: {'h_0_0': 'h_0_0', 'z_0_1': 'z_0_1', 'h_0_2': 'h_0_2'}\n",
      "Replacement: [(Instruction(name='x', num_qubits=1, num_clbits=0, params=[]), [Qubit(QuantumRegister(3, 'q'), 0)], [])]\n",
      "Graph nodes: ['h_0_0', 'z_0_1', 'h_0_2', 'h_1_3', 't_2_4', 'x_1_5', 'h_1_6']\n",
      "Matching indices: [0, 1, 2]\n",
      "Number of matching indices: 3\n",
      "Transformed operations: [(Instruction(name='x', num_qubits=1, num_clbits=0, params=[]), [Qubit(QuantumRegister(3, 'q'), 0)], []), (Instruction(name='h', num_qubits=1, num_clbits=0, params=[]), (Qubit(QuantumRegister(3, 'q'), 1),), ()), (Instruction(name='t', num_qubits=1, num_clbits=0, params=[]), (Qubit(QuantumRegister(3, 'q'), 2),), ()), (Instruction(name='x', num_qubits=1, num_clbits=0, params=[]), (Qubit(QuantumRegister(3, 'q'), 1),), ()), (Instruction(name='h', num_qubits=1, num_clbits=0, params=[]), (Qubit(QuantumRegister(3, 'q'), 1),), ())]\n",
      "\n",
      "Transformed Circuit:\n"
     ]
    },
    {
     "data": {
      "image/png": "[encoded data removed]",
      "text/plain": [
       "<Figure size 371.107x284.278 with 1 Axes>"
      ]
     },
     "execution_count": 83,
     "metadata": {},
     "output_type": "execute_result"
    }
   ],
   "source": [
    "# Convert to graph representation\n",
    "qcg = QuantumCircuitGraph(qc)\n",
    "\n",
    "# Create an instance of the SwapControlTargetTransformation class and apply it\n",
    "transformation = ChangeOfBasisTransformation(qcg)\n",
    "\n",
    "# Apply the transformation\n",
    "transformed_qcg = transformation.apply()  # Applying the transformation\n",
    "transformed_circuit = transformed_qcg.quantum_circuit  # Extract the transformed circuit\n",
    "\n",
    "# Display the transformed circuit\n",
    "print(\"\\nTransformed Circuit:\")\n",
    "transformed_circuit.draw(output='mpl')"
   ]
  }
 ],
 "metadata": {
  "kernelspec": {
   "display_name": "Python 3",
   "language": "python",
   "name": "python3"
  },
  "language_info": {
   "codemirror_mode": {
    "name": "ipython",
    "version": 3
   },
   "file_extension": ".py",
   "mimetype": "text/x-python",
   "name": "python",
   "nbconvert_exporter": "python",
   "pygments_lexer": "ipython3",
   "version": "3.12.5"
  }
 },
 "nbformat": 4,
 "nbformat_minor": 2
}
