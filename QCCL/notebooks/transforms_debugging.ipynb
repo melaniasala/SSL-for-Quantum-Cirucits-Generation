{
 "cells": [
  {
   "cell_type": "code",
   "execution_count": 1,
   "metadata": {},
   "outputs": [],
   "source": [
    "import os\n",
    "import sys\n",
    "\n",
    "sys.path.append(os.path.abspath(os.path.join('..', '..')))"
   ]
  },
  {
   "cell_type": "code",
   "execution_count": null,
   "metadata": {},
   "outputs": [
    {
     "name": "stdout",
     "output_type": "stream",
     "text": [
      " Volume in drive C is Acer\n",
      " Volume Serial Number is 70D2-9BA1\n",
      "\n",
      " Directory of c:\\Users\\melan\\shared-folder\\Thesis\\SSL-for-Quantum-Cirucits-Generation\\QCCL\\notebooks\n",
      "\n",
      "20/10/2024  13:17    <DIR>          .\n",
      "28/09/2024  21:20    <DIR>          ..\n",
      "24/09/2024  19:19         5,736,098 best_model.pth\n",
      "24/09/2024  19:18               787 hyperparam_tuning_results_with_configs.yaml\n",
      "11/10/2024  10:46           132,935 training.ipynb\n",
      "24/09/2024  19:19            24,818 training_best_history.png\n",
      "24/09/2024  18:59           204,856 training_byol big embedding.ipynb\n",
      "14/10/2024  12:11           247,018 training_byol.ipynb\n",
      "19/09/2024  16:50           248,587 training_norms_visual.ipynb\n",
      "01/10/2024  07:38           441,652 training-visual.ipynb\n",
      "29/10/2024  16:45           458,870 transforms_debugging.ipynb\n",
      "               9 File(s)      7,495,621 bytes\n",
      "               2 Dir(s)  82,925,608,960 bytes free\n"
     ]
    }
   ],
   "source": [
    "%ls"
   ]
  },
  {
   "cell_type": "code",
   "execution_count": 3,
   "metadata": {},
   "outputs": [
    {
     "name": "stderr",
     "output_type": "stream",
     "text": [
      "\n",
      "A module that was compiled using NumPy 1.x cannot be run in\n",
      "NumPy 2.1.2 as it may crash. To support both 1.x and 2.x\n",
      "versions of NumPy, modules must be compiled with NumPy 2.0.\n",
      "Some module may need to rebuild instead e.g. with 'pybind11>=2.12'.\n",
      "\n",
      "If you are a user of the module, the easiest solution will be to\n",
      "downgrade to 'numpy<2' or try to upgrade the affected module.\n",
      "We expect that some modules will need time to support NumPy 2.\n",
      "\n",
      "Traceback (most recent call last):  File \"<frozen runpy>\", line 198, in _run_module_as_main\n",
      "  File \"<frozen runpy>\", line 88, in _run_code\n",
      "  File \"c:\\Users\\melan\\AppData\\Local\\Programs\\Python\\Python312\\Lib\\site-packages\\ipykernel_launcher.py\", line 18, in <module>\n",
      "    app.launch_new_instance()\n",
      "  File \"c:\\Users\\melan\\AppData\\Local\\Programs\\Python\\Python312\\Lib\\site-packages\\traitlets\\config\\application.py\", line 1075, in launch_instance\n",
      "    app.start()\n",
      "  File \"c:\\Users\\melan\\AppData\\Local\\Programs\\Python\\Python312\\Lib\\site-packages\\ipykernel\\kernelapp.py\", line 739, in start\n",
      "    self.io_loop.start()\n",
      "  File \"c:\\Users\\melan\\AppData\\Local\\Programs\\Python\\Python312\\Lib\\site-packages\\tornado\\platform\\asyncio.py\", line 205, in start\n",
      "    self.asyncio_loop.run_forever()\n",
      "  File \"c:\\Users\\melan\\AppData\\Local\\Programs\\Python\\Python312\\Lib\\asyncio\\base_events.py\", line 641, in run_forever\n",
      "    self._run_once()\n",
      "  File \"c:\\Users\\melan\\AppData\\Local\\Programs\\Python\\Python312\\Lib\\asyncio\\base_events.py\", line 1986, in _run_once\n",
      "    handle._run()\n",
      "  File \"c:\\Users\\melan\\AppData\\Local\\Programs\\Python\\Python312\\Lib\\asyncio\\events.py\", line 88, in _run\n",
      "    self._context.run(self._callback, *self._args)\n",
      "  File \"c:\\Users\\melan\\AppData\\Local\\Programs\\Python\\Python312\\Lib\\site-packages\\ipykernel\\kernelbase.py\", line 545, in dispatch_queue\n",
      "    await self.process_one()\n",
      "  File \"c:\\Users\\melan\\AppData\\Local\\Programs\\Python\\Python312\\Lib\\site-packages\\ipykernel\\kernelbase.py\", line 534, in process_one\n",
      "    await dispatch(*args)\n",
      "  File \"c:\\Users\\melan\\AppData\\Local\\Programs\\Python\\Python312\\Lib\\site-packages\\ipykernel\\kernelbase.py\", line 437, in dispatch_shell\n",
      "    await result\n",
      "  File \"c:\\Users\\melan\\AppData\\Local\\Programs\\Python\\Python312\\Lib\\site-packages\\ipykernel\\ipkernel.py\", line 362, in execute_request\n",
      "    await super().execute_request(stream, ident, parent)\n",
      "  File \"c:\\Users\\melan\\AppData\\Local\\Programs\\Python\\Python312\\Lib\\site-packages\\ipykernel\\kernelbase.py\", line 778, in execute_request\n",
      "    reply_content = await reply_content\n",
      "  File \"c:\\Users\\melan\\AppData\\Local\\Programs\\Python\\Python312\\Lib\\site-packages\\ipykernel\\ipkernel.py\", line 449, in do_execute\n",
      "    res = shell.run_cell(\n",
      "  File \"c:\\Users\\melan\\AppData\\Local\\Programs\\Python\\Python312\\Lib\\site-packages\\ipykernel\\zmqshell.py\", line 549, in run_cell\n",
      "    return super().run_cell(*args, **kwargs)\n",
      "  File \"c:\\Users\\melan\\AppData\\Local\\Programs\\Python\\Python312\\Lib\\site-packages\\IPython\\core\\interactiveshell.py\", line 3075, in run_cell\n",
      "    result = self._run_cell(\n",
      "  File \"c:\\Users\\melan\\AppData\\Local\\Programs\\Python\\Python312\\Lib\\site-packages\\IPython\\core\\interactiveshell.py\", line 3130, in _run_cell\n",
      "    result = runner(coro)\n",
      "  File \"c:\\Users\\melan\\AppData\\Local\\Programs\\Python\\Python312\\Lib\\site-packages\\IPython\\core\\async_helpers.py\", line 128, in _pseudo_sync_runner\n",
      "    coro.send(None)\n",
      "  File \"c:\\Users\\melan\\AppData\\Local\\Programs\\Python\\Python312\\Lib\\site-packages\\IPython\\core\\interactiveshell.py\", line 3334, in run_cell_async\n",
      "    has_raised = await self.run_ast_nodes(code_ast.body, cell_name,\n",
      "  File \"c:\\Users\\melan\\AppData\\Local\\Programs\\Python\\Python312\\Lib\\site-packages\\IPython\\core\\interactiveshell.py\", line 3517, in run_ast_nodes\n",
      "    if await self.run_code(code, result, async_=asy):\n",
      "  File \"c:\\Users\\melan\\AppData\\Local\\Programs\\Python\\Python312\\Lib\\site-packages\\IPython\\core\\interactiveshell.py\", line 3577, in run_code\n",
      "    exec(code_obj, self.user_global_ns, self.user_ns)\n",
      "  File \"C:\\Users\\melan\\AppData\\Local\\Temp\\ipykernel_37836\\616785901.py\", line 2, in <module>\n",
      "    from Data.QuantumCircuitGraph import QuantumCircuitGraph\n",
      "  File \"c:\\Users\\melan\\shared-folder\\Thesis\\SSL-for-Quantum-Cirucits-Generation\\Data\\QuantumCircuitGraph.py\", line 2, in <module>\n",
      "    import torch\n",
      "  File \"c:\\Users\\melan\\AppData\\Local\\Programs\\Python\\Python312\\Lib\\site-packages\\torch\\__init__.py\", line 1471, in <module>\n",
      "    from .functional import *  # noqa: F403\n",
      "  File \"c:\\Users\\melan\\AppData\\Local\\Programs\\Python\\Python312\\Lib\\site-packages\\torch\\functional.py\", line 9, in <module>\n",
      "    import torch.nn.functional as F\n",
      "  File \"c:\\Users\\melan\\AppData\\Local\\Programs\\Python\\Python312\\Lib\\site-packages\\torch\\nn\\__init__.py\", line 1, in <module>\n",
      "    from .modules import *  # noqa: F403\n",
      "  File \"c:\\Users\\melan\\AppData\\Local\\Programs\\Python\\Python312\\Lib\\site-packages\\torch\\nn\\modules\\__init__.py\", line 35, in <module>\n",
      "    from .transformer import TransformerEncoder, TransformerDecoder, \\\n",
      "  File \"c:\\Users\\melan\\AppData\\Local\\Programs\\Python\\Python312\\Lib\\site-packages\\torch\\nn\\modules\\transformer.py\", line 20, in <module>\n",
      "    device: torch.device = torch.device(torch._C._get_default_device()),  # torch.device('cpu'),\n",
      "c:\\Users\\melan\\AppData\\Local\\Programs\\Python\\Python312\\Lib\\site-packages\\torch\\nn\\modules\\transformer.py:20: UserWarning: Failed to initialize NumPy: _ARRAY_API not found (Triggered internally at ..\\torch\\csrc\\utils\\tensor_numpy.cpp:84.)\n",
      "  device: torch.device = torch.device(torch._C._get_default_device()),  # torch.device('cpu'),\n"
     ]
    }
   ],
   "source": [
    "from qiskit import QuantumCircuit\n",
    "from Data.QuantumCircuitGraph import QuantumCircuitGraph"
   ]
  },
  {
   "cell_type": "code",
   "execution_count": 4,
   "metadata": {},
   "outputs": [
    {
     "name": "stdout",
     "output_type": "stream",
     "text": [
      "Modified GATE_TYPE_MAP: {'cx': 0, 'h': 1, 'x': 2, 'z': 3, 't': 4, 'id': 5}\n",
      "Modified include_params: False\n",
      "Modified include_identity_gates: False\n",
      "Modified differentiate_cx: True\n"
     ]
    }
   ],
   "source": [
    "# Settings\n",
    "\n",
    "GATE_TYPE_MAP = {\n",
    "    'cx': 0, \n",
    "    'h': 1, \n",
    "    'x': 2,\n",
    "    'z': 3,\n",
    "    't': 4\n",
    "    # Add here all possible gate types\n",
    "} # map gate type to index in one-hot encoding\n",
    "# add id always in last position\n",
    "GATE_TYPE_MAP['id'] = len(GATE_TYPE_MAP)\n",
    "\n",
    "\n",
    "QuantumCircuitGraph.set_gate_type_map(GATE_TYPE_MAP)\n",
    "QuantumCircuitGraph.set_include_params(False)\n",
    "QuantumCircuitGraph.set_include_identity_gates(False)\n",
    "QuantumCircuitGraph.set_differentiate_cx(True)\n",
    "\n",
    "\n",
    "print(\"Modified GATE_TYPE_MAP:\", QuantumCircuitGraph.GATE_TYPE_MAP)\n",
    "print(\"Modified include_params:\", QuantumCircuitGraph.include_params)\n",
    "print(\"Modified include_identity_gates:\", QuantumCircuitGraph.include_identity_gates)\n",
    "print(\"Modified differentiate_cx:\", QuantumCircuitGraph.differentiate_cx)"
   ]
  },
  {
   "cell_type": "markdown",
   "metadata": {},
   "source": [
    "### Test AddIdentityGatesTransformation"
   ]
  },
  {
   "cell_type": "code",
   "execution_count": 5,
   "metadata": {},
   "outputs": [
    {
     "data": {
      "image/png": "[encoded data removed]",
      "text/plain": [
       "<Figure size 287.496x284.278 with 1 Axes>"
      ]
     },
     "execution_count": 5,
     "metadata": {},
     "output_type": "execute_result"
    }
   ],
   "source": [
    "# Create a simple quantum circuit\n",
    "num_qubits = 3\n",
    "qc = QuantumCircuit(num_qubits)\n",
    "qc.h(0)\n",
    "qc.cx(0, 1)\n",
    "qc.x(2)\n",
    "\n",
    "# Visualize the initial quantum circuit\n",
    "qc.draw('mpl')"
   ]
  },
  {
   "cell_type": "code",
   "execution_count": 6,
   "metadata": {},
   "outputs": [],
   "source": [
    "# Convert to graph representation\n",
    "qcg = QuantumCircuitGraph(qc)"
   ]
  },
  {
   "cell_type": "code",
   "execution_count": 7,
   "metadata": {},
   "outputs": [],
   "source": [
    "from QCCL.transformations import AddIdentityGatesTransformation\n",
    "\n",
    "# Create an instance of the SwapControlTargetTransformation class and apply it\n",
    "transformation = AddIdentityGatesTransformation(qcg)\n",
    "\n",
    "# Apply the transformation\n",
    "transformed_qcg = transformation.apply()  # Applying the transformation\n",
    "transformed_circuit = transformed_qcg.quantum_circuit  # Extract the transformed circuit"
   ]
  },
  {
   "cell_type": "code",
   "execution_count": 8,
   "metadata": {},
   "outputs": [
    {
     "name": "stdout",
     "output_type": "stream",
     "text": [
      "\n",
      "Transformed Circuit:\n"
     ]
    },
    {
     "data": {
      "image/png": "[encoded data removed]",
      "text/plain": [
       "<Figure size 454.719x284.278 with 1 Axes>"
      ]
     },
     "execution_count": 8,
     "metadata": {},
     "output_type": "execute_result"
    }
   ],
   "source": [
    "# Display the transformed circuit\n",
    "print(\"\\nTransformed Circuit:\")\n",
    "transformed_circuit.draw(output='mpl')"
   ]
  },
  {
   "cell_type": "markdown",
   "metadata": {},
   "source": [
    "### Test RemoveIdentityGatesTransformation"
   ]
  },
  {
   "cell_type": "code",
   "execution_count": 9,
   "metadata": {},
   "outputs": [
    {
     "name": "stdout",
     "output_type": "stream",
     "text": [
      "Pattern subgraphs: [(None, <networkx.classes.digraph.DiGraph object at 0x00000192CABE37D0>), (None, <networkx.classes.digraph.DiGraph object at 0x00000192E2F7EC60>), (None, <networkx.classes.digraph.DiGraph object at 0x00000192E3079F10>), (None, <networkx.classes.digraph.DiGraph object at 0x00000192E307B620>), (None, <networkx.classes.digraph.DiGraph object at 0x00000192E30A6D50>)]\n",
      "Matching key and subgraph(dict): None, {'z_0_3': 'z_0_0', 'z_0_4': 'z_0_1'}\n",
      "Matching subgraphs: DiGraph with 2 nodes and 1 edges\n",
      "Matching key: None\n",
      "Current operations: [(Instruction(name='h', num_qubits=1, num_clbits=0, params=[]), (Qubit(QuantumRegister(3, 'q'), 0),), ()), (Instruction(name='cx', num_qubits=2, num_clbits=0, params=[]), (Qubit(QuantumRegister(3, 'q'), 0), Qubit(QuantumRegister(3, 'q'), 1)), ()), (Instruction(name='x', num_qubits=1, num_clbits=0, params=[]), (Qubit(QuantumRegister(3, 'q'), 2),), ()), (Instruction(name='z', num_qubits=1, num_clbits=0, params=[]), (Qubit(QuantumRegister(3, 'q'), 0),), ()), (Instruction(name='z', num_qubits=1, num_clbits=0, params=[]), (Qubit(QuantumRegister(3, 'q'), 0),), ())]\n",
      "Graph nodes: ['h_0_0', 'cx_0_control_1', 'cx_1_target_1', 'x_2_2', 'z_0_3', 'z_0_4']\n",
      "Graph to circuit mapping: {'h_0_0': 0, 'cx_0_control_1': 1, 'cx_1_target_1': 1, 'x_2_2': 2, 'z_0_3': 3, 'z_0_4': 4}\n",
      "Matching indices: [3, 4]\n",
      "Transformed operations: [(Instruction(name='h', num_qubits=1, num_clbits=0, params=[]), (Qubit(QuantumRegister(3, 'q'), 0),), ()), (Instruction(name='cx', num_qubits=2, num_clbits=0, params=[]), (Qubit(QuantumRegister(3, 'q'), 0), Qubit(QuantumRegister(3, 'q'), 1)), ()), (Instruction(name='x', num_qubits=1, num_clbits=0, params=[]), (Qubit(QuantumRegister(3, 'q'), 2),), ())]\n"
     ]
    }
   ],
   "source": [
    "from QCCL.transformations import RemoveIdentityGatesTransformation\n",
    "\n",
    "# Create an instance of the SwapControlTargetTransformation class and apply it\n",
    "reverse_transformation = RemoveIdentityGatesTransformation(transformed_qcg)\n",
    "\n",
    "# Apply the transformation\n",
    "transformed_qcg = reverse_transformation.apply()  # Applying the transformation\n",
    "transformed_circuit = transformed_qcg.quantum_circuit  # Extract the transformed circuit"
   ]
  },
  {
   "cell_type": "code",
   "execution_count": 10,
   "metadata": {},
   "outputs": [
    {
     "name": "stdout",
     "output_type": "stream",
     "text": [
      "\n",
      "Transformed Circuit:\n"
     ]
    },
    {
     "data": {
      "image/png": "[encoded data removed]",
      "text/plain": [
       "<Figure size 287.496x284.278 with 1 Axes>"
      ]
     },
     "execution_count": 10,
     "metadata": {},
     "output_type": "execute_result"
    }
   ],
   "source": [
    "# Display the transformed circuit\n",
    "print(\"\\nTransformed Circuit:\")\n",
    "transformed_circuit.draw(output='mpl')"
   ]
  },
  {
   "cell_type": "markdown",
   "metadata": {},
   "source": [
    "### Test SwapControlTargetTransformation\n"
   ]
  },
  {
   "cell_type": "markdown",
   "metadata": {},
   "source": [
    "1st PATTERN: CNOT -> CNOT -> H, H, CNOT, H, H"
   ]
  },
  {
   "cell_type": "code",
   "execution_count": 11,
   "metadata": {},
   "outputs": [
    {
     "name": "stdout",
     "output_type": "stream",
     "text": [
      "Original Circuit:\n"
     ]
    },
    {
     "data": {
      "image/png": "[encoded data removed]",
      "text/plain": [
       "<Figure size 203.683x200.667 with 1 Axes>"
      ]
     },
     "execution_count": 11,
     "metadata": {},
     "output_type": "execute_result"
    }
   ],
   "source": [
    "qc = QuantumCircuit(2)\n",
    "qc.cx(0, 1)  # Add CNOT gate\n",
    "\n",
    "# Display the original circuit\n",
    "print(\"Original Circuit:\")\n",
    "qc.draw(output='mpl')"
   ]
  },
  {
   "cell_type": "code",
   "execution_count": 12,
   "metadata": {},
   "outputs": [],
   "source": [
    "# Convert to graph representation\n",
    "qcg = QuantumCircuitGraph(qc)"
   ]
  },
  {
   "cell_type": "code",
   "execution_count": 13,
   "metadata": {},
   "outputs": [
    {
     "name": "stdout",
     "output_type": "stream",
     "text": [
      "Pattern subgraph: [('cx', <networkx.classes.digraph.DiGraph object at 0x00000192E30FC980>), ('h-h-cx-h-h', <networkx.classes.digraph.DiGraph object at 0x00000192E30FDA00>), ('h-h-cx', <networkx.classes.digraph.DiGraph object at 0x00000192E30EA810>), ('cx-h-h', <networkx.classes.digraph.DiGraph object at 0x00000192E30DB6B0>), ('h-cx-h', <networkx.classes.digraph.DiGraph object at 0x00000192E301B740>)]\n",
      "Pattern subgraphs: [('h-cx-h', <networkx.classes.digraph.DiGraph object at 0x00000192E301B740>), ('h-h-cx', <networkx.classes.digraph.DiGraph object at 0x00000192E30EA810>), ('h-h-cx-h-h', <networkx.classes.digraph.DiGraph object at 0x00000192E30FDA00>), ('cx', <networkx.classes.digraph.DiGraph object at 0x00000192E30FC980>), ('cx-h-h', <networkx.classes.digraph.DiGraph object at 0x00000192E30DB6B0>)]\n",
      "Matching key and subgraph(dict): cx, {'cx_0_control_0': 'cx_0_control_0', 'cx_1_target_0': 'cx_1_target_0'}\n",
      "Matching subgraphs: DiGraph with 2 nodes and 2 edges\n",
      "Matching key: cx\n",
      "Graph nodes: ['cx_0_control_0', 'cx_1_target_0']\n",
      "Transformed operations: [(Instruction(name='h', num_qubits=1, num_clbits=0, params=[]), [Qubit(QuantumRegister(2, 'q'), 1)], []), (Instruction(name='h', num_qubits=1, num_clbits=0, params=[]), [Qubit(QuantumRegister(2, 'q'), 0)], []), (Instruction(name='cx', num_qubits=2, num_clbits=0, params=[]), [Qubit(QuantumRegister(2, 'q'), 1), Qubit(QuantumRegister(2, 'q'), 0)], []), (Instruction(name='h', num_qubits=1, num_clbits=0, params=[]), [Qubit(QuantumRegister(2, 'q'), 1)], []), (Instruction(name='h', num_qubits=1, num_clbits=0, params=[]), [Qubit(QuantumRegister(2, 'q'), 0)], [])]\n"
     ]
    }
   ],
   "source": [
    "from QCCL.transformations import SwapControlTargetTransformation\n",
    "\n",
    "# Create an instance of the SwapControlTargetTransformation class and apply it\n",
    "transformation = SwapControlTargetTransformation(qcg)\n",
    "\n",
    "# Apply the transformation\n",
    "\n",
    "transformed_qcg = transformation.apply()  # Applying the transformation\n",
    "transformed_circuit = transformed_qcg.quantum_circuit  # Extract the transformed circuit\n"
   ]
  },
  {
   "cell_type": "code",
   "execution_count": 14,
   "metadata": {},
   "outputs": [
    {
     "name": "stdout",
     "output_type": "stream",
     "text": [
      "\n",
      "Transformed Circuit:\n"
     ]
    },
    {
     "data": {
      "image/png": "[encoded data removed]",
      "text/plain": [
       "<Figure size 370.906x200.667 with 1 Axes>"
      ]
     },
     "execution_count": 14,
     "metadata": {},
     "output_type": "execute_result"
    }
   ],
   "source": [
    "\n",
    "# Display the transformed circuit\n",
    "print(\"\\nTransformed Circuit:\")\n",
    "transformed_circuit.draw(output='mpl')"
   ]
  },
  {
   "cell_type": "markdown",
   "metadata": {},
   "source": [
    "2nd PATTERN: CNOT, H, H -> H, H, CNOT"
   ]
  },
  {
   "cell_type": "code",
   "execution_count": null,
   "metadata": {},
   "outputs": [
    {
     "name": "stdout",
     "output_type": "stream",
     "text": [
      "Original Circuit:\n"
     ]
    },
    {
     "data": {
      "image/png": "[encoded data removed]",
      "text/plain": [
       "<Figure size 287.294x200.667 with 1 Axes>"
      ]
     },
     "execution_count": 15,
     "metadata": {},
     "output_type": "execute_result"
    }
   ],
   "source": [
    "qc = QuantumCircuit(2)\n",
    "qc.cx(0, 1)  # Add CNOT gate\n",
    "qc.h(0)\n",
    "qc.h(1)\n",
    "\n",
    "# Display the original circuit\n",
    "print(\"Original Circuit:\")\n",
    "qc.draw(output='mpl')"
   ]
  },
  {
   "cell_type": "code",
   "execution_count": 16,
   "metadata": {},
   "outputs": [],
   "source": [
    "# Convert to graph representation\n",
    "qcg = QuantumCircuitGraph(qc)"
   ]
  },
  {
   "cell_type": "code",
   "execution_count": 17,
   "metadata": {},
   "outputs": [
    {
     "name": "stdout",
     "output_type": "stream",
     "text": [
      "Pattern subgraph: [('cx', <networkx.classes.digraph.DiGraph object at 0x00000192E32BA570>), ('h-h-cx-h-h', <networkx.classes.digraph.DiGraph object at 0x00000192CAD59520>), ('h-h-cx', <networkx.classes.digraph.DiGraph object at 0x00000192E30DBE00>), ('cx-h-h', <networkx.classes.digraph.DiGraph object at 0x00000192E31EF6E0>), ('h-cx-h', <networkx.classes.digraph.DiGraph object at 0x00000192E309D850>)]\n",
      "Pattern subgraphs: [('cx-h-h', <networkx.classes.digraph.DiGraph object at 0x00000192E31EF6E0>), ('h-cx-h', <networkx.classes.digraph.DiGraph object at 0x00000192E309D850>), ('cx', <networkx.classes.digraph.DiGraph object at 0x00000192E32BA570>), ('h-h-cx-h-h', <networkx.classes.digraph.DiGraph object at 0x00000192CAD59520>), ('h-h-cx', <networkx.classes.digraph.DiGraph object at 0x00000192E30DBE00>)]\n",
      "Matching key and subgraph(dict): cx-h-h, {'cx_0_control_0': 'cx_0_control_0', 'cx_1_target_0': 'cx_1_target_0', 'h_0_1': 'h_0_1', 'h_1_2': 'h_1_2'}\n",
      "Matching subgraphs: DiGraph with 4 nodes and 4 edges\n",
      "Matching key: cx-h-h\n",
      "Graph nodes: ['cx_0_control_0', 'cx_1_target_0', 'h_0_1', 'h_1_2']\n",
      "Transformed operations: [(Instruction(name='h', num_qubits=1, num_clbits=0, params=[]), [Qubit(QuantumRegister(2, 'q'), 1)], []), (Instruction(name='h', num_qubits=1, num_clbits=0, params=[]), [Qubit(QuantumRegister(2, 'q'), 0)], []), (Instruction(name='cx', num_qubits=2, num_clbits=0, params=[]), [Qubit(QuantumRegister(2, 'q'), 1), Qubit(QuantumRegister(2, 'q'), 0)], [])]\n"
     ]
    }
   ],
   "source": [
    "from QCCL.transformations import SwapControlTargetTransformation\n",
    "\n",
    "# Create an instance of the SwapControlTargetTransformation class and apply it\n",
    "transformation = SwapControlTargetTransformation(qcg)\n",
    "\n",
    "# Apply the transformation\n",
    "\n",
    "transformed_qcg = transformation.apply()  # Applying the transformation\n",
    "transformed_circuit = transformed_qcg.quantum_circuit  # Extract the transformed circuit"
   ]
  },
  {
   "cell_type": "code",
   "execution_count": null,
   "metadata": {},
   "outputs": [
    {
     "name": "stdout",
     "output_type": "stream",
     "text": [
      "\n",
      "Transformed Circuit:\n"
     ]
    },
    {
     "data": {
      "image/png": "[encoded data removed]",
      "text/plain": [
       "<Figure size 287.294x200.667 with 1 Axes>"
      ]
     },
     "execution_count": 18,
     "metadata": {},
     "output_type": "execute_result"
    }
   ],
   "source": [
    "# Display the transformed circuit\n",
    "print(\"\\nTransformed Circuit:\")\n",
    "transformed_circuit.draw(output='mpl')"
   ]
  },
  {
   "cell_type": "markdown",
   "metadata": {},
   "source": [
    "2nd PATTERN: H, CNOT, H -> H, CNOT, H"
   ]
  },
  {
   "cell_type": "code",
   "execution_count": 19,
   "metadata": {},
   "outputs": [
    {
     "name": "stdout",
     "output_type": "stream",
     "text": [
      "Original Circuit:\n"
     ]
    },
    {
     "data": {
      "image/png": "[encoded data removed]",
      "text/plain": [
       "<Figure size 370.906x200.667 with 1 Axes>"
      ]
     },
     "execution_count": 19,
     "metadata": {},
     "output_type": "execute_result"
    }
   ],
   "source": [
    "qc = QuantumCircuit(2)\n",
    "qc.h(0)\n",
    "qc.cx(0, 1)  # Add CNOT gate\n",
    "qc.h(0)\n",
    "\n",
    "# Display the original circuit\n",
    "print(\"Original Circuit:\")\n",
    "qc.draw(output='mpl')"
   ]
  },
  {
   "cell_type": "code",
   "execution_count": 20,
   "metadata": {},
   "outputs": [
    {
     "name": "stdout",
     "output_type": "stream",
     "text": [
      "Pattern subgraph: [('cx', <networkx.classes.digraph.DiGraph object at 0x00000192E31EC590>), ('h-h-cx-h-h', <networkx.classes.digraph.DiGraph object at 0x00000192E30A7620>), ('h-h-cx', <networkx.classes.digraph.DiGraph object at 0x00000192E325EC60>), ('cx-h-h', <networkx.classes.digraph.DiGraph object at 0x00000192E30FDA00>), ('h-cx-h', <networkx.classes.digraph.DiGraph object at 0x00000192E30EB860>)]\n",
      "Pattern subgraphs: [('cx', <networkx.classes.digraph.DiGraph object at 0x00000192E31EC590>), ('h-cx-h', <networkx.classes.digraph.DiGraph object at 0x00000192E30EB860>), ('h-h-cx-h-h', <networkx.classes.digraph.DiGraph object at 0x00000192E30A7620>), ('h-h-cx', <networkx.classes.digraph.DiGraph object at 0x00000192E325EC60>), ('cx-h-h', <networkx.classes.digraph.DiGraph object at 0x00000192E30FDA00>)]\n",
      "Matching key and subgraph(dict): cx, {'cx_0_control_1': 'cx_0_control_0', 'cx_1_target_1': 'cx_1_target_0'}\n",
      "Matching subgraphs: DiGraph with 2 nodes and 2 edges\n",
      "Matching key: cx\n",
      "Graph nodes: ['h_0_0', 'cx_0_control_1', 'cx_1_target_1', 'h_0_2']\n",
      "Transformed operations: [(Instruction(name='h', num_qubits=1, num_clbits=0, params=[]), (Qubit(QuantumRegister(2, 'q'), 0),), ()), (Instruction(name='h', num_qubits=1, num_clbits=0, params=[]), [Qubit(QuantumRegister(2, 'q'), 1)], []), (Instruction(name='h', num_qubits=1, num_clbits=0, params=[]), [Qubit(QuantumRegister(2, 'q'), 0)], []), (Instruction(name='cx', num_qubits=2, num_clbits=0, params=[]), [Qubit(QuantumRegister(2, 'q'), 1), Qubit(QuantumRegister(2, 'q'), 0)], []), (Instruction(name='h', num_qubits=1, num_clbits=0, params=[]), [Qubit(QuantumRegister(2, 'q'), 1)], []), (Instruction(name='h', num_qubits=1, num_clbits=0, params=[]), [Qubit(QuantumRegister(2, 'q'), 0)], []), (Instruction(name='h', num_qubits=1, num_clbits=0, params=[]), (Qubit(QuantumRegister(2, 'q'), 0),), ())]\n",
      "\n",
      "Transformed Circuit:\n"
     ]
    },
    {
     "data": {
      "image/png": "[encoded data removed]",
      "text/plain": [
       "<Figure size 538.128x200.667 with 1 Axes>"
      ]
     },
     "execution_count": 20,
     "metadata": {},
     "output_type": "execute_result"
    }
   ],
   "source": [
    "# Convert to graph representation\n",
    "qcg = QuantumCircuitGraph(qc)\n",
    "\n",
    "# Create an instance of the SwapControlTargetTransformation class and apply it\n",
    "transformation = SwapControlTargetTransformation(qcg)\n",
    "\n",
    "# Apply the transformation\n",
    "transformed_qcg = transformation.apply()  # Applying the transformation\n",
    "transformed_circuit = transformed_qcg.quantum_circuit  # Extract the transformed circuit\n",
    "\n",
    "# Display the transformed circuit\n",
    "print(\"\\nTransformed Circuit:\")\n",
    "transformed_circuit.draw(output='mpl')"
   ]
  },
  {
   "cell_type": "markdown",
   "metadata": {},
   "source": [
    "### Test CNOTDecompositionTransformation"
   ]
  },
  {
   "cell_type": "markdown",
   "metadata": {},
   "source": [
    "1st PATTERN: CNOT -> CNOT, CNOT, CNOT, CNOT"
   ]
  },
  {
   "cell_type": "code",
   "execution_count": 21,
   "metadata": {},
   "outputs": [
    {
     "name": "stdout",
     "output_type": "stream",
     "text": [
      "Original Circuit:\n"
     ]
    },
    {
     "data": {
      "image/png": "[encoded data removed]",
      "text/plain": [
       "<Figure size 203.885x367.889 with 1 Axes>"
      ]
     },
     "execution_count": 21,
     "metadata": {},
     "output_type": "execute_result"
    }
   ],
   "source": [
    "qc = QuantumCircuit(4)\n",
    "qc.cx(0, 1)  # Add CNOT gate\n",
    "\n",
    "# Display the original circuit\n",
    "print(\"Original Circuit:\")\n",
    "qc.draw(output='mpl')"
   ]
  },
  {
   "cell_type": "code",
   "execution_count": 22,
   "metadata": {},
   "outputs": [
    {
     "name": "stdout",
     "output_type": "stream",
     "text": [
      "Pattern subgraphs: [('c-t-c-t', <networkx.classes.digraph.DiGraph object at 0x00000192E2F2D2B0>), ('cx', <networkx.classes.digraph.DiGraph object at 0x00000192E31EC590>), ('t-c-t-c', <networkx.classes.digraph.DiGraph object at 0x00000192E309E0C0>)]\n",
      "Matching key and subgraph(dict): cx, {'cx_0_control_0': 'cx_0_control_0', 'cx_1_target_0': 'cx_1_target_0'}\n",
      "Matching subgraphs: DiGraph with 2 nodes and 2 edges\n",
      "Matching key: cx\n",
      "Graph nodes: ['cx_0_control_0', 'cx_1_target_0']\n",
      "Transformed operations: [(Instruction(name='cx', num_qubits=2, num_clbits=0, params=[]), [Qubit(QuantumRegister(4, 'q'), 0), Qubit(QuantumRegister(4, 'q'), 2)], []), (Instruction(name='cx', num_qubits=2, num_clbits=0, params=[]), [Qubit(QuantumRegister(4, 'q'), 2), Qubit(QuantumRegister(4, 'q'), 1)], []), (Instruction(name='cx', num_qubits=2, num_clbits=0, params=[]), [Qubit(QuantumRegister(4, 'q'), 0), Qubit(QuantumRegister(4, 'q'), 2)], []), (Instruction(name='cx', num_qubits=2, num_clbits=0, params=[]), [Qubit(QuantumRegister(4, 'q'), 2), Qubit(QuantumRegister(4, 'q'), 1)], [])]\n",
      "\n",
      "Transformed Circuit:\n"
     ]
    },
    {
     "data": {
      "image/png": "[encoded data removed]",
      "text/plain": [
       "<Figure size 454.719x367.889 with 1 Axes>"
      ]
     },
     "execution_count": 22,
     "metadata": {},
     "output_type": "execute_result"
    }
   ],
   "source": [
    "from QCCL.transformations import CNOTDecompositionTransformation\n",
    "\n",
    "# Convert to graph representation\n",
    "qcg = QuantumCircuitGraph(qc)\n",
    "\n",
    "# Create an instance of the SwapControlTargetTransformation class and apply it\n",
    "transformation = CNOTDecompositionTransformation(qcg)\n",
    "\n",
    "# Apply the transformation\n",
    "transformed_qcg = transformation.apply()  # Applying the transformation\n",
    "transformed_circuit = transformed_qcg.quantum_circuit  # Extract the transformed circuit\n",
    "\n",
    "# Display the transformed circuit\n",
    "print(\"\\nTransformed Circuit:\")\n",
    "transformed_circuit.draw(output='mpl')"
   ]
  },
  {
   "cell_type": "markdown",
   "metadata": {},
   "source": [
    "2st PATTERN: CNOT, CNOT, CNOT, CNOT -> CNOT or 4 CNOTs"
   ]
  },
  {
   "cell_type": "code",
   "execution_count": 23,
   "metadata": {},
   "outputs": [
    {
     "name": "stdout",
     "output_type": "stream",
     "text": [
      "Original Circuit:\n"
     ]
    },
    {
     "data": {
      "image/png": "[encoded data removed]",
      "text/plain": [
       "<Figure size 454.719x284.278 with 1 Axes>"
      ]
     },
     "execution_count": 23,
     "metadata": {},
     "output_type": "execute_result"
    }
   ],
   "source": [
    "qc = QuantumCircuit(3)\n",
    " \n",
    "qc.h(0)\n",
    "qc.cx(1, 2)  \n",
    "qc.cx(0, 1)  \n",
    "qc.cx(1, 2)\n",
    "qc.cx(0, 1) \n",
    "qc.t(2)\n",
    "\n",
    "# Display the original circuit\n",
    "print(\"Original Circuit:\")\n",
    "qc.draw(output='mpl')"
   ]
  },
  {
   "cell_type": "code",
   "execution_count": 24,
   "metadata": {},
   "outputs": [
    {
     "name": "stdout",
     "output_type": "stream",
     "text": [
      "Pattern subgraphs: [('c-t-c-t', <networkx.classes.digraph.DiGraph object at 0x00000192E30F6630>), ('cx', <networkx.classes.digraph.DiGraph object at 0x00000192E2F66750>), ('t-c-t-c', <networkx.classes.digraph.DiGraph object at 0x00000192CABE3F20>)]\n",
      "Matching key and subgraph(dict): c-t-c-t, {'cx_1_control_1': 'cx_1_control_0', 'cx_2_target_1': 'cx_2_target_0', 'cx_1_target_2': 'cx_1_target_1', 'cx_0_control_2': 'cx_0_control_1', 'cx_1_control_3': 'cx_1_control_2', 'cx_2_target_3': 'cx_2_target_2', 'cx_0_control_4': 'cx_0_control_3', 'cx_1_target_4': 'cx_1_target_3'}\n",
      "Matching subgraphs: DiGraph with 8 nodes and 13 edges\n",
      "Matching key: c-t-c-t\n",
      "Graph nodes: ['h_0_0', 'cx_1_control_1', 'cx_2_target_1', 'cx_0_control_2', 'cx_1_target_2', 'cx_1_control_3', 'cx_2_target_3', 'cx_0_control_4', 'cx_1_target_4', 't_2_5']\n",
      "Transformed operations: [(Instruction(name='h', num_qubits=1, num_clbits=0, params=[]), (Qubit(QuantumRegister(3, 'q'), 0),), ()), (Instruction(name='cx', num_qubits=2, num_clbits=0, params=[]), [Qubit(QuantumRegister(3, 'q'), 0), Qubit(QuantumRegister(3, 'q'), 2)], []), (Instruction(name='t', num_qubits=1, num_clbits=0, params=[]), (Qubit(QuantumRegister(3, 'q'), 2),), ())]\n",
      "\n",
      "Transformed Circuit:\n"
     ]
    },
    {
     "data": {
      "image/png": "[encoded data removed]",
      "text/plain": [
       "<Figure size 371.107x284.278 with 1 Axes>"
      ]
     },
     "execution_count": 24,
     "metadata": {},
     "output_type": "execute_result"
    }
   ],
   "source": [
    "# Convert to graph representation\n",
    "qcg = QuantumCircuitGraph(qc)\n",
    "\n",
    "# Create an instance of the SwapControlTargetTransformation class and apply it\n",
    "transformation = CNOTDecompositionTransformation(qcg)\n",
    "\n",
    "# Apply the transformation\n",
    "transformed_qcg = transformation.apply()  # Applying the transformation\n",
    "transformed_circuit = transformed_qcg.quantum_circuit  # Extract the transformed circuit\n",
    "\n",
    "# Display the transformed circuit\n",
    "print(\"\\nTransformed Circuit:\")\n",
    "transformed_circuit.draw(output='mpl')"
   ]
  },
  {
   "cell_type": "markdown",
   "metadata": {},
   "source": [
    "### Test ChangeOfBasisTransformation"
   ]
  },
  {
   "cell_type": "code",
   "execution_count": 25,
   "metadata": {},
   "outputs": [],
   "source": [
    "from qiskit.circuit.library import HGate, ZGate, XGate, TGate\n",
    "import random\n",
    "from QCCL.transformations import ChangeOfBasisTransformation"
   ]
  },
  {
   "cell_type": "markdown",
   "metadata": {},
   "source": [
    "1st PATTERN: single H, Z, or X"
   ]
  },
  {
   "cell_type": "code",
   "execution_count": 26,
   "metadata": {},
   "outputs": [
    {
     "data": {
      "image/png": "[encoded data removed]",
      "text/plain": [
       "<Figure size 203.885x284.278 with 1 Axes>"
      ]
     },
     "execution_count": 26,
     "metadata": {},
     "output_type": "execute_result"
    }
   ],
   "source": [
    "# Circuit with HZH pattern\n",
    "qc = QuantumCircuit(3)\n",
    "qc.z(0)\n",
    "qc.h(1)\n",
    "qc.x(2)\n",
    "\n",
    "qc.draw('mpl')"
   ]
  },
  {
   "cell_type": "code",
   "execution_count": 27,
   "metadata": {},
   "outputs": [
    {
     "name": "stdout",
     "output_type": "stream",
     "text": [
      "Pattern subgraphs: [('z-h-x', <networkx.classes.digraph.DiGraph object at 0x00000192E30FC290>), ('x-h-z', <networkx.classes.digraph.DiGraph object at 0x00000192E325EB10>), ('h-z', <networkx.classes.digraph.DiGraph object at 0x00000192E32F72F0>), ('h-x', <networkx.classes.digraph.DiGraph object at 0x00000192E4635AC0>), ('z-h', <networkx.classes.digraph.DiGraph object at 0x00000192E35928A0>), ('x', <networkx.classes.digraph.DiGraph object at 0x00000192E3593C20>), ('z', <networkx.classes.digraph.DiGraph object at 0x00000192E45D0950>), ('h-x-h', <networkx.classes.digraph.DiGraph object at 0x00000192E30EABA0>), ('x-h', <networkx.classes.digraph.DiGraph object at 0x00000192E4635A00>), ('h', <networkx.classes.digraph.DiGraph object at 0x00000192E31F4980>), ('h-z-h', <networkx.classes.digraph.DiGraph object at 0x00000192E3033F50>)]\n",
      "Matching key and subgraph(dict): x, {'x_2_2': 'x_0_0'}\n",
      "Matching subgraphs: DiGraph with 1 nodes and 0 edges\n",
      "Matching key: x\n",
      "Replacement: [(Instruction(name='h', num_qubits=1, num_clbits=0, params=[]), [Qubit(QuantumRegister(3, 'q'), 2)], []), (Instruction(name='z', num_qubits=1, num_clbits=0, params=[]), [Qubit(QuantumRegister(3, 'q'), 2)], []), (Instruction(name='h', num_qubits=1, num_clbits=0, params=[]), [Qubit(QuantumRegister(3, 'q'), 2)], [])]\n",
      "Graph nodes: ['z_0_0', 'h_1_1', 'x_2_2']\n",
      "Matching indices: [2]\n",
      "Number of matching indices: 1\n",
      "Transformed operations: [(Instruction(name='z', num_qubits=1, num_clbits=0, params=[]), (Qubit(QuantumRegister(3, 'q'), 0),), ()), (Instruction(name='h', num_qubits=1, num_clbits=0, params=[]), (Qubit(QuantumRegister(3, 'q'), 1),), ()), (Instruction(name='h', num_qubits=1, num_clbits=0, params=[]), [Qubit(QuantumRegister(3, 'q'), 2)], []), (Instruction(name='z', num_qubits=1, num_clbits=0, params=[]), [Qubit(QuantumRegister(3, 'q'), 2)], []), (Instruction(name='h', num_qubits=1, num_clbits=0, params=[]), [Qubit(QuantumRegister(3, 'q'), 2)], [])]\n",
      "\n",
      "Transformed Circuit:\n"
     ]
    },
    {
     "data": {
      "image/png": "[encoded data removed]",
      "text/plain": [
       "<Figure size 371.107x284.278 with 1 Axes>"
      ]
     },
     "execution_count": 27,
     "metadata": {},
     "output_type": "execute_result"
    }
   ],
   "source": [
    "# Convert to graph representation\n",
    "qcg = QuantumCircuitGraph(qc)\n",
    "\n",
    "# Create an instance of the SwapControlTargetTransformation class and apply it\n",
    "transformation = ChangeOfBasisTransformation(qcg)\n",
    "\n",
    "# Apply the transformation\n",
    "transformed_qcg = transformation.apply()  # Applying the transformation\n",
    "transformed_circuit = transformed_qcg.quantum_circuit  # Extract the transformed circuit\n",
    "\n",
    "# Display the transformed circuit\n",
    "print(\"\\nTransformed Circuit:\")\n",
    "transformed_circuit.draw(output='mpl')"
   ]
  },
  {
   "cell_type": "markdown",
   "metadata": {},
   "source": [
    "2nd PATTERN: HZ, ZH, HX, XH"
   ]
  },
  {
   "cell_type": "code",
   "execution_count": 28,
   "metadata": {},
   "outputs": [
    {
     "name": "stdout",
     "output_type": "stream",
     "text": [
      "Original Circuit:\n"
     ]
    },
    {
     "data": {
      "image/png": "[encoded data removed]",
      "text/plain": [
       "<Figure size 287.496x367.889 with 1 Axes>"
      ]
     },
     "execution_count": 28,
     "metadata": {},
     "output_type": "execute_result"
    }
   ],
   "source": [
    "qc = QuantumCircuit(4)\n",
    "qc.h(0)\n",
    "qc.z(0)\n",
    "qc.h(1)\n",
    "qc.x(1)\n",
    "qc.z(2)\n",
    "qc.h(2)\n",
    "qc.x(3)\n",
    "qc.h(3)\n",
    "\n",
    "# Display the original circuit\n",
    "print(\"Original Circuit:\")\n",
    "qc.draw(output='mpl')"
   ]
  },
  {
   "cell_type": "code",
   "execution_count": 29,
   "metadata": {},
   "outputs": [
    {
     "name": "stdout",
     "output_type": "stream",
     "text": [
      "Pattern subgraphs: [('h-z', <networkx.classes.digraph.DiGraph object at 0x00000192E45D33E0>), ('h-x', <networkx.classes.digraph.DiGraph object at 0x00000192E4636030>), ('h-z-h', <networkx.classes.digraph.DiGraph object at 0x00000192E325EB10>), ('x-h-z', <networkx.classes.digraph.DiGraph object at 0x00000192E35B94F0>), ('h-x-h', <networkx.classes.digraph.DiGraph object at 0x00000192E33AAB10>), ('z-h-x', <networkx.classes.digraph.DiGraph object at 0x00000192E35928A0>), ('h', <networkx.classes.digraph.DiGraph object at 0x00000192E3592510>), ('z-h', <networkx.classes.digraph.DiGraph object at 0x00000192E46DC3E0>), ('z', <networkx.classes.digraph.DiGraph object at 0x00000192E4746600>), ('x', <networkx.classes.digraph.DiGraph object at 0x00000192E30A4E90>), ('x-h', <networkx.classes.digraph.DiGraph object at 0x00000192E46DDD90>)]\n",
      "Matching key and subgraph(dict): h-z, {'h_0_0': 'h_0_0', 'z_0_1': 'z_0_1'}\n",
      "Matching subgraphs: DiGraph with 2 nodes and 1 edges\n",
      "Matching key: h-z\n",
      "Replacement: [(Instruction(name='x', num_qubits=1, num_clbits=0, params=[]), [Qubit(QuantumRegister(4, 'q'), 0)], []), (Instruction(name='h', num_qubits=1, num_clbits=0, params=[]), [Qubit(QuantumRegister(4, 'q'), 0)], [])]\n",
      "Graph nodes: ['h_0_0', 'z_0_1', 'h_1_2', 'x_1_3', 'z_2_4', 'h_2_5', 'x_3_6', 'h_3_7']\n",
      "Matching indices: [0, 1]\n",
      "Number of matching indices: 2\n",
      "Transformed operations: [(Instruction(name='x', num_qubits=1, num_clbits=0, params=[]), [Qubit(QuantumRegister(4, 'q'), 0)], []), (Instruction(name='h', num_qubits=1, num_clbits=0, params=[]), [Qubit(QuantumRegister(4, 'q'), 0)], []), (Instruction(name='h', num_qubits=1, num_clbits=0, params=[]), (Qubit(QuantumRegister(4, 'q'), 1),), ()), (Instruction(name='x', num_qubits=1, num_clbits=0, params=[]), (Qubit(QuantumRegister(4, 'q'), 1),), ()), (Instruction(name='z', num_qubits=1, num_clbits=0, params=[]), (Qubit(QuantumRegister(4, 'q'), 2),), ()), (Instruction(name='h', num_qubits=1, num_clbits=0, params=[]), (Qubit(QuantumRegister(4, 'q'), 2),), ()), (Instruction(name='x', num_qubits=1, num_clbits=0, params=[]), (Qubit(QuantumRegister(4, 'q'), 3),), ()), (Instruction(name='h', num_qubits=1, num_clbits=0, params=[]), (Qubit(QuantumRegister(4, 'q'), 3),), ())]\n",
      "\n",
      "Transformed Circuit:\n"
     ]
    },
    {
     "data": {
      "image/png": "[encoded data removed]",
      "text/plain": [
       "<Figure size 287.496x367.889 with 1 Axes>"
      ]
     },
     "execution_count": 29,
     "metadata": {},
     "output_type": "execute_result"
    }
   ],
   "source": [
    "# Convert to graph representation\n",
    "qcg = QuantumCircuitGraph(qc)\n",
    "\n",
    "# Create an instance of the SwapControlTargetTransformation class and apply it\n",
    "transformation = ChangeOfBasisTransformation(qcg)\n",
    "\n",
    "# Apply the transformation\n",
    "transformed_qcg = transformation.apply()  # Applying the transformation\n",
    "transformed_circuit = transformed_qcg.quantum_circuit  # Extract the transformed circuit\n",
    "\n",
    "# Display the transformed circuit\n",
    "print(\"\\nTransformed Circuit:\")\n",
    "transformed_circuit.draw(output='mpl')"
   ]
  },
  {
   "cell_type": "markdown",
   "metadata": {},
   "source": [
    "3rd PATTERN: HXH, HZH, ..."
   ]
  },
  {
   "cell_type": "code",
   "execution_count": 30,
   "metadata": {},
   "outputs": [
    {
     "name": "stdout",
     "output_type": "stream",
     "text": [
      "Original Circuit:\n"
     ]
    },
    {
     "data": {
      "image/png": "[encoded data removed]",
      "text/plain": [
       "<Figure size 371.107x284.278 with 1 Axes>"
      ]
     },
     "execution_count": 30,
     "metadata": {},
     "output_type": "execute_result"
    }
   ],
   "source": [
    "qc = QuantumCircuit(3)\n",
    "qc.h(0)\n",
    "qc.z(0)\n",
    "qc.h(0)\n",
    "qc.h(1)\n",
    "qc.t(2)\n",
    "qc.x(1)\n",
    "qc.h(1)\n",
    "\n",
    "# Display the original circuit\n",
    "print(\"Original Circuit:\")\n",
    "qc.draw(output='mpl')"
   ]
  },
  {
   "cell_type": "code",
   "execution_count": 31,
   "metadata": {},
   "outputs": [
    {
     "name": "stdout",
     "output_type": "stream",
     "text": [
      "Pattern subgraphs: [('h', <networkx.classes.digraph.DiGraph object at 0x00000192E47B7470>), ('z-h-x', <networkx.classes.digraph.DiGraph object at 0x00000192E45D1AC0>), ('h-x-h', <networkx.classes.digraph.DiGraph object at 0x00000192E3345AF0>), ('x-h-z', <networkx.classes.digraph.DiGraph object at 0x00000192E30EABA0>), ('z-h', <networkx.classes.digraph.DiGraph object at 0x00000192E32A3110>), ('h-z', <networkx.classes.digraph.DiGraph object at 0x00000192E4747F80>), ('z', <networkx.classes.digraph.DiGraph object at 0x00000192E472E8A0>), ('x-h', <networkx.classes.digraph.DiGraph object at 0x00000192E35BA8A0>), ('x', <networkx.classes.digraph.DiGraph object at 0x00000192E46DF380>), ('h-z-h', <networkx.classes.digraph.DiGraph object at 0x00000192E4828A40>), ('h-x', <networkx.classes.digraph.DiGraph object at 0x00000192E3592AB0>)]\n",
      "Matching key and subgraph(dict): h, {'h_1_3': 'h_0_0'}\n",
      "Matching subgraphs: DiGraph with 1 nodes and 0 edges\n",
      "Matching key: h\n",
      "Replacement: [(Instruction(name='x', num_qubits=1, num_clbits=0, params=[]), [Qubit(QuantumRegister(3, 'q'), 1)], []), (Instruction(name='h', num_qubits=1, num_clbits=0, params=[]), [Qubit(QuantumRegister(3, 'q'), 1)], []), (Instruction(name='z', num_qubits=1, num_clbits=0, params=[]), [Qubit(QuantumRegister(3, 'q'), 1)], [])]\n",
      "Graph nodes: ['h_0_0', 'z_0_1', 'h_0_2', 'h_1_3', 't_2_4', 'x_1_5', 'h_1_6']\n",
      "Matching indices: [3]\n",
      "Number of matching indices: 1\n",
      "Transformed operations: [(Instruction(name='h', num_qubits=1, num_clbits=0, params=[]), (Qubit(QuantumRegister(3, 'q'), 0),), ()), (Instruction(name='z', num_qubits=1, num_clbits=0, params=[]), (Qubit(QuantumRegister(3, 'q'), 0),), ()), (Instruction(name='h', num_qubits=1, num_clbits=0, params=[]), (Qubit(QuantumRegister(3, 'q'), 0),), ()), (Instruction(name='x', num_qubits=1, num_clbits=0, params=[]), [Qubit(QuantumRegister(3, 'q'), 1)], []), (Instruction(name='h', num_qubits=1, num_clbits=0, params=[]), [Qubit(QuantumRegister(3, 'q'), 1)], []), (Instruction(name='z', num_qubits=1, num_clbits=0, params=[]), [Qubit(QuantumRegister(3, 'q'), 1)], []), (Instruction(name='t', num_qubits=1, num_clbits=0, params=[]), (Qubit(QuantumRegister(3, 'q'), 2),), ()), (Instruction(name='x', num_qubits=1, num_clbits=0, params=[]), (Qubit(QuantumRegister(3, 'q'), 1),), ()), (Instruction(name='h', num_qubits=1, num_clbits=0, params=[]), (Qubit(QuantumRegister(3, 'q'), 1),), ())]\n",
      "\n",
      "Transformed Circuit:\n"
     ]
    },
    {
     "data": {
      "image/png": "[encoded data removed]",
      "text/plain": [
       "<Figure size 538.33x284.278 with 1 Axes>"
      ]
     },
     "execution_count": 31,
     "metadata": {},
     "output_type": "execute_result"
    }
   ],
   "source": [
    "# Convert to graph representation\n",
    "qcg = QuantumCircuitGraph(qc)\n",
    "\n",
    "# Create an instance of the SwapControlTargetTransformation class and apply it\n",
    "transformation = ChangeOfBasisTransformation(qcg)\n",
    "\n",
    "# Apply the transformation\n",
    "transformed_qcg = transformation.apply()  # Applying the transformation\n",
    "transformed_circuit = transformed_qcg.quantum_circuit  # Extract the transformed circuit\n",
    "\n",
    "# Display the transformed circuit\n",
    "print(\"\\nTransformed Circuit:\")\n",
    "transformed_circuit.draw(output='mpl')"
   ]
  },
  {
   "cell_type": "markdown",
   "metadata": {},
   "source": [
    "### Test ParallelXTransformation"
   ]
  },
  {
   "cell_type": "markdown",
   "metadata": {},
   "source": [
    "1st PATTERN: parallel X"
   ]
  },
  {
   "cell_type": "code",
   "execution_count": 32,
   "metadata": {},
   "outputs": [
    {
     "name": "stdout",
     "output_type": "stream",
     "text": [
      "Original Circuit:\n"
     ]
    },
    {
     "data": {
      "image/png": "[encoded data removed]",
      "text/plain": [
       "<Figure size 538.33x284.278 with 1 Axes>"
      ]
     },
     "execution_count": 32,
     "metadata": {},
     "output_type": "execute_result"
    }
   ],
   "source": [
    "qc = QuantumCircuit(3)\n",
    " \n",
    "qc.h(0)\n",
    "qc.cx(1, 2)  \n",
    "qc.x(1)\n",
    "qc.x(2)\n",
    "qc.cx(0, 1)  \n",
    "qc.cx(1, 2)\n",
    "qc.cx(0, 1) \n",
    "qc.t(2)\n",
    "\n",
    "qcg = QuantumCircuitGraph(qc)\n",
    "\n",
    "# Display the original circuit\n",
    "print(\"Original Circuit:\")\n",
    "qc.draw(output='mpl')"
   ]
  },
  {
   "cell_type": "code",
   "execution_count": 33,
   "metadata": {},
   "outputs": [
    {
     "data": {
      "text/plain": [
       "3"
      ]
     },
     "execution_count": 33,
     "metadata": {},
     "output_type": "execute_result"
    }
   ],
   "source": [
    "gates = qc.data\n",
    "qubits = set()\n",
    "\n",
    "for gate in gates:\n",
    "    qubits.update([qubit._index for qubit in gate.qubits])\n",
    "\n",
    "len(qubits)"
   ]
  },
  {
   "cell_type": "code",
   "execution_count": 34,
   "metadata": {},
   "outputs": [
    {
     "name": "stdout",
     "output_type": "stream",
     "text": [
      "Pattern subgraphs: [('cx-x-cx', <networkx.classes.digraph.DiGraph object at 0x00000192E35631A0>)]\n",
      "Pred_ctrl: cx_1_control_1, Succ_ctrl: cx_1_target_4, Pred_trgt: cx_2_target_1, Succ_trgt: cx_2_target_5\n",
      "Pred_ctrl: x_1_add1, Succ_ctrl: cx_1_target_4, Pred_trgt: cx_2_target_add0, Succ_trgt: cx_2_target_5\n",
      "Input nodes: ['h_0_0', 'cx_1_control_1', 'cx_2_target_1']\n",
      "Added h gate to qubit 0\n",
      "Frontier: {0: 'cx_0_control_4', 1: 'cx_1_control_1', 2: 'cx_2_target_1'}\n",
      "Frontier: {0: 'cx_0_control_4'}\n",
      "Frontier: {0: 'cx_0_control_4', 1: 'cx_1_control_add0', 2: 'cx_2_target_add0'}\n",
      "Frontier: {0: 'cx_0_control_4'}\n",
      "Added x gate to qubit 1\n",
      "Frontier: {0: 'cx_0_control_4', 1: 'cx_1_control_add2', 2: 'cx_2_target_add2'}\n",
      "Frontier: {0: 'cx_0_control_4'}\n",
      "Frontier: {0: 'cx_0_control_4', 1: 'cx_1_target_4', 2: 'cx_2_target_5'}\n",
      "Frontier: {0: 'cx_0_control_4', 1: 'cx_1_target_4'}\n",
      "Frontier: {0: 'cx_0_control_6', 1: 'cx_1_control_5', 2: 'cx_2_target_5'}\n",
      "Frontier: {0: 'cx_0_control_6'}\n",
      "Added t gate to qubit 2\n",
      "Frontier: {0: 'cx_0_control_6', 1: 'cx_1_target_6', 2: None}\n",
      "Frontier: {0: 'cx_0_control_6', 1: 'cx_1_target_6'}\n",
      "\n",
      "Transformed Circuit:\n"
     ]
    },
    {
     "data": {
      "image/png": "[encoded data removed]",
      "text/plain": [
       "<Figure size 705.552x284.278 with 1 Axes>"
      ]
     },
     "execution_count": 34,
     "metadata": {},
     "output_type": "execute_result"
    }
   ],
   "source": [
    "from QCCL.transformations import ParallelXTransformation\n",
    "\n",
    "# Convert to graph representation\n",
    "qcg = QuantumCircuitGraph(qc)\n",
    "\n",
    "# Create an instance of the SwapControlTargetTransformation class and apply it\n",
    "transformation = ParallelXTransformation(qcg)\n",
    "\n",
    "# Apply the transformation\n",
    "transformed_qcg = transformation.apply()  # Applying the transformation\n",
    "transformed_circuit = transformed_qcg.quantum_circuit  # Extract the transformed circuit\n",
    "\n",
    "# Display the transformed circuit\n",
    "print(\"\\nTransformed Circuit:\")\n",
    "transformed_circuit.draw(output='mpl')"
   ]
  },
  {
   "cell_type": "markdown",
   "metadata": {},
   "source": [
    "2nd PATTERN: cx-x-cx"
   ]
  },
  {
   "cell_type": "code",
   "execution_count": 35,
   "metadata": {},
   "outputs": [
    {
     "name": "stdout",
     "output_type": "stream",
     "text": [
      "Original Circuit:\n"
     ]
    },
    {
     "data": {
      "image/png": "[encoded data removed]",
      "text/plain": [
       "<Figure size 621.941x284.278 with 1 Axes>"
      ]
     },
     "execution_count": 35,
     "metadata": {},
     "output_type": "execute_result"
    }
   ],
   "source": [
    "qc = QuantumCircuit(3)\n",
    " \n",
    "qc.h(0)\n",
    "qc.cx(1, 2)  \n",
    "qc.x(1)\n",
    "qc.cx(0, 1)  \n",
    "qc.cx(1, 2)\n",
    "qc.x(1)\n",
    "qc.cx(1, 2)\n",
    "\n",
    "qcg = QuantumCircuitGraph(qc)\n",
    "\n",
    "# Display the original circuit\n",
    "print(\"Original Circuit:\")\n",
    "qc.draw(output='mpl')"
   ]
  },
  {
   "cell_type": "code",
   "execution_count": 36,
   "metadata": {},
   "outputs": [
    {
     "name": "stdout",
     "output_type": "stream",
     "text": [
      "Pattern subgraphs: [('cx-x-cx', <networkx.classes.digraph.DiGraph object at 0x00000192E49DA570>)]\n",
      "Matching key and subgraph(dict): cx-x-cx, {'cx_1_control_4': 'cx_0_control_0', 'cx_2_target_4': 'cx_1_target_0', 'x_1_5': 'x_0_1', 'cx_1_control_6': 'cx_0_control_2', 'cx_2_target_6': 'cx_1_target_2'}\n",
      "Matching subgraphs: DiGraph with 5 nodes and 7 edges\n",
      "Matching key: cx-x-cx\n",
      "Graph nodes: ['h_0_0', 'cx_1_control_1', 'cx_2_target_1', 'x_1_2', 'cx_0_control_3', 'cx_1_target_3', 'cx_1_control_4', 'cx_2_target_4', 'x_1_5', 'cx_1_control_6', 'cx_2_target_6']\n",
      "\n",
      "Transformed Circuit:\n"
     ]
    },
    {
     "data": {
      "image/png": "[encoded data removed]",
      "text/plain": [
       "<Figure size 454.719x284.278 with 1 Axes>"
      ]
     },
     "execution_count": 36,
     "metadata": {},
     "output_type": "execute_result"
    }
   ],
   "source": [
    "# Convert to graph representation\n",
    "qcg = QuantumCircuitGraph(qc)\n",
    "\n",
    "# Create an instance of the SwapControlTargetTransformation class and apply it\n",
    "transformation = ParallelXTransformation(qcg)\n",
    "\n",
    "# Apply the transformation\n",
    "transformed_qcg = transformation.apply()  # Applying the transformation\n",
    "transformed_circuit = transformed_qcg.quantum_circuit  # Extract the transformed circuit\n",
    "\n",
    "# Display the transformed circuit\n",
    "print(\"\\nTransformed Circuit:\")\n",
    "transformed_circuit.draw(output='mpl')"
   ]
  },
  {
   "cell_type": "markdown",
   "metadata": {},
   "source": [
    "TEST: no match"
   ]
  },
  {
   "cell_type": "code",
   "execution_count": 37,
   "metadata": {},
   "outputs": [
    {
     "name": "stdout",
     "output_type": "stream",
     "text": [
      "Original Circuit:\n"
     ]
    },
    {
     "data": {
      "image/png": "[encoded data removed]",
      "text/plain": [
       "<Figure size 538.33x284.278 with 1 Axes>"
      ]
     },
     "execution_count": 37,
     "metadata": {},
     "output_type": "execute_result"
    }
   ],
   "source": [
    "qc = QuantumCircuit(3)\n",
    " \n",
    "qc.h(0)\n",
    "qc.cx(1, 2)  \n",
    "qc.x(1)\n",
    "qc.cx(0, 1) \n",
    "qc.x(0) \n",
    "qc.cx(1, 2)\n",
    "qc.cx(0, 1) \n",
    "qc.t(2)\n",
    "\n",
    "qcg = QuantumCircuitGraph(qc)\n",
    "\n",
    "# Display the original circuit\n",
    "print(\"Original Circuit:\")\n",
    "qc.draw(output='mpl')"
   ]
  },
  {
   "cell_type": "code",
   "execution_count": 38,
   "metadata": {},
   "outputs": [
    {
     "name": "stdout",
     "output_type": "stream",
     "text": [
      "Pattern subgraphs: [('cx-x-cx', <networkx.classes.digraph.DiGraph object at 0x00000192E32A26C0>)]\n",
      "Transformation failed with error: No matching subgraphs found for the given pattern.\n"
     ]
    }
   ],
   "source": [
    "# Convert to graph representation\n",
    "qcg = QuantumCircuitGraph(qc)\n",
    "\n",
    "# Create an instance of the SwapControlTargetTransformation class and apply it\n",
    "transformation = ParallelXTransformation(qcg)\n",
    "\n",
    "try:\n",
    "    # Apply the transformation\n",
    "    transformed_qcg = transformation.apply()  # Applying the transformation\n",
    "    transformed_circuit = transformed_qcg.quantum_circuit  # Extract the transformed circuit\n",
    "\n",
    "    # Display the transformed circuit\n",
    "    print(\"\\nTransformed Circuit:\")\n",
    "    transformed_circuit.draw(output='mpl')\n",
    "\n",
    "except Exception as e:\n",
    "    print(\"Transformation failed with error:\", e)"
   ]
  },
  {
   "cell_type": "markdown",
   "metadata": {},
   "source": [
    "### Test ParallelZTransformation"
   ]
  },
  {
   "cell_type": "markdown",
   "metadata": {},
   "source": [
    "1st PATTERN: parallel Z"
   ]
  },
  {
   "cell_type": "code",
   "execution_count": 39,
   "metadata": {},
   "outputs": [
    {
     "name": "stdout",
     "output_type": "stream",
     "text": [
      "Original Circuit:\n"
     ]
    },
    {
     "data": {
      "image/png": "[encoded data removed]",
      "text/plain": [
       "<Figure size 621.941x284.278 with 1 Axes>"
      ]
     },
     "execution_count": 39,
     "metadata": {},
     "output_type": "execute_result"
    }
   ],
   "source": [
    "qc = QuantumCircuit(3)\n",
    " \n",
    "qc.h(0)\n",
    "qc.cx(1, 2)  \n",
    "qc.x(1)\n",
    "qc.x(2)\n",
    "qc.cx(0, 1)  \n",
    "qc.cx(1, 2)\n",
    "qc.z(1)\n",
    "qc.cx(0, 1) \n",
    "qc.z(2)\n",
    "qc.t(2)\n",
    "\n",
    "qcg = QuantumCircuitGraph(qc)\n",
    "\n",
    "# Display the original circuit\n",
    "print(\"Original Circuit:\")\n",
    "qc.draw(output='mpl')"
   ]
  },
  {
   "cell_type": "code",
   "execution_count": 40,
   "metadata": {},
   "outputs": [
    {
     "name": "stdout",
     "output_type": "stream",
     "text": [
      "Pattern subgraphs: [('cx-z-cx', <networkx.classes.digraph.DiGraph object at 0x00000192E4C1BE30>)]\n",
      "Matching subgraph: DiGraph with 2 nodes and 0 edges\n",
      "Matching key: parallel-z\n",
      "Graph nodes: ['h_0_0', 'cx_1_control_1', 'cx_2_target_1', 'x_1_2', 'x_2_3', 'cx_0_control_4', 'cx_1_target_4', 'cx_1_control_5', 'cx_2_target_5', 'z_1_6', 'cx_0_control_7', 'cx_1_target_7', 'z_2_8', 't_2_9']\n",
      "Pred_ctrl: cx_1_control_5, Succ_ctrl: cx_1_target_7, Pred_trgt: cx_2_target_5, Succ_trgt: t_2_9\n",
      "Pred_ctrl: cx_1_control_add0, Succ_ctrl: cx_1_target_7, Pred_trgt: z_2_add1, Succ_trgt: t_2_9\n",
      "Input nodes: ['h_0_0', 'cx_1_control_1', 'cx_2_target_1']\n",
      "Added h gate to qubit 0\n",
      "Frontier: {0: 'cx_0_control_4', 1: 'cx_1_control_1', 2: 'cx_2_target_1'}\n",
      "Frontier: {0: 'cx_0_control_4'}\n",
      "Added x gate to qubit 1\n",
      "Added x gate to qubit 2\n",
      "Frontier: {0: 'cx_0_control_4', 1: 'cx_1_target_4', 2: 'cx_2_target_5'}\n",
      "Frontier: {0: 'cx_0_control_4', 1: 'cx_1_target_4'}\n",
      "Frontier: {0: 'cx_0_control_7', 1: 'cx_1_control_5', 2: 'cx_2_target_5'}\n",
      "Frontier: {0: 'cx_0_control_7'}\n",
      "Frontier: {0: 'cx_0_control_7', 1: 'cx_1_control_add0', 2: 'cx_2_target_add0'}\n",
      "Frontier: {0: 'cx_0_control_7'}\n",
      "Added z gate to qubit 2\n",
      "Frontier: {0: 'cx_0_control_7', 1: 'cx_1_control_add2', 2: 'cx_2_target_add2'}\n",
      "Frontier: {0: 'cx_0_control_7'}\n",
      "Added t gate to qubit 2\n",
      "Frontier: {0: 'cx_0_control_7', 1: 'cx_1_target_7', 2: None}\n",
      "Frontier: {0: 'cx_0_control_7', 1: 'cx_1_target_7'}\n",
      "\n",
      "Transformed Circuit:\n"
     ]
    },
    {
     "data": {
      "image/png": "[encoded data removed]",
      "text/plain": [
       "<Figure size 789.163x284.278 with 1 Axes>"
      ]
     },
     "execution_count": 40,
     "metadata": {},
     "output_type": "execute_result"
    }
   ],
   "source": [
    "from QCCL.transformations import ParallelZTransformation\n",
    "\n",
    "# Convert to graph representation\n",
    "qcg = QuantumCircuitGraph(qc)\n",
    "\n",
    "# Create an instance of the SwapControlTargetTransformation class and apply it\n",
    "transformation = ParallelZTransformation(qcg)\n",
    "\n",
    "# Apply the transformation\n",
    "transformed_qcg = transformation.apply()  # Applying the transformation\n",
    "transformed_circuit = transformed_qcg.quantum_circuit  # Extract the transformed circuit\n",
    "\n",
    "# Display the transformed circuit\n",
    "print(\"\\nTransformed Circuit:\")\n",
    "transformed_circuit.draw(output='mpl')"
   ]
  },
  {
   "cell_type": "markdown",
   "metadata": {},
   "source": [
    "2nd PATTERN: cx-z-cx"
   ]
  },
  {
   "cell_type": "code",
   "execution_count": 41,
   "metadata": {},
   "outputs": [
    {
     "name": "stdout",
     "output_type": "stream",
     "text": [
      "Original Circuit:\n"
     ]
    },
    {
     "data": {
      "image/png": "[encoded data removed]",
      "text/plain": [
       "<Figure size 621.941x284.278 with 1 Axes>"
      ]
     },
     "execution_count": 41,
     "metadata": {},
     "output_type": "execute_result"
    }
   ],
   "source": [
    "qc = QuantumCircuit(3)\n",
    " \n",
    "qc.h(0)\n",
    "qc.cx(1, 2)  \n",
    "qc.x(1)\n",
    "qc.cx(0, 1)  \n",
    "qc.z(1)\n",
    "qc.cx(0, 1)  \n",
    "qc.cx(1, 2)\n",
    "\n",
    "\n",
    "qcg = QuantumCircuitGraph(qc)\n",
    "\n",
    "# Display the original circuit\n",
    "print(\"Original Circuit:\")\n",
    "qc.draw(output='mpl')"
   ]
  },
  {
   "cell_type": "code",
   "execution_count": 42,
   "metadata": {},
   "outputs": [
    {
     "name": "stdout",
     "output_type": "stream",
     "text": [
      "Pattern subgraphs: [('cx-z-cx', <networkx.classes.digraph.DiGraph object at 0x00000192E346A8A0>)]\n",
      "Matching key and subgraph(dict): cx-z-cx, {'cx_0_control_3': 'cx_0_control_0', 'cx_1_target_3': 'cx_1_target_0', 'z_1_4': 'z_1_1', 'cx_0_control_5': 'cx_0_control_2', 'cx_1_target_5': 'cx_1_target_2'}\n",
      "Matching subgraphs: DiGraph with 5 nodes and 7 edges\n",
      "Matching key: cx-z-cx\n",
      "Matching subgraph: DiGraph with 5 nodes and 7 edges\n",
      "Matching key: cx-z-cx\n",
      "Graph nodes: ['h_0_0', 'cx_1_control_1', 'cx_2_target_1', 'x_1_2', 'cx_0_control_3', 'cx_1_target_3', 'z_1_4', 'cx_0_control_5', 'cx_1_target_5', 'cx_1_control_6', 'cx_2_target_6']\n",
      "\n",
      "Transformed Circuit:\n"
     ]
    },
    {
     "data": {
      "image/png": "[encoded data removed]",
      "text/plain": [
       "<Figure size 454.719x284.278 with 1 Axes>"
      ]
     },
     "execution_count": 42,
     "metadata": {},
     "output_type": "execute_result"
    }
   ],
   "source": [
    "# Convert to graph representation\n",
    "qcg = QuantumCircuitGraph(qc)\n",
    "\n",
    "# Create an instance of the SwapControlTargetTransformation class and apply it\n",
    "transformation = ParallelZTransformation(qcg)\n",
    "\n",
    "# Apply the transformation\n",
    "transformed_qcg = transformation.apply()  # Applying the transformation\n",
    "transformed_circuit = transformed_qcg.quantum_circuit  # Extract the transformed circuit\n",
    "\n",
    "# Display the transformed circuit\n",
    "print(\"\\nTransformed Circuit:\")\n",
    "transformed_circuit.draw(output='mpl')"
   ]
  },
  {
   "cell_type": "markdown",
   "metadata": {},
   "source": [
    "Parallel Z at the start/end"
   ]
  },
  {
   "cell_type": "code",
   "execution_count": 43,
   "metadata": {},
   "outputs": [
    {
     "name": "stdout",
     "output_type": "stream",
     "text": [
      "Original Circuit:\n"
     ]
    },
    {
     "data": {
      "image/png": "[encoded data removed]",
      "text/plain": [
       "<Figure size 538.33x284.278 with 1 Axes>"
      ]
     },
     "execution_count": 43,
     "metadata": {},
     "output_type": "execute_result"
    }
   ],
   "source": [
    "qc = QuantumCircuit(3)\n",
    " \n",
    "qc.h(0)\n",
    "qc.z(1)\n",
    "qc.z(2)\n",
    "qc.cx(1, 2)  \n",
    "qc.x(1)\n",
    "qc.cx(0, 1)  \n",
    "qc.z(1)\n",
    "qc.z(0)\n",
    "\n",
    "\n",
    "qcg = QuantumCircuitGraph(qc)\n",
    "\n",
    "# Display the original circuit\n",
    "print(\"Original Circuit:\")\n",
    "qc.draw(output='mpl')"
   ]
  },
  {
   "cell_type": "code",
   "execution_count": 44,
   "metadata": {},
   "outputs": [
    {
     "name": "stdout",
     "output_type": "stream",
     "text": [
      "Pattern subgraphs: [('cx-z-cx', <networkx.classes.digraph.DiGraph object at 0x00000192E346A8A0>)]\n",
      "Matching subgraph: DiGraph with 2 nodes and 0 edges\n",
      "Matching key: parallel-z\n",
      "Graph nodes: ['h_0_0', 'z_1_1', 'z_2_2', 'cx_1_control_3', 'cx_2_target_3', 'x_1_4', 'cx_0_control_5', 'cx_1_target_5', 'z_1_6', 'z_0_7']\n",
      "Pred_ctrl: cx_0_control_5, Succ_ctrl: None, Pred_trgt: cx_1_target_5, Succ_trgt: None\n",
      "Pred_ctrl: cx_0_control_add0, Succ_ctrl: None, Pred_trgt: z_1_add1, Succ_trgt: None\n",
      "Input nodes: ['h_0_0', 'z_1_1', 'z_2_2']\n",
      "Added h gate to qubit 0\n",
      "Added z gate to qubit 1\n",
      "Added z gate to qubit 2\n",
      "Frontier: {0: 'cx_0_control_5', 1: 'cx_1_control_3', 2: 'cx_2_target_3'}\n",
      "Frontier: {0: 'cx_0_control_5'}\n",
      "Added x gate to qubit 1\n",
      "Frontier: {0: 'cx_0_control_5', 1: 'cx_1_target_5', 2: None}\n",
      "Frontier: {0: 'cx_0_control_5', 1: 'cx_1_target_5'}\n",
      "Frontier: {0: 'cx_0_control_add0', 1: 'cx_1_target_add0', 2: None}\n",
      "Frontier: {0: 'cx_0_control_add0', 1: 'cx_1_target_add0'}\n",
      "Added z gate to qubit 1\n",
      "Frontier: {0: 'cx_0_control_add2', 1: 'cx_1_target_add2', 2: None}\n",
      "Frontier: {0: 'cx_0_control_add2', 1: 'cx_1_target_add2'}\n",
      "\n",
      "Transformed Circuit:\n"
     ]
    },
    {
     "data": {
      "image/png": "[encoded data removed]",
      "text/plain": [
       "<Figure size 705.552x284.278 with 1 Axes>"
      ]
     },
     "execution_count": 44,
     "metadata": {},
     "output_type": "execute_result"
    }
   ],
   "source": [
    "# Convert to graph representation\n",
    "qcg = QuantumCircuitGraph(qc)\n",
    "\n",
    "# Create an instance of the SwapControlTargetTransformation class and apply it\n",
    "transformation = ParallelZTransformation(qcg)\n",
    "\n",
    "# Apply the transformation\n",
    "transformed_qcg = transformation.apply()  # Applying the transformation\n",
    "transformed_circuit = transformed_qcg.quantum_circuit  # Extract the transformed circuit\n",
    "\n",
    "# Display the transformed circuit\n",
    "print(\"\\nTransformed Circuit:\")\n",
    "transformed_circuit.draw(output='mpl')"
   ]
  },
  {
   "cell_type": "markdown",
   "metadata": {},
   "source": [
    "### Test CommuteCNOTRotationTransformation"
   ]
  },
  {
   "cell_type": "code",
   "execution_count": 45,
   "metadata": {},
   "outputs": [
    {
     "name": "stdout",
     "output_type": "stream",
     "text": [
      "Original Circuit:\n"
     ]
    },
    {
     "data": {
      "image/png": "[encoded data removed]",
      "text/plain": [
       "<Figure size 538.33x284.278 with 1 Axes>"
      ]
     },
     "execution_count": 45,
     "metadata": {},
     "output_type": "execute_result"
    }
   ],
   "source": [
    "qc = QuantumCircuit(3)\n",
    " \n",
    "qc.h(0)\n",
    "qc.t(0)\n",
    "qc.z(2)\n",
    "qc.cx(1, 2)  \n",
    "qc.z(1)\n",
    "qc.cx(0, 1)  \n",
    "qc.x(1)\n",
    "\n",
    "\n",
    "\n",
    "qcg = QuantumCircuitGraph(qc)\n",
    "\n",
    "# Display the original circuit\n",
    "print(\"Original Circuit:\")\n",
    "qc.draw(output='mpl')"
   ]
  },
  {
   "cell_type": "code",
   "execution_count": 46,
   "metadata": {},
   "outputs": [
    {
     "name": "stdout",
     "output_type": "stream",
     "text": [
      "Pattern subgraphs: [('cx-z-control', <networkx.classes.digraph.DiGraph object at 0x00000192E4FA2C60>), ('t-cx-control', <networkx.classes.digraph.DiGraph object at 0x00000192E4E75430>), ('z-cx-control', <networkx.classes.digraph.DiGraph object at 0x00000192E4E74740>), ('cx-x-target', <networkx.classes.digraph.DiGraph object at 0x00000192E4B368A0>), ('cx-t-control', <networkx.classes.digraph.DiGraph object at 0x00000192E318A6C0>), ('x-cx-target', <networkx.classes.digraph.DiGraph object at 0x00000192E4B37290>)]\n",
      "Matching key and subgraph(dict): cx-z-control, {'cx_1_control_3': 'cx_0_control_0', 'cx_2_target_3': 'cx_1_target_0', 'z_1_4': 'z_0_1'}\n",
      "Matching subgraphs: DiGraph with 3 nodes and 3 edges\n",
      "Matching key: cx-z-control\n",
      "Node z_1_4: qubit=1, predecessors=[], successors=cx_1_target_5\n",
      "Node cx_1_control_3: qubit=1, predecessors=None, successors=cx_1_target_5\n",
      "Node cx_2_target_3: qubit=2, predecessors=z_2_2, successors=None\n",
      "Common qubit 1: predecessors=None, successors=cx_1_target_5\n",
      "Input nodes: ['h_0_0', 'z_1_4', 'z_2_2']\n",
      "Added h gate to qubit 0\n",
      "Added t gate to qubit 0\n",
      "Added z gate to qubit 1\n",
      "Added z gate to qubit 2\n",
      "Frontier: {0: 'cx_0_control_5', 1: 'cx_1_control_3', 2: 'cx_2_target_3'}\n",
      "Frontier: {0: 'cx_0_control_5'}\n",
      "Frontier: {0: 'cx_0_control_5', 1: 'cx_1_target_5', 2: None}\n",
      "Frontier: {0: 'cx_0_control_5', 1: 'cx_1_target_5'}\n",
      "Added x gate to qubit 1\n",
      "Frontier: {0: None, 1: None, 2: None}\n",
      "Frontier: {0: None, 1: None}\n",
      "Frontier: {0: None}\n",
      "\n",
      "Transformed Circuit:\n"
     ]
    },
    {
     "data": {
      "image/png": "[encoded data removed]",
      "text/plain": [
       "<Figure size 454.719x284.278 with 1 Axes>"
      ]
     },
     "execution_count": 46,
     "metadata": {},
     "output_type": "execute_result"
    }
   ],
   "source": [
    "from QCCL.transformations import CommuteCNOTRotationTransformation\n",
    "\n",
    "# Convert to graph representation\n",
    "qcg = QuantumCircuitGraph(qc)\n",
    "\n",
    "# Create an instance of the SwapControlTargetTransformation class and apply it\n",
    "transformation = CommuteCNOTRotationTransformation(qcg)\n",
    "\n",
    "# Apply the transformation\n",
    "transformed_qcg = transformation.apply()  # Applying the transformation\n",
    "transformed_circuit = transformed_qcg.quantum_circuit  # Extract the transformed circuit\n",
    "\n",
    "# Display the transformed circuit\n",
    "print(\"\\nTransformed Circuit:\")\n",
    "transformed_circuit.draw(output='mpl')"
   ]
  },
  {
   "cell_type": "markdown",
   "metadata": {},
   "source": [
    "### Test CommuteCNOTsTransformation"
   ]
  },
  {
   "cell_type": "code",
   "execution_count": 47,
   "metadata": {},
   "outputs": [
    {
     "name": "stdout",
     "output_type": "stream",
     "text": [
      "Original Circuit:\n"
     ]
    },
    {
     "data": {
      "image/png": "[encoded data removed]",
      "text/plain": [
       "<Figure size 538.33x367.889 with 1 Axes>"
      ]
     },
     "execution_count": 47,
     "metadata": {},
     "output_type": "execute_result"
    }
   ],
   "source": [
    "qc = QuantumCircuit(4)\n",
    " \n",
    "qc.h(0)\n",
    "qc.z(2)\n",
    "qc.cx(0,2)\n",
    "qc.t(0)\n",
    "qc.cx(1, 2)  \n",
    "\n",
    "qc.cx(1, 0)  \n",
    "qc.x(1)\n",
    "qc.x(2)\n",
    "\n",
    "\n",
    "qcg = QuantumCircuitGraph(qc)\n",
    "\n",
    "# Display the original circuit\n",
    "print(\"Original Circuit:\")\n",
    "qc.draw(output='mpl')"
   ]
  },
  {
   "cell_type": "code",
   "execution_count": 48,
   "metadata": {},
   "outputs": [
    {
     "name": "stdout",
     "output_type": "stream",
     "text": [
      "Pattern subgraphs: [('control', <networkx.classes.digraph.DiGraph object at 0x00000192E35B9880>), ('target', <networkx.classes.digraph.DiGraph object at 0x00000192E4CF0500>)]\n",
      "Matching key and subgraph(dict): control, {'cx_1_control_4': 'cx_0_control_0', 'cx_2_target_4': 'cx_1_target_0', 'cx_1_control_5': 'cx_0_control_1', 'cx_0_target_5': 'cx_2_target_1'}\n",
      "Matching subgraphs: DiGraph with 4 nodes and 5 edges\n",
      "Matching key: control\n",
      "Node cx_1_control_4: qubit=1, predecessors=None, successors=[]\n",
      "Node cx_1_control_5: qubit=1, predecessors=None, successors=x_1_6\n",
      "Node cx_2_target_4: qubit=2, predecessors=cx_2_target_2, successors=x_2_7\n",
      "Node cx_0_target_5: qubit=0, predecessors=t_0_3, successors=None\n",
      "Common qubit 1: predecessors=None, successors=x_1_6\n",
      "Input nodes: ['h_0_0', 'cx_1_control_5', 'z_2_1']\n",
      "Added h gate to qubit 0\n",
      "Added z gate to qubit 2\n",
      "Frontier: {0: 'cx_0_control_2', 1: 'cx_1_control_5', 2: 'cx_2_target_2'}\n",
      "Frontier: {1: 'cx_1_control_5'}\n",
      "Added t gate to qubit 0\n",
      "Frontier: {0: 'cx_0_target_5', 1: 'cx_1_control_5', 2: 'cx_2_target_4'}\n",
      "Frontier: {0: 'cx_0_target_5', 1: 'cx_1_control_5'}\n",
      "Frontier: {0: None, 1: 'cx_1_control_4', 2: 'cx_2_target_4'}\n",
      "Frontier: {0: None}\n",
      "Added x gate to qubit 1\n",
      "Added x gate to qubit 2\n",
      "Frontier: {0: None, 1: None, 2: None}\n",
      "Frontier: {0: None, 1: None}\n",
      "Frontier: {0: None}\n",
      "\n",
      "Transformed Circuit:\n"
     ]
    },
    {
     "data": {
      "image/png": "[encoded data removed]",
      "text/plain": [
       "<Figure size 621.941x284.278 with 1 Axes>"
      ]
     },
     "execution_count": 48,
     "metadata": {},
     "output_type": "execute_result"
    }
   ],
   "source": [
    "from QCCL.transformations import CommuteCNOTsTransformation\n",
    "\n",
    "# Convert to graph representation\n",
    "qcg = QuantumCircuitGraph(qc)\n",
    "\n",
    "# Create an instance of the SwapControlTargetTransformation class and apply it\n",
    "transformation = CommuteCNOTsTransformation(qcg)\n",
    "\n",
    "# Apply the transformation\n",
    "transformed_qcg = transformation.apply()  # Applying the transformation\n",
    "transformed_circuit = transformed_qcg.quantum_circuit  # Extract the transformed circuit\n",
    "\n",
    "# Display the transformed circuit\n",
    "print(\"\\nTransformed Circuit:\")\n",
    "transformed_circuit.draw(output='mpl')"
   ]
  },
  {
   "cell_type": "code",
   "execution_count": 49,
   "metadata": {},
   "outputs": [
    {
     "data": {
      "text/plain": [
       "3"
      ]
     },
     "execution_count": 49,
     "metadata": {},
     "output_type": "execute_result"
    }
   ],
   "source": [
    "gates = qc.data\n",
    "qubits = set()\n",
    "\n",
    "for gate in gates:\n",
    "    qubits.update([qubit._index for qubit in gate.qubits])\n",
    "\n",
    "len(qubits)"
   ]
  },
  {
   "cell_type": "markdown",
   "metadata": {},
   "source": [
    "### Test SwapCNOTsTransformation"
   ]
  },
  {
   "cell_type": "code",
   "execution_count": 62,
   "metadata": {},
   "outputs": [
    {
     "name": "stdout",
     "output_type": "stream",
     "text": [
      "Original Circuit:\n"
     ]
    },
    {
     "data": {
      "image/png": "[encoded data removed]",
      "text/plain": [
       "<Figure size 538.33x284.278 with 1 Axes>"
      ]
     },
     "execution_count": 62,
     "metadata": {},
     "output_type": "execute_result"
    }
   ],
   "source": [
    "qc = QuantumCircuit(3)\n",
    " \n",
    "qc.h(0)\n",
    "qc.z(2)\n",
    "qc.cx(0,1)\n",
    "qc.t(0)\n",
    "qc.cx(1, 2)  \n",
    "\n",
    "qc.cx(1, 0)  \n",
    "qc.x(1)\n",
    "qc.x(2)\n",
    "\n",
    "\n",
    "qcg = QuantumCircuitGraph(qc)\n",
    "\n",
    "# Display the original circuit\n",
    "print(\"Original Circuit:\")\n",
    "qc.draw(output='mpl')"
   ]
  },
  {
   "cell_type": "code",
   "execution_count": 63,
   "metadata": {},
   "outputs": [
    {
     "name": "stdout",
     "output_type": "stream",
     "text": [
      "Pattern subgraphs: [('c-t-cx', <networkx.classes.digraph.DiGraph object at 0x00000192E63D79B0>), ('t-c-cx', <networkx.classes.digraph.DiGraph object at 0x00000192E4F78B60>), ('t-c', <networkx.classes.digraph.DiGraph object at 0x00000192E4FEE840>), ('c-t', <networkx.classes.digraph.DiGraph object at 0x00000192E5085850>), ('cx-c-t', <networkx.classes.digraph.DiGraph object at 0x00000192E4FEE810>), ('cx-t-c', <networkx.classes.digraph.DiGraph object at 0x00000192E4EF4920>)]\n",
      "Matching key and subgraph(dict): c-t, {'cx_0_control_2': 'cx_0_control_0', 'cx_1_target_2': 'cx_1_target_0', 'cx_1_control_4': 'cx_1_control_1', 'cx_2_target_4': 'cx_2_target_1'}\n",
      "Matching subgraphs: [<networkx.classes.digraph.DiGraph object at 0x00000192E61B2DB0>]\n",
      "Matching key: ['c-t']\n",
      "Node cx_1_control_4: qubit=1, predecessors=[], successors=cx_1_control_5\n",
      "Node cx_1_target_2: qubit=1, predecessors=None, successors=cx_1_control_5\n",
      "Node cx_2_target_4: qubit=2, predecessors=z_2_1, successors=x_2_7\n",
      "Node cx_0_control_2: qubit=0, predecessors=h_0_0, successors=t_0_3\n",
      "Common qubit 1: predecessors=None, successors=cx_1_control_5\n",
      "Node cx_1_control_4: qubit=1, predecessors=None, successors=[]\n",
      "Node cx_1_target_2: qubit=1, predecessors=None, successors=cx_1_control_5\n",
      "Node cx_2_target_4: qubit=2, predecessors=z_2_1, successors=x_2_7\n",
      "Node cx_0_control_2: qubit=0, predecessors=h_0_0, successors=t_0_3\n",
      "Common qubit 1: predecessors=None, successors=cx_1_control_5\n",
      "Pred_ctrl: cx_0_control_2, Succ_ctrl: t_0_3, Pred_trgt: cx_2_target_4, Succ_trgt: x_2_7\n",
      "Input nodes: ['h_0_0', 'cx_1_control_4', 'z_2_1']\n",
      "Added h gate to qubit 0\n",
      "Added z gate to qubit 2\n",
      "Frontier: {0: 'cx_0_control_2', 1: 'cx_1_control_4', 2: 'cx_2_target_4'}\n",
      "Frontier: {0: 'cx_0_control_2'}\n",
      "Frontier: {0: 'cx_0_control_2', 1: 'cx_1_target_2', 2: 'cx_2_target_add'}\n",
      "Frontier: {0: 'cx_0_control_2', 1: 'cx_1_target_2'}\n",
      "Frontier: {0: 'cx_0_control_add', 1: 'cx_1_control_5', 2: 'cx_2_target_add'}\n",
      "Frontier: {1: 'cx_1_control_5'}\n",
      "Added t gate to qubit 0\n",
      "Added x gate to qubit 2\n",
      "Frontier: {0: 'cx_0_target_5', 1: 'cx_1_control_5', 2: None}\n",
      "Frontier: {0: 'cx_0_target_5', 1: 'cx_1_control_5'}\n",
      "Added x gate to qubit 1\n",
      "Frontier: {0: None, 1: None, 2: None}\n",
      "Frontier: {0: None, 1: None}\n",
      "Frontier: {0: None}\n",
      "\n",
      "Transformed Circuit:\n"
     ]
    },
    {
     "data": {
      "image/png": "[encoded data removed]",
      "text/plain": [
       "<Figure size 705.552x284.278 with 1 Axes>"
      ]
     },
     "execution_count": 63,
     "metadata": {},
     "output_type": "execute_result"
    }
   ],
   "source": [
    "from QCCL.transformations import SwapCNOTsTransformation\n",
    "\n",
    "# Convert to graph representation\n",
    "qcg = QuantumCircuitGraph(qc)\n",
    "\n",
    "# Create an instance of the SwapControlTargetTransformation class and apply it\n",
    "transformation = SwapCNOTsTransformation(qcg)\n",
    "\n",
    "# Apply the transformation\n",
    "transformed_qcg = transformation.apply()  # Applying the transformation\n",
    "transformed_circuit = transformed_qcg.quantum_circuit  # Extract the transformed circuit\n",
    "\n",
    "# Display the transformed circuit\n",
    "print(\"\\nTransformed Circuit:\")\n",
    "transformed_circuit.draw(output='mpl')"
   ]
  },
  {
   "cell_type": "code",
   "execution_count": 64,
   "metadata": {},
   "outputs": [
    {
     "name": "stdout",
     "output_type": "stream",
     "text": [
      "Pattern subgraphs: [('c-t-cx', <networkx.classes.digraph.DiGraph object at 0x00000192E6513080>), ('t-c', <networkx.classes.digraph.DiGraph object at 0x00000192E6401970>), ('t-c-cx', <networkx.classes.digraph.DiGraph object at 0x00000192E6121970>), ('cx-t-c', <networkx.classes.digraph.DiGraph object at 0x00000192E4FED010>), ('c-t', <networkx.classes.digraph.DiGraph object at 0x00000192E4EC7AA0>), ('cx-c-t', <networkx.classes.digraph.DiGraph object at 0x00000192E6395C70>)]\n",
      "Matching key and subgraph(dict): t-c, {'cx_1_control_2': 'cx_1_control_0', 'cx_2_target_2': 'cx_0_target_0', 'cx_1_target_3': 'cx_1_target_1', 'cx_0_control_3': 'cx_2_control_1'}\n",
      "Matching key and subgraph(dict): t-c-cx, {'cx_1_control_2': 'cx_1_control_0', 'cx_2_target_2': 'cx_0_target_0', 'cx_1_target_3': 'cx_1_target_1', 'cx_0_control_3': 'cx_2_control_1', 'cx_0_control_4': 'cx_2_control_2', 'cx_2_target_4': 'cx_0_target_2'}\n",
      "Matching key and subgraph(dict): c-t, {'cx_0_control_3': 'cx_0_control_0', 'cx_1_target_3': 'cx_1_target_0', 'cx_1_control_7': 'cx_1_control_1', 'cx_0_target_7': 'cx_2_target_1'}\n",
      "Matching subgraphs: [<networkx.classes.digraph.DiGraph object at 0x00000192E67EA7B0>, <networkx.classes.digraph.DiGraph object at 0x00000192E644F3E0>, <networkx.classes.digraph.DiGraph object at 0x00000192E680C6E0>]\n",
      "Matching key: ['t-c', 't-c-cx', 'c-t']\n",
      "Node cx_1_target_3: qubit=1, predecessors=[], successors=cx_1_control_7\n",
      "Node cx_2_target_2: qubit=2, predecessors=z_2_1, successors=cx_2_target_4\n",
      "Node cx_1_control_2: qubit=1, predecessors=None, successors=cx_1_control_7\n",
      "Node cx_0_control_3: qubit=0, predecessors=h_0_0, successors=cx_0_control_4\n",
      "Common qubit 1: predecessors=None, successors=cx_1_control_7\n",
      "Input nodes: ['h_0_0', 'cx_1_target_3', 'z_2_1']\n",
      "Added h gate to qubit 0\n",
      "Added z gate to qubit 2\n",
      "Frontier: {0: 'cx_0_control_3', 1: 'cx_1_target_3', 2: 'cx_2_target_2'}\n",
      "Frontier: {0: 'cx_0_control_3', 1: 'cx_1_target_3'}\n",
      "Added t gate to qubit 0\n",
      "Frontier: {0: 'cx_0_target_7', 1: 'cx_1_control_2', 2: 'cx_2_target_2'}\n",
      "Frontier: {0: 'cx_0_target_7'}\n",
      "Added x gate to qubit 2\n",
      "Frontier: {0: 'cx_0_target_7', 1: 'cx_1_control_7', 2: None}\n",
      "Frontier: {0: 'cx_0_target_7', 1: 'cx_1_control_7'}\n",
      "Added x gate to qubit 1\n",
      "Frontier: {0: None, 1: None, 2: None}\n",
      "Frontier: {0: None, 1: None}\n",
      "Frontier: {0: None}\n",
      "\n",
      "Transformed Circuit:\n"
     ]
    },
    {
     "data": {
      "image/png": "[encoded data removed]",
      "text/plain": [
       "<Figure size 538.33x284.278 with 1 Axes>"
      ]
     },
     "execution_count": 64,
     "metadata": {},
     "output_type": "execute_result"
    }
   ],
   "source": [
    "# reverse transformation\n",
    "\n",
    "qc = transformed_circuit\n",
    "\n",
    "# Convert to graph representation\n",
    "qcg = QuantumCircuitGraph(qc)\n",
    "\n",
    "# Create an instance of the SwapControlTargetTransformation class and apply it\n",
    "transformation = SwapCNOTsTransformation(qcg)\n",
    "\n",
    "# Apply the transformation\n",
    "transformed_qcg = transformation.apply()  # Applying the transformation\n",
    "transformed_circuit = transformed_qcg.quantum_circuit  # Extract the transformed circuit\n",
    "\n",
    "# Display the transformed circuit\n",
    "print(\"\\nTransformed Circuit:\")\n",
    "transformed_circuit.draw(output='mpl')"
   ]
  },
  {
   "cell_type": "code",
   "execution_count": 65,
   "metadata": {},
   "outputs": [
    {
     "name": "stdout",
     "output_type": "stream",
     "text": [
      "CNOT nodes: ['cx_0_control_5', 'cx_2_target_3', 'cx_2_target_2', 'cx_0_control_2']\n",
      "CNOT nodes after filtering: ['cx_2_target_2', 'cx_0_control_2']\n"
     ]
    }
   ],
   "source": [
    "import numpy as np\n",
    "\n",
    "def get_qubit(node_label):\n",
    "    return int(node_label.split('_')[1])\n",
    "\n",
    "graph_nodes = ['cx_0_control_5', 'cx_2_target_3', 'cx_2_target_2', 'cx_0_control_2', 'cx_1_control_3', 'cx_1_target_5']\n",
    "\n",
    "qubit_role = ['_'.join(node.split('_')[1:3]) for node in graph_nodes]  \n",
    "# get index in the original list of qubit_role which has count equal to 2\n",
    "indices_with_count_2 = [i for i, q_role in enumerate(qubit_role) if np.count_nonzero(np.array(qubit_role) == q_role) == 2]\n",
    "cnot_nodes = [list(graph_nodes)[i] for i in indices_with_count_2]\n",
    "print(f\"CNOT nodes: {cnot_nodes}\")\n",
    "\n",
    "# For these indices, get unique gate identifiers and extract indices corresponding to a count equal to 2\n",
    "qubits = [node.split('_')[-1] for node in cnot_nodes]\n",
    "unique_ids, counts = np.unique(qubits, return_counts=True)\n",
    "\n",
    "# Identify identifiers that appear exactly twice\n",
    "qubits_with_count_2 = unique_ids[counts == 2]\n",
    "\n",
    "# Filter cnot_nodes to include only those with identifier that appear twice\n",
    "cnot_nodes = [node for node in cnot_nodes if node.split('_')[-1] in qubits_with_count_2]\n",
    "\n",
    "print(f\"CNOT nodes after filtering: {cnot_nodes}\")"
   ]
  }
 ],
 "metadata": {
  "kernelspec": {
   "display_name": "Python 3",
   "language": "python",
   "name": "python3"
  },
  "language_info": {
   "codemirror_mode": {
    "name": "ipython",
    "version": 3
   },
   "file_extension": ".py",
   "mimetype": "text/x-python",
   "name": "python",
   "nbconvert_exporter": "python",
   "pygments_lexer": "ipython3",
   "version": "3.12.5"
  }
 },
 "nbformat": 4,
 "nbformat_minor": 2
}
