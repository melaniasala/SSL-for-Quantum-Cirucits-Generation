{
 "cells": [
  {
   "cell_type": "code",
   "execution_count": 527,
   "metadata": {},
   "outputs": [],
   "source": [
    "import os\n",
    "import sys\n",
    "\n",
    "sys.path.append(os.path.abspath(os.path.join('..', '..')))"
   ]
  },
  {
   "cell_type": "code",
   "execution_count": 528,
   "metadata": {},
   "outputs": [
    {
     "name": "stdout",
     "output_type": "stream",
     "text": [
      " Volume in drive C is Acer\n",
      " Volume Serial Number is 70D2-9BA1\n",
      "\n",
      " Directory of c:\\Users\\melan\\shared-folder\\Thesis\\SSL-for-Quantum-Cirucits-Generation\\QCCL\\notebooks\n",
      "\n",
      "20/10/2024  14:17    <DIR>          .\n",
      "28/09/2024  22:20    <DIR>          ..\n",
      "24/09/2024  20:19         5,736,098 best_model.pth\n",
      "24/09/2024  20:18               787 hyperparam_tuning_results_with_configs.yaml\n",
      "11/10/2024  11:46           132,935 training.ipynb\n",
      "24/09/2024  20:19            24,818 training_best_history.png\n",
      "24/09/2024  19:59           204,856 training_byol big embedding.ipynb\n",
      "14/10/2024  13:11           247,018 training_byol.ipynb\n",
      "19/09/2024  17:50           248,587 training_norms_visual.ipynb\n",
      "01/10/2024  08:38           441,652 training-visual.ipynb\n",
      "21/10/2024  15:25            52,208 transforms_debugging.ipynb\n",
      "               9 File(s)      7,088,959 bytes\n",
      "               2 Dir(s)  85,914,058,752 bytes free\n"
     ]
    }
   ],
   "source": [
    "%ls"
   ]
  },
  {
   "cell_type": "code",
   "execution_count": 529,
   "metadata": {},
   "outputs": [],
   "source": [
    "from qiskit import QuantumCircuit\n",
    "from Data.QuantumCircuitGraph import QuantumCircuitGraph"
   ]
  },
  {
   "cell_type": "code",
   "execution_count": 530,
   "metadata": {},
   "outputs": [
    {
     "name": "stdout",
     "output_type": "stream",
     "text": [
      "Modified GATE_TYPE_MAP: {'cx': 0, 'h': 1, 'x': 2, 'z': 3, 't': 4, 'id': 5}\n",
      "Modified include_params: False\n",
      "Modified include_identity_gates: False\n",
      "Modified differentiate_cx: True\n"
     ]
    }
   ],
   "source": [
    "# Settings\n",
    "\n",
    "GATE_TYPE_MAP = {\n",
    "    'cx': 0, \n",
    "    'h': 1, \n",
    "    'x': 2,\n",
    "    'z': 3,\n",
    "    't': 4\n",
    "    # Add here all possible gate types\n",
    "} # map gate type to index in one-hot encoding\n",
    "# add id always in last position\n",
    "GATE_TYPE_MAP['id'] = len(GATE_TYPE_MAP)\n",
    "\n",
    "\n",
    "QuantumCircuitGraph.set_gate_type_map(GATE_TYPE_MAP)\n",
    "QuantumCircuitGraph.set_include_params(False)\n",
    "QuantumCircuitGraph.set_include_identity_gates(False)\n",
    "QuantumCircuitGraph.set_differentiate_cx(True)\n",
    "QuantumCircuitGraph.set_node_order(None)\n",
    "\n",
    "\n",
    "print(\"Modified GATE_TYPE_MAP:\", QuantumCircuitGraph.GATE_TYPE_MAP)\n",
    "print(\"Modified include_params:\", QuantumCircuitGraph.include_params)\n",
    "print(\"Modified include_identity_gates:\", QuantumCircuitGraph.include_identity_gates)\n",
    "print(\"Modified differentiate_cx:\", QuantumCircuitGraph.differentiate_cx)"
   ]
  },
  {
   "cell_type": "markdown",
   "metadata": {},
   "source": [
    "### Test AddIdentityGatesTransformation"
   ]
  },
  {
   "cell_type": "code",
   "execution_count": 531,
   "metadata": {},
   "outputs": [
    {
     "data": {
      "image/png": "[encoded data removed]",
      "text/plain": [
       "<Figure size 287.496x284.278 with 1 Axes>"
      ]
     },
     "execution_count": 531,
     "metadata": {},
     "output_type": "execute_result"
    }
   ],
   "source": [
    "# Create a simple quantum circuit\n",
    "num_qubits = 3\n",
    "qc = QuantumCircuit(num_qubits)\n",
    "qc.h(0)\n",
    "qc.cx(0, 1)\n",
    "qc.x(2)\n",
    "\n",
    "# Visualize the initial quantum circuit\n",
    "qc.draw('mpl')"
   ]
  },
  {
   "cell_type": "code",
   "execution_count": 532,
   "metadata": {},
   "outputs": [],
   "source": [
    "# Convert to graph representation\n",
    "qcg = QuantumCircuitGraph(qc)"
   ]
  },
  {
   "cell_type": "code",
   "execution_count": 533,
   "metadata": {},
   "outputs": [],
   "source": [
    "from QCCL.transformations import AddIdentityGatesTransformation\n",
    "\n",
    "# Create an instance of the SwapControlTargetTransformation class and apply it\n",
    "transformation = AddIdentityGatesTransformation(qcg)\n",
    "\n",
    "# Apply the transformation\n",
    "transformed_qcg = transformation.apply()  # Applying the transformation\n",
    "transformed_circuit = transformed_qcg.quantum_circuit  # Extract the transformed circuit"
   ]
  },
  {
   "cell_type": "code",
   "execution_count": 534,
   "metadata": {},
   "outputs": [
    {
     "name": "stdout",
     "output_type": "stream",
     "text": [
      "\n",
      "Transformed Circuit:\n"
     ]
    },
    {
     "data": {
      "image/png": "[encoded data removed]",
      "text/plain": [
       "<Figure size 538.33x284.278 with 1 Axes>"
      ]
     },
     "execution_count": 534,
     "metadata": {},
     "output_type": "execute_result"
    }
   ],
   "source": [
    "# Display the transformed circuit\n",
    "print(\"\\nTransformed Circuit:\")\n",
    "transformed_circuit.draw(output='mpl')"
   ]
  },
  {
   "cell_type": "markdown",
   "metadata": {},
   "source": [
    "### Test RemoveIdentityGatesTransformation"
   ]
  },
  {
   "cell_type": "code",
   "execution_count": 535,
   "metadata": {},
   "outputs": [
    {
     "name": "stdout",
     "output_type": "stream",
     "text": [
      "Matching subgraphs: [{'cx_2_control_2': 'cx_0_control_0', 'cx_1_target_2': 'cx_1_target_0', 'cx_2_control_3': 'cx_0_control_1', 'cx_1_target_3': 'cx_1_target_1'}]\n",
      "Matching subgraph selected: {'cx_2_control_2': 'cx_0_control_0', 'cx_1_target_2': 'cx_1_target_0', 'cx_2_control_3': 'cx_0_control_1', 'cx_1_target_3': 'cx_1_target_1'}\n",
      "Current operations: [(Instruction(name='h', num_qubits=1, num_clbits=0, params=[]), (Qubit(QuantumRegister(3, 'q'), 0),), ()), (Instruction(name='cx', num_qubits=2, num_clbits=0, params=[]), (Qubit(QuantumRegister(3, 'q'), 0), Qubit(QuantumRegister(3, 'q'), 1)), ()), (Instruction(name='cx', num_qubits=2, num_clbits=0, params=[]), (Qubit(QuantumRegister(3, 'q'), 2), Qubit(QuantumRegister(3, 'q'), 1)), ()), (Instruction(name='cx', num_qubits=2, num_clbits=0, params=[]), (Qubit(QuantumRegister(3, 'q'), 2), Qubit(QuantumRegister(3, 'q'), 1)), ()), (Instruction(name='x', num_qubits=1, num_clbits=0, params=[]), (Qubit(QuantumRegister(3, 'q'), 2),), ())]\n",
      "Graph nodes: ['h_0_0', 'cx_0_control_1', 'cx_1_target_1', 'cx_2_control_2', 'cx_1_target_2', 'cx_2_control_3', 'cx_1_target_3', 'x_2_4']\n",
      "Graph to circuit mapping: {'h_0_0': 0, 'cx_0_control_1': 1, 'cx_1_target_1': 1, 'cx_2_control_2': 2, 'cx_1_target_2': 2, 'cx_2_control_3': 3, 'cx_1_target_3': 3, 'x_2_4': 4}\n",
      "Matching indices: [2, 3]\n",
      "Transformed operations: [(Instruction(name='h', num_qubits=1, num_clbits=0, params=[]), (Qubit(QuantumRegister(3, 'q'), 0),), ()), (Instruction(name='cx', num_qubits=2, num_clbits=0, params=[]), (Qubit(QuantumRegister(3, 'q'), 0), Qubit(QuantumRegister(3, 'q'), 1)), ()), (Instruction(name='x', num_qubits=1, num_clbits=0, params=[]), (Qubit(QuantumRegister(3, 'q'), 2),), ())]\n"
     ]
    }
   ],
   "source": [
    "from QCCL.transformations import RemoveIdentityGatesTransformation\n",
    "\n",
    "# Create an instance of the SwapControlTargetTransformation class and apply it\n",
    "reverse_transformation = RemoveIdentityGatesTransformation(transformed_qcg)\n",
    "\n",
    "# Apply the transformation\n",
    "transformed_qcg = reverse_transformation.apply()  # Applying the transformation\n",
    "transformed_circuit = transformed_qcg.quantum_circuit  # Extract the transformed circuit"
   ]
  },
  {
   "cell_type": "code",
   "execution_count": 536,
   "metadata": {},
   "outputs": [
    {
     "name": "stdout",
     "output_type": "stream",
     "text": [
      "\n",
      "Transformed Circuit:\n"
     ]
    },
    {
     "data": {
      "image/png": "[encoded data removed]",
      "text/plain": [
       "<Figure size 287.496x284.278 with 1 Axes>"
      ]
     },
     "execution_count": 536,
     "metadata": {},
     "output_type": "execute_result"
    }
   ],
   "source": [
    "# Display the transformed circuit\n",
    "print(\"\\nTransformed Circuit:\")\n",
    "transformed_circuit.draw(output='mpl')"
   ]
  },
  {
   "cell_type": "markdown",
   "metadata": {},
   "source": [
    "### Test SwapControlTargetTransformation\n"
   ]
  },
  {
   "cell_type": "code",
   "execution_count": 553,
   "metadata": {},
   "outputs": [
    {
     "name": "stdout",
     "output_type": "stream",
     "text": [
      "Original Circuit:\n"
     ]
    },
    {
     "data": {
      "image/png": "[encoded data removed]",
      "text/plain": [
       "<Figure size 287.294x200.667 with 1 Axes>"
      ]
     },
     "execution_count": 553,
     "metadata": {},
     "output_type": "execute_result"
    }
   ],
   "source": [
    "qc = QuantumCircuit(2)\n",
    "qc.cx(0, 1)  # Add CNOT gate\n",
    "qc.h(0)\n",
    "qc.h(1)\n",
    "\n",
    "# Display the original circuit\n",
    "print(\"Original Circuit:\")\n",
    "qc.draw(output='mpl')"
   ]
  },
  {
   "cell_type": "code",
   "execution_count": 554,
   "metadata": {},
   "outputs": [],
   "source": [
    "# Convert to graph representation\n",
    "qcg = QuantumCircuitGraph(qc)"
   ]
  },
  {
   "cell_type": "code",
   "execution_count": 555,
   "metadata": {},
   "outputs": [
    {
     "name": "stdout",
     "output_type": "stream",
     "text": [
      "Matching subgraphs: [{'cx_0_control_0': 'cx_0_control_0', 'cx_1_target_0': 'cx_1_target_0'}]\n",
      "Matching subgraph selected: {'cx_0_control_0': 'cx_0_control_0', 'cx_1_target_0': 'cx_1_target_0'}\n",
      "Graph nodes: ['cx_0_control_0', 'cx_1_target_0', 'h_0_1', 'h_1_2']\n"
     ]
    }
   ],
   "source": [
    "from QCCL.transformations import SwapControlTargetTransformation\n",
    "\n",
    "# Create an instance of the SwapControlTargetTransformation class and apply it\n",
    "transformation = SwapControlTargetTransformation(qcg)\n",
    "\n",
    "# Apply the transformation\n",
    "\n",
    "transformed_qcg = transformation.apply()  # Applying the transformation\n",
    "transformed_circuit = transformed_qcg.quantum_circuit  # Extract the transformed circuit\n"
   ]
  },
  {
   "cell_type": "code",
   "execution_count": 556,
   "metadata": {},
   "outputs": [
    {
     "name": "stdout",
     "output_type": "stream",
     "text": [
      "\n",
      "Transformed Circuit:\n"
     ]
    },
    {
     "data": {
      "image/png": "[encoded data removed]",
      "text/plain": [
       "<Figure size 454.517x200.667 with 1 Axes>"
      ]
     },
     "execution_count": 556,
     "metadata": {},
     "output_type": "execute_result"
    }
   ],
   "source": [
    "\n",
    "# Display the transformed circuit\n",
    "print(\"\\nTransformed Circuit:\")\n",
    "transformed_circuit.draw(output='mpl')"
   ]
  },
  {
   "cell_type": "code",
   "execution_count": 557,
   "metadata": {},
   "outputs": [
    {
     "name": "stdout",
     "output_type": "stream",
     "text": [
      "Matching subgraphs: [{'h_1_0': 'h_0_0', 'cx_1_control_2': 'cx_0_control_2', 'cx_0_target_2': 'cx_1_target_2', 'h_1_3': 'h_0_3', 'h_0_4': 'h_1_4', 'h_0_1': 'h_1_1'}]\n",
      "Matching subgraph selected: {'h_1_0': 'h_0_0', 'cx_1_control_2': 'cx_0_control_2', 'cx_0_target_2': 'cx_1_target_2', 'h_1_3': 'h_0_3', 'h_0_4': 'h_1_4', 'h_0_1': 'h_1_1'}\n",
      "Graph nodes: ['h_1_0', 'h_0_1', 'cx_1_control_2', 'cx_0_target_2', 'h_1_3', 'h_0_4', 'h_0_5', 'h_1_6']\n"
     ]
    }
   ],
   "source": [
    "# Apply the transformation again, so that the reverse transformation is applied\n",
    "reverse_transformation = SwapControlTargetTransformation(transformed_qcg)\n",
    "transformed_qcg = reverse_transformation.apply()  \n",
    "transformed_circuit = transformed_qcg.quantum_circuit"
   ]
  },
  {
   "cell_type": "code",
   "execution_count": 558,
   "metadata": {},
   "outputs": [
    {
     "name": "stdout",
     "output_type": "stream",
     "text": [
      "\n",
      "Transformed Circuit:\n"
     ]
    },
    {
     "data": {
      "image/png": "[encoded data removed]",
      "text/plain": [
       "<Figure size 287.294x200.667 with 1 Axes>"
      ]
     },
     "execution_count": 558,
     "metadata": {},
     "output_type": "execute_result"
    }
   ],
   "source": [
    "# Display the transformed circuit\n",
    "print(\"\\nTransformed Circuit:\")\n",
    "transformed_circuit.draw(output='mpl')"
   ]
  }
 ],
 "metadata": {
  "kernelspec": {
   "display_name": "Python 3",
   "language": "python",
   "name": "python3"
  },
  "language_info": {
   "codemirror_mode": {
    "name": "ipython",
    "version": 3
   },
   "file_extension": ".py",
   "mimetype": "text/x-python",
   "name": "python",
   "nbconvert_exporter": "python",
   "pygments_lexer": "ipython3",
   "version": "3.12.5"
  }
 },
 "nbformat": 4,
 "nbformat_minor": 2
}
