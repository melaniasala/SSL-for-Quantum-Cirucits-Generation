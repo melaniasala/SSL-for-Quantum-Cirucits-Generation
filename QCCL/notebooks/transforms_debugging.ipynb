{
 "cells": [
  {
   "cell_type": "code",
   "execution_count": 1,
   "metadata": {},
   "outputs": [],
   "source": [
    "import os\n",
    "import sys\n",
    "\n",
    "sys.path.append(os.path.abspath(os.path.join('..', '..')))"
   ]
  },
  {
   "cell_type": "code",
   "execution_count": 2,
   "metadata": {},
   "outputs": [
    {
     "name": "stdout",
     "output_type": "stream",
     "text": [
      " Volume in drive C is Acer\n",
      " Volume Serial Number is 70D2-9BA1\n",
      "\n",
      " Directory of c:\\Users\\melan\\shared-folder\\Thesis\\SSL-for-Quantum-Cirucits-Generation\\QCCL\\notebooks\n",
      "\n",
      "20/10/2024  13:17    <DIR>          .\n",
      "28/09/2024  21:20    <DIR>          ..\n",
      "24/09/2024  19:19         5,736,098 best_model.pth\n",
      "24/09/2024  19:18               787 hyperparam_tuning_results_with_configs.yaml\n",
      "11/10/2024  10:46           132,935 training.ipynb\n",
      "24/09/2024  19:19            24,818 training_best_history.png\n",
      "24/09/2024  18:59           204,856 training_byol big embedding.ipynb\n",
      "14/10/2024  12:11           247,018 training_byol.ipynb\n",
      "19/09/2024  16:50           248,587 training_norms_visual.ipynb\n",
      "01/10/2024  07:38           441,652 training-visual.ipynb\n",
      "28/10/2024  11:07           374,033 transforms_debugging.ipynb\n",
      "               9 File(s)      7,410,784 bytes\n",
      "               2 Dir(s)  83,296,325,632 bytes free\n"
     ]
    }
   ],
   "source": [
    "%ls"
   ]
  },
  {
   "cell_type": "code",
   "execution_count": 3,
   "metadata": {},
   "outputs": [
    {
     "name": "stderr",
     "output_type": "stream",
     "text": [
      "\n",
      "A module that was compiled using NumPy 1.x cannot be run in\n",
      "NumPy 2.1.2 as it may crash. To support both 1.x and 2.x\n",
      "versions of NumPy, modules must be compiled with NumPy 2.0.\n",
      "Some module may need to rebuild instead e.g. with 'pybind11>=2.12'.\n",
      "\n",
      "If you are a user of the module, the easiest solution will be to\n",
      "downgrade to 'numpy<2' or try to upgrade the affected module.\n",
      "We expect that some modules will need time to support NumPy 2.\n",
      "\n",
      "Traceback (most recent call last):  File \"<frozen runpy>\", line 198, in _run_module_as_main\n",
      "  File \"<frozen runpy>\", line 88, in _run_code\n",
      "  File \"c:\\Users\\melan\\AppData\\Local\\Programs\\Python\\Python312\\Lib\\site-packages\\ipykernel_launcher.py\", line 18, in <module>\n",
      "    app.launch_new_instance()\n",
      "  File \"c:\\Users\\melan\\AppData\\Local\\Programs\\Python\\Python312\\Lib\\site-packages\\traitlets\\config\\application.py\", line 1075, in launch_instance\n",
      "    app.start()\n",
      "  File \"c:\\Users\\melan\\AppData\\Local\\Programs\\Python\\Python312\\Lib\\site-packages\\ipykernel\\kernelapp.py\", line 739, in start\n",
      "    self.io_loop.start()\n",
      "  File \"c:\\Users\\melan\\AppData\\Local\\Programs\\Python\\Python312\\Lib\\site-packages\\tornado\\platform\\asyncio.py\", line 205, in start\n",
      "    self.asyncio_loop.run_forever()\n",
      "  File \"c:\\Users\\melan\\AppData\\Local\\Programs\\Python\\Python312\\Lib\\asyncio\\base_events.py\", line 641, in run_forever\n",
      "    self._run_once()\n",
      "  File \"c:\\Users\\melan\\AppData\\Local\\Programs\\Python\\Python312\\Lib\\asyncio\\base_events.py\", line 1986, in _run_once\n",
      "    handle._run()\n",
      "  File \"c:\\Users\\melan\\AppData\\Local\\Programs\\Python\\Python312\\Lib\\asyncio\\events.py\", line 88, in _run\n",
      "    self._context.run(self._callback, *self._args)\n",
      "  File \"c:\\Users\\melan\\AppData\\Local\\Programs\\Python\\Python312\\Lib\\site-packages\\ipykernel\\kernelbase.py\", line 545, in dispatch_queue\n",
      "    await self.process_one()\n",
      "  File \"c:\\Users\\melan\\AppData\\Local\\Programs\\Python\\Python312\\Lib\\site-packages\\ipykernel\\kernelbase.py\", line 534, in process_one\n",
      "    await dispatch(*args)\n",
      "  File \"c:\\Users\\melan\\AppData\\Local\\Programs\\Python\\Python312\\Lib\\site-packages\\ipykernel\\kernelbase.py\", line 437, in dispatch_shell\n",
      "    await result\n",
      "  File \"c:\\Users\\melan\\AppData\\Local\\Programs\\Python\\Python312\\Lib\\site-packages\\ipykernel\\ipkernel.py\", line 362, in execute_request\n",
      "    await super().execute_request(stream, ident, parent)\n",
      "  File \"c:\\Users\\melan\\AppData\\Local\\Programs\\Python\\Python312\\Lib\\site-packages\\ipykernel\\kernelbase.py\", line 778, in execute_request\n",
      "    reply_content = await reply_content\n",
      "  File \"c:\\Users\\melan\\AppData\\Local\\Programs\\Python\\Python312\\Lib\\site-packages\\ipykernel\\ipkernel.py\", line 449, in do_execute\n",
      "    res = shell.run_cell(\n",
      "  File \"c:\\Users\\melan\\AppData\\Local\\Programs\\Python\\Python312\\Lib\\site-packages\\ipykernel\\zmqshell.py\", line 549, in run_cell\n",
      "    return super().run_cell(*args, **kwargs)\n",
      "  File \"c:\\Users\\melan\\AppData\\Local\\Programs\\Python\\Python312\\Lib\\site-packages\\IPython\\core\\interactiveshell.py\", line 3075, in run_cell\n",
      "    result = self._run_cell(\n",
      "  File \"c:\\Users\\melan\\AppData\\Local\\Programs\\Python\\Python312\\Lib\\site-packages\\IPython\\core\\interactiveshell.py\", line 3130, in _run_cell\n",
      "    result = runner(coro)\n",
      "  File \"c:\\Users\\melan\\AppData\\Local\\Programs\\Python\\Python312\\Lib\\site-packages\\IPython\\core\\async_helpers.py\", line 128, in _pseudo_sync_runner\n",
      "    coro.send(None)\n",
      "  File \"c:\\Users\\melan\\AppData\\Local\\Programs\\Python\\Python312\\Lib\\site-packages\\IPython\\core\\interactiveshell.py\", line 3334, in run_cell_async\n",
      "    has_raised = await self.run_ast_nodes(code_ast.body, cell_name,\n",
      "  File \"c:\\Users\\melan\\AppData\\Local\\Programs\\Python\\Python312\\Lib\\site-packages\\IPython\\core\\interactiveshell.py\", line 3517, in run_ast_nodes\n",
      "    if await self.run_code(code, result, async_=asy):\n",
      "  File \"c:\\Users\\melan\\AppData\\Local\\Programs\\Python\\Python312\\Lib\\site-packages\\IPython\\core\\interactiveshell.py\", line 3577, in run_code\n",
      "    exec(code_obj, self.user_global_ns, self.user_ns)\n",
      "  File \"C:\\Users\\melan\\AppData\\Local\\Temp\\ipykernel_17428\\616785901.py\", line 2, in <module>\n",
      "    from Data.QuantumCircuitGraph import QuantumCircuitGraph\n",
      "  File \"c:\\Users\\melan\\shared-folder\\Thesis\\SSL-for-Quantum-Cirucits-Generation\\Data\\QuantumCircuitGraph.py\", line 2, in <module>\n",
      "    import torch\n",
      "  File \"c:\\Users\\melan\\AppData\\Local\\Programs\\Python\\Python312\\Lib\\site-packages\\torch\\__init__.py\", line 1471, in <module>\n",
      "    from .functional import *  # noqa: F403\n",
      "  File \"c:\\Users\\melan\\AppData\\Local\\Programs\\Python\\Python312\\Lib\\site-packages\\torch\\functional.py\", line 9, in <module>\n",
      "    import torch.nn.functional as F\n",
      "  File \"c:\\Users\\melan\\AppData\\Local\\Programs\\Python\\Python312\\Lib\\site-packages\\torch\\nn\\__init__.py\", line 1, in <module>\n",
      "    from .modules import *  # noqa: F403\n",
      "  File \"c:\\Users\\melan\\AppData\\Local\\Programs\\Python\\Python312\\Lib\\site-packages\\torch\\nn\\modules\\__init__.py\", line 35, in <module>\n",
      "    from .transformer import TransformerEncoder, TransformerDecoder, \\\n",
      "  File \"c:\\Users\\melan\\AppData\\Local\\Programs\\Python\\Python312\\Lib\\site-packages\\torch\\nn\\modules\\transformer.py\", line 20, in <module>\n",
      "    device: torch.device = torch.device(torch._C._get_default_device()),  # torch.device('cpu'),\n",
      "c:\\Users\\melan\\AppData\\Local\\Programs\\Python\\Python312\\Lib\\site-packages\\torch\\nn\\modules\\transformer.py:20: UserWarning: Failed to initialize NumPy: _ARRAY_API not found (Triggered internally at ..\\torch\\csrc\\utils\\tensor_numpy.cpp:84.)\n",
      "  device: torch.device = torch.device(torch._C._get_default_device()),  # torch.device('cpu'),\n"
     ]
    }
   ],
   "source": [
    "from qiskit import QuantumCircuit\n",
    "from Data.QuantumCircuitGraph import QuantumCircuitGraph"
   ]
  },
  {
   "cell_type": "code",
   "execution_count": 4,
   "metadata": {},
   "outputs": [
    {
     "name": "stdout",
     "output_type": "stream",
     "text": [
      "Modified GATE_TYPE_MAP: {'cx': 0, 'h': 1, 'x': 2, 'z': 3, 't': 4, 'id': 5}\n",
      "Modified include_params: False\n",
      "Modified include_identity_gates: False\n",
      "Modified differentiate_cx: True\n"
     ]
    }
   ],
   "source": [
    "# Settings\n",
    "\n",
    "GATE_TYPE_MAP = {\n",
    "    'cx': 0, \n",
    "    'h': 1, \n",
    "    'x': 2,\n",
    "    'z': 3,\n",
    "    't': 4\n",
    "    # Add here all possible gate types\n",
    "} # map gate type to index in one-hot encoding\n",
    "# add id always in last position\n",
    "GATE_TYPE_MAP['id'] = len(GATE_TYPE_MAP)\n",
    "\n",
    "\n",
    "QuantumCircuitGraph.set_gate_type_map(GATE_TYPE_MAP)\n",
    "QuantumCircuitGraph.set_include_params(False)\n",
    "QuantumCircuitGraph.set_include_identity_gates(False)\n",
    "QuantumCircuitGraph.set_differentiate_cx(True)\n",
    "\n",
    "\n",
    "print(\"Modified GATE_TYPE_MAP:\", QuantumCircuitGraph.GATE_TYPE_MAP)\n",
    "print(\"Modified include_params:\", QuantumCircuitGraph.include_params)\n",
    "print(\"Modified include_identity_gates:\", QuantumCircuitGraph.include_identity_gates)\n",
    "print(\"Modified differentiate_cx:\", QuantumCircuitGraph.differentiate_cx)"
   ]
  },
  {
   "cell_type": "markdown",
   "metadata": {},
   "source": [
    "### Test AddIdentityGatesTransformation"
   ]
  },
  {
   "cell_type": "code",
   "execution_count": 5,
   "metadata": {},
   "outputs": [
    {
     "data": {
      "image/png": "[encoded data removed]",
      "text/plain": [
       "<Figure size 287.496x284.278 with 1 Axes>"
      ]
     },
     "execution_count": 5,
     "metadata": {},
     "output_type": "execute_result"
    }
   ],
   "source": [
    "# Create a simple quantum circuit\n",
    "num_qubits = 3\n",
    "qc = QuantumCircuit(num_qubits)\n",
    "qc.h(0)\n",
    "qc.cx(0, 1)\n",
    "qc.x(2)\n",
    "\n",
    "# Visualize the initial quantum circuit\n",
    "qc.draw('mpl')"
   ]
  },
  {
   "cell_type": "code",
   "execution_count": 6,
   "metadata": {},
   "outputs": [],
   "source": [
    "# Convert to graph representation\n",
    "qcg = QuantumCircuitGraph(qc)"
   ]
  },
  {
   "cell_type": "code",
   "execution_count": 7,
   "metadata": {},
   "outputs": [],
   "source": [
    "from QCCL.transformations import AddIdentityGatesTransformation\n",
    "\n",
    "# Create an instance of the SwapControlTargetTransformation class and apply it\n",
    "transformation = AddIdentityGatesTransformation(qcg)\n",
    "\n",
    "# Apply the transformation\n",
    "transformed_qcg = transformation.apply()  # Applying the transformation\n",
    "transformed_circuit = transformed_qcg.quantum_circuit  # Extract the transformed circuit"
   ]
  },
  {
   "cell_type": "code",
   "execution_count": 8,
   "metadata": {},
   "outputs": [
    {
     "name": "stdout",
     "output_type": "stream",
     "text": [
      "\n",
      "Transformed Circuit:\n"
     ]
    },
    {
     "data": {
      "image/png": "[encoded data removed]",
      "text/plain": [
       "<Figure size 454.719x284.278 with 1 Axes>"
      ]
     },
     "execution_count": 8,
     "metadata": {},
     "output_type": "execute_result"
    }
   ],
   "source": [
    "# Display the transformed circuit\n",
    "print(\"\\nTransformed Circuit:\")\n",
    "transformed_circuit.draw(output='mpl')"
   ]
  },
  {
   "cell_type": "markdown",
   "metadata": {},
   "source": [
    "### Test RemoveIdentityGatesTransformation"
   ]
  },
  {
   "cell_type": "code",
   "execution_count": 9,
   "metadata": {},
   "outputs": [
    {
     "name": "stdout",
     "output_type": "stream",
     "text": [
      "Pattern subgraphs: [(None, <networkx.classes.digraph.DiGraph object at 0x000001A27F2B6FC0>), (None, <networkx.classes.digraph.DiGraph object at 0x000001A266E51CA0>), (None, <networkx.classes.digraph.DiGraph object at 0x000001A25ACF2540>), (None, <networkx.classes.digraph.DiGraph object at 0x000001A27F25FC80>), (None, <networkx.classes.digraph.DiGraph object at 0x000001A266F20A40>)]\n",
      "Matching subgraphs: [{'h_0_1': 'h_0_0', 'h_0_2': 'h_0_1'}, {'h_0_0': 'h_0_0', 'h_0_1': 'h_0_1'}]\n",
      "Matching key: None\n",
      "Matching subgraph selected: {'h_0_1': 'h_0_0', 'h_0_2': 'h_0_1'}\n",
      "Current operations: [(Instruction(name='h', num_qubits=1, num_clbits=0, params=[]), (Qubit(QuantumRegister(3, 'q'), 0),), ()), (Instruction(name='h', num_qubits=1, num_clbits=0, params=[]), (Qubit(QuantumRegister(3, 'q'), 0),), ()), (Instruction(name='h', num_qubits=1, num_clbits=0, params=[]), (Qubit(QuantumRegister(3, 'q'), 0),), ()), (Instruction(name='cx', num_qubits=2, num_clbits=0, params=[]), (Qubit(QuantumRegister(3, 'q'), 0), Qubit(QuantumRegister(3, 'q'), 1)), ()), (Instruction(name='x', num_qubits=1, num_clbits=0, params=[]), (Qubit(QuantumRegister(3, 'q'), 2),), ())]\n",
      "Graph nodes: ['h_0_0', 'h_0_1', 'h_0_2', 'cx_0_control_3', 'cx_1_target_3', 'x_2_4']\n",
      "Graph to circuit mapping: {'h_0_0': 0, 'h_0_1': 1, 'h_0_2': 2, 'cx_0_control_3': 3, 'cx_1_target_3': 3, 'x_2_4': 4}\n",
      "Matching indices: [1, 2]\n",
      "Transformed operations: [(Instruction(name='h', num_qubits=1, num_clbits=0, params=[]), (Qubit(QuantumRegister(3, 'q'), 0),), ()), (Instruction(name='cx', num_qubits=2, num_clbits=0, params=[]), (Qubit(QuantumRegister(3, 'q'), 0), Qubit(QuantumRegister(3, 'q'), 1)), ()), (Instruction(name='x', num_qubits=1, num_clbits=0, params=[]), (Qubit(QuantumRegister(3, 'q'), 2),), ())]\n"
     ]
    }
   ],
   "source": [
    "from QCCL.transformations import RemoveIdentityGatesTransformation\n",
    "\n",
    "# Create an instance of the SwapControlTargetTransformation class and apply it\n",
    "reverse_transformation = RemoveIdentityGatesTransformation(transformed_qcg)\n",
    "\n",
    "# Apply the transformation\n",
    "transformed_qcg = reverse_transformation.apply()  # Applying the transformation\n",
    "transformed_circuit = transformed_qcg.quantum_circuit  # Extract the transformed circuit"
   ]
  },
  {
   "cell_type": "code",
   "execution_count": 10,
   "metadata": {},
   "outputs": [
    {
     "name": "stdout",
     "output_type": "stream",
     "text": [
      "\n",
      "Transformed Circuit:\n"
     ]
    },
    {
     "data": {
      "image/png": "[encoded data removed]",
      "text/plain": [
       "<Figure size 287.496x284.278 with 1 Axes>"
      ]
     },
     "execution_count": 10,
     "metadata": {},
     "output_type": "execute_result"
    }
   ],
   "source": [
    "# Display the transformed circuit\n",
    "print(\"\\nTransformed Circuit:\")\n",
    "transformed_circuit.draw(output='mpl')"
   ]
  },
  {
   "cell_type": "markdown",
   "metadata": {},
   "source": [
    "### Test SwapControlTargetTransformation\n"
   ]
  },
  {
   "cell_type": "markdown",
   "metadata": {},
   "source": [
    "1st PATTERN: CNOT -> CNOT -> H, H, CNOT, H, H"
   ]
  },
  {
   "cell_type": "code",
   "execution_count": 11,
   "metadata": {},
   "outputs": [
    {
     "name": "stdout",
     "output_type": "stream",
     "text": [
      "Original Circuit:\n"
     ]
    },
    {
     "data": {
      "image/png": "[encoded data removed]",
      "text/plain": [
       "<Figure size 203.683x200.667 with 1 Axes>"
      ]
     },
     "execution_count": 11,
     "metadata": {},
     "output_type": "execute_result"
    }
   ],
   "source": [
    "qc = QuantumCircuit(2)\n",
    "qc.cx(0, 1)  # Add CNOT gate\n",
    "\n",
    "# Display the original circuit\n",
    "print(\"Original Circuit:\")\n",
    "qc.draw(output='mpl')"
   ]
  },
  {
   "cell_type": "code",
   "execution_count": 12,
   "metadata": {},
   "outputs": [],
   "source": [
    "# Convert to graph representation\n",
    "qcg = QuantumCircuitGraph(qc)"
   ]
  },
  {
   "cell_type": "code",
   "execution_count": 13,
   "metadata": {},
   "outputs": [
    {
     "name": "stdout",
     "output_type": "stream",
     "text": [
      "Pattern subgraph: [('cx', <networkx.classes.digraph.DiGraph object at 0x000001A25ACF0B00>), ('h-h-cx-h-h', <networkx.classes.digraph.DiGraph object at 0x000001A266EE11F0>), ('h-h-cx', <networkx.classes.digraph.DiGraph object at 0x000001A264FFBF20>), ('cx-h-h', <networkx.classes.digraph.DiGraph object at 0x000001A27F3DF740>), ('h-cx-h', <networkx.classes.digraph.DiGraph object at 0x000001A27F15D460>)]\n",
      "Pattern subgraphs: [('h-h-cx-h-h', <networkx.classes.digraph.DiGraph object at 0x000001A266EE11F0>), ('h-cx-h', <networkx.classes.digraph.DiGraph object at 0x000001A27F15D460>), ('h-h-cx', <networkx.classes.digraph.DiGraph object at 0x000001A264FFBF20>), ('cx', <networkx.classes.digraph.DiGraph object at 0x000001A25ACF0B00>), ('cx-h-h', <networkx.classes.digraph.DiGraph object at 0x000001A27F3DF740>)]\n",
      "Matching subgraphs: [{'cx_0_control_0': 'cx_0_control_0', 'cx_1_target_0': 'cx_1_target_0'}]\n",
      "Matching key: cx\n",
      "Matching subgraph selected: {'cx_0_control_0': 'cx_0_control_0', 'cx_1_target_0': 'cx_1_target_0'}\n",
      "Graph nodes: ['cx_0_control_0', 'cx_1_target_0']\n",
      "Transformed operations: [(Instruction(name='h', num_qubits=1, num_clbits=0, params=[]), [Qubit(QuantumRegister(2, 'q'), 1)], []), (Instruction(name='h', num_qubits=1, num_clbits=0, params=[]), [Qubit(QuantumRegister(2, 'q'), 0)], []), (Instruction(name='cx', num_qubits=2, num_clbits=0, params=[]), [Qubit(QuantumRegister(2, 'q'), 1), Qubit(QuantumRegister(2, 'q'), 0)], []), (Instruction(name='h', num_qubits=1, num_clbits=0, params=[]), [Qubit(QuantumRegister(2, 'q'), 1)], []), (Instruction(name='h', num_qubits=1, num_clbits=0, params=[]), [Qubit(QuantumRegister(2, 'q'), 0)], [])]\n"
     ]
    }
   ],
   "source": [
    "from QCCL.transformations import SwapControlTargetTransformation\n",
    "\n",
    "# Create an instance of the SwapControlTargetTransformation class and apply it\n",
    "transformation = SwapControlTargetTransformation(qcg)\n",
    "\n",
    "# Apply the transformation\n",
    "\n",
    "transformed_qcg = transformation.apply()  # Applying the transformation\n",
    "transformed_circuit = transformed_qcg.quantum_circuit  # Extract the transformed circuit\n"
   ]
  },
  {
   "cell_type": "code",
   "execution_count": 14,
   "metadata": {},
   "outputs": [
    {
     "name": "stdout",
     "output_type": "stream",
     "text": [
      "\n",
      "Transformed Circuit:\n"
     ]
    },
    {
     "data": {
      "image/png": "[encoded data removed]",
      "text/plain": [
       "<Figure size 370.906x200.667 with 1 Axes>"
      ]
     },
     "execution_count": 14,
     "metadata": {},
     "output_type": "execute_result"
    }
   ],
   "source": [
    "\n",
    "# Display the transformed circuit\n",
    "print(\"\\nTransformed Circuit:\")\n",
    "transformed_circuit.draw(output='mpl')"
   ]
  },
  {
   "cell_type": "markdown",
   "metadata": {},
   "source": [
    "2nd PATTERN: CNOT, H, H -> H, H, CNOT"
   ]
  },
  {
   "cell_type": "code",
   "execution_count": 15,
   "metadata": {},
   "outputs": [
    {
     "name": "stdout",
     "output_type": "stream",
     "text": [
      "Original Circuit:\n"
     ]
    },
    {
     "data": {
      "image/png": "[encoded data removed]",
      "text/plain": [
       "<Figure size 287.294x200.667 with 1 Axes>"
      ]
     },
     "execution_count": 15,
     "metadata": {},
     "output_type": "execute_result"
    }
   ],
   "source": [
    "qc = QuantumCircuit(2)\n",
    "qc.cx(0, 1)  # Add CNOT gate\n",
    "qc.h(0)\n",
    "qc.h(1)\n",
    "\n",
    "# Display the original circuit\n",
    "print(\"Original Circuit:\")\n",
    "qc.draw(output='mpl')"
   ]
  },
  {
   "cell_type": "code",
   "execution_count": 16,
   "metadata": {},
   "outputs": [],
   "source": [
    "# Convert to graph representation\n",
    "qcg = QuantumCircuitGraph(qc)"
   ]
  },
  {
   "cell_type": "code",
   "execution_count": 17,
   "metadata": {},
   "outputs": [
    {
     "name": "stdout",
     "output_type": "stream",
     "text": [
      "Pattern subgraph: [('cx', <networkx.classes.digraph.DiGraph object at 0x000001A27F47D6A0>), ('h-h-cx-h-h', <networkx.classes.digraph.DiGraph object at 0x000001A27F47EBA0>), ('h-h-cx', <networkx.classes.digraph.DiGraph object at 0x000001A27F1C7380>), ('cx-h-h', <networkx.classes.digraph.DiGraph object at 0x000001A27F44BAA0>), ('h-cx-h', <networkx.classes.digraph.DiGraph object at 0x000001A266E53080>)]\n",
      "Pattern subgraphs: [('h-h-cx', <networkx.classes.digraph.DiGraph object at 0x000001A27F1C7380>), ('cx', <networkx.classes.digraph.DiGraph object at 0x000001A27F47D6A0>), ('h-h-cx-h-h', <networkx.classes.digraph.DiGraph object at 0x000001A27F47EBA0>), ('h-cx-h', <networkx.classes.digraph.DiGraph object at 0x000001A266E53080>), ('cx-h-h', <networkx.classes.digraph.DiGraph object at 0x000001A27F44BAA0>)]\n",
      "Matching subgraphs: [{'cx_0_control_0': 'cx_0_control_0', 'cx_1_target_0': 'cx_1_target_0'}]\n",
      "Matching key: cx\n",
      "Matching subgraph selected: {'cx_0_control_0': 'cx_0_control_0', 'cx_1_target_0': 'cx_1_target_0'}\n",
      "Graph nodes: ['cx_0_control_0', 'cx_1_target_0', 'h_0_1', 'h_1_2']\n",
      "Transformed operations: [(Instruction(name='h', num_qubits=1, num_clbits=0, params=[]), [Qubit(QuantumRegister(2, 'q'), 1)], []), (Instruction(name='h', num_qubits=1, num_clbits=0, params=[]), [Qubit(QuantumRegister(2, 'q'), 0)], []), (Instruction(name='cx', num_qubits=2, num_clbits=0, params=[]), [Qubit(QuantumRegister(2, 'q'), 1), Qubit(QuantumRegister(2, 'q'), 0)], []), (Instruction(name='h', num_qubits=1, num_clbits=0, params=[]), [Qubit(QuantumRegister(2, 'q'), 1)], []), (Instruction(name='h', num_qubits=1, num_clbits=0, params=[]), [Qubit(QuantumRegister(2, 'q'), 0)], []), (Instruction(name='h', num_qubits=1, num_clbits=0, params=[]), (Qubit(QuantumRegister(2, 'q'), 0),), ()), (Instruction(name='h', num_qubits=1, num_clbits=0, params=[]), (Qubit(QuantumRegister(2, 'q'), 1),), ())]\n"
     ]
    }
   ],
   "source": [
    "from QCCL.transformations import SwapControlTargetTransformation\n",
    "\n",
    "# Create an instance of the SwapControlTargetTransformation class and apply it\n",
    "transformation = SwapControlTargetTransformation(qcg)\n",
    "\n",
    "# Apply the transformation\n",
    "\n",
    "transformed_qcg = transformation.apply()  # Applying the transformation\n",
    "transformed_circuit = transformed_qcg.quantum_circuit  # Extract the transformed circuit"
   ]
  },
  {
   "cell_type": "code",
   "execution_count": 18,
   "metadata": {},
   "outputs": [
    {
     "name": "stdout",
     "output_type": "stream",
     "text": [
      "\n",
      "Transformed Circuit:\n"
     ]
    },
    {
     "data": {
      "image/png": "[encoded data removed]",
      "text/plain": [
       "<Figure size 454.517x200.667 with 1 Axes>"
      ]
     },
     "execution_count": 18,
     "metadata": {},
     "output_type": "execute_result"
    }
   ],
   "source": [
    "# Display the transformed circuit\n",
    "print(\"\\nTransformed Circuit:\")\n",
    "transformed_circuit.draw(output='mpl')"
   ]
  },
  {
   "cell_type": "markdown",
   "metadata": {},
   "source": [
    "2nd PATTERN: H, CNOT, H -> H, CNOT, H"
   ]
  },
  {
   "cell_type": "code",
   "execution_count": 19,
   "metadata": {},
   "outputs": [
    {
     "name": "stdout",
     "output_type": "stream",
     "text": [
      "Original Circuit:\n"
     ]
    },
    {
     "data": {
      "image/png": "[encoded data removed]",
      "text/plain": [
       "<Figure size 370.906x200.667 with 1 Axes>"
      ]
     },
     "execution_count": 19,
     "metadata": {},
     "output_type": "execute_result"
    }
   ],
   "source": [
    "qc = QuantumCircuit(2)\n",
    "qc.h(0)\n",
    "qc.cx(0, 1)  # Add CNOT gate\n",
    "qc.h(0)\n",
    "\n",
    "# Display the original circuit\n",
    "print(\"Original Circuit:\")\n",
    "qc.draw(output='mpl')"
   ]
  },
  {
   "cell_type": "code",
   "execution_count": 20,
   "metadata": {},
   "outputs": [
    {
     "name": "stdout",
     "output_type": "stream",
     "text": [
      "Pattern subgraph: [('cx', <networkx.classes.digraph.DiGraph object at 0x000001A27F5339B0>), ('h-h-cx-h-h', <networkx.classes.digraph.DiGraph object at 0x000001A27F4BB3B0>), ('h-h-cx', <networkx.classes.digraph.DiGraph object at 0x000001A2670F78F0>), ('cx-h-h', <networkx.classes.digraph.DiGraph object at 0x000001A266DA6630>), ('h-cx-h', <networkx.classes.digraph.DiGraph object at 0x000001A27F29E6C0>)]\n",
      "Pattern subgraphs: [('cx', <networkx.classes.digraph.DiGraph object at 0x000001A27F5339B0>), ('cx-h-h', <networkx.classes.digraph.DiGraph object at 0x000001A266DA6630>), ('h-h-cx-h-h', <networkx.classes.digraph.DiGraph object at 0x000001A27F4BB3B0>), ('h-cx-h', <networkx.classes.digraph.DiGraph object at 0x000001A27F29E6C0>), ('h-h-cx', <networkx.classes.digraph.DiGraph object at 0x000001A2670F78F0>)]\n",
      "Matching subgraphs: [{'cx_0_control_1': 'cx_0_control_0', 'cx_1_target_1': 'cx_1_target_0'}]\n",
      "Matching key: cx\n",
      "Matching subgraph selected: {'cx_0_control_1': 'cx_0_control_0', 'cx_1_target_1': 'cx_1_target_0'}\n",
      "Graph nodes: ['h_0_0', 'cx_0_control_1', 'cx_1_target_1', 'h_0_2']\n",
      "Transformed operations: [(Instruction(name='h', num_qubits=1, num_clbits=0, params=[]), (Qubit(QuantumRegister(2, 'q'), 0),), ()), (Instruction(name='h', num_qubits=1, num_clbits=0, params=[]), [Qubit(QuantumRegister(2, 'q'), 1)], []), (Instruction(name='h', num_qubits=1, num_clbits=0, params=[]), [Qubit(QuantumRegister(2, 'q'), 0)], []), (Instruction(name='cx', num_qubits=2, num_clbits=0, params=[]), [Qubit(QuantumRegister(2, 'q'), 1), Qubit(QuantumRegister(2, 'q'), 0)], []), (Instruction(name='h', num_qubits=1, num_clbits=0, params=[]), [Qubit(QuantumRegister(2, 'q'), 1)], []), (Instruction(name='h', num_qubits=1, num_clbits=0, params=[]), [Qubit(QuantumRegister(2, 'q'), 0)], []), (Instruction(name='h', num_qubits=1, num_clbits=0, params=[]), (Qubit(QuantumRegister(2, 'q'), 0),), ())]\n",
      "\n",
      "Transformed Circuit:\n"
     ]
    },
    {
     "data": {
      "image/png": "[encoded data removed]",
      "text/plain": [
       "<Figure size 538.128x200.667 with 1 Axes>"
      ]
     },
     "execution_count": 20,
     "metadata": {},
     "output_type": "execute_result"
    }
   ],
   "source": [
    "# Convert to graph representation\n",
    "qcg = QuantumCircuitGraph(qc)\n",
    "\n",
    "# Create an instance of the SwapControlTargetTransformation class and apply it\n",
    "transformation = SwapControlTargetTransformation(qcg)\n",
    "\n",
    "# Apply the transformation\n",
    "transformed_qcg = transformation.apply()  # Applying the transformation\n",
    "transformed_circuit = transformed_qcg.quantum_circuit  # Extract the transformed circuit\n",
    "\n",
    "# Display the transformed circuit\n",
    "print(\"\\nTransformed Circuit:\")\n",
    "transformed_circuit.draw(output='mpl')"
   ]
  },
  {
   "cell_type": "markdown",
   "metadata": {},
   "source": [
    "### Test CNOTDecompositionTransformation"
   ]
  },
  {
   "cell_type": "markdown",
   "metadata": {},
   "source": [
    "1st PATTERN: CNOT -> CNOT, CNOT, CNOT, CNOT"
   ]
  },
  {
   "cell_type": "code",
   "execution_count": 21,
   "metadata": {},
   "outputs": [
    {
     "name": "stdout",
     "output_type": "stream",
     "text": [
      "Original Circuit:\n"
     ]
    },
    {
     "data": {
      "image/png": "[encoded data removed]",
      "text/plain": [
       "<Figure size 203.885x367.889 with 1 Axes>"
      ]
     },
     "execution_count": 21,
     "metadata": {},
     "output_type": "execute_result"
    }
   ],
   "source": [
    "qc = QuantumCircuit(4)\n",
    "qc.cx(0, 1)  # Add CNOT gate\n",
    "\n",
    "# Display the original circuit\n",
    "print(\"Original Circuit:\")\n",
    "qc.draw(output='mpl')"
   ]
  },
  {
   "cell_type": "code",
   "execution_count": 22,
   "metadata": {},
   "outputs": [
    {
     "name": "stdout",
     "output_type": "stream",
     "text": [
      "Pattern subgraphs: [('t-c-t-c', <networkx.classes.digraph.DiGraph object at 0x000001A2657DFFE0>), ('cx', <networkx.classes.digraph.DiGraph object at 0x000001A27F5A07D0>), ('c-t-c-t', <networkx.classes.digraph.DiGraph object at 0x000001A27F533BF0>)]\n",
      "Matching subgraphs: [{'cx_0_control_0': 'cx_0_control_0', 'cx_1_target_0': 'cx_1_target_0'}]\n",
      "Matching key: cx\n",
      "Matching subgraph selected: {'cx_0_control_0': 'cx_0_control_0', 'cx_1_target_0': 'cx_1_target_0'}\n",
      "Graph nodes: ['cx_0_control_0', 'cx_1_target_0']\n",
      "Transformed operations: [(Instruction(name='cx', num_qubits=2, num_clbits=0, params=[]), [Qubit(QuantumRegister(4, 'q'), 3), Qubit(QuantumRegister(4, 'q'), 1)], []), (Instruction(name='cx', num_qubits=2, num_clbits=0, params=[]), [Qubit(QuantumRegister(4, 'q'), 0), Qubit(QuantumRegister(4, 'q'), 3)], []), (Instruction(name='cx', num_qubits=2, num_clbits=0, params=[]), [Qubit(QuantumRegister(4, 'q'), 3), Qubit(QuantumRegister(4, 'q'), 1)], []), (Instruction(name='cx', num_qubits=2, num_clbits=0, params=[]), [Qubit(QuantumRegister(4, 'q'), 0), Qubit(QuantumRegister(4, 'q'), 3)], [])]\n",
      "\n",
      "Transformed Circuit:\n"
     ]
    },
    {
     "data": {
      "image/png": "[encoded data removed]",
      "text/plain": [
       "<Figure size 454.719x367.889 with 1 Axes>"
      ]
     },
     "execution_count": 22,
     "metadata": {},
     "output_type": "execute_result"
    }
   ],
   "source": [
    "from QCCL.transformations import CNOTDecompositionTransformation\n",
    "\n",
    "# Convert to graph representation\n",
    "qcg = QuantumCircuitGraph(qc)\n",
    "\n",
    "# Create an instance of the SwapControlTargetTransformation class and apply it\n",
    "transformation = CNOTDecompositionTransformation(qcg)\n",
    "\n",
    "# Apply the transformation\n",
    "transformed_qcg = transformation.apply()  # Applying the transformation\n",
    "transformed_circuit = transformed_qcg.quantum_circuit  # Extract the transformed circuit\n",
    "\n",
    "# Display the transformed circuit\n",
    "print(\"\\nTransformed Circuit:\")\n",
    "transformed_circuit.draw(output='mpl')"
   ]
  },
  {
   "cell_type": "markdown",
   "metadata": {},
   "source": [
    "2st PATTERN: CNOT, CNOT, CNOT, CNOT -> CNOT or 4 CNOTs"
   ]
  },
  {
   "cell_type": "code",
   "execution_count": 23,
   "metadata": {},
   "outputs": [
    {
     "name": "stdout",
     "output_type": "stream",
     "text": [
      "Original Circuit:\n"
     ]
    },
    {
     "data": {
      "image/png": "[encoded data removed]",
      "text/plain": [
       "<Figure size 454.719x284.278 with 1 Axes>"
      ]
     },
     "execution_count": 23,
     "metadata": {},
     "output_type": "execute_result"
    }
   ],
   "source": [
    "qc = QuantumCircuit(3)\n",
    " \n",
    "qc.h(0)\n",
    "qc.cx(1, 2)  \n",
    "qc.cx(0, 1)  \n",
    "qc.cx(1, 2)\n",
    "qc.cx(0, 1) \n",
    "qc.t(2)\n",
    "\n",
    "# Display the original circuit\n",
    "print(\"Original Circuit:\")\n",
    "qc.draw(output='mpl')"
   ]
  },
  {
   "cell_type": "code",
   "execution_count": 24,
   "metadata": {},
   "outputs": [
    {
     "name": "stdout",
     "output_type": "stream",
     "text": [
      "Pattern subgraphs: [('c-t-c-t', <networkx.classes.digraph.DiGraph object at 0x000001A27F5C5820>), ('t-c-t-c', <networkx.classes.digraph.DiGraph object at 0x000001A264FFBBC0>), ('cx', <networkx.classes.digraph.DiGraph object at 0x000001A27F68FF50>)]\n",
      "Matching subgraphs: [{'cx_1_control_1': 'cx_1_control_0', 'cx_2_target_1': 'cx_2_target_0', 'cx_1_target_2': 'cx_1_target_1', 'cx_0_control_2': 'cx_0_control_1', 'cx_1_control_3': 'cx_1_control_2', 'cx_2_target_3': 'cx_2_target_2', 'cx_0_control_4': 'cx_0_control_3', 'cx_1_target_4': 'cx_1_target_3'}]\n",
      "Matching key: c-t-c-t\n",
      "Matching subgraph selected: {'cx_1_control_1': 'cx_1_control_0', 'cx_2_target_1': 'cx_2_target_0', 'cx_1_target_2': 'cx_1_target_1', 'cx_0_control_2': 'cx_0_control_1', 'cx_1_control_3': 'cx_1_control_2', 'cx_2_target_3': 'cx_2_target_2', 'cx_0_control_4': 'cx_0_control_3', 'cx_1_target_4': 'cx_1_target_3'}\n",
      "Graph nodes: ['h_0_0', 'cx_1_control_1', 'cx_2_target_1', 'cx_0_control_2', 'cx_1_target_2', 'cx_1_control_3', 'cx_2_target_3', 'cx_0_control_4', 'cx_1_target_4', 't_2_5']\n",
      "Transformed operations: [(Instruction(name='h', num_qubits=1, num_clbits=0, params=[]), (Qubit(QuantumRegister(3, 'q'), 0),), ()), (Instruction(name='cx', num_qubits=2, num_clbits=0, params=[]), [Qubit(QuantumRegister(3, 'q'), 0), Qubit(QuantumRegister(3, 'q'), 1)], []), (Instruction(name='cx', num_qubits=2, num_clbits=0, params=[]), [Qubit(QuantumRegister(3, 'q'), 1), Qubit(QuantumRegister(3, 'q'), 2)], []), (Instruction(name='cx', num_qubits=2, num_clbits=0, params=[]), [Qubit(QuantumRegister(3, 'q'), 0), Qubit(QuantumRegister(3, 'q'), 1)], []), (Instruction(name='cx', num_qubits=2, num_clbits=0, params=[]), [Qubit(QuantumRegister(3, 'q'), 1), Qubit(QuantumRegister(3, 'q'), 2)], []), (Instruction(name='t', num_qubits=1, num_clbits=0, params=[]), (Qubit(QuantumRegister(3, 'q'), 2),), ())]\n",
      "\n",
      "Transformed Circuit:\n"
     ]
    },
    {
     "data": {
      "image/png": "[encoded data removed]",
      "text/plain": [
       "<Figure size 621.941x284.278 with 1 Axes>"
      ]
     },
     "execution_count": 24,
     "metadata": {},
     "output_type": "execute_result"
    }
   ],
   "source": [
    "# Convert to graph representation\n",
    "qcg = QuantumCircuitGraph(qc)\n",
    "\n",
    "# Create an instance of the SwapControlTargetTransformation class and apply it\n",
    "transformation = CNOTDecompositionTransformation(qcg)\n",
    "\n",
    "# Apply the transformation\n",
    "transformed_qcg = transformation.apply()  # Applying the transformation\n",
    "transformed_circuit = transformed_qcg.quantum_circuit  # Extract the transformed circuit\n",
    "\n",
    "# Display the transformed circuit\n",
    "print(\"\\nTransformed Circuit:\")\n",
    "transformed_circuit.draw(output='mpl')"
   ]
  },
  {
   "cell_type": "markdown",
   "metadata": {},
   "source": [
    "### Test ChangeOfBasisTransformation"
   ]
  },
  {
   "cell_type": "code",
   "execution_count": 25,
   "metadata": {},
   "outputs": [],
   "source": [
    "from qiskit.circuit.library import HGate, ZGate, XGate, TGate\n",
    "import random\n",
    "from QCCL.transformations import ChangeOfBasisTransformation"
   ]
  },
  {
   "cell_type": "markdown",
   "metadata": {},
   "source": [
    "1st PATTERN: single H, Z, or X"
   ]
  },
  {
   "cell_type": "code",
   "execution_count": 26,
   "metadata": {},
   "outputs": [
    {
     "data": {
      "image/png": "[encoded data removed]",
      "text/plain": [
       "<Figure size 203.885x284.278 with 1 Axes>"
      ]
     },
     "execution_count": 26,
     "metadata": {},
     "output_type": "execute_result"
    }
   ],
   "source": [
    "# Circuit with HZH pattern\n",
    "qc = QuantumCircuit(3)\n",
    "qc.z(0)\n",
    "qc.h(1)\n",
    "qc.x(2)\n",
    "\n",
    "qc.draw('mpl')"
   ]
  },
  {
   "cell_type": "code",
   "execution_count": 27,
   "metadata": {},
   "outputs": [
    {
     "name": "stdout",
     "output_type": "stream",
     "text": [
      "Pattern subgraphs: [('h-z-h', <networkx.classes.digraph.DiGraph object at 0x000001A27F78E0F0>), ('z-h', <networkx.classes.digraph.DiGraph object at 0x000001A27F195970>), ('x-h-z', <networkx.classes.digraph.DiGraph object at 0x000001A27F6BCEF0>), ('h-z', <networkx.classes.digraph.DiGraph object at 0x000001A27F5F54C0>), ('h', <networkx.classes.digraph.DiGraph object at 0x000001A27F7DB290>), ('x-h', <networkx.classes.digraph.DiGraph object at 0x000001A27F6334A0>), ('h-x', <networkx.classes.digraph.DiGraph object at 0x000001A27F8BB020>), ('h-x-h', <networkx.classes.digraph.DiGraph object at 0x000001A27F632DB0>), ('z-h-x', <networkx.classes.digraph.DiGraph object at 0x000001A27F8960C0>), ('x', <networkx.classes.digraph.DiGraph object at 0x000001A27F532E40>), ('z', <networkx.classes.digraph.DiGraph object at 0x000001A27F9205F0>)]\n",
      "Matching subgraphs: [{'h_1_1': 'h_0_0'}]\n",
      "Matching key: h\n",
      "Matching subgraph selected: {'h_1_1': 'h_0_0'}\n",
      "Replacement: [(Instruction(name='z', num_qubits=1, num_clbits=0, params=[]), [Qubit(QuantumRegister(3, 'q'), 1)], []), (Instruction(name='h', num_qubits=1, num_clbits=0, params=[]), [Qubit(QuantumRegister(3, 'q'), 1)], []), (Instruction(name='x', num_qubits=1, num_clbits=0, params=[]), [Qubit(QuantumRegister(3, 'q'), 1)], [])]\n",
      "Graph nodes: ['z_0_0', 'h_1_1', 'x_2_2']\n",
      "Matching indices: [1]\n",
      "Number of matching indices: 1\n",
      "Transformed operations: [(Instruction(name='z', num_qubits=1, num_clbits=0, params=[]), (Qubit(QuantumRegister(3, 'q'), 0),), ()), (Instruction(name='z', num_qubits=1, num_clbits=0, params=[]), [Qubit(QuantumRegister(3, 'q'), 1)], []), (Instruction(name='h', num_qubits=1, num_clbits=0, params=[]), [Qubit(QuantumRegister(3, 'q'), 1)], []), (Instruction(name='x', num_qubits=1, num_clbits=0, params=[]), [Qubit(QuantumRegister(3, 'q'), 1)], []), (Instruction(name='x', num_qubits=1, num_clbits=0, params=[]), (Qubit(QuantumRegister(3, 'q'), 2),), ())]\n",
      "\n",
      "Transformed Circuit:\n"
     ]
    },
    {
     "data": {
      "image/png": "[encoded data removed]",
      "text/plain": [
       "<Figure size 371.107x284.278 with 1 Axes>"
      ]
     },
     "execution_count": 27,
     "metadata": {},
     "output_type": "execute_result"
    }
   ],
   "source": [
    "# Convert to graph representation\n",
    "qcg = QuantumCircuitGraph(qc)\n",
    "\n",
    "# Create an instance of the SwapControlTargetTransformation class and apply it\n",
    "transformation = ChangeOfBasisTransformation(qcg)\n",
    "\n",
    "# Apply the transformation\n",
    "transformed_qcg = transformation.apply()  # Applying the transformation\n",
    "transformed_circuit = transformed_qcg.quantum_circuit  # Extract the transformed circuit\n",
    "\n",
    "# Display the transformed circuit\n",
    "print(\"\\nTransformed Circuit:\")\n",
    "transformed_circuit.draw(output='mpl')"
   ]
  },
  {
   "cell_type": "markdown",
   "metadata": {},
   "source": [
    "2nd PATTERN: HZ, ZH, HX, XH"
   ]
  },
  {
   "cell_type": "code",
   "execution_count": 28,
   "metadata": {},
   "outputs": [
    {
     "name": "stdout",
     "output_type": "stream",
     "text": [
      "Original Circuit:\n"
     ]
    },
    {
     "data": {
      "image/png": "[encoded data removed]",
      "text/plain": [
       "<Figure size 287.496x367.889 with 1 Axes>"
      ]
     },
     "execution_count": 28,
     "metadata": {},
     "output_type": "execute_result"
    }
   ],
   "source": [
    "qc = QuantumCircuit(4)\n",
    "qc.h(0)\n",
    "qc.z(0)\n",
    "qc.h(1)\n",
    "qc.x(1)\n",
    "qc.z(2)\n",
    "qc.h(2)\n",
    "qc.x(3)\n",
    "qc.h(3)\n",
    "\n",
    "# Display the original circuit\n",
    "print(\"Original Circuit:\")\n",
    "qc.draw(output='mpl')"
   ]
  },
  {
   "cell_type": "code",
   "execution_count": 29,
   "metadata": {},
   "outputs": [
    {
     "name": "stdout",
     "output_type": "stream",
     "text": [
      "Pattern subgraphs: [('z', <networkx.classes.digraph.DiGraph object at 0x000001A27F513E30>), ('x-h', <networkx.classes.digraph.DiGraph object at 0x000001A27FA2D7C0>), ('x-h-z', <networkx.classes.digraph.DiGraph object at 0x000001A27F24BA70>), ('h-x-h', <networkx.classes.digraph.DiGraph object at 0x000001A27F5F4C50>), ('z-h', <networkx.classes.digraph.DiGraph object at 0x000001A27FA2D910>), ('x', <networkx.classes.digraph.DiGraph object at 0x000001A27FA2F410>), ('h-z-h', <networkx.classes.digraph.DiGraph object at 0x000001A27F7331A0>), ('h', <networkx.classes.digraph.DiGraph object at 0x000001A27F78E0F0>), ('z-h-x', <networkx.classes.digraph.DiGraph object at 0x000001A27F4CBC50>), ('h-z', <networkx.classes.digraph.DiGraph object at 0x000001A27FA2F590>), ('h-x', <networkx.classes.digraph.DiGraph object at 0x000001A27FA2CE30>)]\n",
      "Matching subgraphs: [{'z_0_1': 'z_0_0'}, {'z_2_4': 'z_0_0'}]\n",
      "Matching key: z\n",
      "Matching subgraph selected: {'z_2_4': 'z_0_0'}\n",
      "Replacement: [(Instruction(name='h', num_qubits=1, num_clbits=0, params=[]), [Qubit(QuantumRegister(4, 'q'), 2)], []), (Instruction(name='x', num_qubits=1, num_clbits=0, params=[]), [Qubit(QuantumRegister(4, 'q'), 2)], []), (Instruction(name='h', num_qubits=1, num_clbits=0, params=[]), [Qubit(QuantumRegister(4, 'q'), 2)], [])]\n",
      "Graph nodes: ['h_0_0', 'z_0_1', 'h_1_2', 'x_1_3', 'z_2_4', 'h_2_5', 'x_3_6', 'h_3_7']\n",
      "Matching indices: [4]\n",
      "Number of matching indices: 1\n",
      "Transformed operations: [(Instruction(name='h', num_qubits=1, num_clbits=0, params=[]), (Qubit(QuantumRegister(4, 'q'), 0),), ()), (Instruction(name='z', num_qubits=1, num_clbits=0, params=[]), (Qubit(QuantumRegister(4, 'q'), 0),), ()), (Instruction(name='h', num_qubits=1, num_clbits=0, params=[]), (Qubit(QuantumRegister(4, 'q'), 1),), ()), (Instruction(name='x', num_qubits=1, num_clbits=0, params=[]), (Qubit(QuantumRegister(4, 'q'), 1),), ()), (Instruction(name='h', num_qubits=1, num_clbits=0, params=[]), [Qubit(QuantumRegister(4, 'q'), 2)], []), (Instruction(name='x', num_qubits=1, num_clbits=0, params=[]), [Qubit(QuantumRegister(4, 'q'), 2)], []), (Instruction(name='h', num_qubits=1, num_clbits=0, params=[]), [Qubit(QuantumRegister(4, 'q'), 2)], []), (Instruction(name='h', num_qubits=1, num_clbits=0, params=[]), (Qubit(QuantumRegister(4, 'q'), 2),), ()), (Instruction(name='x', num_qubits=1, num_clbits=0, params=[]), (Qubit(QuantumRegister(4, 'q'), 3),), ()), (Instruction(name='h', num_qubits=1, num_clbits=0, params=[]), (Qubit(QuantumRegister(4, 'q'), 3),), ())]\n",
      "\n",
      "Transformed Circuit:\n"
     ]
    },
    {
     "data": {
      "image/png": "[encoded data removed]",
      "text/plain": [
       "<Figure size 454.719x367.889 with 1 Axes>"
      ]
     },
     "execution_count": 29,
     "metadata": {},
     "output_type": "execute_result"
    }
   ],
   "source": [
    "# Convert to graph representation\n",
    "qcg = QuantumCircuitGraph(qc)\n",
    "\n",
    "# Create an instance of the SwapControlTargetTransformation class and apply it\n",
    "transformation = ChangeOfBasisTransformation(qcg)\n",
    "\n",
    "# Apply the transformation\n",
    "transformed_qcg = transformation.apply()  # Applying the transformation\n",
    "transformed_circuit = transformed_qcg.quantum_circuit  # Extract the transformed circuit\n",
    "\n",
    "# Display the transformed circuit\n",
    "print(\"\\nTransformed Circuit:\")\n",
    "transformed_circuit.draw(output='mpl')"
   ]
  },
  {
   "cell_type": "markdown",
   "metadata": {},
   "source": [
    "3rd PATTERN: HXH, HZH, ..."
   ]
  },
  {
   "cell_type": "code",
   "execution_count": 30,
   "metadata": {},
   "outputs": [
    {
     "name": "stdout",
     "output_type": "stream",
     "text": [
      "Original Circuit:\n"
     ]
    },
    {
     "data": {
      "image/png": "[encoded data removed]",
      "text/plain": [
       "<Figure size 371.107x284.278 with 1 Axes>"
      ]
     },
     "execution_count": 30,
     "metadata": {},
     "output_type": "execute_result"
    }
   ],
   "source": [
    "qc = QuantumCircuit(3)\n",
    "qc.h(0)\n",
    "qc.z(0)\n",
    "qc.h(0)\n",
    "qc.h(1)\n",
    "qc.t(2)\n",
    "qc.x(1)\n",
    "qc.h(1)\n",
    "\n",
    "# Display the original circuit\n",
    "print(\"Original Circuit:\")\n",
    "qc.draw(output='mpl')"
   ]
  },
  {
   "cell_type": "code",
   "execution_count": 31,
   "metadata": {},
   "outputs": [
    {
     "name": "stdout",
     "output_type": "stream",
     "text": [
      "Pattern subgraphs: [('z-h', <networkx.classes.digraph.DiGraph object at 0x000001A27FB11640>), ('h-x', <networkx.classes.digraph.DiGraph object at 0x000001A27F863020>), ('x', <networkx.classes.digraph.DiGraph object at 0x000001A27F68C980>), ('x-h', <networkx.classes.digraph.DiGraph object at 0x000001A27FA73800>), ('h-z', <networkx.classes.digraph.DiGraph object at 0x000001A27FACF4A0>), ('z', <networkx.classes.digraph.DiGraph object at 0x000001A27FA2C8F0>), ('x-h-z', <networkx.classes.digraph.DiGraph object at 0x000001A27FACE3C0>), ('z-h-x', <networkx.classes.digraph.DiGraph object at 0x000001A27F8BBF80>), ('h', <networkx.classes.digraph.DiGraph object at 0x000001A264FFA390>), ('h-x-h', <networkx.classes.digraph.DiGraph object at 0x000001A27F4218B0>), ('h-z-h', <networkx.classes.digraph.DiGraph object at 0x000001A27F37F4A0>)]\n",
      "Matching subgraphs: [{'z_0_1': 'z_0_0', 'h_0_2': 'h_0_1'}]\n",
      "Matching key: z-h\n",
      "Matching subgraph selected: {'z_0_1': 'z_0_0', 'h_0_2': 'h_0_1'}\n",
      "Replacement: [(Instruction(name='h', num_qubits=1, num_clbits=0, params=[]), [Qubit(QuantumRegister(3, 'q'), 0)], []), (Instruction(name='x', num_qubits=1, num_clbits=0, params=[]), [Qubit(QuantumRegister(3, 'q'), 0)], [])]\n",
      "Graph nodes: ['h_0_0', 'z_0_1', 'h_0_2', 'h_1_3', 't_2_4', 'x_1_5', 'h_1_6']\n",
      "Matching indices: [1, 2]\n",
      "Number of matching indices: 2\n",
      "Transformed operations: [(Instruction(name='h', num_qubits=1, num_clbits=0, params=[]), (Qubit(QuantumRegister(3, 'q'), 0),), ()), (Instruction(name='h', num_qubits=1, num_clbits=0, params=[]), [Qubit(QuantumRegister(3, 'q'), 0)], []), (Instruction(name='x', num_qubits=1, num_clbits=0, params=[]), [Qubit(QuantumRegister(3, 'q'), 0)], []), (Instruction(name='h', num_qubits=1, num_clbits=0, params=[]), (Qubit(QuantumRegister(3, 'q'), 1),), ()), (Instruction(name='t', num_qubits=1, num_clbits=0, params=[]), (Qubit(QuantumRegister(3, 'q'), 2),), ()), (Instruction(name='x', num_qubits=1, num_clbits=0, params=[]), (Qubit(QuantumRegister(3, 'q'), 1),), ()), (Instruction(name='h', num_qubits=1, num_clbits=0, params=[]), (Qubit(QuantumRegister(3, 'q'), 1),), ())]\n",
      "\n",
      "Transformed Circuit:\n"
     ]
    },
    {
     "data": {
      "image/png": "[encoded data removed]",
      "text/plain": [
       "<Figure size 371.107x284.278 with 1 Axes>"
      ]
     },
     "execution_count": 31,
     "metadata": {},
     "output_type": "execute_result"
    }
   ],
   "source": [
    "# Convert to graph representation\n",
    "qcg = QuantumCircuitGraph(qc)\n",
    "\n",
    "# Create an instance of the SwapControlTargetTransformation class and apply it\n",
    "transformation = ChangeOfBasisTransformation(qcg)\n",
    "\n",
    "# Apply the transformation\n",
    "transformed_qcg = transformation.apply()  # Applying the transformation\n",
    "transformed_circuit = transformed_qcg.quantum_circuit  # Extract the transformed circuit\n",
    "\n",
    "# Display the transformed circuit\n",
    "print(\"\\nTransformed Circuit:\")\n",
    "transformed_circuit.draw(output='mpl')"
   ]
  },
  {
   "cell_type": "markdown",
   "metadata": {},
   "source": [
    "### Test ParallelXTransformation"
   ]
  },
  {
   "cell_type": "markdown",
   "metadata": {},
   "source": [
    "1st PATTERN: parallel X"
   ]
  },
  {
   "cell_type": "code",
   "execution_count": 32,
   "metadata": {},
   "outputs": [
    {
     "name": "stdout",
     "output_type": "stream",
     "text": [
      "Original Circuit:\n"
     ]
    },
    {
     "data": {
      "image/png": "[encoded data removed]",
      "text/plain": [
       "<Figure size 538.33x284.278 with 1 Axes>"
      ]
     },
     "execution_count": 32,
     "metadata": {},
     "output_type": "execute_result"
    }
   ],
   "source": [
    "qc = QuantumCircuit(3)\n",
    " \n",
    "qc.h(0)\n",
    "qc.cx(1, 2)  \n",
    "qc.x(1)\n",
    "qc.x(2)\n",
    "qc.cx(0, 1)  \n",
    "qc.cx(1, 2)\n",
    "qc.cx(0, 1) \n",
    "qc.t(2)\n",
    "\n",
    "qcg = QuantumCircuitGraph(qc)\n",
    "\n",
    "# Display the original circuit\n",
    "print(\"Original Circuit:\")\n",
    "qc.draw(output='mpl')"
   ]
  },
  {
   "cell_type": "code",
   "execution_count": 33,
   "metadata": {},
   "outputs": [
    {
     "name": "stdout",
     "output_type": "stream",
     "text": [
      "Pattern subgraphs: [('cx-x-cx', <networkx.classes.digraph.DiGraph object at 0x000001A27F5A1E80>)]\n",
      "Matching subgraphs: []\n",
      "Matching key: cx-x-cx\n",
      "Pred_ctrl: cx_1_control_1, Succ_ctrl: cx_1_target_4, Pred_trgt: cx_2_target_1, Succ_trgt: cx_2_target_5\n",
      "Pred_ctrl: x_1_add1, Succ_ctrl: cx_1_target_4, Pred_trgt: cx_2_target_add0, Succ_trgt: cx_2_target_5\n",
      "Added h gate to qubit 0\n",
      "Frontier: {0: 'cx_0_control_4', 1: 'cx_1_control_1', 2: 'cx_2_target_1'}\n",
      "Frontier: {0: 'cx_0_control_4'}\n",
      "Frontier: {0: 'cx_0_control_4', 1: 'cx_1_control_add0', 2: 'cx_2_target_add0'}\n",
      "Frontier: {0: 'cx_0_control_4'}\n",
      "Added x gate to qubit 1\n",
      "Frontier: {0: 'cx_0_control_4', 1: 'cx_1_control_add2', 2: 'cx_2_target_add2'}\n",
      "Frontier: {0: 'cx_0_control_4'}\n",
      "Frontier: {0: 'cx_0_control_4', 1: 'cx_1_target_4', 2: 'cx_2_target_5'}\n",
      "Frontier: {0: 'cx_0_control_4', 1: 'cx_1_target_4'}\n",
      "Frontier: {0: 'cx_0_control_6', 1: 'cx_1_control_5', 2: 'cx_2_target_5'}\n",
      "Frontier: {0: 'cx_0_control_6'}\n",
      "Added t gate to qubit 2\n",
      "Frontier: {0: 'cx_0_control_6', 1: 'cx_1_target_6', 2: None}\n",
      "Frontier: {0: 'cx_0_control_6', 1: 'cx_1_target_6'}\n",
      "\n",
      "Transformed Circuit:\n"
     ]
    },
    {
     "data": {
      "image/png": "[encoded data removed]",
      "text/plain": [
       "<Figure size 705.552x284.278 with 1 Axes>"
      ]
     },
     "execution_count": 33,
     "metadata": {},
     "output_type": "execute_result"
    }
   ],
   "source": [
    "from QCCL.transformations import ParallelXTransformation\n",
    "\n",
    "# Convert to graph representation\n",
    "qcg = QuantumCircuitGraph(qc)\n",
    "\n",
    "# Create an instance of the SwapControlTargetTransformation class and apply it\n",
    "transformation = ParallelXTransformation(qcg)\n",
    "\n",
    "# Apply the transformation\n",
    "transformed_qcg = transformation.apply()  # Applying the transformation\n",
    "transformed_circuit = transformed_qcg.quantum_circuit  # Extract the transformed circuit\n",
    "\n",
    "# Display the transformed circuit\n",
    "print(\"\\nTransformed Circuit:\")\n",
    "transformed_circuit.draw(output='mpl')"
   ]
  },
  {
   "cell_type": "markdown",
   "metadata": {},
   "source": [
    "2nd PATTERN: cx-x-cx"
   ]
  },
  {
   "cell_type": "code",
   "execution_count": 34,
   "metadata": {},
   "outputs": [
    {
     "name": "stdout",
     "output_type": "stream",
     "text": [
      "Original Circuit:\n"
     ]
    },
    {
     "data": {
      "image/png": "[encoded data removed]",
      "text/plain": [
       "<Figure size 621.941x284.278 with 1 Axes>"
      ]
     },
     "execution_count": 34,
     "metadata": {},
     "output_type": "execute_result"
    }
   ],
   "source": [
    "qc = QuantumCircuit(3)\n",
    " \n",
    "qc.h(0)\n",
    "qc.cx(1, 2)  \n",
    "qc.x(1)\n",
    "qc.cx(0, 1)  \n",
    "qc.cx(1, 2)\n",
    "qc.x(1)\n",
    "qc.cx(1, 2)\n",
    "\n",
    "qcg = QuantumCircuitGraph(qc)\n",
    "\n",
    "# Display the original circuit\n",
    "print(\"Original Circuit:\")\n",
    "qc.draw(output='mpl')"
   ]
  },
  {
   "cell_type": "code",
   "execution_count": 35,
   "metadata": {},
   "outputs": [
    {
     "name": "stdout",
     "output_type": "stream",
     "text": [
      "Pattern subgraphs: [('cx-x-cx', <networkx.classes.digraph.DiGraph object at 0x000001A27F632840>)]\n",
      "Matching subgraphs: [{'cx_1_control_4': 'cx_0_control_0', 'cx_2_target_4': 'cx_1_target_0', 'x_1_5': 'x_0_1', 'cx_1_control_6': 'cx_0_control_2', 'cx_2_target_6': 'cx_1_target_2'}]\n",
      "Matching key: cx-x-cx\n",
      "Matching subgraph selected: {'cx_1_control_4': 'cx_0_control_0', 'cx_2_target_4': 'cx_1_target_0', 'x_1_5': 'x_0_1', 'cx_1_control_6': 'cx_0_control_2', 'cx_2_target_6': 'cx_1_target_2'}\n",
      "Graph nodes: ['h_0_0', 'cx_1_control_1', 'cx_2_target_1', 'x_1_2', 'cx_0_control_3', 'cx_1_target_3', 'cx_1_control_4', 'cx_2_target_4', 'x_1_5', 'cx_1_control_6', 'cx_2_target_6']\n",
      "\n",
      "Transformed Circuit:\n"
     ]
    },
    {
     "data": {
      "image/png": "[encoded data removed]",
      "text/plain": [
       "<Figure size 454.719x284.278 with 1 Axes>"
      ]
     },
     "execution_count": 35,
     "metadata": {},
     "output_type": "execute_result"
    }
   ],
   "source": [
    "# Convert to graph representation\n",
    "qcg = QuantumCircuitGraph(qc)\n",
    "\n",
    "# Create an instance of the SwapControlTargetTransformation class and apply it\n",
    "transformation = ParallelXTransformation(qcg)\n",
    "\n",
    "# Apply the transformation\n",
    "transformed_qcg = transformation.apply()  # Applying the transformation\n",
    "transformed_circuit = transformed_qcg.quantum_circuit  # Extract the transformed circuit\n",
    "\n",
    "# Display the transformed circuit\n",
    "print(\"\\nTransformed Circuit:\")\n",
    "transformed_circuit.draw(output='mpl')"
   ]
  },
  {
   "cell_type": "markdown",
   "metadata": {},
   "source": [
    "TEST: no match"
   ]
  },
  {
   "cell_type": "code",
   "execution_count": 36,
   "metadata": {},
   "outputs": [
    {
     "name": "stdout",
     "output_type": "stream",
     "text": [
      "Original Circuit:\n"
     ]
    },
    {
     "data": {
      "image/png": "[encoded data removed]",
      "text/plain": [
       "<Figure size 538.33x284.278 with 1 Axes>"
      ]
     },
     "execution_count": 36,
     "metadata": {},
     "output_type": "execute_result"
    }
   ],
   "source": [
    "qc = QuantumCircuit(3)\n",
    " \n",
    "qc.h(0)\n",
    "qc.cx(1, 2)  \n",
    "qc.x(1)\n",
    "qc.cx(0, 1) \n",
    "qc.x(0) \n",
    "qc.cx(1, 2)\n",
    "qc.cx(0, 1) \n",
    "qc.t(2)\n",
    "\n",
    "qcg = QuantumCircuitGraph(qc)\n",
    "\n",
    "# Display the original circuit\n",
    "print(\"Original Circuit:\")\n",
    "qc.draw(output='mpl')"
   ]
  },
  {
   "cell_type": "code",
   "execution_count": 37,
   "metadata": {},
   "outputs": [
    {
     "name": "stdout",
     "output_type": "stream",
     "text": [
      "Pattern subgraphs: [('cx-x-cx', <networkx.classes.digraph.DiGraph object at 0x000001A27FEC6ED0>)]\n",
      "Matching subgraphs: []\n",
      "Matching key: cx-x-cx\n",
      "Transformation failed with error: No matching subgraphs found for the given pattern.\n"
     ]
    }
   ],
   "source": [
    "# Convert to graph representation\n",
    "qcg = QuantumCircuitGraph(qc)\n",
    "\n",
    "# Create an instance of the SwapControlTargetTransformation class and apply it\n",
    "transformation = ParallelXTransformation(qcg)\n",
    "\n",
    "try:\n",
    "    # Apply the transformation\n",
    "    transformed_qcg = transformation.apply()  # Applying the transformation\n",
    "    transformed_circuit = transformed_qcg.quantum_circuit  # Extract the transformed circuit\n",
    "\n",
    "    # Display the transformed circuit\n",
    "    print(\"\\nTransformed Circuit:\")\n",
    "    transformed_circuit.draw(output='mpl')\n",
    "\n",
    "except Exception as e:\n",
    "    print(\"Transformation failed with error:\", e)"
   ]
  },
  {
   "cell_type": "markdown",
   "metadata": {},
   "source": [
    "### Test ParallelZTransformation"
   ]
  },
  {
   "cell_type": "markdown",
   "metadata": {},
   "source": [
    "1st PATTERN: parallel Z"
   ]
  },
  {
   "cell_type": "code",
   "execution_count": 38,
   "metadata": {},
   "outputs": [
    {
     "name": "stdout",
     "output_type": "stream",
     "text": [
      "Original Circuit:\n"
     ]
    },
    {
     "data": {
      "image/png": "[encoded data removed]",
      "text/plain": [
       "<Figure size 621.941x284.278 with 1 Axes>"
      ]
     },
     "execution_count": 38,
     "metadata": {},
     "output_type": "execute_result"
    }
   ],
   "source": [
    "qc = QuantumCircuit(3)\n",
    " \n",
    "qc.h(0)\n",
    "qc.cx(1, 2)  \n",
    "qc.x(1)\n",
    "qc.x(2)\n",
    "qc.cx(0, 1)  \n",
    "qc.cx(1, 2)\n",
    "qc.z(1)\n",
    "qc.cx(0, 1) \n",
    "qc.z(2)\n",
    "qc.t(2)\n",
    "\n",
    "qcg = QuantumCircuitGraph(qc)\n",
    "\n",
    "# Display the original circuit\n",
    "print(\"Original Circuit:\")\n",
    "qc.draw(output='mpl')"
   ]
  },
  {
   "cell_type": "code",
   "execution_count": 39,
   "metadata": {},
   "outputs": [
    {
     "name": "stdout",
     "output_type": "stream",
     "text": [
      "Pattern subgraphs: [('cx-z-cx', <networkx.classes.digraph.DiGraph object at 0x000001A27FA5BAD0>)]\n",
      "Matching subgraphs: []\n",
      "Matching key: cx-z-cx\n",
      "Matching subgraph: {'z_1_6': 'z_1_6', 'z_2_8': 'z_2_8'}\n",
      "Matching key: parallel-z\n",
      "Graph nodes: ['h_0_0', 'cx_1_control_1', 'cx_2_target_1', 'x_1_2', 'x_2_3', 'cx_0_control_4', 'cx_1_target_4', 'cx_1_control_5', 'cx_2_target_5', 'z_1_6', 'cx_0_control_7', 'cx_1_target_7', 'z_2_8', 't_2_9']\n",
      "Pred_ctrl: cx_1_control_5, Succ_ctrl: cx_1_target_7, Pred_trgt: cx_2_target_5, Succ_trgt: t_2_9\n",
      "Pred_ctrl: cx_1_control_add0, Succ_ctrl: cx_1_target_7, Pred_trgt: z_2_add1, Succ_trgt: t_2_9\n",
      "Added h gate to qubit 0\n",
      "Frontier: {0: 'cx_0_control_4', 1: 'cx_1_control_1', 2: 'cx_2_target_1'}\n",
      "Frontier: {0: 'cx_0_control_4'}\n",
      "Added x gate to qubit 1\n",
      "Added x gate to qubit 2\n",
      "Frontier: {0: 'cx_0_control_4', 1: 'cx_1_target_4', 2: 'cx_2_target_5'}\n",
      "Frontier: {0: 'cx_0_control_4', 1: 'cx_1_target_4'}\n",
      "Frontier: {0: 'cx_0_control_7', 1: 'cx_1_control_5', 2: 'cx_2_target_5'}\n",
      "Frontier: {0: 'cx_0_control_7'}\n",
      "Frontier: {0: 'cx_0_control_7', 1: 'cx_1_control_add0', 2: 'cx_2_target_add0'}\n",
      "Frontier: {0: 'cx_0_control_7'}\n",
      "Added z gate to qubit 2\n",
      "Frontier: {0: 'cx_0_control_7', 1: 'cx_1_control_add2', 2: 'cx_2_target_add2'}\n",
      "Frontier: {0: 'cx_0_control_7'}\n",
      "Added t gate to qubit 2\n",
      "Frontier: {0: 'cx_0_control_7', 1: 'cx_1_target_7', 2: None}\n",
      "Frontier: {0: 'cx_0_control_7', 1: 'cx_1_target_7'}\n",
      "\n",
      "Transformed Circuit:\n"
     ]
    },
    {
     "data": {
      "image/png": "[encoded data removed]",
      "text/plain": [
       "<Figure size 789.163x284.278 with 1 Axes>"
      ]
     },
     "execution_count": 39,
     "metadata": {},
     "output_type": "execute_result"
    }
   ],
   "source": [
    "from QCCL.transformations import ParallelZTransformation\n",
    "\n",
    "# Convert to graph representation\n",
    "qcg = QuantumCircuitGraph(qc)\n",
    "\n",
    "# Create an instance of the SwapControlTargetTransformation class and apply it\n",
    "transformation = ParallelZTransformation(qcg)\n",
    "\n",
    "# Apply the transformation\n",
    "transformed_qcg = transformation.apply()  # Applying the transformation\n",
    "transformed_circuit = transformed_qcg.quantum_circuit  # Extract the transformed circuit\n",
    "\n",
    "# Display the transformed circuit\n",
    "print(\"\\nTransformed Circuit:\")\n",
    "transformed_circuit.draw(output='mpl')"
   ]
  },
  {
   "cell_type": "markdown",
   "metadata": {},
   "source": [
    "2nd PATTERN: cx-z-cx"
   ]
  },
  {
   "cell_type": "code",
   "execution_count": 40,
   "metadata": {},
   "outputs": [
    {
     "name": "stdout",
     "output_type": "stream",
     "text": [
      "Original Circuit:\n"
     ]
    },
    {
     "data": {
      "image/png": "[encoded data removed]",
      "text/plain": [
       "<Figure size 621.941x284.278 with 1 Axes>"
      ]
     },
     "execution_count": 40,
     "metadata": {},
     "output_type": "execute_result"
    }
   ],
   "source": [
    "qc = QuantumCircuit(3)\n",
    " \n",
    "qc.h(0)\n",
    "qc.cx(1, 2)  \n",
    "qc.x(1)\n",
    "qc.cx(0, 1)  \n",
    "qc.z(1)\n",
    "qc.cx(0, 1)  \n",
    "qc.cx(1, 2)\n",
    "\n",
    "\n",
    "qcg = QuantumCircuitGraph(qc)\n",
    "\n",
    "# Display the original circuit\n",
    "print(\"Original Circuit:\")\n",
    "qc.draw(output='mpl')"
   ]
  },
  {
   "cell_type": "code",
   "execution_count": 41,
   "metadata": {},
   "outputs": [
    {
     "name": "stdout",
     "output_type": "stream",
     "text": [
      "Pattern subgraphs: [('cx-z-cx', <networkx.classes.digraph.DiGraph object at 0x000001A27FA704D0>)]\n",
      "Matching subgraphs: [{'cx_0_control_3': 'cx_0_control_0', 'cx_1_target_3': 'cx_1_target_0', 'z_1_4': 'z_1_1', 'cx_0_control_5': 'cx_0_control_2', 'cx_1_target_5': 'cx_1_target_2'}]\n",
      "Matching key: cx-z-cx\n",
      "Matching subgraph selected: {'cx_0_control_3': 'cx_0_control_0', 'cx_1_target_3': 'cx_1_target_0', 'z_1_4': 'z_1_1', 'cx_0_control_5': 'cx_0_control_2', 'cx_1_target_5': 'cx_1_target_2'}\n",
      "Matching subgraph: {'cx_0_control_3': 'cx_0_control_0', 'cx_1_target_3': 'cx_1_target_0', 'z_1_4': 'z_1_1', 'cx_0_control_5': 'cx_0_control_2', 'cx_1_target_5': 'cx_1_target_2'}\n",
      "Matching key: cx-z-cx\n",
      "Graph nodes: ['h_0_0', 'cx_1_control_1', 'cx_2_target_1', 'x_1_2', 'cx_0_control_3', 'cx_1_target_3', 'z_1_4', 'cx_0_control_5', 'cx_1_target_5', 'cx_1_control_6', 'cx_2_target_6']\n",
      "\n",
      "Transformed Circuit:\n"
     ]
    },
    {
     "data": {
      "image/png": "[encoded data removed]",
      "text/plain": [
       "<Figure size 454.719x284.278 with 1 Axes>"
      ]
     },
     "execution_count": 41,
     "metadata": {},
     "output_type": "execute_result"
    }
   ],
   "source": [
    "# Convert to graph representation\n",
    "qcg = QuantumCircuitGraph(qc)\n",
    "\n",
    "# Create an instance of the SwapControlTargetTransformation class and apply it\n",
    "transformation = ParallelZTransformation(qcg)\n",
    "\n",
    "# Apply the transformation\n",
    "transformed_qcg = transformation.apply()  # Applying the transformation\n",
    "transformed_circuit = transformed_qcg.quantum_circuit  # Extract the transformed circuit\n",
    "\n",
    "# Display the transformed circuit\n",
    "print(\"\\nTransformed Circuit:\")\n",
    "transformed_circuit.draw(output='mpl')"
   ]
  },
  {
   "cell_type": "markdown",
   "metadata": {},
   "source": [
    "Parallel Z at the start/end"
   ]
  },
  {
   "cell_type": "code",
   "execution_count": 42,
   "metadata": {},
   "outputs": [
    {
     "name": "stdout",
     "output_type": "stream",
     "text": [
      "Original Circuit:\n"
     ]
    },
    {
     "data": {
      "image/png": "[encoded data removed]",
      "text/plain": [
       "<Figure size 538.33x284.278 with 1 Axes>"
      ]
     },
     "execution_count": 42,
     "metadata": {},
     "output_type": "execute_result"
    }
   ],
   "source": [
    "qc = QuantumCircuit(3)\n",
    " \n",
    "qc.h(0)\n",
    "qc.z(1)\n",
    "qc.z(2)\n",
    "qc.cx(1, 2)  \n",
    "qc.x(1)\n",
    "qc.cx(0, 1)  \n",
    "qc.z(1)\n",
    "qc.z(0)\n",
    "\n",
    "\n",
    "qcg = QuantumCircuitGraph(qc)\n",
    "\n",
    "# Display the original circuit\n",
    "print(\"Original Circuit:\")\n",
    "qc.draw(output='mpl')"
   ]
  },
  {
   "cell_type": "code",
   "execution_count": 43,
   "metadata": {},
   "outputs": [
    {
     "name": "stdout",
     "output_type": "stream",
     "text": [
      "Pattern subgraphs: [('cx-z-cx', <networkx.classes.digraph.DiGraph object at 0x000001A20114EBD0>)]\n",
      "Matching subgraphs: []\n",
      "Matching key: cx-z-cx\n",
      "Matching subgraph: {'z_1_6': 'z_1_6', 'z_0_7': 'z_0_7'}\n",
      "Matching key: parallel-z\n",
      "Graph nodes: ['h_0_0', 'z_1_1', 'z_2_2', 'cx_1_control_3', 'cx_2_target_3', 'x_1_4', 'cx_0_control_5', 'cx_1_target_5', 'z_1_6', 'z_0_7']\n",
      "Pred_ctrl: cx_1_target_5, Succ_ctrl: None, Pred_trgt: cx_0_control_5, Succ_trgt: None\n",
      "Pred_ctrl: cx_1_control_add0, Succ_ctrl: None, Pred_trgt: z_0_add1, Succ_trgt: None\n",
      "Added h gate to qubit 0\n",
      "Added z gate to qubit 1\n",
      "Added z gate to qubit 2\n",
      "Frontier: {0: 'cx_0_control_5', 1: 'cx_1_control_3', 2: 'cx_2_target_3'}\n",
      "Frontier: {0: 'cx_0_control_5'}\n",
      "Added x gate to qubit 1\n",
      "Frontier: {0: 'cx_0_control_5', 1: 'cx_1_target_5', 2: None}\n",
      "Frontier: {0: 'cx_0_control_5', 1: 'cx_1_target_5'}\n",
      "Frontier: {0: 'cx_0_target_add0', 1: 'cx_1_control_add0', 2: None}\n",
      "Frontier: {0: 'cx_0_target_add0', 1: 'cx_1_control_add0'}\n",
      "Added z gate to qubit 0\n",
      "Frontier: {0: 'cx_0_target_add2', 1: 'cx_1_control_add2', 2: None}\n",
      "Frontier: {0: 'cx_0_target_add2', 1: 'cx_1_control_add2'}\n",
      "\n",
      "Transformed Circuit:\n"
     ]
    },
    {
     "data": {
      "image/png": "[encoded data removed]",
      "text/plain": [
       "<Figure size 705.552x284.278 with 1 Axes>"
      ]
     },
     "execution_count": 43,
     "metadata": {},
     "output_type": "execute_result"
    }
   ],
   "source": [
    "# Convert to graph representation\n",
    "qcg = QuantumCircuitGraph(qc)\n",
    "\n",
    "# Create an instance of the SwapControlTargetTransformation class and apply it\n",
    "transformation = ParallelZTransformation(qcg)\n",
    "\n",
    "# Apply the transformation\n",
    "transformed_qcg = transformation.apply()  # Applying the transformation\n",
    "transformed_circuit = transformed_qcg.quantum_circuit  # Extract the transformed circuit\n",
    "\n",
    "# Display the transformed circuit\n",
    "print(\"\\nTransformed Circuit:\")\n",
    "transformed_circuit.draw(output='mpl')"
   ]
  },
  {
   "cell_type": "markdown",
   "metadata": {},
   "source": [
    "### Test CommuteCNOTRotationTransformation"
   ]
  },
  {
   "cell_type": "code",
   "execution_count": 77,
   "metadata": {},
   "outputs": [
    {
     "name": "stdout",
     "output_type": "stream",
     "text": [
      "Original Circuit:\n"
     ]
    },
    {
     "data": {
      "image/png": "[encoded data removed]",
      "text/plain": [
       "<Figure size 538.33x284.278 with 1 Axes>"
      ]
     },
     "execution_count": 77,
     "metadata": {},
     "output_type": "execute_result"
    }
   ],
   "source": [
    "qc = QuantumCircuit(3)\n",
    " \n",
    "qc.h(0)\n",
    "qc.t(0)\n",
    "qc.z(2)\n",
    "qc.cx(1, 2)  \n",
    "qc.z(1)\n",
    "qc.cx(0, 1)  \n",
    "qc.x(1)\n",
    "\n",
    "\n",
    "\n",
    "qcg = QuantumCircuitGraph(qc)\n",
    "\n",
    "# Display the original circuit\n",
    "print(\"Original Circuit:\")\n",
    "qc.draw(output='mpl')"
   ]
  },
  {
   "cell_type": "code",
   "execution_count": 78,
   "metadata": {},
   "outputs": [
    {
     "data": {
      "text/plain": [
       "NodeView(('h_0_0', 't_0_1', 'z_2_2', 'cx_1_control_3', 'cx_2_target_3', 'z_1_4', 'cx_0_control_5', 'cx_1_target_5', 'x_1_6'))"
      ]
     },
     "execution_count": 78,
     "metadata": {},
     "output_type": "execute_result"
    }
   ],
   "source": [
    "qcg.graph.nodes()"
   ]
  },
  {
   "cell_type": "code",
   "execution_count": 79,
   "metadata": {},
   "outputs": [
    {
     "name": "stdout",
     "output_type": "stream",
     "text": [
      "Pattern subgraphs: [('x-cx-target', <networkx.classes.digraph.DiGraph object at 0x000001A2026E2C30>), ('cx-x-target', <networkx.classes.digraph.DiGraph object at 0x000001A2025B2300>), ('t-cx-control', <networkx.classes.digraph.DiGraph object at 0x000001A2027D1010>), ('cx-t-control', <networkx.classes.digraph.DiGraph object at 0x000001A202A99D60>), ('z-cx-control', <networkx.classes.digraph.DiGraph object at 0x000001A2025C9760>), ('cx-z-control', <networkx.classes.digraph.DiGraph object at 0x000001A2029BFC50>)]\n",
      "Matching subgraphs: [{'cx_0_control_5': 'cx_0_control_0', 'cx_1_target_5': 'cx_1_target_0', 'x_1_6': 'x_1_1'}]\n",
      "Matching key: cx-x-target\n",
      "Matching subgraph selected: {'cx_0_control_5': 'cx_0_control_0', 'cx_1_target_5': 'cx_1_target_0', 'x_1_6': 'x_1_1'}\n",
      "Predecessors and successors (before): {0: {'predecessors': ['t_0_1'], 'successors': [None]}, 1: {'predecessors': ['z_1_4', 'cx_1_target_5'], 'successors': ['x_1_6', None]}}\n",
      "Predecessors: z_1_4\n",
      "Successors: None\n",
      "Common qubits: [1]\n",
      "Predecessors and successors (after): {0: {'predecessors': ['t_0_1'], 'successors': [None]}, 1: {'predecessors': 'z_1_4', 'successors': None}}\n",
      "Handling common qubit: 1\n",
      "Gates to be swapped: ['cx_1_target_5', 'x_1_6']\n",
      "Predecessor: z_1_4, Successor: None on the qubit\n",
      "First gate: cx_1_target_5, Second gate: x_1_6\n",
      "Swapping edge direction: cx_1_target_5 -> x_1_6 to x_1_6 -> cx_1_target_5\n",
      "Added h gate to qubit 0\n",
      "Added t gate to qubit 0\n",
      "Added z gate to qubit 2\n",
      "Frontier: {0: 'cx_0_control_5', 1: 'cx_1_control_3', 2: 'cx_2_target_3'}\n",
      "Frontier: {0: 'cx_0_control_5'}\n",
      "Added z gate to qubit 1\n",
      "Added x gate to qubit 1\n",
      "Frontier: {0: 'cx_0_control_5', 1: 'cx_1_target_5', 2: None}\n",
      "Frontier: {0: 'cx_0_control_5', 1: 'cx_1_target_5'}\n",
      "\n",
      "Transformed Circuit:\n"
     ]
    },
    {
     "data": {
      "image/png": "[encoded data removed]",
      "text/plain": [
       "<Figure size 538.33x284.278 with 1 Axes>"
      ]
     },
     "execution_count": 79,
     "metadata": {},
     "output_type": "execute_result"
    }
   ],
   "source": [
    "from QCCL.transformations import CommuteCNOTRotationTransformation\n",
    "\n",
    "# Convert to graph representation\n",
    "qcg = QuantumCircuitGraph(qc)\n",
    "\n",
    "# Create an instance of the SwapControlTargetTransformation class and apply it\n",
    "transformation = CommuteCNOTRotationTransformation(qcg)\n",
    "\n",
    "# Apply the transformation\n",
    "transformed_qcg = transformation.apply()  # Applying the transformation\n",
    "transformed_circuit = transformed_qcg.quantum_circuit  # Extract the transformed circuit\n",
    "\n",
    "# Display the transformed circuit\n",
    "print(\"\\nTransformed Circuit:\")\n",
    "transformed_circuit.draw(output='mpl')"
   ]
  },
  {
   "cell_type": "code",
   "execution_count": 80,
   "metadata": {},
   "outputs": [],
   "source": [
    "#TODO: if a nonactive qubits, cannot build circuit from graph"
   ]
  }
 ],
 "metadata": {
  "kernelspec": {
   "display_name": "Python 3",
   "language": "python",
   "name": "python3"
  },
  "language_info": {
   "codemirror_mode": {
    "name": "ipython",
    "version": 3
   },
   "file_extension": ".py",
   "mimetype": "text/x-python",
   "name": "python",
   "nbconvert_exporter": "python",
   "pygments_lexer": "ipython3",
   "version": "3.12.5"
  }
 },
 "nbformat": 4,
 "nbformat_minor": 2
}
